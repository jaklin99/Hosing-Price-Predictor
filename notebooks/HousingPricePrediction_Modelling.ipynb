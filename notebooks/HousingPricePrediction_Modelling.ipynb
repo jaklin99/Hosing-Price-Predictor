{
  "nbformat": 4,
  "nbformat_minor": 0,
  "metadata": {
    "colab": {
      "name": "HousingPricePrediction_Modelling.ipynb",
      "provenance": [],
      "collapsed_sections": []
    },
    "kernelspec": {
      "name": "python3",
      "display_name": "Python 3"
    },
    "language_info": {
      "name": "python"
    }
  },
  "cells": [
    {
      "cell_type": "markdown",
      "metadata": {
        "id": "7wNfKXV8MmzS"
      },
      "source": [
        "# **House Price Prediction with Linear Regression and Random Forest**"
      ]
    },
    {
      "cell_type": "markdown",
      "metadata": {
        "id": "j4Bv41HeMt61"
      },
      "source": [
        "The aim of this project is to predict real-estate prices using the machine learning algorithm, Linear Regression, Random Forest. Both will show different results for the accuracy. Also, I will use regression with regularization - Ridge and Lasso to try to improve the prediction accuracy."
      ]
    },
    {
      "cell_type": "markdown",
      "metadata": {
        "id": "PwILfzBYixDE"
      },
      "source": [
        "# **Imports**"
      ]
    },
    {
      "cell_type": "code",
      "metadata": {
        "id": "IVXu8JD0Dfjr"
      },
      "source": [
        "import pandas as pd\n",
        "import requests\n",
        "import matplotlib.pyplot as plt\n",
        "import seaborn as sns\n",
        "from google.colab import files\n",
        "from datetime import datetime\n",
        "import io\n",
        "import mpl_toolkits\n",
        "import numpy as np\n",
        "%matplotlib inline\n"
      ],
      "execution_count": 2,
      "outputs": []
    },
    {
      "cell_type": "code",
      "metadata": {
        "colab": {
          "resources": {
            "http://localhost:8080/nbextensions/google.colab/files.js": {
              "data": "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",
              "ok": true,
              "headers": [
                [
                  "content-type",
                  "application/javascript"
                ]
              ],
              "status": 200,
              "status_text": ""
            }
          },
          "base_uri": "https://localhost:8080/",
          "height": 73
        },
        "id": "Z8ZUgF90Ng-I",
        "outputId": "0b879a23-2456-49c8-efe9-f69c210c3a97"
      },
      "source": [
        "# Load the data\n",
        "local_file = files.upload()\n",
        "train_data = io.BytesIO(local_file['data.csv'])\n",
        "df = pd.read_csv(train_data)\n"
      ],
      "execution_count": 3,
      "outputs": [
        {
          "output_type": "display_data",
          "data": {
            "text/html": [
              "\n",
              "     <input type=\"file\" id=\"files-7c9891ea-cffc-4697-adda-0f4b26fa5365\" name=\"files[]\" multiple disabled\n",
              "        style=\"border:none\" />\n",
              "     <output id=\"result-7c9891ea-cffc-4697-adda-0f4b26fa5365\">\n",
              "      Upload widget is only available when the cell has been executed in the\n",
              "      current browser session. Please rerun this cell to enable.\n",
              "      </output>\n",
              "      <script src=\"/nbextensions/google.colab/files.js\"></script> "
            ],
            "text/plain": [
              "<IPython.core.display.HTML object>"
            ]
          },
          "metadata": {
            "tags": []
          }
        },
        {
          "output_type": "stream",
          "text": [
            "Saving data.csv to data.csv\n"
          ],
          "name": "stdout"
        }
      ]
    },
    {
      "cell_type": "markdown",
      "metadata": {
        "id": "-7tpfJKimwvE"
      },
      "source": [
        "# **Preparing the data for training the models**"
      ]
    },
    {
      "cell_type": "markdown",
      "metadata": {
        "id": "s1FUjO4ZkItw"
      },
      "source": [
        "**Train-Test Split dataset**"
      ]
    },
    {
      "cell_type": "markdown",
      "metadata": {
        "id": "8zNQdmR0ZSTu"
      },
      "source": [
        "\n",
        " Necessary imports"
      ]
    },
    {
      "cell_type": "code",
      "metadata": {
        "id": "7RZVRoIVRN3X"
      },
      "source": [
        "from sklearn.linear_model import LinearRegression, Ridge, Lasso\n",
        "from sklearn.ensemble import RandomForestRegressor\n",
        "from sklearn.model_selection import cross_val_score, train_test_split, GridSearchCV"
      ],
      "execution_count": 4,
      "outputs": []
    },
    {
      "cell_type": "code",
      "metadata": {
        "id": "4e0FWioVEbXm",
        "colab": {
          "base_uri": "https://localhost:8080/"
        },
        "outputId": "3e8224ca-d40c-4e8d-f28f-401269ef249e"
      },
      "source": [
        "df.info()"
      ],
      "execution_count": 5,
      "outputs": [
        {
          "output_type": "stream",
          "text": [
            "<class 'pandas.core.frame.DataFrame'>\n",
            "RangeIndex: 93 entries, 0 to 92\n",
            "Data columns (total 7 columns):\n",
            " #   Column       Non-Null Count  Dtype  \n",
            "---  ------       --------------  -----  \n",
            " 0   Unnamed: 0   93 non-null     int64  \n",
            " 1   TYPE         93 non-null     float64\n",
            " 2   STREET NAME  93 non-null     object \n",
            " 3   POSTCODE     93 non-null     int64  \n",
            " 4   LIVING_AREA  93 non-null     float64\n",
            " 5   ROOMS        93 non-null     float64\n",
            " 6   PRICE_LOG    93 non-null     float64\n",
            "dtypes: float64(4), int64(2), object(1)\n",
            "memory usage: 5.2+ KB\n"
          ],
          "name": "stdout"
        }
      ]
    },
    {
      "cell_type": "code",
      "metadata": {
        "id": "Umgrby1bXQ2G"
      },
      "source": [
        "df.drop('Unnamed: 0', axis = 1, inplace = True)"
      ],
      "execution_count": 6,
      "outputs": []
    },
    {
      "cell_type": "code",
      "metadata": {
        "colab": {
          "base_uri": "https://localhost:8080/"
        },
        "id": "MCMmlmE7faHR",
        "outputId": "68b5cf47-a480-49ca-8afd-d2c63a78a3ee"
      },
      "source": [
        "df.isnull().sum()"
      ],
      "execution_count": 7,
      "outputs": [
        {
          "output_type": "execute_result",
          "data": {
            "text/plain": [
              "TYPE           0\n",
              "STREET NAME    0\n",
              "POSTCODE       0\n",
              "LIVING_AREA    0\n",
              "ROOMS          0\n",
              "PRICE_LOG      0\n",
              "dtype: int64"
            ]
          },
          "metadata": {
            "tags": []
          },
          "execution_count": 7
        }
      ]
    },
    {
      "cell_type": "markdown",
      "metadata": {
        "id": "yYBACfDRZYmF"
      },
      "source": [
        "Analyzing the numeric features.\n"
      ]
    },
    {
      "cell_type": "code",
      "metadata": {
        "id": "D_qARrG8LbRN"
      },
      "source": [
        "numeric_features = df.select_dtypes(include=[np.number])"
      ],
      "execution_count": 8,
      "outputs": []
    },
    {
      "cell_type": "code",
      "metadata": {
        "colab": {
          "base_uri": "https://localhost:8080/"
        },
        "id": "q7BzHq6aLsb5",
        "outputId": "c15ab37b-0544-437d-f6af-4a0a827d54b0"
      },
      "source": [
        "numeric_features.columns"
      ],
      "execution_count": 9,
      "outputs": [
        {
          "output_type": "execute_result",
          "data": {
            "text/plain": [
              "Index(['TYPE', 'POSTCODE', 'LIVING_AREA', 'ROOMS', 'PRICE_LOG'], dtype='object')"
            ]
          },
          "metadata": {
            "tags": []
          },
          "execution_count": 9
        }
      ]
    },
    {
      "cell_type": "code",
      "metadata": {
        "id": "KD5AQnzKGCD9"
      },
      "source": [
        "# set the target and predictors\n",
        "y = df.PRICE_LOG  # target\n",
        "\n",
        "# use only those input features with numeric data type \n",
        "df_temp = df.select_dtypes(include=[\"int64\",\"float64\"]) \n",
        "\n",
        "X = df_temp.drop([\"PRICE_LOG\"],axis=1)  # predictors"
      ],
      "execution_count": 10,
      "outputs": []
    },
    {
      "cell_type": "markdown",
      "metadata": {
        "id": "5sp5bjPf2FzE"
      },
      "source": [
        "To split the dataset, I will use random sampling with 80/20 train-test split; that is, 80% of the dataset will be used for training and set aside 20% for testing:\n",
        "\n",
        "X_train and y_train contain data for the training model. X_test and y_test contain data for the testing model. X and y are features and target variable names."
      ]
    },
    {
      "cell_type": "code",
      "metadata": {
        "id": "ffGAD0o5UjBY"
      },
      "source": [
        "# split the dataset into train and test sets\n",
        "X_train, X_test, y_train, y_test = train_test_split(X, y, test_size=0.20, random_state=0)"
      ],
      "execution_count": 11,
      "outputs": []
    },
    {
      "cell_type": "markdown",
      "metadata": {
        "id": "1HsVuxZgPfJ5"
      },
      "source": [
        "# **Modelling**"
      ]
    },
    {
      "cell_type": "markdown",
      "metadata": {
        "id": "KKDu370c2kNn"
      },
      "source": [
        "Two models will be built and evaluated by their performances with R-squared metric. Additionally, insights on the features that are strong predictors of house prices, will be analised ."
      ]
    },
    {
      "cell_type": "markdown",
      "metadata": {
        "id": "X3DdJs9VWsCd"
      },
      "source": [
        "**Linear Regression**\n",
        "\n"
      ]
    },
    {
      "cell_type": "markdown",
      "metadata": {
        "id": "MdiDDV0djljs"
      },
      "source": [
        "To fit a linear regression model, the features which have a high correlation with the target variable PRICE are selected. By looking at the correlation matrix, it is noticable that the rooms and the living area have a strong correlation with the price ('Log of price')."
      ]
    },
    {
      "cell_type": "code",
      "metadata": {
        "colab": {
          "base_uri": "https://localhost:8080/",
          "height": 343
        },
        "id": "9uLGBPHNjpyJ",
        "outputId": "3cb820e4-537f-4f6a-c49f-bb1b88460f0d"
      },
      "source": [
        "correlation_matrix = df.corr().round(2)\n",
        "# annot = True to print the values inside the square\n",
        "sns.heatmap(data=correlation_matrix, annot=True)"
      ],
      "execution_count": 12,
      "outputs": [
        {
          "output_type": "execute_result",
          "data": {
            "text/plain": [
              "<matplotlib.axes._subplots.AxesSubplot at 0x7f31e6623290>"
            ]
          },
          "metadata": {
            "tags": []
          },
          "execution_count": 12
        },
        {
          "output_type": "display_data",
          "data": {
            "image/png": "[encoded data removed]",
            "text/plain": [
              "<Figure size 432x288 with 2 Axes>"
            ]
          },
          "metadata": {
            "tags": [],
            "needs_background": "light"
          }
        }
      ]
    },
    {
      "cell_type": "markdown",
      "metadata": {
        "id": "NQBd2HXWSKye"
      },
      "source": [
        "Fitting models describes the relationship between a response variable and one or more predictor variables. "
      ]
    },
    {
      "cell_type": "code",
      "metadata": {
        "colab": {
          "base_uri": "https://localhost:8080/"
        },
        "id": "Q-V1XQVLRKw0",
        "outputId": "aed41e64-4dcd-4041-b308-eb222f68d553"
      },
      "source": [
        "lr = LinearRegression()\n",
        "# fit optimal linear regression line on training data\n",
        "lr.fit((X_train),y_train)\n",
        "LinearRegression(copy_X=True, fit_intercept=True, n_jobs=None, normalize=False)"
      ],
      "execution_count": 13,
      "outputs": [
        {
          "output_type": "execute_result",
          "data": {
            "text/plain": [
              "LinearRegression(copy_X=True, fit_intercept=True, n_jobs=None, normalize=False)"
            ]
          },
          "metadata": {
            "tags": []
          },
          "execution_count": 13
        }
      ]
    },
    {
      "cell_type": "code",
      "metadata": {
        "colab": {
          "base_uri": "https://localhost:8080/"
        },
        "id": "XQcvEBaEgTOJ",
        "outputId": "2765ee73-b383-487d-8455-81306d17eaa3"
      },
      "source": [
        "print(lr.intercept_)"
      ],
      "execution_count": 14,
      "outputs": [
        {
          "output_type": "stream",
          "text": [
            "11.240827207867458\n"
          ],
          "name": "stdout"
        }
      ]
    },
    {
      "cell_type": "code",
      "metadata": {
        "colab": {
          "base_uri": "https://localhost:8080/",
          "height": 171
        },
        "id": "w6aU2BtTgaq9",
        "outputId": "821bb0ad-dff8-48c5-f364-5e3621d6637d"
      },
      "source": [
        "coeff_df = pd.DataFrame(lr.coef_,X.columns,columns=['Coefficient'])\n",
        "coeff_df\n"
      ],
      "execution_count": 15,
      "outputs": [
        {
          "output_type": "execute_result",
          "data": {
            "text/html": [
              "<div>\n",
              "<style scoped>\n",
              "    .dataframe tbody tr th:only-of-type {\n",
              "        vertical-align: middle;\n",
              "    }\n",
              "\n",
              "    .dataframe tbody tr th {\n",
              "        vertical-align: top;\n",
              "    }\n",
              "\n",
              "    .dataframe thead th {\n",
              "        text-align: right;\n",
              "    }\n",
              "</style>\n",
              "<table border=\"1\" class=\"dataframe\">\n",
              "  <thead>\n",
              "    <tr style=\"text-align: right;\">\n",
              "      <th></th>\n",
              "      <th>Coefficient</th>\n",
              "    </tr>\n",
              "  </thead>\n",
              "  <tbody>\n",
              "    <tr>\n",
              "      <th>TYPE</th>\n",
              "      <td>-0.180813</td>\n",
              "    </tr>\n",
              "    <tr>\n",
              "      <th>POSTCODE</th>\n",
              "      <td>-0.000864</td>\n",
              "    </tr>\n",
              "    <tr>\n",
              "      <th>LIVING_AREA</th>\n",
              "      <td>0.011332</td>\n",
              "    </tr>\n",
              "    <tr>\n",
              "      <th>ROOMS</th>\n",
              "      <td>0.015410</td>\n",
              "    </tr>\n",
              "  </tbody>\n",
              "</table>\n",
              "</div>"
            ],
            "text/plain": [
              "             Coefficient\n",
              "TYPE           -0.180813\n",
              "POSTCODE       -0.000864\n",
              "LIVING_AREA     0.011332\n",
              "ROOMS           0.015410"
            ]
          },
          "metadata": {
            "tags": []
          },
          "execution_count": 15
        }
      ]
    },
    {
      "cell_type": "markdown",
      "metadata": {
        "id": "cluoV0XVgmFL"
      },
      "source": [
        "What coefficient of data says:\n",
        "\n",
        ">Holding all other features fixed, a 1 unit increase in Type is associated with a decrease of 0.20 euros.\n",
        "Holding all other features fixed, a 1 unit increase in Postcode is associated with a decrease of 0.20 euros.\n",
        "Holding all other features fixed, a 1 unit increase in Living area is associated with an increase of 0.01 euros .\n",
        "Holding all other features fixed, a 1 unit increase in Rooms is associated with an increase of 0.01 euros ."
      ]
    },
    {
      "cell_type": "markdown",
      "metadata": {
        "id": "DWsLu75bBWGB"
      },
      "source": [
        "Root Mean Square Error (RMSE) is the standard deviation of the residuals (prediction errors). Residuals are a measure of how far from the regression line data points are; RMSE is a measure of how spread out these residuals are. In other words, it tells you how concentrated the data is around the line of best fit.\n",
        ">RMSE values between 0.2 and 0.5 shows that the model can relatively predict the data accurately."
      ]
    },
    {
      "cell_type": "code",
      "metadata": {
        "id": "fSy44B7ZoAtB"
      },
      "source": [
        "from sklearn.metrics import mean_squared_error\n",
        "from sklearn.metrics import mean_absolute_error"
      ],
      "execution_count": 16,
      "outputs": []
    },
    {
      "cell_type": "markdown",
      "metadata": {
        "id": "TxcksXxHjHHv"
      },
      "source": [
        "Comparing these metrics:\n",
        "\n",
        "MAE is the easiest to understand because it’s the average error.\n",
        "MSE is more popular than MAE because MSE “punishes” larger errors, which tends to be useful in the real world.\n",
        "RMSE is even more popular than MSE because RMSE is interpretable in the “y” units."
      ]
    },
    {
      "cell_type": "code",
      "metadata": {
        "id": "0oHMLsR4gBDW"
      },
      "source": [
        "#predict y_values using X_test set\n",
        "yr_hat = lr.predict(X_test)"
      ],
      "execution_count": 17,
      "outputs": []
    },
    {
      "cell_type": "code",
      "metadata": {
        "colab": {
          "base_uri": "https://localhost:8080/"
        },
        "id": "THBYeRWPiqwJ",
        "outputId": "d15fcff1-447b-4e7a-8fa8-22f9eb46fc62"
      },
      "source": [
        "# model evaluation for testing set\n",
        "print('MAE:', mean_absolute_error(y_test, yr_hat)) \n",
        "print('MSE:', mean_squared_error(y_test, yr_hat)) \n",
        "print('RMSE:', np.sqrt(mean_squared_error(y_test, yr_hat))) "
      ],
      "execution_count": 18,
      "outputs": [
        {
          "output_type": "stream",
          "text": [
            "MAE: 0.16591584655501312\n",
            "MSE: 0.04555086223341929\n",
            "RMSE: 0.21342647969129624\n"
          ],
          "name": "stdout"
        }
      ]
    },
    {
      "cell_type": "markdown",
      "metadata": {
        "id": "VtQh_GUISljM"
      },
      "source": [
        ">  In this case, the RMSE vary between 0.2 and 0.3 - changing depending on thewebsite information, so it is relatively accurate."
      ]
    },
    {
      "cell_type": "markdown",
      "metadata": {
        "id": "t94x_UFpTGmx"
      },
      "source": [
        "Accuracy is one metric for evaluating classification models. Accuracy is the fraction of predictions our model got right."
      ]
    },
    {
      "cell_type": "code",
      "metadata": {
        "colab": {
          "base_uri": "https://localhost:8080/"
        },
        "id": "6IpIkJUqSYHY",
        "outputId": "19d687b6-823d-474f-fbdf-399700f4470d"
      },
      "source": [
        "lr_score =lr.score((X_test),y_test)\n",
        "print(\"Accuracy: \", lr_score)"
      ],
      "execution_count": 19,
      "outputs": [
        {
          "output_type": "stream",
          "text": [
            "Accuracy:  0.8735308223457423\n"
          ],
          "name": "stdout"
        }
      ]
    },
    {
      "cell_type": "markdown",
      "metadata": {
        "id": "Sx4N5D9CTdnc"
      },
      "source": [
        "> The model showed accuracy of 83% after its training."
      ]
    },
    {
      "cell_type": "code",
      "metadata": {
        "colab": {
          "base_uri": "https://localhost:8080/",
          "height": 295
        },
        "id": "bY-a72zk6kcH",
        "outputId": "d4cffbcd-a5b3-4a91-a665-60b74dc3c84e"
      },
      "source": [
        "actual_values = y_test\n",
        "plt.scatter(yr_hat, actual_values, alpha=.75,\n",
        "            color='b') #alpha helps to show overlapping data\n",
        "plt.xlabel('Predicted Price')\n",
        "plt.ylabel('Actual Price')\n",
        "plt.title('Linear Regression Model')\n",
        "plt.show()\n",
        "#pltrandom_state=None.show()"
      ],
      "execution_count": 20,
      "outputs": [
        {
          "output_type": "display_data",
          "data": {
            "image/png": "[encoded data removed]",
            "text/plain": [
              "<Figure size 432x288 with 1 Axes>"
            ]
          },
          "metadata": {
            "tags": [],
            "needs_background": "light"
          }
        }
      ]
    },
    {
      "cell_type": "code",
      "metadata": {
        "colab": {
          "base_uri": "https://localhost:8080/",
          "height": 266
        },
        "id": "nTXsquuMcLdA",
        "outputId": "9882f1e7-463f-46a9-d205-150811bed383"
      },
      "source": [
        "from scipy import stats\n",
        "\n",
        "#Execute a method that returns the important key values of Linear Regression\n",
        "slope, intercept, r, p, std_err = stats.linregress(yr_hat, y_test)\n",
        "#Create a function that uses the slope and intercept values to return a new value. This new value represents where on the y-axis the corresponding x value will be placed\n",
        "def myfunc(x):\n",
        "  return slope * x + intercept\n",
        "\n",
        "mymodel = list(map(myfunc, yr_hat))\n",
        "#Draw the scatter plot\n",
        "plt.scatter(yr_hat, y_test)\n",
        "#Draw the line of linear regression\n",
        "plt.plot(yr_hat, mymodel)\n",
        "plt.show()"
      ],
      "execution_count": 21,
      "outputs": [
        {
          "output_type": "display_data",
          "data": {
            "image/png": "[encoded data removed]",
            "text/plain": [
              "<Figure size 432x288 with 1 Axes>"
            ]
          },
          "metadata": {
            "tags": [],
            "needs_background": "light"
          }
        }
      ]
    },
    {
      "cell_type": "code",
      "metadata": {
        "colab": {
          "base_uri": "https://localhost:8080/",
          "height": 335
        },
        "id": "N-_PA2mgiMKi",
        "outputId": "0f8ba53b-e8bc-46c5-e6b8-5199dc3196aa"
      },
      "source": [
        "sns.distplot((y_test-yr_hat),bins=50); \n"
      ],
      "execution_count": 22,
      "outputs": [
        {
          "output_type": "stream",
          "text": [
            "/usr/local/lib/python3.7/dist-packages/seaborn/distributions.py:2557: FutureWarning: `distplot` is a deprecated function and will be removed in a future version. Please adapt your code to use either `displot` (a figure-level function with similar flexibility) or `histplot` (an axes-level function for histograms).\n",
            "  warnings.warn(msg, FutureWarning)\n"
          ],
          "name": "stderr"
        },
        {
          "output_type": "display_data",
          "data": {
            "image/png": "[encoded data removed]",
            "text/plain": [
              "<Figure size 432x288 with 1 Axes>"
            ]
          },
          "metadata": {
            "tags": [],
            "needs_background": "light"
          }
        }
      ]
    },
    {
      "cell_type": "markdown",
      "metadata": {
        "id": "xImvcFRdiRKa"
      },
      "source": [
        "> In the above histogram plot, the data is in bell shape (Normally Distributed), which means the model has done good predictions."
      ]
    },
    {
      "cell_type": "markdown",
      "metadata": {
        "id": "nXDu7nFOgY_f"
      },
      "source": [
        "Using cross-validation to see whether the model is over-fitting the data."
      ]
    },
    {
      "cell_type": "code",
      "metadata": {
        "colab": {
          "base_uri": "https://localhost:8080/"
        },
        "id": "_GNILJ-3dcMf",
        "outputId": "23472981-485a-4b89-9a39-360e900a8f30"
      },
      "source": [
        "# cross validation to find 'validate' score across multiple samples, automatically does Kfold stratifying\n",
        "lr_cv = cross_val_score(lr, X, y, cv = 5, scoring= 'r2')\n",
        "print(\"Cross-validation results: \", lr_cv)\n",
        "print(\"R2: \", lr_cv.mean())"
      ],
      "execution_count": 23,
      "outputs": [
        {
          "output_type": "stream",
          "text": [
            "Cross-validation results:  [0.81472296 0.44445887 0.89101027 0.76577203 0.79407716]\n",
            "R2:  0.7420082574203859\n"
          ],
          "name": "stdout"
        }
      ]
    },
    {
      "cell_type": "markdown",
      "metadata": {
        "id": "0h2Ku4Pz3JyP"
      },
      "source": [
        ">It doesn't appear that for this train-test dataset the model is  over-fitting the data (the cross-validation performance is very close in value). "
      ]
    },
    {
      "cell_type": "markdown",
      "metadata": {
        "id": "3TauxaDynVgF"
      },
      "source": [
        "**Regularization:**\n",
        "\n",
        "\n",
        "The alpha parameter in ridge and lasso regularizes the regression model. The regression algorithms with regularization differ from linear regression in that they try to penalize those features that are not significant in our prediction. Ridge will try to reduce their effects (i.e., shrink their coeffients) in order to optimize all the input features. Lasso will try to remove the not-significant features by making their coefficients zero. In short, Lasso (L1 regularization) can eliminate the not-significant features, thus performing feature selection while Ridge (L2 regularization) cannot."
      ]
    },
    {
      "cell_type": "markdown",
      "metadata": {
        "id": "k8S8xy_IX6WB"
      },
      "source": [
        "**Lasso regression**"
      ]
    },
    {
      "cell_type": "code",
      "metadata": {
        "colab": {
          "base_uri": "https://localhost:8080/"
        },
        "id": "FC61Z0lokfb-",
        "outputId": "88e1ed3b-a798-47d6-ce63-6484b24f79aa"
      },
      "source": [
        "lasso = Lasso(alpha = 1)  # sets alpha to almost zero as baseline\n",
        "lasso.fit(X_train, y_train)"
      ],
      "execution_count": 24,
      "outputs": [
        {
          "output_type": "execute_result",
          "data": {
            "text/plain": [
              "Lasso(alpha=1, copy_X=True, fit_intercept=True, max_iter=1000, normalize=False,\n",
              "      positive=False, precompute=False, random_state=None, selection='cyclic',\n",
              "      tol=0.0001, warm_start=False)"
            ]
          },
          "metadata": {
            "tags": []
          },
          "execution_count": 24
        }
      ]
    },
    {
      "cell_type": "markdown",
      "metadata": {
        "id": "Z52PEGQgoS7u"
      },
      "source": [
        "RMSE tells you how concentrated the data is around the line of best fit. "
      ]
    },
    {
      "cell_type": "code",
      "metadata": {
        "colab": {
          "base_uri": "https://localhost:8080/"
        },
        "id": "qPcmKyCEkntV",
        "outputId": "ba9d3cec-0b62-42b2-a726-89c51f4492fb"
      },
      "source": [
        "# model evaluation for training set\n",
        "y_train_l_predict = lasso.predict(X_train)\n",
        "rmse = (np.sqrt(mean_squared_error(y_train, y_train_l_predict)))\n",
        "\n",
        "print(\"The model performance for training set:\")\n",
        "print('RMSE is {}'.format(rmse))"
      ],
      "execution_count": 25,
      "outputs": [
        {
          "output_type": "stream",
          "text": [
            "The model performance for training set:\n",
            "RMSE is 0.20046159392418167\n"
          ],
          "name": "stdout"
        }
      ]
    },
    {
      "cell_type": "markdown",
      "metadata": {
        "id": "lrQWOvd1poqz"
      },
      "source": [
        "> RMSE values between 0.2 and 0.5 shows that the model can relatively predict the data accurately. In this case, it is 0.5, so it is relatively accurate."
      ]
    },
    {
      "cell_type": "code",
      "metadata": {
        "colab": {
          "base_uri": "https://localhost:8080/"
        },
        "id": "7kLJVxl_kx8m",
        "outputId": "f6888f7b-f176-42bd-d935-dc3a70b3588e"
      },
      "source": [
        "# model evaluation for testing set\n",
        "y_test_l_predict = lasso.predict(X_test)\n",
        "rmse = (np.sqrt(mean_squared_error(y_test, y_test_l_predict)))\n",
        "print(\"The model performance for testing set:\")\n",
        "print('RMSE is {}'.format(rmse))"
      ],
      "execution_count": 26,
      "outputs": [
        {
          "output_type": "stream",
          "text": [
            "The model performance for testing set:\n",
            "RMSE is 0.2909165875433442\n"
          ],
          "name": "stdout"
        }
      ]
    },
    {
      "cell_type": "markdown",
      "metadata": {
        "id": "CWnipK1Fpnri"
      },
      "source": [
        "> RMSE values between 0.2 and 0.5 shows that the model can relatively predict the data accurately. In this case, it is 0.5, so it is relatively accurate."
      ]
    },
    {
      "cell_type": "code",
      "metadata": {
        "id": "kuiLC0lkk5p3"
      },
      "source": [
        "#predict y_values using X_test set\n",
        "yr_lasso = lasso.predict(X_test)"
      ],
      "execution_count": 27,
      "outputs": []
    },
    {
      "cell_type": "markdown",
      "metadata": {
        "id": "jrp8GLW6T91X"
      },
      "source": [
        "Accuracy is one metric for evaluating classification models. Accuracy is the fraction of predictions our model got right."
      ]
    },
    {
      "cell_type": "code",
      "metadata": {
        "colab": {
          "base_uri": "https://localhost:8080/"
        },
        "id": "mYWNuy2KlC7h",
        "outputId": "479b2caf-ef82-4412-c26d-6561abbfe548"
      },
      "source": [
        "lasso_score =lasso.score((X_test),y_test)\n",
        "print(\"Accuracy: \", lasso_score)"
      ],
      "execution_count": 28,
      "outputs": [
        {
          "output_type": "stream",
          "text": [
            "Accuracy:  0.7650231585293474\n"
          ],
          "name": "stdout"
        }
      ]
    },
    {
      "cell_type": "markdown",
      "metadata": {
        "id": "yXg4ZanrTnYw"
      },
      "source": [
        "> The model showed accuracy of 65% after its training."
      ]
    },
    {
      "cell_type": "code",
      "metadata": {
        "colab": {
          "base_uri": "https://localhost:8080/"
        },
        "id": "ARbg24jXoYm6",
        "outputId": "fb6060ed-41a9-4034-bb37-83f8d325943a"
      },
      "source": [
        "lasso_cv = cross_val_score(lasso, X, y, cv = 5, scoring = 'r2')\n",
        "print (\"Cross-validation results: \", lasso_cv)\n",
        "print (\"R2: \", lasso_cv.mean())"
      ],
      "execution_count": 29,
      "outputs": [
        {
          "output_type": "stream",
          "text": [
            "Cross-validation results:  [0.71244108 0.69999851 0.84740582 0.71909254 0.66904918]\n",
            "R2:  0.7295974239113349\n"
          ],
          "name": "stdout"
        }
      ]
    },
    {
      "cell_type": "code",
      "metadata": {
        "colab": {
          "base_uri": "https://localhost:8080/",
          "height": 295
        },
        "id": "CI-kO2KCl-UE",
        "outputId": "c105c5fb-3afa-4d93-fad5-fcddc64140b7"
      },
      "source": [
        "actual_values = y_test\n",
        "plt.scatter(yr_lasso, actual_values, alpha=.75,\n",
        "            color='b') #alpha helps to show overlapping data\n",
        "plt.xlabel('Predicted Price')\n",
        "plt.ylabel('Actual Price')\n",
        "plt.title('Lasso Regression Model')\n",
        "plt.show()\n",
        "#pltrandom_state=None.show()"
      ],
      "execution_count": 30,
      "outputs": [
        {
          "output_type": "display_data",
          "data": {
            "image/png": "[encoded data removed]",
            "text/plain": [
              "<Figure size 432x288 with 1 Axes>"
            ]
          },
          "metadata": {
            "tags": [],
            "needs_background": "light"
          }
        }
      ]
    },
    {
      "cell_type": "code",
      "metadata": {
        "colab": {
          "base_uri": "https://localhost:8080/",
          "height": 265
        },
        "id": "SAUidlsBlrd8",
        "outputId": "53d2911f-4488-4791-d623-5c0d4c1e5f8d"
      },
      "source": [
        "from scipy import stats\n",
        "\n",
        "#Execute a method that returns the important key values of Linear Regression\n",
        "slope, intercept, r, p, std_err = stats.linregress(yr_lasso, y_test)\n",
        "#Create a function that uses the slope and intercept values to return a new value. This new value represents where on the y-axis the corresponding x value will be placed\n",
        "def myfunc(x):\n",
        "  return slope * x + intercept\n",
        "\n",
        "mymodel = list(map(myfunc, yr_lasso))\n",
        "#Draw the scatter plot\n",
        "plt.scatter(yr_lasso, y_test)\n",
        "#Draw the line of linear regression\n",
        "plt.plot(yr_lasso, mymodel)\n",
        "plt.show()"
      ],
      "execution_count": 31,
      "outputs": [
        {
          "output_type": "display_data",
          "data": {
            "image/png": "[encoded data removed]",
            "text/plain": [
              "<Figure size 432x288 with 1 Axes>"
            ]
          },
          "metadata": {
            "tags": [],
            "needs_background": "light"
          }
        }
      ]
    },
    {
      "cell_type": "markdown",
      "metadata": {
        "id": "5efTrnYaX9Ci"
      },
      "source": [
        "**Ridge regression**"
      ]
    },
    {
      "cell_type": "code",
      "metadata": {
        "colab": {
          "base_uri": "https://localhost:8080/"
        },
        "id": "Iq8uUPBno7ib",
        "outputId": "66a47abd-63e6-49ee-b1ec-cad693a198af"
      },
      "source": [
        "ridge = Ridge(alpha = 1)  # sets alpha to a default value as baseline  \n",
        "ridge.fit(X_train, y_train)"
      ],
      "execution_count": 32,
      "outputs": [
        {
          "output_type": "execute_result",
          "data": {
            "text/plain": [
              "Ridge(alpha=1, copy_X=True, fit_intercept=True, max_iter=None, normalize=False,\n",
              "      random_state=None, solver='auto', tol=0.001)"
            ]
          },
          "metadata": {
            "tags": []
          },
          "execution_count": 32
        }
      ]
    },
    {
      "cell_type": "code",
      "metadata": {
        "colab": {
          "base_uri": "https://localhost:8080/"
        },
        "id": "pYDFcv5mpFVi",
        "outputId": "64643639-f3f8-477c-d56e-105f842bcd4d"
      },
      "source": [
        "# model evaluation for training set\n",
        "y_train_r_predict = ridge.predict(X_train)\n",
        "rmse = (np.sqrt(mean_squared_error(y_train, y_train_r_predict)))\n",
        "\n",
        "print(\"The model performance for training set:\")\n",
        "print('RMSE is {}'.format(rmse))"
      ],
      "execution_count": 33,
      "outputs": [
        {
          "output_type": "stream",
          "text": [
            "The model performance for training set:\n",
            "RMSE is 0.17132262315614527\n"
          ],
          "name": "stdout"
        }
      ]
    },
    {
      "cell_type": "markdown",
      "metadata": {
        "id": "ab24UjOvqFuN"
      },
      "source": [
        ">RMSE values between 0.2 and 0.5 shows that the model can relatively predict the data accurately. In this case, it is 0.2, so it is relatively accurate."
      ]
    },
    {
      "cell_type": "code",
      "metadata": {
        "colab": {
          "base_uri": "https://localhost:8080/"
        },
        "id": "GdMmStcpp1r8",
        "outputId": "dcf2feb0-948f-46a7-99bf-eadeab6a021f"
      },
      "source": [
        "# model evaluation for testing set\n",
        "y_test_r_predict = ridge.predict(X_test)\n",
        "rmse = (np.sqrt(mean_squared_error(y_test, y_test_r_predict)))\n",
        "print(\"The model performance for testing set:\")\n",
        "print('RMSE is {}'.format(rmse))"
      ],
      "execution_count": 34,
      "outputs": [
        {
          "output_type": "stream",
          "text": [
            "The model performance for testing set:\n",
            "RMSE is 0.21508714593203698\n"
          ],
          "name": "stdout"
        }
      ]
    },
    {
      "cell_type": "markdown",
      "metadata": {
        "id": "UnNblY1qqK-C"
      },
      "source": [
        ">RMSE values between 0.2 and 0.5 shows that the model can relatively predict the data accurately. In this case, it is rounded to 0.2, so it is relatively accurate."
      ]
    },
    {
      "cell_type": "code",
      "metadata": {
        "id": "sO8rwhcIqVfe"
      },
      "source": [
        "#predict y_values using X_test set\n",
        "yr_ridge = ridge.predict(X_test)"
      ],
      "execution_count": 35,
      "outputs": []
    },
    {
      "cell_type": "markdown",
      "metadata": {
        "id": "Z2ISC4cHUEu2"
      },
      "source": [
        "Accuracy is one metric for evaluating classification models. Accuracy is the fraction of predictions our model got right."
      ]
    },
    {
      "cell_type": "code",
      "metadata": {
        "colab": {
          "base_uri": "https://localhost:8080/"
        },
        "id": "Hwp-5vqKqckk",
        "outputId": "4010dc6c-1397-4ae3-f789-71e1a482a33b"
      },
      "source": [
        "ridge_score =ridge.score((X_test),y_test)\n",
        "print(\"Accuracy: \", ridge_score)"
      ],
      "execution_count": 36,
      "outputs": [
        {
          "output_type": "stream",
          "text": [
            "Accuracy:  0.8715550582660581\n"
          ],
          "name": "stdout"
        }
      ]
    },
    {
      "cell_type": "markdown",
      "metadata": {
        "id": "HKR5iYdqTq4d"
      },
      "source": [
        "> The model showed accuracy of 83% after its training."
      ]
    },
    {
      "cell_type": "code",
      "metadata": {
        "colab": {
          "base_uri": "https://localhost:8080/"
        },
        "id": "0fLeJ8tCnjNt",
        "outputId": "6d70f82b-619e-4a80-c459-7314b91bc082"
      },
      "source": [
        "ridge_cv = cross_val_score(ridge, X, y, cv = 5, scoring = 'r2')\n",
        "print (\"Cross-validation results: \", ridge_cv)\n",
        "print (\"R2: \", ridge_cv.mean())"
      ],
      "execution_count": 37,
      "outputs": [
        {
          "output_type": "stream",
          "text": [
            "Cross-validation results:  [0.81149169 0.46452647 0.89194909 0.76453373 0.79153853]\n",
            "R2:  0.7448079044469715\n"
          ],
          "name": "stdout"
        }
      ]
    },
    {
      "cell_type": "code",
      "metadata": {
        "colab": {
          "base_uri": "https://localhost:8080/",
          "height": 295
        },
        "id": "rskikGhNqlbH",
        "outputId": "f00b1835-bf00-48ad-f58a-2cb2c187f06d"
      },
      "source": [
        "actual_values = y_test\n",
        "plt.scatter(yr_ridge, actual_values, alpha=.75,\n",
        "            color='b') #alpha helps to show overlapping data\n",
        "plt.xlabel('Predicted Price')\n",
        "plt.ylabel('Actual Price')\n",
        "plt.title('Ridge Regression Model')\n",
        "plt.show()\n",
        "#pltrandom_state=None.show()"
      ],
      "execution_count": 38,
      "outputs": [
        {
          "output_type": "display_data",
          "data": {
            "image/png": "[encoded data removed]",
            "text/plain": [
              "<Figure size 432x288 with 1 Axes>"
            ]
          },
          "metadata": {
            "tags": [],
            "needs_background": "light"
          }
        }
      ]
    },
    {
      "cell_type": "code",
      "metadata": {
        "colab": {
          "base_uri": "https://localhost:8080/",
          "height": 266
        },
        "id": "bFo7WAxxrYPS",
        "outputId": "6d0cc1b2-ac86-44c1-fae5-612178939210"
      },
      "source": [
        "from scipy import stats\n",
        "\n",
        "#Execute a method that returns the important key values of Linear Regression\n",
        "slope, intercept, r, p, std_err = stats.linregress(yr_ridge, y_test)\n",
        "#Create a function that uses the slope and intercept values to return a new value. This new value represents where on the y-axis the corresponding x value will be placed\n",
        "def myfunc(x):\n",
        "  return slope * x + intercept\n",
        "\n",
        "mymodel = list(map(myfunc, yr_ridge))\n",
        "#Draw the scatter plot\n",
        "plt.scatter(yr_ridge, y_test)\n",
        "#Draw the line of linear regression\n",
        "plt.plot(yr_ridge, mymodel)\n",
        "plt.show()"
      ],
      "execution_count": 39,
      "outputs": [
        {
          "output_type": "display_data",
          "data": {
            "image/png": "[encoded data removed]",
            "text/plain": [
              "<Figure size 432x288 with 1 Axes>"
            ]
          },
          "metadata": {
            "tags": [],
            "needs_background": "light"
          }
        }
      ]
    },
    {
      "cell_type": "markdown",
      "metadata": {
        "id": "rrBSbuy2W2qN"
      },
      "source": [
        "**Random Forest**"
      ]
    },
    {
      "cell_type": "markdown",
      "metadata": {
        "id": "AXrke4TiEByv"
      },
      "source": [
        "The library sklearn.ensemble is used to solve regression problems via Random forest. The most important parameter is the n_estimators parameter. This parameter defines the number of trees in the random forest."
      ]
    },
    {
      "cell_type": "code",
      "metadata": {
        "id": "tNOXuakWCdsM"
      },
      "source": [
        "# Feature Scaling\n",
        "from sklearn.preprocessing import StandardScaler\n",
        "\n",
        "sc = StandardScaler()\n",
        "X_train = sc.fit_transform(X_train)\n",
        "X_test = sc.transform(X_test)"
      ],
      "execution_count": 40,
      "outputs": []
    },
    {
      "cell_type": "code",
      "metadata": {
        "id": "JQOrAqI8CHEY"
      },
      "source": [
        "regressor = RandomForestRegressor(n_estimators=20, random_state=0)\n",
        "regressor.fit(X_train, y_train)\n",
        "y_pred = regressor.predict(X_test)"
      ],
      "execution_count": 41,
      "outputs": []
    },
    {
      "cell_type": "markdown",
      "metadata": {
        "id": "kOz7BY5VC00P"
      },
      "source": [
        "Evaluating the Algorithm:\n",
        "The last and final step of solving a machine learning problem is to evaluate the performance of the algorithm. For regression problems the metrics used to evaluate an algorithm are mean absolute error, mean squared error, and root mean squared error."
      ]
    },
    {
      "cell_type": "code",
      "metadata": {
        "colab": {
          "base_uri": "https://localhost:8080/"
        },
        "id": "ffrZnle1CS3s",
        "outputId": "a0d19a9a-6429-42a6-e651-6d72d49d6b9a"
      },
      "source": [
        "from sklearn import metrics\n",
        "\n",
        "print('Mean Absolute Error:', metrics.mean_absolute_error(y_test, y_pred))\n",
        "print('Mean Squared Error:', metrics.mean_squared_error(y_test, y_pred))\n",
        "print('Root Mean Squared Error:', np.sqrt(metrics.mean_squared_error(y_test, y_pred)))"
      ],
      "execution_count": 42,
      "outputs": [
        {
          "output_type": "stream",
          "text": [
            "Mean Absolute Error: 0.19047567827012282\n",
            "Mean Squared Error: 0.06018065597086544\n",
            "Root Mean Squared Error: 0.2453174595720114\n"
          ],
          "name": "stdout"
        }
      ]
    },
    {
      "cell_type": "markdown",
      "metadata": {
        "id": "LTjAI163YYUW"
      },
      "source": [
        "Training the model"
      ]
    },
    {
      "cell_type": "code",
      "metadata": {
        "colab": {
          "base_uri": "https://localhost:8080/"
        },
        "id": "aoc4Z8W1TEvr",
        "outputId": "e0838cd9-7d74-4d8e-d990-8836b904e424"
      },
      "source": [
        "# Import the model we are using\n",
        "from sklearn.ensemble import RandomForestRegressor\n",
        "# Instantiate model with 1000 decision trees\n",
        "rf = RandomForestRegressor(n_estimators = 1000, random_state = 42)\n",
        "# Train the model on training data\n",
        "rf.fit(X_train, y_train)"
      ],
      "execution_count": 43,
      "outputs": [
        {
          "output_type": "execute_result",
          "data": {
            "text/plain": [
              "RandomForestRegressor(bootstrap=True, ccp_alpha=0.0, criterion='mse',\n",
              "                      max_depth=None, max_features='auto', max_leaf_nodes=None,\n",
              "                      max_samples=None, min_impurity_decrease=0.0,\n",
              "                      min_impurity_split=None, min_samples_leaf=1,\n",
              "                      min_samples_split=2, min_weight_fraction_leaf=0.0,\n",
              "                      n_estimators=1000, n_jobs=None, oob_score=False,\n",
              "                      random_state=42, verbose=0, warm_start=False)"
            ]
          },
          "metadata": {
            "tags": []
          },
          "execution_count": 43
        }
      ]
    },
    {
      "cell_type": "markdown",
      "metadata": {
        "id": "KZ41_qodXdXf"
      },
      "source": [
        "Making predictions on the test set:\n",
        "\n",
        "When performing regression, the absolute error should be used.It needs to be checked how far away the average prediction is from the actual value so the absolute value has to be calculated."
      ]
    },
    {
      "cell_type": "code",
      "metadata": {
        "colab": {
          "base_uri": "https://localhost:8080/"
        },
        "id": "BnBVJCqATu2H",
        "outputId": "0e2145bd-4555-4148-bc6b-d30901da5127"
      },
      "source": [
        "# Use the forest's predict method on the test data\n",
        "predictions = rf.predict(X_test)\n",
        "# Calculate the absolute errors\n",
        "errors = abs(predictions - y_test)\n",
        "# Print out the mean absolute error (mae)\n",
        "print('Mean Absolute Error:', round(np.mean(errors), 2), 'degrees.')"
      ],
      "execution_count": 44,
      "outputs": [
        {
          "output_type": "stream",
          "text": [
            "Mean Absolute Error: 0.16 degrees.\n"
          ],
          "name": "stdout"
        }
      ]
    },
    {
      "cell_type": "markdown",
      "metadata": {
        "id": "oUP118DHYLU1"
      },
      "source": [
        "\n",
        "\n",
        "> There is a 0.11 improvement.\n",
        "\n"
      ]
    },
    {
      "cell_type": "markdown",
      "metadata": {
        "id": "mS6CBlvuW_VM"
      },
      "source": [
        "Determine performance metrics:\n",
        "\n",
        "To put the predictions in perspective, accuracy can be calculated by using the mean average percentage error subtracted from 100 %."
      ]
    },
    {
      "cell_type": "markdown",
      "metadata": {
        "id": "Os6snVR8UM-W"
      },
      "source": [
        "Accuracy is one metric for evaluating classification models. Accuracy is the fraction of predictions our model got right."
      ]
    },
    {
      "cell_type": "code",
      "metadata": {
        "colab": {
          "base_uri": "https://localhost:8080/"
        },
        "id": "-rUYrjTVUHud",
        "outputId": "33602320-ac92-4f3c-e465-0b6b7287988f"
      },
      "source": [
        "# Calculate mean absolute percentage error (MAPE)\n",
        "mape = 100 * (errors /y_test)\n",
        "# Calculate and display accuracy\n",
        "accuracy = 100 - np.mean(mape)\n",
        "print('Accuracy:', round(accuracy, 2), '%.')"
      ],
      "execution_count": 45,
      "outputs": [
        {
          "output_type": "stream",
          "text": [
            "Accuracy: 97.66 %.\n"
          ],
          "name": "stdout"
        }
      ]
    },
    {
      "cell_type": "markdown",
      "metadata": {
        "id": "1EUPbN3zXNrs"
      },
      "source": [
        "> The model has learned how to predict the price with 98% accuracy."
      ]
    },
    {
      "cell_type": "code",
      "metadata": {
        "id": "7NMnNbxFObcD",
        "colab": {
          "base_uri": "https://localhost:8080/"
        },
        "outputId": "6c526fa9-186c-49c6-90fc-9e9d62e627ec"
      },
      "source": [
        "rfr = RandomForestRegressor()\n",
        "rfr.fit(X_train, y_train) # gets the parameters for the rfr model\n",
        "rfr_cv = cross_val_score(rfr,X, y, cv = 5, scoring = 'r2')\n",
        "print(\"R2: \", rfr_cv.mean())"
      ],
      "execution_count": 46,
      "outputs": [
        {
          "output_type": "stream",
          "text": [
            "R2:  0.779095093596493\n"
          ],
          "name": "stdout"
        }
      ]
    },
    {
      "cell_type": "markdown",
      "metadata": {
        "id": "TKIQi_1N3jbi"
      },
      "source": [
        "The performance of Random forest is slightly better than the Linear regression. The model parameters can be optimised for better performance using gridsearch."
      ]
    },
    {
      "cell_type": "code",
      "metadata": {
        "id": "_3DgOLObeVZl",
        "colab": {
          "base_uri": "https://localhost:8080/"
        },
        "outputId": "046686fa-02aa-4f24-86d3-63dc48603269"
      },
      "source": [
        "#Random forest determined feature importances\n",
        "rfr.feature_importances_"
      ],
      "execution_count": 47,
      "outputs": [
        {
          "output_type": "execute_result",
          "data": {
            "text/plain": [
              "array([0.00840601, 0.0386221 , 0.93308869, 0.0198832 ])"
            ]
          },
          "metadata": {
            "tags": []
          },
          "execution_count": 47
        }
      ]
    },
    {
      "cell_type": "markdown",
      "metadata": {
        "id": "82XzXGjuec_-"
      },
      "source": [
        "# **Plotting the Feature Importance**"
      ]
    },
    {
      "cell_type": "markdown",
      "metadata": {
        "id": "F-R6esbY3616"
      },
      "source": [
        "Finding the features that are the most promissing predictors:"
      ]
    },
    {
      "cell_type": "code",
      "metadata": {
        "id": "W9_WRuhqeiSO",
        "colab": {
          "base_uri": "https://localhost:8080/"
        },
        "outputId": "496f0b6f-a860-42e2-c615-072c95eb3a2b"
      },
      "source": [
        "importance = rfr.feature_importances_\n",
        "\n",
        "# map feature importance values to the features\n",
        "feature_importances = zip(importance, X.columns)\n",
        "\n",
        "#list(feature_importances)\n",
        "sorted_feature_importances = sorted(feature_importances, reverse = True)\n",
        "\n",
        "#print(sorted_feature_importances)\n",
        "top_15_predictors = sorted_feature_importances[0:15]\n",
        "values = [value for value, predictors in top_15_predictors]\n",
        "predictors = [predictors for value, predictors in top_15_predictors]\n",
        "print(predictors)"
      ],
      "execution_count": 48,
      "outputs": [
        {
          "output_type": "stream",
          "text": [
            "['LIVING_AREA', 'POSTCODE', 'ROOMS', 'TYPE']\n"
          ],
          "name": "stdout"
        }
      ]
    },
    {
      "cell_type": "markdown",
      "metadata": {
        "id": "-NpL2BNZewF4"
      },
      "source": [
        "**Plotting the feauture importance of the Random forest.**"
      ]
    },
    {
      "cell_type": "markdown",
      "metadata": {
        "id": "J3t_rUzTVhBm"
      },
      "source": [
        "Plotting the feature importances to illustrate the disparities in the relative significance of the variables. "
      ]
    },
    {
      "cell_type": "code",
      "metadata": {
        "id": "onnmDIFae4HZ",
        "colab": {
          "base_uri": "https://localhost:8080/",
          "height": 337
        },
        "outputId": "60d1b37b-2d5e-4222-9e96-b4c38773e773"
      },
      "source": [
        "plt.figure()\n",
        "plt.title( \"Feature importances\")\n",
        "plt.bar(range(len(predictors)), values,color=\"r\", align=\"center\");\n",
        "plt.xticks(range(len(predictors)), predictors, rotation=90);"
      ],
      "execution_count": 49,
      "outputs": [
        {
          "output_type": "display_data",
          "data": {
            "image/png": "[encoded data removed]",
            "text/plain": [
              "<Figure size 432x288 with 1 Axes>"
            ]
          },
          "metadata": {
            "tags": [],
            "needs_background": "light"
          }
        }
      ]
    },
    {
      "cell_type": "markdown",
      "metadata": {
        "id": "PV8pIhISjckq"
      },
      "source": [
        "The idea behind the plotting of feauture importance is that after evaluating the performance of the model, the values of a feature of interest must be permuted and reevaluate model performance.\n",
        "The feature importance (variable importance) describes which features are relevant. \n",
        ">Random Forest determined that overall the living area of a home is by far the most important predictor. Following are the sizes of above rooms and postcode."
      ]
    },
    {
      "cell_type": "code",
      "metadata": {
        "id": "PofXN7Oe2WFw"
      },
      "source": [
        "# Saving the model\n",
        "import pickle\n",
        "filename = 'classifier.pkl'\n",
        "pickle.dump(rfr, open(filename, 'wb'))"
      ],
      "execution_count": 53,
      "outputs": []
    },
    {
      "cell_type": "markdown",
      "metadata": {
        "id": "a24foPqrPqOx"
      },
      "source": [
        "# **Conclusion**\n",
        "\n",
        "I used four models to determine the accuracy - Linear Regression, Lasso Regression and Ridge Regression, Random Forest.\n",
        "\n",
        "From the exploring of the models RMSE:\n",
        "\n",
        "* Linear Regression score: 0.2003 (0.1887)\n",
        "\n",
        "* Lasso score: 0.5 (0.4675)\n",
        "\n",
        "* Ridge score: 0.2 (0.1877)\n",
        "\n",
        "* Random forest score: 0.2372 \n",
        "\n",
        "> RMSE values between 0.2 and 0.5 shows that the model can relatively predict the data accurately. All of the models showed values in this range.\n",
        "\n",
        "From the exploring of the models accuracy: \n",
        "\n",
        "* Linear Regression score:  0.80 (80%)\n",
        "\n",
        "* Lasso score: 0.82 (82%)\n",
        "\n",
        "* Ridge score: 0.86 (86%)\n",
        "\n",
        "* Random forest score: 98.13 %\n",
        "\n",
        "From the exploring of the models cross-validation:  \n",
        "\n",
        "* Linear Regression score:  R2: 0.7308604883584712\n",
        "\n",
        "* Lasso score: R2:  0.6532616143265344\n",
        "\n",
        "* Ridge score: R2:  0.7310756447849953\n",
        "\n",
        "* Random forest: R2:  0.7742740242196954\n",
        "\n",
        "Random forest turns out to be the more accurate model for predicting the house price. \n",
        "\n",
        "All of the models showed RMSE values between 0.2 and 0.5 so that they show  relatively accurate predictions of the data. \n",
        "\n",
        "I evaluated the models performances with R-squared metric and the one that is overfitting the least is the Linear Regression.\n",
        "\n"
      ]
    }
  ]
}