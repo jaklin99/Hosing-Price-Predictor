{
  "nbformat": 4,
  "nbformat_minor": 0,
  "metadata": {
    "colab": {
      "name": "HousingPredictor_Scrape_Final.ipynb",
      "provenance": [],
      "collapsed_sections": []
    },
    "kernelspec": {
      "name": "python3",
      "display_name": "Python 3"
    },
    "language_info": {
      "name": "python"
    }
  },
  "cells": [
    {
      "cell_type": "markdown",
      "metadata": {
        "id": "O0jDE-ojxKH6"
      },
      "source": [
        "# **House Price Prediction with Linear Regression and Random Forest**"
      ]
    },
    {
      "cell_type": "markdown",
      "metadata": {
        "id": "4Ee10GvtxHa1"
      },
      "source": [
        "The aim of this project is to predict real-estate prices using one basic machine learning algorithm, Linear Regression, and one advanced algorithm, Random Forest. Both will show different results for the accuracy."
      ]
    },
    {
      "cell_type": "markdown",
      "metadata": {
        "id": "PwILfzBYixDE"
      },
      "source": [
        "# **Imports**"
      ]
    },
    {
      "cell_type": "code",
      "metadata": {
        "id": "IVXu8JD0Dfjr"
      },
      "source": [
        "from bs4 import BeautifulSoup as bs4\n",
        "from requests import get\n",
        "import json\n",
        "import pandas as pd\n",
        "import requests\n",
        "import matplotlib.pyplot as plt\n",
        "import seaborn as sns\n",
        "import mpl_toolkits\n",
        "import numpy as np\n",
        "%matplotlib inline\n",
        "#from fake_useragent import UserAgent"
      ],
      "execution_count": 1,
      "outputs": []
    },
    {
      "cell_type": "markdown",
      "metadata": {
        "id": "Jwn59thSi4qc"
      },
      "source": [
        "# **Data preparation (Web scraping)**"
      ]
    },
    {
      "cell_type": "markdown",
      "metadata": {
        "id": "XYPR9iWTHxBS"
      },
      "source": [
        "Scraping data from the first website - 'FriendlyHousing'"
      ]
    },
    {
      "cell_type": "code",
      "metadata": {
        "id": "aGRVJUxq-7b-"
      },
      "source": [
        "url_1 = 'https://www.friendlyhousing.nl/nl/aanbod/kamer'\n",
        "url_2 = 'https://www.friendlyhousing.nl/nl/aanbod/studio'\n",
        "url_3 = 'https://www.friendlyhousing.nl/nl/aanbod/appartement'\n",
        "urls= [url_1, url_2, url_3]"
      ],
      "execution_count": 2,
      "outputs": []
    },
    {
      "cell_type": "markdown",
      "metadata": {
        "id": "LfI4ZVzaH3pw"
      },
      "source": [
        "Scraping data from the second website - 'Pararius'"
      ]
    },
    {
      "cell_type": "code",
      "metadata": {
        "id": "vSCaO5pCDnmK"
      },
      "source": [
        "url_1p = 'https://www.pararius.com/apartments/eindhoven'\n",
        "url_2p = 'https://www.pararius.com/apartments/eindhoven/page-2'\n",
        "url_3p = 'https://www.pararius.com/apartments/eindhoven/page-3'\n",
        "urls_p= [url_1p, url_2p, url_3p]\n"
      ],
      "execution_count": 3,
      "outputs": []
    },
    {
      "cell_type": "markdown",
      "metadata": {
        "id": "RYTfmQFMIOXD"
      },
      "source": [
        "'FriendlyHousing'"
      ]
    },
    {
      "cell_type": "code",
      "metadata": {
        "id": "zcUcngFqMICQ"
      },
      "source": [
        "#user_agent = UserAgent()\n",
        "#headers={\"user-agent\": user_agent.chrome}\n",
        "soup_array=[]\n",
        "for url in urls:\n",
        "    ## getting the reponse from the page using get method of requests module\n",
        "    page = get(url)\n",
        "\n",
        "    ## storing the content of the page in a variable\n",
        "    html = page.content\n",
        "\n",
        "    ## creating BeautifulSoup object\n",
        "    soup = bs4(html, \"html.parser\")\n",
        "    soup_array.append(soup)"
      ],
      "execution_count": 4,
      "outputs": []
    },
    {
      "cell_type": "markdown",
      "metadata": {
        "id": "U1aRfCtlIUt0"
      },
      "source": [
        "'Pararius'"
      ]
    },
    {
      "cell_type": "code",
      "metadata": {
        "id": "85NXMkdFIZZ-"
      },
      "source": [
        "soup_array_p=[]\n",
        "for url in urls_p:\n",
        "    ## getting the reponse from the page using get method of requests module\n",
        "    page = get(url)\n",
        "\n",
        "    ## storing the content of the page in a variable\n",
        "    html = page.content\n",
        "\n",
        "    ## creating BeautifulSoup object\n",
        "    soup = bs4(html, \"html.parser\")\n",
        "    soup_array_p.append(soup)"
      ],
      "execution_count": 5,
      "outputs": []
    },
    {
      "cell_type": "markdown",
      "metadata": {
        "id": "-dsA98jYIkBa"
      },
      "source": [
        "'FriendlyHousing' - finding the elements from the html file"
      ]
    },
    {
      "cell_type": "code",
      "metadata": {
        "id": "Y00lRLog_wuI"
      },
      "source": [
        "houses=[]\n",
        "for s in soup_array:\n",
        "    allHouses = s.find(\"ul\", {\"class\": \"list list-unstyled row equal-row\"})\n",
        "    #print(len(allHouses))\n",
        "    for h in allHouses.find_all(\"li\", {\"class\": \"col-xs-12 col-sm-6 col-md-4 equal-col\"}):\n",
        "     # print(h)\n",
        "      \n",
        "      houses.append(h)\n",
        "     # print(h.findAll(\"li\", {\"class\": \"search-list__item search-list__item--listing\"}))\n",
        "      "
      ],
      "execution_count": 6,
      "outputs": []
    },
    {
      "cell_type": "code",
      "metadata": {
        "id": "oQ5ziGdjAIX8"
      },
      "source": [
        "catalog=[]\n",
        "for h in houses:\n",
        "  #data['houses'].append({\n",
        "      type__= h.find('div', class_= 'specs').text\n",
        "      t = type__.split()\n",
        "      type_=t[0]\n",
        "      street_ = h.find('h3').text\n",
        "      s = street_.split()\n",
        "      street = s[0]\n",
        "      address = h.find('p').text\n",
        "      a = address.split()\n",
        "      postcode = a[0]\n",
        "      #city = a[2]\n",
        "      price = h.find('div', class_= 'price').text\n",
        "      vars = type_,street, postcode, price\n",
        "      catalog.append(vars)\n",
        "      #print(city)"
      ],
      "execution_count": 7,
      "outputs": []
    },
    {
      "cell_type": "markdown",
      "metadata": {
        "id": "ozJfWu4SIz66"
      },
      "source": [
        "'Pararius' - finding the elements from the html file"
      ]
    },
    {
      "cell_type": "code",
      "metadata": {
        "id": "A2cvkZr8I3Tn"
      },
      "source": [
        "houses_p=[]\n",
        "for s in soup_array_p:\n",
        "    allHouses = s.find(\"ul\", {\"class\": \"search-list\"})\n",
        "    #print(len(allHouses))\n",
        "    for h in allHouses.find_all(\"li\", {\"class\": \"search-list__item search-list__item--listing\"}):\n",
        "     # print(h)\n",
        "      \n",
        "      houses_p.append(h)\n",
        "     # print(h.findAll(\"li\", {\"class\": \"search-list__item search-list__item--listing\"}))\n",
        "      "
      ],
      "execution_count": 8,
      "outputs": []
    },
    {
      "cell_type": "code",
      "metadata": {
        "colab": {
          "base_uri": "https://localhost:8080/",
          "height": 0
        },
        "id": "Pq_WU8w6SVCW",
        "outputId": "39463ba2-6e57-4c1e-bb8f-fd3b3299f582"
      },
      "source": [
        "catalog_p=[]\n",
        "for h in houses_p:\n",
        "  #data['houses'].append({\n",
        "        name = h.find('a',class_='listing-search-item__link listing-search-item__link--title').text\n",
        "        _name = name.split()\n",
        "        house_type = _name[0]\n",
        "        street = _name[1]\n",
        "        _address= h.findAll('div', class_='listing-search-item__location')[0].text\n",
        "        #String manipulation to remove the unwanted signs from the address\n",
        "        __address = _address.replace(\"\\nnew\\n \", \"\") \n",
        "        address = __address.replace(\"\\n \", \"\")   #actual address after string manipulation - ready to be used in the exploring of the data\n",
        "        new_address = address.split()\n",
        "        postcode = new_address[0] \n",
        "        price_ = h.findAll('span', class_='listing-search-item__price')[0].text\n",
        "        #splitting the string to find the price\n",
        "        p=price_.split()\n",
        "        _price = p[0] #actual price before string manipulation\n",
        "        __price = _price.replace(\"€\", \"\")  #actual price before full string manipulation\n",
        "        price = __price.replace(\",\", \"\")   #actual price after string manipulation - ready to be used in the exploring of the data\n",
        "\n",
        "        #finding the whole element from the web page\n",
        "        ylr= h.findAll('section', class_= 'illustrated-features illustrated-features--vertical')[0].text \n",
        "\n",
        "        #splitting the string to find the living are, rooms and year\n",
        "        lry= ylr.split()\n",
        "\n",
        "        #living_area after taking the indexes that define it\n",
        "        living_area = lry[0] \n",
        "\n",
        "        #rooms after taking the index that defines the variable\n",
        "        rooms = lry[4] \n",
        "    \n",
        "        vars = house_type, street, postcode,price,living_area,rooms\n",
        "        catalog_p.append(vars)\n",
        "    \n",
        "print(catalog_p)\n"
      ],
      "execution_count": 9,
      "outputs": [
        {
          "output_type": "stream",
          "text": [
            "[('House', 'Nieuwe', '5612', '1150', '65', '3'), ('Apartment', 'Kruisstraat', '5612', '950', '40', '2'), ('Apartment', 'Bleekstraat', '5611', '1175', '52', '2'), ('Apartment', 'Hertog', '5611', '650', '28', '2'), ('Apartment', 'Leenderweg', '5643', '775', '25', '1'), ('Apartment', 'Emmasingel', '5611', '2500', '135', '3'), ('Apartment', 'Winkelcentrum', '5625', '1750', '110', '3'), ('Apartment', 'De', '5611', '1353', '91', '3'), ('Apartment', 'De', '5611', '1318', '91', '3'), ('House', 'Bolestein', '5653', '1550', '147', '5'), ('House', 'Nabucco', '5629', '1300', '100', '4'), ('Apartment', 'Jan', '5611', '1485', '90', '2'), ('Apartment', 'Jan', '5611', '1350', '90', '3'), ('Apartment', 'Gestelsestraat', '5615', '1250', '61', '2'), ('Apartment', 'Maalakker', '5625', '1245', '75', '3'), ('Apartment', 'Borchmolen', '5612', '1450', '100', '3'), ('Apartment', 'Pastoor', '5612', '1150', '75', '3'), ('Apartment', 'Schootsestraat', '5616', '850', '45', '2'), ('Apartment', 'Pastoor', '5622', '695', '56', '2'), ('Apartment', 'Franz', '5654', '1075', '35', '2'), ('Apartment', 'Bredalaan', '5652', '1495', '75', '3'), ('Apartment', 'Cornelis', '5654', '720', '25', '1'), ('Apartment', 'Philitelaan', '5617', '1900', '135', '5'), ('House', 'Frans', '5613', '1295', '85', '3'), ('House', 'Vrijkensven', '5646', '1090', '121', '5'), ('House', 'Vrijkensven', '5646', '1200', '130', '5'), ('Apartment', 'Lichtstraat', '5611', '1308', '103', '3'), ('Apartment', 'Lichtstraat', '5611', '1278', '105', '3'), ('Apartment', 'Lichtstraat', '5611', '1233', '93', '3'), ('Apartment', 'Gagelboschplein', '5654', '1070', '100', '3'), ('House', 'Nicolaas', '5615', '1875', '115', '5'), ('Apartment', 'Strijpsestraat', '5616', '975', '65', '3'), ('House', 'Nieuwe', '5612', '1150', '65', '3'), ('Apartment', 'Kruisstraat', '5612', '950', '40', '2'), ('House', 'Grote', '5632', '1290', '115', '4'), ('Room', 'Sebastiaan', '5622', '475', '14', '1'), ('House', 'van', '5612', '1500', '108', '5'), ('Room', 'Aalsterweg', '5615', '360', '16', '1'), ('House', 'Landgraaf', '5658', '1350', '113', '5'), ('House', 'Dommelhoefstraat', '5613', '1795', '110', '4'), ('Apartment', 'Leenderweg', '5614', '1095', '60', '3'), ('Apartment', 'Normandielaan', '5627', '800', '40', '1'), ('Apartment', 'Nederlandplein', '5628', '1200', '90', '4'), ('House', 'Samuel', '5654', '1200', '95', '4'), ('Apartment', 'Franz', '5654', '1025', '35', '1'), ('Apartment', 'Strijpsestraat', '5616', '900', '35', '1'), ('Apartment', 'Peperstraat', '5612', '710', '20', '1'), ('Apartment', 'Hermanus', '5611', '675', '20', '1'), ('Apartment', 'Genovevalaan', '5625', '1050', '54', '2'), ('Apartment', 'St', '5611', '1250', '75', '3'), ('House', 'Primulastraat', '5644', '2250', '162', '7'), ('Apartment', 'Distelstraat', '5643', '975', '55', '2'), ('Apartment', 'Kruisstraat', '5612', '1100', '46', '2'), ('Apartment', 'Emmasingel', '5611', '1749', '135', '3'), ('Apartment', 'Merovingersweg', '5616', '1195', '60', '2'), ('Apartment', 'Kruisstraat', '5612', '995', '55', '2'), ('Apartment', 'Kerkakkerstraat', '5616', '1115', '50', '2'), ('Apartment', 'Hoogstraat', '5654', '995', '50', '2'), ('Apartment', 'Geldropseweg', '5643', '990', '67', '2'), ('Apartment', 'Kromakkerweg', '5616', '1195', '75', '3'), ('Room', 'Musschenbroekstraat', '5621', '415', '13', '1'), ('Apartment', 'Fuutlaan', '5613', '1395', '79', '3'), ('House', 'Charlotte', '5611', '1995', '110', '4'), ('Apartment', 'Veldmaarschalk', '5623', '1195', '80', '3'), ('Apartment', 'Kruisstraat', '5612', '950', '40', '2'), ('House', 'Nieuwe', '5612', '1150', '65', '3'), ('House', 'Patrijsstraat', '5613', '1950', '135', '4'), ('Apartment', 'Paradijslaan', '5611', '1850', '120', '3'), ('Apartment', 'Grote', '5611', '1450', '80', '3'), ('Apartment', 'Rivierstraat', '5615', '950', '50', '2'), ('Room', 'Koenraadlaan', '5651', '660', '24', '1'), ('Apartment', 'P', '5611', '1395', '78', '3'), ('Apartment', 'Philitelaan', '5617', '940', '52', '1'), ('Apartment', 'Philitelaan', '5617', '1200', '72', '3'), ('Apartment', 'Philitelaan', '5617', '800', '45', '1'), ('Apartment', 'Philitelaan', '5617', '1200', '73', '3'), ('Apartment', 'Philitelaan', '5617', '780', '41', '1'), ('Apartment', 'Philitelaan', '5617', '1000', '52', '3'), ('Apartment', 'Philitelaan', '5617', '1025', '77', '1'), ('Apartment', 'Diepenbrockstraat', '5654', '895', '35', '2'), ('Apartment', 'Tongelresestraat', '5642', '1025', '35', '1'), ('Apartment', 'Lupinestraat', '5614', '850', '34', '1'), ('Apartment', 'Nieuwe', '5611', '1045', '43', '1'), ('Apartment', 'Philitelaan', '5617', '895', '50', '1'), ('Apartment', 'Philitelaan', '5617', '890', '42', '1'), ('Apartment', 'Philitelaan', '5617', '955', '57', '1'), ('Apartment', 'van', '5612', '775', '19', '1'), ('Apartment', 'Hertog', '5611', '1045', '60', '3'), ('Apartment', 'Philitelaan', '5617', '995', '53', '2'), ('Apartment', 'Penelopestraat', '5631', '995', '50', '2'), ('House', 'Speckenlaan', '5644', '3500', '185', '7'), ('House', 'Scheidingstraat', '5654', '2500', '100', '3'), ('Apartment', 'Kromakkerweg', '5616', '1195', '55', '2'), ('Apartment', 'Brugmanstraat', '5621', '1070', '65', '2'), ('Apartment', 'Hooghuisstraat', '5611', '925', '38', '2'), ('Apartment', 'Hooghuisstraat', '5611', '725', '22', '1')]\n"
          ],
          "name": "stdout"
        }
      ]
    },
    {
      "cell_type": "markdown",
      "metadata": {
        "id": "f1y3SXaLKUTy"
      },
      "source": [
        "'FriendlyHousing' - creating the dataframe"
      ]
    },
    {
      "cell_type": "code",
      "metadata": {
        "colab": {
          "base_uri": "https://localhost:8080/",
          "height": 415
        },
        "id": "gf801ahMFPOM",
        "outputId": "e819d893-52cb-4bc5-9be9-61dd80d29021"
      },
      "source": [
        "dataframe = pd.DataFrame(catalog)\n",
        "dataframe.columns=['TYPE', 'STREET NAME', 'POSTCODE', 'PRICE'] \n",
        "dataframe "
      ],
      "execution_count": 10,
      "outputs": [
        {
          "output_type": "execute_result",
          "data": {
            "text/html": [
              "<div>\n",
              "<style scoped>\n",
              "    .dataframe tbody tr th:only-of-type {\n",
              "        vertical-align: middle;\n",
              "    }\n",
              "\n",
              "    .dataframe tbody tr th {\n",
              "        vertical-align: top;\n",
              "    }\n",
              "\n",
              "    .dataframe thead th {\n",
              "        text-align: right;\n",
              "    }\n",
              "</style>\n",
              "<table border=\"1\" class=\"dataframe\">\n",
              "  <thead>\n",
              "    <tr style=\"text-align: right;\">\n",
              "      <th></th>\n",
              "      <th>TYPE</th>\n",
              "      <th>STREET NAME</th>\n",
              "      <th>POSTCODE</th>\n",
              "      <th>PRICE</th>\n",
              "    </tr>\n",
              "  </thead>\n",
              "  <tbody>\n",
              "    <tr>\n",
              "      <th>0</th>\n",
              "      <td>Kamer</td>\n",
              "      <td>Willem</td>\n",
              "      <td>5611</td>\n",
              "      <td>320</td>\n",
              "    </tr>\n",
              "    <tr>\n",
              "      <th>1</th>\n",
              "      <td>Kamer</td>\n",
              "      <td>Willem</td>\n",
              "      <td>5611</td>\n",
              "      <td>310</td>\n",
              "    </tr>\n",
              "    <tr>\n",
              "      <th>2</th>\n",
              "      <td>Kamer</td>\n",
              "      <td>Willem</td>\n",
              "      <td>5611</td>\n",
              "      <td>325</td>\n",
              "    </tr>\n",
              "    <tr>\n",
              "      <th>3</th>\n",
              "      <td>Kamer</td>\n",
              "      <td>Jacob</td>\n",
              "      <td>5622</td>\n",
              "      <td>335</td>\n",
              "    </tr>\n",
              "    <tr>\n",
              "      <th>4</th>\n",
              "      <td>Kamer</td>\n",
              "      <td>Edelweisstraat</td>\n",
              "      <td>5643</td>\n",
              "      <td>265</td>\n",
              "    </tr>\n",
              "    <tr>\n",
              "      <th>...</th>\n",
              "      <td>...</td>\n",
              "      <td>...</td>\n",
              "      <td>...</td>\n",
              "      <td>...</td>\n",
              "    </tr>\n",
              "    <tr>\n",
              "      <th>118</th>\n",
              "      <td>Appartement</td>\n",
              "      <td>Frankrijkstraat</td>\n",
              "      <td>5622</td>\n",
              "      <td>925</td>\n",
              "    </tr>\n",
              "    <tr>\n",
              "      <th>119</th>\n",
              "      <td>Appartement</td>\n",
              "      <td>Kerkakkerstraat</td>\n",
              "      <td>5616</td>\n",
              "      <td>950</td>\n",
              "    </tr>\n",
              "    <tr>\n",
              "      <th>120</th>\n",
              "      <td>Appartement</td>\n",
              "      <td>Leenderweg</td>\n",
              "      <td>5614</td>\n",
              "      <td>800</td>\n",
              "    </tr>\n",
              "    <tr>\n",
              "      <th>121</th>\n",
              "      <td>Appartement</td>\n",
              "      <td>Leostraat</td>\n",
              "      <td>5615</td>\n",
              "      <td>775</td>\n",
              "    </tr>\n",
              "    <tr>\n",
              "      <th>122</th>\n",
              "      <td>Appartement</td>\n",
              "      <td>Stratumsedijk</td>\n",
              "      <td>5614</td>\n",
              "      <td>1075</td>\n",
              "    </tr>\n",
              "  </tbody>\n",
              "</table>\n",
              "<p>123 rows × 4 columns</p>\n",
              "</div>"
            ],
            "text/plain": [
              "            TYPE      STREET NAME POSTCODE PRICE\n",
              "0          Kamer           Willem     5611   320\n",
              "1          Kamer           Willem     5611   310\n",
              "2          Kamer           Willem     5611   325\n",
              "3          Kamer            Jacob     5622   335\n",
              "4          Kamer   Edelweisstraat     5643   265\n",
              "..           ...              ...      ...   ...\n",
              "118  Appartement  Frankrijkstraat     5622   925\n",
              "119  Appartement  Kerkakkerstraat     5616   950\n",
              "120  Appartement       Leenderweg     5614   800\n",
              "121  Appartement        Leostraat     5615   775\n",
              "122  Appartement    Stratumsedijk     5614  1075\n",
              "\n",
              "[123 rows x 4 columns]"
            ]
          },
          "metadata": {
            "tags": []
          },
          "execution_count": 10
        }
      ]
    },
    {
      "cell_type": "markdown",
      "metadata": {
        "id": "dK0MGNHfKZsI"
      },
      "source": [
        "'Pararius'- creating the dataframe"
      ]
    },
    {
      "cell_type": "code",
      "metadata": {
        "colab": {
          "base_uri": "https://localhost:8080/",
          "height": 415
        },
        "id": "tYe6YPLlS-hB",
        "outputId": "0920a4cf-f54a-451d-f834-0dfdcf266633"
      },
      "source": [
        "df_ = pd.DataFrame(catalog_p)\n",
        "df_.columns=['TYPE', 'STREET NAME', 'POSTCODE', 'PRICE','LIVING_AREA', 'ROOMS'] \n",
        "df_ "
      ],
      "execution_count": 11,
      "outputs": [
        {
          "output_type": "execute_result",
          "data": {
            "text/html": [
              "<div>\n",
              "<style scoped>\n",
              "    .dataframe tbody tr th:only-of-type {\n",
              "        vertical-align: middle;\n",
              "    }\n",
              "\n",
              "    .dataframe tbody tr th {\n",
              "        vertical-align: top;\n",
              "    }\n",
              "\n",
              "    .dataframe thead th {\n",
              "        text-align: right;\n",
              "    }\n",
              "</style>\n",
              "<table border=\"1\" class=\"dataframe\">\n",
              "  <thead>\n",
              "    <tr style=\"text-align: right;\">\n",
              "      <th></th>\n",
              "      <th>TYPE</th>\n",
              "      <th>STREET NAME</th>\n",
              "      <th>POSTCODE</th>\n",
              "      <th>PRICE</th>\n",
              "      <th>LIVING_AREA</th>\n",
              "      <th>ROOMS</th>\n",
              "    </tr>\n",
              "  </thead>\n",
              "  <tbody>\n",
              "    <tr>\n",
              "      <th>0</th>\n",
              "      <td>House</td>\n",
              "      <td>Nieuwe</td>\n",
              "      <td>5612</td>\n",
              "      <td>1150</td>\n",
              "      <td>65</td>\n",
              "      <td>3</td>\n",
              "    </tr>\n",
              "    <tr>\n",
              "      <th>1</th>\n",
              "      <td>Apartment</td>\n",
              "      <td>Kruisstraat</td>\n",
              "      <td>5612</td>\n",
              "      <td>950</td>\n",
              "      <td>40</td>\n",
              "      <td>2</td>\n",
              "    </tr>\n",
              "    <tr>\n",
              "      <th>2</th>\n",
              "      <td>Apartment</td>\n",
              "      <td>Bleekstraat</td>\n",
              "      <td>5611</td>\n",
              "      <td>1175</td>\n",
              "      <td>52</td>\n",
              "      <td>2</td>\n",
              "    </tr>\n",
              "    <tr>\n",
              "      <th>3</th>\n",
              "      <td>Apartment</td>\n",
              "      <td>Hertog</td>\n",
              "      <td>5611</td>\n",
              "      <td>650</td>\n",
              "      <td>28</td>\n",
              "      <td>2</td>\n",
              "    </tr>\n",
              "    <tr>\n",
              "      <th>4</th>\n",
              "      <td>Apartment</td>\n",
              "      <td>Leenderweg</td>\n",
              "      <td>5643</td>\n",
              "      <td>775</td>\n",
              "      <td>25</td>\n",
              "      <td>1</td>\n",
              "    </tr>\n",
              "    <tr>\n",
              "      <th>...</th>\n",
              "      <td>...</td>\n",
              "      <td>...</td>\n",
              "      <td>...</td>\n",
              "      <td>...</td>\n",
              "      <td>...</td>\n",
              "      <td>...</td>\n",
              "    </tr>\n",
              "    <tr>\n",
              "      <th>91</th>\n",
              "      <td>House</td>\n",
              "      <td>Scheidingstraat</td>\n",
              "      <td>5654</td>\n",
              "      <td>2500</td>\n",
              "      <td>100</td>\n",
              "      <td>3</td>\n",
              "    </tr>\n",
              "    <tr>\n",
              "      <th>92</th>\n",
              "      <td>Apartment</td>\n",
              "      <td>Kromakkerweg</td>\n",
              "      <td>5616</td>\n",
              "      <td>1195</td>\n",
              "      <td>55</td>\n",
              "      <td>2</td>\n",
              "    </tr>\n",
              "    <tr>\n",
              "      <th>93</th>\n",
              "      <td>Apartment</td>\n",
              "      <td>Brugmanstraat</td>\n",
              "      <td>5621</td>\n",
              "      <td>1070</td>\n",
              "      <td>65</td>\n",
              "      <td>2</td>\n",
              "    </tr>\n",
              "    <tr>\n",
              "      <th>94</th>\n",
              "      <td>Apartment</td>\n",
              "      <td>Hooghuisstraat</td>\n",
              "      <td>5611</td>\n",
              "      <td>925</td>\n",
              "      <td>38</td>\n",
              "      <td>2</td>\n",
              "    </tr>\n",
              "    <tr>\n",
              "      <th>95</th>\n",
              "      <td>Apartment</td>\n",
              "      <td>Hooghuisstraat</td>\n",
              "      <td>5611</td>\n",
              "      <td>725</td>\n",
              "      <td>22</td>\n",
              "      <td>1</td>\n",
              "    </tr>\n",
              "  </tbody>\n",
              "</table>\n",
              "<p>96 rows × 6 columns</p>\n",
              "</div>"
            ],
            "text/plain": [
              "         TYPE      STREET NAME POSTCODE PRICE LIVING_AREA ROOMS\n",
              "0       House           Nieuwe     5612  1150          65     3\n",
              "1   Apartment      Kruisstraat     5612   950          40     2\n",
              "2   Apartment      Bleekstraat     5611  1175          52     2\n",
              "3   Apartment           Hertog     5611   650          28     2\n",
              "4   Apartment       Leenderweg     5643   775          25     1\n",
              "..        ...              ...      ...   ...         ...   ...\n",
              "91      House  Scheidingstraat     5654  2500         100     3\n",
              "92  Apartment     Kromakkerweg     5616  1195          55     2\n",
              "93  Apartment    Brugmanstraat     5621  1070          65     2\n",
              "94  Apartment   Hooghuisstraat     5611   925          38     2\n",
              "95  Apartment   Hooghuisstraat     5611   725          22     1\n",
              "\n",
              "[96 rows x 6 columns]"
            ]
          },
          "metadata": {
            "tags": []
          },
          "execution_count": 11
        }
      ]
    },
    {
      "cell_type": "markdown",
      "metadata": {
        "id": "7BfHwW4rjw08"
      },
      "source": [
        "# **Data integration**\n",
        "\n",
        "\n",
        "\n",
        "> Using concat to create a `Union` between the two datasets and then, integrate them into one dataset.\n",
        "\n"
      ]
    },
    {
      "cell_type": "code",
      "metadata": {
        "id": "J5xbuFDihnXc"
      },
      "source": [
        "frames = [dataframe, df_]"
      ],
      "execution_count": 81,
      "outputs": []
    },
    {
      "cell_type": "code",
      "metadata": {
        "colab": {
          "base_uri": "https://localhost:8080/",
          "height": 415
        },
        "id": "UfyranQchpAu",
        "outputId": "f686dbd8-5614-4c1a-e772-6eaee237267a"
      },
      "source": [
        "df = pd.concat(frames)\n",
        "df"
      ],
      "execution_count": 82,
      "outputs": [
        {
          "output_type": "execute_result",
          "data": {
            "text/html": [
              "<div>\n",
              "<style scoped>\n",
              "    .dataframe tbody tr th:only-of-type {\n",
              "        vertical-align: middle;\n",
              "    }\n",
              "\n",
              "    .dataframe tbody tr th {\n",
              "        vertical-align: top;\n",
              "    }\n",
              "\n",
              "    .dataframe thead th {\n",
              "        text-align: right;\n",
              "    }\n",
              "</style>\n",
              "<table border=\"1\" class=\"dataframe\">\n",
              "  <thead>\n",
              "    <tr style=\"text-align: right;\">\n",
              "      <th></th>\n",
              "      <th>TYPE</th>\n",
              "      <th>STREET NAME</th>\n",
              "      <th>POSTCODE</th>\n",
              "      <th>PRICE</th>\n",
              "      <th>LIVING_AREA</th>\n",
              "      <th>ROOMS</th>\n",
              "    </tr>\n",
              "  </thead>\n",
              "  <tbody>\n",
              "    <tr>\n",
              "      <th>0</th>\n",
              "      <td>Kamer</td>\n",
              "      <td>Willem</td>\n",
              "      <td>5611</td>\n",
              "      <td>320</td>\n",
              "      <td>NaN</td>\n",
              "      <td>NaN</td>\n",
              "    </tr>\n",
              "    <tr>\n",
              "      <th>1</th>\n",
              "      <td>Kamer</td>\n",
              "      <td>Willem</td>\n",
              "      <td>5611</td>\n",
              "      <td>310</td>\n",
              "      <td>NaN</td>\n",
              "      <td>NaN</td>\n",
              "    </tr>\n",
              "    <tr>\n",
              "      <th>2</th>\n",
              "      <td>Kamer</td>\n",
              "      <td>Willem</td>\n",
              "      <td>5611</td>\n",
              "      <td>325</td>\n",
              "      <td>NaN</td>\n",
              "      <td>NaN</td>\n",
              "    </tr>\n",
              "    <tr>\n",
              "      <th>3</th>\n",
              "      <td>Kamer</td>\n",
              "      <td>Jacob</td>\n",
              "      <td>5622</td>\n",
              "      <td>335</td>\n",
              "      <td>NaN</td>\n",
              "      <td>NaN</td>\n",
              "    </tr>\n",
              "    <tr>\n",
              "      <th>4</th>\n",
              "      <td>Kamer</td>\n",
              "      <td>Edelweisstraat</td>\n",
              "      <td>5643</td>\n",
              "      <td>265</td>\n",
              "      <td>NaN</td>\n",
              "      <td>NaN</td>\n",
              "    </tr>\n",
              "    <tr>\n",
              "      <th>...</th>\n",
              "      <td>...</td>\n",
              "      <td>...</td>\n",
              "      <td>...</td>\n",
              "      <td>...</td>\n",
              "      <td>...</td>\n",
              "      <td>...</td>\n",
              "    </tr>\n",
              "    <tr>\n",
              "      <th>91</th>\n",
              "      <td>House</td>\n",
              "      <td>Scheidingstraat</td>\n",
              "      <td>5654</td>\n",
              "      <td>2500</td>\n",
              "      <td>100</td>\n",
              "      <td>3</td>\n",
              "    </tr>\n",
              "    <tr>\n",
              "      <th>92</th>\n",
              "      <td>Apartment</td>\n",
              "      <td>Kromakkerweg</td>\n",
              "      <td>5616</td>\n",
              "      <td>1195</td>\n",
              "      <td>55</td>\n",
              "      <td>2</td>\n",
              "    </tr>\n",
              "    <tr>\n",
              "      <th>93</th>\n",
              "      <td>Apartment</td>\n",
              "      <td>Brugmanstraat</td>\n",
              "      <td>5621</td>\n",
              "      <td>1070</td>\n",
              "      <td>65</td>\n",
              "      <td>2</td>\n",
              "    </tr>\n",
              "    <tr>\n",
              "      <th>94</th>\n",
              "      <td>Apartment</td>\n",
              "      <td>Hooghuisstraat</td>\n",
              "      <td>5611</td>\n",
              "      <td>925</td>\n",
              "      <td>38</td>\n",
              "      <td>2</td>\n",
              "    </tr>\n",
              "    <tr>\n",
              "      <th>95</th>\n",
              "      <td>Apartment</td>\n",
              "      <td>Hooghuisstraat</td>\n",
              "      <td>5611</td>\n",
              "      <td>725</td>\n",
              "      <td>22</td>\n",
              "      <td>1</td>\n",
              "    </tr>\n",
              "  </tbody>\n",
              "</table>\n",
              "<p>219 rows × 6 columns</p>\n",
              "</div>"
            ],
            "text/plain": [
              "         TYPE      STREET NAME POSTCODE PRICE LIVING_AREA ROOMS\n",
              "0       Kamer           Willem     5611   320         NaN   NaN\n",
              "1       Kamer           Willem     5611   310         NaN   NaN\n",
              "2       Kamer           Willem     5611   325         NaN   NaN\n",
              "3       Kamer            Jacob     5622   335         NaN   NaN\n",
              "4       Kamer   Edelweisstraat     5643   265         NaN   NaN\n",
              "..        ...              ...      ...   ...         ...   ...\n",
              "91      House  Scheidingstraat     5654  2500         100     3\n",
              "92  Apartment     Kromakkerweg     5616  1195          55     2\n",
              "93  Apartment    Brugmanstraat     5621  1070          65     2\n",
              "94  Apartment   Hooghuisstraat     5611   925          38     2\n",
              "95  Apartment   Hooghuisstraat     5611   725          22     1\n",
              "\n",
              "[219 rows x 6 columns]"
            ]
          },
          "metadata": {
            "tags": []
          },
          "execution_count": 82
        }
      ]
    },
    {
      "cell_type": "markdown",
      "metadata": {
        "id": "TS21WNy8ioVI"
      },
      "source": [
        "# **Data analysis**"
      ]
    },
    {
      "cell_type": "markdown",
      "metadata": {
        "id": "aH3W-fA8Vzgq"
      },
      "source": [
        "\n",
        "\n",
        "Checking the dimension of the dataset and the features.\n",
        "\n",
        "\n",
        "\n"
      ]
    },
    {
      "cell_type": "code",
      "metadata": {
        "colab": {
          "base_uri": "https://localhost:8080/",
          "height": 0
        },
        "id": "27Yg9C7Xpekl",
        "outputId": "65203949-195b-4b96-c320-8aa56a2410f5"
      },
      "source": [
        "# Check the dimension of the dataset\n",
        "df.shape"
      ],
      "execution_count": 14,
      "outputs": [
        {
          "output_type": "execute_result",
          "data": {
            "text/plain": [
              "(219, 6)"
            ]
          },
          "metadata": {
            "tags": []
          },
          "execution_count": 14
        }
      ]
    },
    {
      "cell_type": "markdown",
      "metadata": {
        "id": "4jX5Gvkoz-2f"
      },
      "source": [
        ">The dataset has 219 observations and 6 features, but the observations(rows) will change with time because the data is scraped and this means it is up to date. Whenever there is a change on the websites, there is a change in the dataset.\n"
      ]
    },
    {
      "cell_type": "code",
      "metadata": {
        "colab": {
          "base_uri": "https://localhost:8080/",
          "height": 0
        },
        "id": "58aE1NgaL2mB",
        "outputId": "e8ad2d90-e1e2-4353-a62e-4f81e2d91e71"
      },
      "source": [
        "df.info()"
      ],
      "execution_count": 15,
      "outputs": [
        {
          "output_type": "stream",
          "text": [
            "<class 'pandas.core.frame.DataFrame'>\n",
            "Int64Index: 219 entries, 0 to 95\n",
            "Data columns (total 6 columns):\n",
            " #   Column       Non-Null Count  Dtype \n",
            "---  ------       --------------  ----- \n",
            " 0   TYPE         219 non-null    object\n",
            " 1   STREET NAME  219 non-null    object\n",
            " 2   POSTCODE     219 non-null    object\n",
            " 3   PRICE        219 non-null    object\n",
            " 4   LIVING_AREA  96 non-null     object\n",
            " 5   ROOMS        96 non-null     object\n",
            "dtypes: object(6)\n",
            "memory usage: 12.0+ KB\n"
          ],
          "name": "stdout"
        }
      ]
    },
    {
      "cell_type": "markdown",
      "metadata": {
        "id": "6gYS7U_Fxybm"
      },
      "source": [
        ">It can be seen that none features are numeric, but objects. Later, they will have to be converted into either float or int in order to be plotted and then used for the trainig of the models. There are also missing values in the dataset."
      ]
    },
    {
      "cell_type": "markdown",
      "metadata": {
        "id": "rC_WI0-xVGEX"
      },
      "source": [
        "There are missing values in the dataset, which appeared after the data integration of the two datasets. This will be fixed later before the training of the models."
      ]
    },
    {
      "cell_type": "code",
      "metadata": {
        "colab": {
          "base_uri": "https://localhost:8080/",
          "height": 0
        },
        "id": "cQKZ65_XMHzt",
        "outputId": "fec3d3f1-7b70-4d94-b9ff-85fc1b0da323"
      },
      "source": [
        "df.isnull().sum()"
      ],
      "execution_count": 24,
      "outputs": [
        {
          "output_type": "execute_result",
          "data": {
            "text/plain": [
              "TYPE             0\n",
              "STREET NAME      0\n",
              "POSTCODE         0\n",
              "PRICE            0\n",
              "LIVING_AREA    123\n",
              "ROOMS          123\n",
              "dtype: int64"
            ]
          },
          "metadata": {
            "tags": []
          },
          "execution_count": 24
        }
      ]
    },
    {
      "cell_type": "code",
      "metadata": {
        "colab": {
          "base_uri": "https://localhost:8080/",
          "height": 81
        },
        "id": "2HyNyYJ-VFrZ",
        "outputId": "f57d6c0c-ac34-47dc-93d9-603cb43ea2be"
      },
      "source": [
        "# Find columns with missing values and their percent missing\n",
        "df.isnull().sum()                                                     \n",
        "miss_val = df.isnull().sum().sort_values(ascending=False)\n",
        "miss_val = pd.DataFrame(data=df.isnull().sum().sort_values(ascending=False), columns=['MissvalCount'])\n",
        "\n",
        "# Add a new column to the dataframe and fill it with the percentage of missing values\n",
        "miss_val['Percent'] = miss_val.MissvalCount.apply(lambda x : '{:.2f}'.format(float(x)/df.shape[0] * 100)) \n",
        "miss_val = miss_val[miss_val.MissvalCount > 0].style.background_gradient(cmap='Reds')\n",
        "miss_val"
      ],
      "execution_count": 83,
      "outputs": [
        {
          "output_type": "execute_result",
          "data": {
            "text/html": [
              "<style  type=\"text/css\" >\n",
              "#T_5995acaa_978f_11eb_8e1d_0242ac1c0002row0_col0,#T_5995acaa_978f_11eb_8e1d_0242ac1c0002row1_col0{\n",
              "            background-color:  #fff5f0;\n",
              "            color:  #000000;\n",
              "        }</style><table id=\"T_5995acaa_978f_11eb_8e1d_0242ac1c0002\" ><thead>    <tr>        <th class=\"blank level0\" ></th>        <th class=\"col_heading level0 col0\" >MissvalCount</th>        <th class=\"col_heading level0 col1\" >Percent</th>    </tr></thead><tbody>\n",
              "                <tr>\n",
              "                        <th id=\"T_5995acaa_978f_11eb_8e1d_0242ac1c0002level0_row0\" class=\"row_heading level0 row0\" >ROOMS</th>\n",
              "                        <td id=\"T_5995acaa_978f_11eb_8e1d_0242ac1c0002row0_col0\" class=\"data row0 col0\" >123</td>\n",
              "                        <td id=\"T_5995acaa_978f_11eb_8e1d_0242ac1c0002row0_col1\" class=\"data row0 col1\" >56.16</td>\n",
              "            </tr>\n",
              "            <tr>\n",
              "                        <th id=\"T_5995acaa_978f_11eb_8e1d_0242ac1c0002level0_row1\" class=\"row_heading level0 row1\" >LIVING_AREA</th>\n",
              "                        <td id=\"T_5995acaa_978f_11eb_8e1d_0242ac1c0002row1_col0\" class=\"data row1 col0\" >123</td>\n",
              "                        <td id=\"T_5995acaa_978f_11eb_8e1d_0242ac1c0002row1_col1\" class=\"data row1 col1\" >56.16</td>\n",
              "            </tr>\n",
              "    </tbody></table>"
            ],
            "text/plain": [
              "<pandas.io.formats.style.Styler at 0x7fcbabfe91d0>"
            ]
          },
          "metadata": {
            "tags": []
          },
          "execution_count": 83
        }
      ]
    },
    {
      "cell_type": "markdown",
      "metadata": {
        "id": "gUIM0jdHyawG"
      },
      "source": [
        ">The light red color shows the small amount of NaN values. If the features were with a high percent of missing values, they would have to be removed. Yet, in this case, they have relatively low percentage so they can be used in future. Then, the NaN values will be replaced."
      ]
    },
    {
      "cell_type": "code",
      "metadata": {
        "colab": {
          "base_uri": "https://localhost:8080/",
          "height": 171
        },
        "id": "zoWWB8aeL5LR",
        "outputId": "a2b0c595-370e-488a-d966-2cf4e4864222"
      },
      "source": [
        "#Description of the dataset\n",
        "df.describe()"
      ],
      "execution_count": 16,
      "outputs": [
        {
          "output_type": "execute_result",
          "data": {
            "text/html": [
              "<div>\n",
              "<style scoped>\n",
              "    .dataframe tbody tr th:only-of-type {\n",
              "        vertical-align: middle;\n",
              "    }\n",
              "\n",
              "    .dataframe tbody tr th {\n",
              "        vertical-align: top;\n",
              "    }\n",
              "\n",
              "    .dataframe thead th {\n",
              "        text-align: right;\n",
              "    }\n",
              "</style>\n",
              "<table border=\"1\" class=\"dataframe\">\n",
              "  <thead>\n",
              "    <tr style=\"text-align: right;\">\n",
              "      <th></th>\n",
              "      <th>TYPE</th>\n",
              "      <th>STREET NAME</th>\n",
              "      <th>POSTCODE</th>\n",
              "      <th>PRICE</th>\n",
              "      <th>LIVING_AREA</th>\n",
              "      <th>ROOMS</th>\n",
              "    </tr>\n",
              "  </thead>\n",
              "  <tbody>\n",
              "    <tr>\n",
              "      <th>count</th>\n",
              "      <td>219</td>\n",
              "      <td>219</td>\n",
              "      <td>219</td>\n",
              "      <td>219</td>\n",
              "      <td>96</td>\n",
              "      <td>96</td>\n",
              "    </tr>\n",
              "    <tr>\n",
              "      <th>unique</th>\n",
              "      <td>6</td>\n",
              "      <td>109</td>\n",
              "      <td>27</td>\n",
              "      <td>122</td>\n",
              "      <td>55</td>\n",
              "      <td>6</td>\n",
              "    </tr>\n",
              "    <tr>\n",
              "      <th>top</th>\n",
              "      <td>Apartment</td>\n",
              "      <td>Philitelaan</td>\n",
              "      <td>5611</td>\n",
              "      <td>415</td>\n",
              "      <td>35</td>\n",
              "      <td>3</td>\n",
              "    </tr>\n",
              "    <tr>\n",
              "      <th>freq</th>\n",
              "      <td>73</td>\n",
              "      <td>12</td>\n",
              "      <td>38</td>\n",
              "      <td>15</td>\n",
              "      <td>5</td>\n",
              "      <td>32</td>\n",
              "    </tr>\n",
              "  </tbody>\n",
              "</table>\n",
              "</div>"
            ],
            "text/plain": [
              "             TYPE  STREET NAME POSTCODE PRICE LIVING_AREA ROOMS\n",
              "count         219          219      219   219          96    96\n",
              "unique          6          109       27   122          55     6\n",
              "top     Apartment  Philitelaan     5611   415          35     3\n",
              "freq           73           12       38    15           5    32"
            ]
          },
          "metadata": {
            "tags": []
          },
          "execution_count": 16
        }
      ]
    },
    {
      "cell_type": "code",
      "metadata": {
        "colab": {
          "base_uri": "https://localhost:8080/",
          "height": 202
        },
        "id": "uAQLjA0JL6rp",
        "outputId": "eab476cc-6ef6-46f5-e4c1-e963506a6764"
      },
      "source": [
        "#First 5 rows of our dataset\n",
        "df.head()"
      ],
      "execution_count": 17,
      "outputs": [
        {
          "output_type": "execute_result",
          "data": {
            "text/html": [
              "<div>\n",
              "<style scoped>\n",
              "    .dataframe tbody tr th:only-of-type {\n",
              "        vertical-align: middle;\n",
              "    }\n",
              "\n",
              "    .dataframe tbody tr th {\n",
              "        vertical-align: top;\n",
              "    }\n",
              "\n",
              "    .dataframe thead th {\n",
              "        text-align: right;\n",
              "    }\n",
              "</style>\n",
              "<table border=\"1\" class=\"dataframe\">\n",
              "  <thead>\n",
              "    <tr style=\"text-align: right;\">\n",
              "      <th></th>\n",
              "      <th>TYPE</th>\n",
              "      <th>STREET NAME</th>\n",
              "      <th>POSTCODE</th>\n",
              "      <th>PRICE</th>\n",
              "      <th>LIVING_AREA</th>\n",
              "      <th>ROOMS</th>\n",
              "    </tr>\n",
              "  </thead>\n",
              "  <tbody>\n",
              "    <tr>\n",
              "      <th>0</th>\n",
              "      <td>Kamer</td>\n",
              "      <td>Willem</td>\n",
              "      <td>5611</td>\n",
              "      <td>320</td>\n",
              "      <td>NaN</td>\n",
              "      <td>NaN</td>\n",
              "    </tr>\n",
              "    <tr>\n",
              "      <th>1</th>\n",
              "      <td>Kamer</td>\n",
              "      <td>Willem</td>\n",
              "      <td>5611</td>\n",
              "      <td>310</td>\n",
              "      <td>NaN</td>\n",
              "      <td>NaN</td>\n",
              "    </tr>\n",
              "    <tr>\n",
              "      <th>2</th>\n",
              "      <td>Kamer</td>\n",
              "      <td>Willem</td>\n",
              "      <td>5611</td>\n",
              "      <td>325</td>\n",
              "      <td>NaN</td>\n",
              "      <td>NaN</td>\n",
              "    </tr>\n",
              "    <tr>\n",
              "      <th>3</th>\n",
              "      <td>Kamer</td>\n",
              "      <td>Jacob</td>\n",
              "      <td>5622</td>\n",
              "      <td>335</td>\n",
              "      <td>NaN</td>\n",
              "      <td>NaN</td>\n",
              "    </tr>\n",
              "    <tr>\n",
              "      <th>4</th>\n",
              "      <td>Kamer</td>\n",
              "      <td>Edelweisstraat</td>\n",
              "      <td>5643</td>\n",
              "      <td>265</td>\n",
              "      <td>NaN</td>\n",
              "      <td>NaN</td>\n",
              "    </tr>\n",
              "  </tbody>\n",
              "</table>\n",
              "</div>"
            ],
            "text/plain": [
              "    TYPE     STREET NAME POSTCODE PRICE LIVING_AREA ROOMS\n",
              "0  Kamer          Willem     5611   320         NaN   NaN\n",
              "1  Kamer          Willem     5611   310         NaN   NaN\n",
              "2  Kamer          Willem     5611   325         NaN   NaN\n",
              "3  Kamer           Jacob     5622   335         NaN   NaN\n",
              "4  Kamer  Edelweisstraat     5643   265         NaN   NaN"
            ]
          },
          "metadata": {
            "tags": []
          },
          "execution_count": 17
        }
      ]
    },
    {
      "cell_type": "code",
      "metadata": {
        "colab": {
          "base_uri": "https://localhost:8080/",
          "height": 202
        },
        "id": "eDLlCPA_L8b4",
        "outputId": "6e75a663-c47e-4036-df62-d5a20c82d8ff"
      },
      "source": [
        "#Last 5 rows of our dataset\n",
        "df.tail()"
      ],
      "execution_count": 18,
      "outputs": [
        {
          "output_type": "execute_result",
          "data": {
            "text/html": [
              "<div>\n",
              "<style scoped>\n",
              "    .dataframe tbody tr th:only-of-type {\n",
              "        vertical-align: middle;\n",
              "    }\n",
              "\n",
              "    .dataframe tbody tr th {\n",
              "        vertical-align: top;\n",
              "    }\n",
              "\n",
              "    .dataframe thead th {\n",
              "        text-align: right;\n",
              "    }\n",
              "</style>\n",
              "<table border=\"1\" class=\"dataframe\">\n",
              "  <thead>\n",
              "    <tr style=\"text-align: right;\">\n",
              "      <th></th>\n",
              "      <th>TYPE</th>\n",
              "      <th>STREET NAME</th>\n",
              "      <th>POSTCODE</th>\n",
              "      <th>PRICE</th>\n",
              "      <th>LIVING_AREA</th>\n",
              "      <th>ROOMS</th>\n",
              "    </tr>\n",
              "  </thead>\n",
              "  <tbody>\n",
              "    <tr>\n",
              "      <th>91</th>\n",
              "      <td>House</td>\n",
              "      <td>Scheidingstraat</td>\n",
              "      <td>5654</td>\n",
              "      <td>2500</td>\n",
              "      <td>100</td>\n",
              "      <td>3</td>\n",
              "    </tr>\n",
              "    <tr>\n",
              "      <th>92</th>\n",
              "      <td>Apartment</td>\n",
              "      <td>Kromakkerweg</td>\n",
              "      <td>5616</td>\n",
              "      <td>1195</td>\n",
              "      <td>55</td>\n",
              "      <td>2</td>\n",
              "    </tr>\n",
              "    <tr>\n",
              "      <th>93</th>\n",
              "      <td>Apartment</td>\n",
              "      <td>Brugmanstraat</td>\n",
              "      <td>5621</td>\n",
              "      <td>1070</td>\n",
              "      <td>65</td>\n",
              "      <td>2</td>\n",
              "    </tr>\n",
              "    <tr>\n",
              "      <th>94</th>\n",
              "      <td>Apartment</td>\n",
              "      <td>Hooghuisstraat</td>\n",
              "      <td>5611</td>\n",
              "      <td>925</td>\n",
              "      <td>38</td>\n",
              "      <td>2</td>\n",
              "    </tr>\n",
              "    <tr>\n",
              "      <th>95</th>\n",
              "      <td>Apartment</td>\n",
              "      <td>Hooghuisstraat</td>\n",
              "      <td>5611</td>\n",
              "      <td>725</td>\n",
              "      <td>22</td>\n",
              "      <td>1</td>\n",
              "    </tr>\n",
              "  </tbody>\n",
              "</table>\n",
              "</div>"
            ],
            "text/plain": [
              "         TYPE      STREET NAME POSTCODE PRICE LIVING_AREA ROOMS\n",
              "91      House  Scheidingstraat     5654  2500         100     3\n",
              "92  Apartment     Kromakkerweg     5616  1195          55     2\n",
              "93  Apartment    Brugmanstraat     5621  1070          65     2\n",
              "94  Apartment   Hooghuisstraat     5611   925          38     2\n",
              "95  Apartment   Hooghuisstraat     5611   725          22     1"
            ]
          },
          "metadata": {
            "tags": []
          },
          "execution_count": 18
        }
      ]
    },
    {
      "cell_type": "code",
      "metadata": {
        "colab": {
          "base_uri": "https://localhost:8080/",
          "height": 0
        },
        "id": "ObPApD8SnCI9",
        "outputId": "6504ccee-14e0-43fd-c956-9c1f4cfea8fc"
      },
      "source": [
        "df['TYPE'].value_counts()"
      ],
      "execution_count": 19,
      "outputs": [
        {
          "output_type": "execute_result",
          "data": {
            "text/plain": [
              "Apartment      73\n",
              "Kamer          49\n",
              "Appartement    38\n",
              "Studio         36\n",
              "House          19\n",
              "Room            4\n",
              "Name: TYPE, dtype: int64"
            ]
          },
          "metadata": {
            "tags": []
          },
          "execution_count": 19
        }
      ]
    },
    {
      "cell_type": "code",
      "metadata": {
        "colab": {
          "base_uri": "https://localhost:8080/",
          "height": 0
        },
        "id": "kl9c78mpMEAW",
        "outputId": "f614d008-2457-490a-f95c-a2b5436a025b"
      },
      "source": [
        "df.iloc[0]"
      ],
      "execution_count": 20,
      "outputs": [
        {
          "output_type": "execute_result",
          "data": {
            "text/plain": [
              "TYPE            Kamer\n",
              "STREET NAME    Willem\n",
              "POSTCODE         5611\n",
              "PRICE             320\n",
              "LIVING_AREA       NaN\n",
              "ROOMS             NaN\n",
              "Name: 0, dtype: object"
            ]
          },
          "metadata": {
            "tags": []
          },
          "execution_count": 20
        }
      ]
    },
    {
      "cell_type": "code",
      "metadata": {
        "colab": {
          "base_uri": "https://localhost:8080/",
          "height": 907
        },
        "id": "5O0fuQb0rgzQ",
        "outputId": "1bef0d21-823a-4cd0-e8b8-c200a2542dc7"
      },
      "source": [
        "df.groupby('POSTCODE').count()"
      ],
      "execution_count": 21,
      "outputs": [
        {
          "output_type": "execute_result",
          "data": {
            "text/html": [
              "<div>\n",
              "<style scoped>\n",
              "    .dataframe tbody tr th:only-of-type {\n",
              "        vertical-align: middle;\n",
              "    }\n",
              "\n",
              "    .dataframe tbody tr th {\n",
              "        vertical-align: top;\n",
              "    }\n",
              "\n",
              "    .dataframe thead th {\n",
              "        text-align: right;\n",
              "    }\n",
              "</style>\n",
              "<table border=\"1\" class=\"dataframe\">\n",
              "  <thead>\n",
              "    <tr style=\"text-align: right;\">\n",
              "      <th></th>\n",
              "      <th>TYPE</th>\n",
              "      <th>STREET NAME</th>\n",
              "      <th>PRICE</th>\n",
              "      <th>LIVING_AREA</th>\n",
              "      <th>ROOMS</th>\n",
              "    </tr>\n",
              "    <tr>\n",
              "      <th>POSTCODE</th>\n",
              "      <th></th>\n",
              "      <th></th>\n",
              "      <th></th>\n",
              "      <th></th>\n",
              "      <th></th>\n",
              "    </tr>\n",
              "  </thead>\n",
              "  <tbody>\n",
              "    <tr>\n",
              "      <th>5503</th>\n",
              "      <td>1</td>\n",
              "      <td>1</td>\n",
              "      <td>1</td>\n",
              "      <td>0</td>\n",
              "      <td>0</td>\n",
              "    </tr>\n",
              "    <tr>\n",
              "      <th>5611</th>\n",
              "      <td>38</td>\n",
              "      <td>38</td>\n",
              "      <td>38</td>\n",
              "      <td>21</td>\n",
              "      <td>21</td>\n",
              "    </tr>\n",
              "    <tr>\n",
              "      <th>5612</th>\n",
              "      <td>29</td>\n",
              "      <td>29</td>\n",
              "      <td>29</td>\n",
              "      <td>13</td>\n",
              "      <td>13</td>\n",
              "    </tr>\n",
              "    <tr>\n",
              "      <th>5613</th>\n",
              "      <td>9</td>\n",
              "      <td>9</td>\n",
              "      <td>9</td>\n",
              "      <td>4</td>\n",
              "      <td>4</td>\n",
              "    </tr>\n",
              "    <tr>\n",
              "      <th>5614</th>\n",
              "      <td>13</td>\n",
              "      <td>13</td>\n",
              "      <td>13</td>\n",
              "      <td>2</td>\n",
              "      <td>2</td>\n",
              "    </tr>\n",
              "    <tr>\n",
              "      <th>5615</th>\n",
              "      <td>11</td>\n",
              "      <td>11</td>\n",
              "      <td>11</td>\n",
              "      <td>4</td>\n",
              "      <td>4</td>\n",
              "    </tr>\n",
              "    <tr>\n",
              "      <th>5616</th>\n",
              "      <td>11</td>\n",
              "      <td>11</td>\n",
              "      <td>11</td>\n",
              "      <td>7</td>\n",
              "      <td>7</td>\n",
              "    </tr>\n",
              "    <tr>\n",
              "      <th>5617</th>\n",
              "      <td>12</td>\n",
              "      <td>12</td>\n",
              "      <td>12</td>\n",
              "      <td>12</td>\n",
              "      <td>12</td>\n",
              "    </tr>\n",
              "    <tr>\n",
              "      <th>5621</th>\n",
              "      <td>9</td>\n",
              "      <td>9</td>\n",
              "      <td>9</td>\n",
              "      <td>2</td>\n",
              "      <td>2</td>\n",
              "    </tr>\n",
              "    <tr>\n",
              "      <th>5622</th>\n",
              "      <td>7</td>\n",
              "      <td>7</td>\n",
              "      <td>7</td>\n",
              "      <td>2</td>\n",
              "      <td>2</td>\n",
              "    </tr>\n",
              "    <tr>\n",
              "      <th>5623</th>\n",
              "      <td>11</td>\n",
              "      <td>11</td>\n",
              "      <td>11</td>\n",
              "      <td>1</td>\n",
              "      <td>1</td>\n",
              "    </tr>\n",
              "    <tr>\n",
              "      <th>5624</th>\n",
              "      <td>1</td>\n",
              "      <td>1</td>\n",
              "      <td>1</td>\n",
              "      <td>0</td>\n",
              "      <td>0</td>\n",
              "    </tr>\n",
              "    <tr>\n",
              "      <th>5625</th>\n",
              "      <td>4</td>\n",
              "      <td>4</td>\n",
              "      <td>4</td>\n",
              "      <td>3</td>\n",
              "      <td>3</td>\n",
              "    </tr>\n",
              "    <tr>\n",
              "      <th>5627</th>\n",
              "      <td>1</td>\n",
              "      <td>1</td>\n",
              "      <td>1</td>\n",
              "      <td>1</td>\n",
              "      <td>1</td>\n",
              "    </tr>\n",
              "    <tr>\n",
              "      <th>5628</th>\n",
              "      <td>1</td>\n",
              "      <td>1</td>\n",
              "      <td>1</td>\n",
              "      <td>1</td>\n",
              "      <td>1</td>\n",
              "    </tr>\n",
              "    <tr>\n",
              "      <th>5629</th>\n",
              "      <td>1</td>\n",
              "      <td>1</td>\n",
              "      <td>1</td>\n",
              "      <td>1</td>\n",
              "      <td>1</td>\n",
              "    </tr>\n",
              "    <tr>\n",
              "      <th>5631</th>\n",
              "      <td>4</td>\n",
              "      <td>4</td>\n",
              "      <td>4</td>\n",
              "      <td>1</td>\n",
              "      <td>1</td>\n",
              "    </tr>\n",
              "    <tr>\n",
              "      <th>5632</th>\n",
              "      <td>1</td>\n",
              "      <td>1</td>\n",
              "      <td>1</td>\n",
              "      <td>1</td>\n",
              "      <td>1</td>\n",
              "    </tr>\n",
              "    <tr>\n",
              "      <th>5642</th>\n",
              "      <td>6</td>\n",
              "      <td>6</td>\n",
              "      <td>6</td>\n",
              "      <td>1</td>\n",
              "      <td>1</td>\n",
              "    </tr>\n",
              "    <tr>\n",
              "      <th>5643</th>\n",
              "      <td>14</td>\n",
              "      <td>14</td>\n",
              "      <td>14</td>\n",
              "      <td>3</td>\n",
              "      <td>3</td>\n",
              "    </tr>\n",
              "    <tr>\n",
              "      <th>5644</th>\n",
              "      <td>5</td>\n",
              "      <td>5</td>\n",
              "      <td>5</td>\n",
              "      <td>2</td>\n",
              "      <td>2</td>\n",
              "    </tr>\n",
              "    <tr>\n",
              "      <th>5646</th>\n",
              "      <td>2</td>\n",
              "      <td>2</td>\n",
              "      <td>2</td>\n",
              "      <td>2</td>\n",
              "      <td>2</td>\n",
              "    </tr>\n",
              "    <tr>\n",
              "      <th>5651</th>\n",
              "      <td>5</td>\n",
              "      <td>5</td>\n",
              "      <td>5</td>\n",
              "      <td>1</td>\n",
              "      <td>1</td>\n",
              "    </tr>\n",
              "    <tr>\n",
              "      <th>5652</th>\n",
              "      <td>1</td>\n",
              "      <td>1</td>\n",
              "      <td>1</td>\n",
              "      <td>1</td>\n",
              "      <td>1</td>\n",
              "    </tr>\n",
              "    <tr>\n",
              "      <th>5653</th>\n",
              "      <td>6</td>\n",
              "      <td>6</td>\n",
              "      <td>6</td>\n",
              "      <td>1</td>\n",
              "      <td>1</td>\n",
              "    </tr>\n",
              "    <tr>\n",
              "      <th>5654</th>\n",
              "      <td>15</td>\n",
              "      <td>15</td>\n",
              "      <td>15</td>\n",
              "      <td>8</td>\n",
              "      <td>8</td>\n",
              "    </tr>\n",
              "    <tr>\n",
              "      <th>5658</th>\n",
              "      <td>1</td>\n",
              "      <td>1</td>\n",
              "      <td>1</td>\n",
              "      <td>1</td>\n",
              "      <td>1</td>\n",
              "    </tr>\n",
              "  </tbody>\n",
              "</table>\n",
              "</div>"
            ],
            "text/plain": [
              "          TYPE  STREET NAME  PRICE  LIVING_AREA  ROOMS\n",
              "POSTCODE                                              \n",
              "5503         1            1      1            0      0\n",
              "5611        38           38     38           21     21\n",
              "5612        29           29     29           13     13\n",
              "5613         9            9      9            4      4\n",
              "5614        13           13     13            2      2\n",
              "5615        11           11     11            4      4\n",
              "5616        11           11     11            7      7\n",
              "5617        12           12     12           12     12\n",
              "5621         9            9      9            2      2\n",
              "5622         7            7      7            2      2\n",
              "5623        11           11     11            1      1\n",
              "5624         1            1      1            0      0\n",
              "5625         4            4      4            3      3\n",
              "5627         1            1      1            1      1\n",
              "5628         1            1      1            1      1\n",
              "5629         1            1      1            1      1\n",
              "5631         4            4      4            1      1\n",
              "5632         1            1      1            1      1\n",
              "5642         6            6      6            1      1\n",
              "5643        14           14     14            3      3\n",
              "5644         5            5      5            2      2\n",
              "5646         2            2      2            2      2\n",
              "5651         5            5      5            1      1\n",
              "5652         1            1      1            1      1\n",
              "5653         6            6      6            1      1\n",
              "5654        15           15     15            8      8\n",
              "5658         1            1      1            1      1"
            ]
          },
          "metadata": {
            "tags": []
          },
          "execution_count": 21
        }
      ]
    },
    {
      "cell_type": "code",
      "metadata": {
        "id": "rQgPsfySBmH8",
        "colab": {
          "base_uri": "https://localhost:8080/",
          "height": 391
        },
        "outputId": "5ae8fccd-165c-460a-9a53-77ea0a594040"
      },
      "source": [
        "df[(df['POSTCODE'] == '5612')]['STREET NAME'].value_counts().plot(kind='barh', figsize=(6, 6))"
      ],
      "execution_count": 22,
      "outputs": [
        {
          "output_type": "execute_result",
          "data": {
            "text/plain": [
              "<matplotlib.axes._subplots.AxesSubplot at 0x7fcbbef92d50>"
            ]
          },
          "metadata": {
            "tags": []
          },
          "execution_count": 22
        },
        {
          "output_type": "display_data",
          "data": {
            "image/png": "[encoded data removed]",
            "text/plain": [
              "<Figure size 432x432 with 1 Axes>"
            ]
          },
          "metadata": {
            "tags": [],
            "needs_background": "light"
          }
        }
      ]
    },
    {
      "cell_type": "markdown",
      "metadata": {
        "id": "F2NCHpuJwSry"
      },
      "source": [
        "Sorting the data by `Type`."
      ]
    },
    {
      "cell_type": "code",
      "metadata": {
        "colab": {
          "base_uri": "https://localhost:8080/",
          "height": 415
        },
        "id": "yzPvRWQDMGDl",
        "outputId": "a2153252-caa7-4ad9-fe28-22856816a163"
      },
      "source": [
        "df.sort_values('TYPE', ascending = True)"
      ],
      "execution_count": 23,
      "outputs": [
        {
          "output_type": "execute_result",
          "data": {
            "text/html": [
              "<div>\n",
              "<style scoped>\n",
              "    .dataframe tbody tr th:only-of-type {\n",
              "        vertical-align: middle;\n",
              "    }\n",
              "\n",
              "    .dataframe tbody tr th {\n",
              "        vertical-align: top;\n",
              "    }\n",
              "\n",
              "    .dataframe thead th {\n",
              "        text-align: right;\n",
              "    }\n",
              "</style>\n",
              "<table border=\"1\" class=\"dataframe\">\n",
              "  <thead>\n",
              "    <tr style=\"text-align: right;\">\n",
              "      <th></th>\n",
              "      <th>TYPE</th>\n",
              "      <th>STREET NAME</th>\n",
              "      <th>POSTCODE</th>\n",
              "      <th>PRICE</th>\n",
              "      <th>LIVING_AREA</th>\n",
              "      <th>ROOMS</th>\n",
              "    </tr>\n",
              "  </thead>\n",
              "  <tbody>\n",
              "    <tr>\n",
              "      <th>95</th>\n",
              "      <td>Apartment</td>\n",
              "      <td>Hooghuisstraat</td>\n",
              "      <td>5611</td>\n",
              "      <td>725</td>\n",
              "      <td>22</td>\n",
              "      <td>1</td>\n",
              "    </tr>\n",
              "    <tr>\n",
              "      <th>21</th>\n",
              "      <td>Apartment</td>\n",
              "      <td>Cornelis</td>\n",
              "      <td>5654</td>\n",
              "      <td>720</td>\n",
              "      <td>25</td>\n",
              "      <td>1</td>\n",
              "    </tr>\n",
              "    <tr>\n",
              "      <th>22</th>\n",
              "      <td>Apartment</td>\n",
              "      <td>Philitelaan</td>\n",
              "      <td>5617</td>\n",
              "      <td>1900</td>\n",
              "      <td>135</td>\n",
              "      <td>5</td>\n",
              "    </tr>\n",
              "    <tr>\n",
              "      <th>26</th>\n",
              "      <td>Apartment</td>\n",
              "      <td>Lichtstraat</td>\n",
              "      <td>5611</td>\n",
              "      <td>1308</td>\n",
              "      <td>103</td>\n",
              "      <td>3</td>\n",
              "    </tr>\n",
              "    <tr>\n",
              "      <th>27</th>\n",
              "      <td>Apartment</td>\n",
              "      <td>Lichtstraat</td>\n",
              "      <td>5611</td>\n",
              "      <td>1278</td>\n",
              "      <td>105</td>\n",
              "      <td>3</td>\n",
              "    </tr>\n",
              "    <tr>\n",
              "      <th>...</th>\n",
              "      <td>...</td>\n",
              "      <td>...</td>\n",
              "      <td>...</td>\n",
              "      <td>...</td>\n",
              "      <td>...</td>\n",
              "      <td>...</td>\n",
              "    </tr>\n",
              "    <tr>\n",
              "      <th>64</th>\n",
              "      <td>Studio</td>\n",
              "      <td>Dr.</td>\n",
              "      <td>5623</td>\n",
              "      <td>470</td>\n",
              "      <td>NaN</td>\n",
              "      <td>NaN</td>\n",
              "    </tr>\n",
              "    <tr>\n",
              "      <th>65</th>\n",
              "      <td>Studio</td>\n",
              "      <td>Heistraat</td>\n",
              "      <td>5614</td>\n",
              "      <td>550</td>\n",
              "      <td>NaN</td>\n",
              "      <td>NaN</td>\n",
              "    </tr>\n",
              "    <tr>\n",
              "      <th>66</th>\n",
              "      <td>Studio</td>\n",
              "      <td>Kloosterdreef</td>\n",
              "      <td>5612</td>\n",
              "      <td>660</td>\n",
              "      <td>NaN</td>\n",
              "      <td>NaN</td>\n",
              "    </tr>\n",
              "    <tr>\n",
              "      <th>51</th>\n",
              "      <td>Studio</td>\n",
              "      <td>Van</td>\n",
              "      <td>5612</td>\n",
              "      <td>592</td>\n",
              "      <td>NaN</td>\n",
              "      <td>NaN</td>\n",
              "    </tr>\n",
              "    <tr>\n",
              "      <th>62</th>\n",
              "      <td>Studio</td>\n",
              "      <td>Woenselsestraat</td>\n",
              "      <td>5623</td>\n",
              "      <td>520</td>\n",
              "      <td>NaN</td>\n",
              "      <td>NaN</td>\n",
              "    </tr>\n",
              "  </tbody>\n",
              "</table>\n",
              "<p>219 rows × 6 columns</p>\n",
              "</div>"
            ],
            "text/plain": [
              "         TYPE      STREET NAME POSTCODE PRICE LIVING_AREA ROOMS\n",
              "95  Apartment   Hooghuisstraat     5611   725          22     1\n",
              "21  Apartment         Cornelis     5654   720          25     1\n",
              "22  Apartment      Philitelaan     5617  1900         135     5\n",
              "26  Apartment      Lichtstraat     5611  1308         103     3\n",
              "27  Apartment      Lichtstraat     5611  1278         105     3\n",
              "..        ...              ...      ...   ...         ...   ...\n",
              "64     Studio              Dr.     5623   470         NaN   NaN\n",
              "65     Studio        Heistraat     5614   550         NaN   NaN\n",
              "66     Studio    Kloosterdreef     5612   660         NaN   NaN\n",
              "51     Studio              Van     5612   592         NaN   NaN\n",
              "62     Studio  Woenselsestraat     5623   520         NaN   NaN\n",
              "\n",
              "[219 rows x 6 columns]"
            ]
          },
          "metadata": {
            "tags": []
          },
          "execution_count": 23
        }
      ]
    },
    {
      "cell_type": "markdown",
      "metadata": {
        "id": "TylFYaoBKZd9"
      },
      "source": [
        "\n",
        "**Pre Processing**"
      ]
    },
    {
      "cell_type": "markdown",
      "metadata": {
        "id": "W9b06bhjX2KR"
      },
      "source": [
        "Handling Outlier"
      ]
    },
    {
      "cell_type": "markdown",
      "metadata": {
        "id": "ruBmWWJPnWZy"
      },
      "source": [
        "> An **outlier** is a data point in a data set that is distant from all other observations (a data point that lies outside the overall distribution of the dataset.)"
      ]
    },
    {
      "cell_type": "code",
      "metadata": {
        "colab": {
          "base_uri": "https://localhost:8080/",
          "height": 685
        },
        "id": "pEdidHSNMILS",
        "outputId": "74b1e125-d6fb-4c9d-ab16-88cd874c2744"
      },
      "source": [
        "plt.figure(figsize=(10, 10), dpi=80)\n",
        "plt.scatter(df.LIVING_AREA, df.PRICE, c= 'red')\n",
        "plt.title(\"Outliers\")\n",
        "plt.xlabel(\"LivArea\")\n",
        "plt.ylabel(\"Price\")\n",
        "plt.show()"
      ],
      "execution_count": 26,
      "outputs": [
        {
          "output_type": "display_data",
          "data": {
            "image/png": "[encoded data removed]",
            "text/plain": [
              "<Figure size 800x800 with 1 Axes>"
            ]
          },
          "metadata": {
            "tags": [],
            "needs_background": "light"
          }
        }
      ]
    },
    {
      "cell_type": "code",
      "metadata": {
        "id": "kl2UpYmKiRUH"
      },
      "source": [
        "df['PRICE'] =df['PRICE'].astype(float)\n",
        "df['POSTCODE'] =df['POSTCODE'].astype(int)\n",
        "df['LIVING_AREA'] =df['LIVING_AREA'].astype(float)\n",
        "df['ROOMS'] =df['ROOMS'].astype(float)\n",
        "code_numeric = {'Kamer': 5,'Apartment': 1, 'Appartement': 1, 'Room': 2, 'Studio': 4, 'House': 3}\n",
        "df ['TYPE'] = df['TYPE'].map(code_numeric)\n",
        "df['TYPE'] =df['TYPE'].astype(float)"
      ],
      "execution_count": 87,
      "outputs": []
    },
    {
      "cell_type": "code",
      "metadata": {
        "id": "266MMBaYMtnA"
      },
      "source": [
        "df['PRICE'] =df['PRICE'].astype(float)"
      ],
      "execution_count": 27,
      "outputs": []
    },
    {
      "cell_type": "code",
      "metadata": {
        "colab": {
          "base_uri": "https://localhost:8080/",
          "height": 283
        },
        "id": "SKY9Eb1bMIh5",
        "outputId": "0a0284bd-304e-400b-b28d-17dacc465bce"
      },
      "source": [
        "df.boxplot(column=['PRICE'])\n",
        "plt.show"
      ],
      "execution_count": 28,
      "outputs": [
        {
          "output_type": "execute_result",
          "data": {
            "text/plain": [
              "<function matplotlib.pyplot.show>"
            ]
          },
          "metadata": {
            "tags": []
          },
          "execution_count": 28
        },
        {
          "output_type": "display_data",
          "data": {
            "image/png": "[encoded data removed]",
            "text/plain": [
              "<Figure size 432x288 with 1 Axes>"
            ]
          },
          "metadata": {
            "tags": [],
            "needs_background": "light"
          }
        }
      ]
    },
    {
      "cell_type": "code",
      "metadata": {
        "colab": {
          "base_uri": "https://localhost:8080/",
          "height": 0
        },
        "id": "sF92e-eF-Sj1",
        "outputId": "e03e47c6-a2f0-4f71-f452-883510fb6c03"
      },
      "source": [
        "#Check the mean values\n",
        "df['LIVING_AREA'].mean()"
      ],
      "execution_count": 91,
      "outputs": [
        {
          "output_type": "execute_result",
          "data": {
            "text/plain": [
              "70.33333333333333"
            ]
          },
          "metadata": {
            "tags": []
          },
          "execution_count": 91
        }
      ]
    },
    {
      "cell_type": "code",
      "metadata": {
        "colab": {
          "base_uri": "https://localhost:8080/",
          "height": 0
        },
        "id": "8WqMHNZu_EeY",
        "outputId": "5bb63027-ab24-4fba-d0d2-43c5469a7402"
      },
      "source": [
        "#Check the median \n",
        "df['LIVING_AREA'].median()"
      ],
      "execution_count": 92,
      "outputs": [
        {
          "output_type": "execute_result",
          "data": {
            "text/plain": [
              "65.0"
            ]
          },
          "metadata": {
            "tags": []
          },
          "execution_count": 92
        }
      ]
    },
    {
      "cell_type": "code",
      "metadata": {
        "colab": {
          "base_uri": "https://localhost:8080/",
          "height": 0
        },
        "id": "oLXKcRapPTOx",
        "outputId": "c4ff670d-de9d-47ee-e58b-baff4c5f2477"
      },
      "source": [
        "Q1 = df.quantile(0.25)\n",
        "Q3 = df.quantile(0.75)\n",
        "IQR = Q3 - Q1\n",
        "print(IQR)"
      ],
      "execution_count": 29,
      "outputs": [
        {
          "output_type": "stream",
          "text": [
            "PRICE    640.0\n",
            "dtype: float64\n"
          ],
          "name": "stdout"
        }
      ]
    },
    {
      "cell_type": "code",
      "metadata": {
        "colab": {
          "base_uri": "https://localhost:8080/"
        },
        "id": "oysTdTZQS_Wt",
        "outputId": "9d0f66f2-298b-4ad0-e19f-598f9b8ed906"
      },
      "source": [
        "print(df['PRICE'].skew())\n",
        "df['PRICE'].describe()"
      ],
      "execution_count": null,
      "outputs": [
        {
          "output_type": "stream",
          "text": [
            "1.6498014956603508\n"
          ],
          "name": "stdout"
        },
        {
          "output_type": "execute_result",
          "data": {
            "text/plain": [
              "count     217.000000\n",
              "mean      872.391705\n",
              "std       453.371514\n",
              "min       265.000000\n",
              "25%       500.000000\n",
              "50%       850.000000\n",
              "75%      1100.000000\n",
              "max      3500.000000\n",
              "Name: PRICE, dtype: float64"
            ]
          },
          "metadata": {
            "tags": []
          },
          "execution_count": 32
        }
      ]
    },
    {
      "cell_type": "code",
      "metadata": {
        "colab": {
          "base_uri": "https://localhost:8080/"
        },
        "id": "mqwJIp-yTN1b",
        "outputId": "9398c403-339b-4c00-ca5a-6ed49cadf06e"
      },
      "source": [
        "print(df['PRICE'].quantile(0.10))\n",
        "print(df['PRICE'].quantile(0.90))"
      ],
      "execution_count": null,
      "outputs": [
        {
          "output_type": "stream",
          "text": [
            "415.0\n",
            "1350.0\n"
          ],
          "name": "stdout"
        }
      ]
    },
    {
      "cell_type": "code",
      "metadata": {
        "colab": {
          "base_uri": "https://localhost:8080/",
          "height": 309
        },
        "id": "O31ghKvCLx6V",
        "outputId": "cf1111cc-8cfb-4f0e-aad9-8283d7ab3b3b"
      },
      "source": [
        "df['ROOMS'].value_counts().plot(kind='bar')\n",
        "plt.title('Number of Rooms')\n",
        "plt.xlabel('Rooms')\n",
        "plt.ylabel('Count')\n",
        "sns.despine"
      ],
      "execution_count": null,
      "outputs": [
        {
          "output_type": "execute_result",
          "data": {
            "text/plain": [
              "<function seaborn.utils.despine>"
            ]
          },
          "metadata": {
            "tags": []
          },
          "execution_count": 60
        },
        {
          "output_type": "display_data",
          "data": {
            "image/png": "[encoded data removed]",
            "text/plain": [
              "<Figure size 432x288 with 1 Axes>"
            ]
          },
          "metadata": {
            "tags": [],
            "needs_background": "light"
          }
        }
      ]
    },
    {
      "cell_type": "code",
      "metadata": {
        "colab": {
          "base_uri": "https://localhost:8080/"
        },
        "id": "0JmcXYFdnxIU",
        "outputId": "734e2b71-4572-4aed-de40-d8fa042e8bcb"
      },
      "source": [
        "print(df['PRICE'])"
      ],
      "execution_count": null,
      "outputs": [
        {
          "output_type": "stream",
          "text": [
            "0      320.0\n",
            "1      310.0\n",
            "2      325.0\n",
            "3      580.0\n",
            "4      335.0\n",
            "       ...  \n",
            "88    1000.0\n",
            "89     675.0\n",
            "90    1245.0\n",
            "91    1175.0\n",
            "92    1050.0\n",
            "Name: PRICE, Length: 219, dtype: float64\n"
          ],
          "name": "stdout"
        }
      ]
    },
    {
      "cell_type": "markdown",
      "metadata": {
        "id": "XWkMkGwc4zuy"
      },
      "source": [
        "We will analyze the features in their descending of correlation with sales price"
      ]
    },
    {
      "cell_type": "markdown",
      "metadata": {
        "id": "XlRYhjkWh-B_"
      },
      "source": [
        "Examining the data distributions of the features. We will start with the target variable, `PRICE`, to make sure it's normally distributed.\n",
        "\n",
        "This is important because most machine learning algorithms make the assumption that the data is normal distributed. When data fits a normal distribution, statements about the price using analytical techniques will be made."
      ]
    },
    {
      "cell_type": "code",
      "metadata": {
        "colab": {
          "base_uri": "https://localhost:8080/",
          "height": 351
        },
        "id": "e3SqZjWQh2dQ",
        "outputId": "31914b2e-bc2d-4e0b-e681-3b85ddc51ab1"
      },
      "source": [
        "sns.distplot(df['PRICE'])"
      ],
      "execution_count": 30,
      "outputs": [
        {
          "output_type": "stream",
          "text": [
            "/usr/local/lib/python3.7/dist-packages/seaborn/distributions.py:2557: FutureWarning: `distplot` is a deprecated function and will be removed in a future version. Please adapt your code to use either `displot` (a figure-level function with similar flexibility) or `histplot` (an axes-level function for histograms).\n",
            "  warnings.warn(msg, FutureWarning)\n"
          ],
          "name": "stderr"
        },
        {
          "output_type": "execute_result",
          "data": {
            "text/plain": [
              "<matplotlib.axes._subplots.AxesSubplot at 0x7fcbbbde1190>"
            ]
          },
          "metadata": {
            "tags": []
          },
          "execution_count": 30
        },
        {
          "output_type": "display_data",
          "data": {
            "image/png": "[encoded data removed]",
            "text/plain": [
              "<Figure size 432x288 with 1 Axes>"
            ]
          },
          "metadata": {
            "tags": [],
            "needs_background": "light"
          }
        }
      ]
    },
    {
      "cell_type": "code",
      "metadata": {
        "colab": {
          "base_uri": "https://localhost:8080/",
          "height": 351
        },
        "id": "RNndqSjs1Apz",
        "outputId": "84a2a81e-7ea6-43a0-b0c3-2d4a478fc8c4"
      },
      "source": [
        "# Transform the target variable \n",
        "sns.distplot(np.log(df.PRICE))"
      ],
      "execution_count": 31,
      "outputs": [
        {
          "output_type": "stream",
          "text": [
            "/usr/local/lib/python3.7/dist-packages/seaborn/distributions.py:2557: FutureWarning: `distplot` is a deprecated function and will be removed in a future version. Please adapt your code to use either `displot` (a figure-level function with similar flexibility) or `histplot` (an axes-level function for histograms).\n",
            "  warnings.warn(msg, FutureWarning)\n"
          ],
          "name": "stderr"
        },
        {
          "output_type": "execute_result",
          "data": {
            "text/plain": [
              "<matplotlib.axes._subplots.AxesSubplot at 0x7fcbbbd42690>"
            ]
          },
          "metadata": {
            "tags": []
          },
          "execution_count": 31
        },
        {
          "output_type": "display_data",
          "data": {
            "image/png": "[encoded data removed]",
            "text/plain": [
              "<Figure size 432x288 with 1 Axes>"
            ]
          },
          "metadata": {
            "tags": [],
            "needs_background": "light"
          }
        }
      ]
    },
    {
      "cell_type": "markdown",
      "metadata": {
        "id": "Bs9jk5blro0b"
      },
      "source": [
        "\n",
        "\n",
        "> We can see that the `PRICE` distribution is not skewed after the transformation, but normally distributed.\n",
        ">The transformed data will be used in in the dataframe and remove the skewed distribution:\n",
        "\n",
        "\n",
        "> **Normally distributed** means that the data is symmetric about the mean, showing that data near the mean are more frequent in occurrence than data far from the mean. \n",
        "\n",
        "\n",
        "\n",
        "\n",
        "\n"
      ]
    },
    {
      "cell_type": "code",
      "metadata": {
        "id": "g-tGotpI1e4J"
      },
      "source": [
        "df['LogOfPrice'] = np.log(df.PRICE)\n",
        "df.drop([\"PRICE\"], axis=1, inplace=True)"
      ],
      "execution_count": 32,
      "outputs": []
    },
    {
      "cell_type": "markdown",
      "metadata": {
        "id": "aAOh773bWUjN"
      },
      "source": [
        "Reviewing the skewness of each feature"
      ]
    },
    {
      "cell_type": "code",
      "metadata": {
        "colab": {
          "base_uri": "https://localhost:8080/",
          "height": 0
        },
        "id": "S_G_peJwsnp2",
        "outputId": "f3112fc7-2af4-47a6-87b7-e1fcd9e07d2d"
      },
      "source": [
        "df.skew().sort_values(ascending=False)"
      ],
      "execution_count": 33,
      "outputs": [
        {
          "output_type": "execute_result",
          "data": {
            "text/plain": [
              "ROOMS          0.968659\n",
              "LIVING_AREA    0.689641\n",
              "LogOfPrice     0.027232\n",
              "POSTCODE      -0.853754\n",
              "dtype: float64"
            ]
          },
          "metadata": {
            "tags": []
          },
          "execution_count": 33
        }
      ]
    },
    {
      "cell_type": "markdown",
      "metadata": {
        "id": "CIuIwhNFs5jN"
      },
      "source": [
        "\n",
        "\n",
        ">Values closer to zero are less skewed. The results show some features having a positive (right-tailed) or negative (left-tailed) skew.\n",
        "\n",
        "\n",
        "\n"
      ]
    },
    {
      "cell_type": "markdown",
      "metadata": {
        "id": "YOlcOfAOri61"
      },
      "source": [
        "Factor plot is informative when we have multiple groups to compare. "
      ]
    },
    {
      "cell_type": "code",
      "metadata": {
        "colab": {
          "base_uri": "https://localhost:8080/",
          "height": 814
        },
        "id": "oWUAyLrNMptb",
        "outputId": "d49dc99e-6333-4caf-8eeb-6d49ee23f1f6"
      },
      "source": [
        "sns.factorplot('ROOMS', 'LogOfPrice', data=df,kind='bar',size=3,aspect=3)\n",
        "fig, (axis1) = plt.subplots(1,1,figsize=(10,3))\n",
        "sns.countplot('ROOMS', data=df)\n",
        "df['LogOfPrice'].value_counts()"
      ],
      "execution_count": 35,
      "outputs": [
        {
          "output_type": "stream",
          "text": [
            "/usr/local/lib/python3.7/dist-packages/seaborn/categorical.py:3714: UserWarning: The `factorplot` function has been renamed to `catplot`. The original name will be removed in a future release. Please update your code. Note that the default `kind` in `factorplot` (`'point'`) has changed `'strip'` in `catplot`.\n",
            "  warnings.warn(msg)\n",
            "/usr/local/lib/python3.7/dist-packages/seaborn/categorical.py:3720: UserWarning: The `size` parameter has been renamed to `height`; please update your code.\n",
            "  warnings.warn(msg, UserWarning)\n",
            "/usr/local/lib/python3.7/dist-packages/seaborn/_decorators.py:43: FutureWarning: Pass the following variables as keyword args: x, y. From version 0.12, the only valid positional argument will be `data`, and passing other arguments without an explicit keyword will result in an error or misinterpretation.\n",
            "  FutureWarning\n",
            "/usr/local/lib/python3.7/dist-packages/seaborn/_decorators.py:43: FutureWarning: Pass the following variable as a keyword arg: x. From version 0.12, the only valid positional argument will be `data`, and passing other arguments without an explicit keyword will result in an error or misinterpretation.\n",
            "  FutureWarning\n"
          ],
          "name": "stderr"
        },
        {
          "output_type": "execute_result",
          "data": {
            "text/plain": [
              "6.028279    15\n",
              "7.090077     6\n",
              "6.856462     6\n",
              "7.047517     6\n",
              "6.109248     5\n",
              "            ..\n",
              "6.214608     1\n",
              "7.153052     1\n",
              "5.899897     1\n",
              "6.484635     1\n",
              "7.210080     1\n",
              "Name: LogOfPrice, Length: 122, dtype: int64"
            ]
          },
          "metadata": {
            "tags": []
          },
          "execution_count": 35
        },
        {
          "output_type": "display_data",
          "data": {
            "image/png": "[encoded data removed]",
            "text/plain": [
              "<Figure size 648x216 with 1 Axes>"
            ]
          },
          "metadata": {
            "tags": [],
            "needs_background": "light"
          }
        },
        {
          "output_type": "display_data",
          "data": {
            "image/png": "[encoded data removed]",
            "text/plain": [
              "<Figure size 720x216 with 1 Axes>"
            ]
          },
          "metadata": {
            "tags": [],
            "needs_background": "light"
          }
        }
      ]
    },
    {
      "cell_type": "markdown",
      "metadata": {
        "id": "IKAlICJWNbPS"
      },
      "source": [
        "> Real estate with 5 rooms has the  highest `Price` while the sales of others with rooms of 2 is the most sold ones."
      ]
    },
    {
      "cell_type": "code",
      "metadata": {
        "colab": {
          "base_uri": "https://localhost:8080/",
          "height": 356
        },
        "id": "4eL664DrWAXl",
        "outputId": "6de23df1-51a4-435d-fee5-7516850a8a3b"
      },
      "source": [
        "#g = sns.factorplot(x='POSTCODE', y='Skewed_SP', col='PRICE', data=df, kind='bar', col_wrap=4, aspect=0.8)\n",
        "sns.factorplot('POSTCODE', 'LogOfPrice', data=df,kind='bar',size=3,aspect=6)\n"
      ],
      "execution_count": 36,
      "outputs": [
        {
          "output_type": "stream",
          "text": [
            "/usr/local/lib/python3.7/dist-packages/seaborn/categorical.py:3714: UserWarning: The `factorplot` function has been renamed to `catplot`. The original name will be removed in a future release. Please update your code. Note that the default `kind` in `factorplot` (`'point'`) has changed `'strip'` in `catplot`.\n",
            "  warnings.warn(msg)\n",
            "/usr/local/lib/python3.7/dist-packages/seaborn/categorical.py:3720: UserWarning: The `size` parameter has been renamed to `height`; please update your code.\n",
            "  warnings.warn(msg, UserWarning)\n",
            "/usr/local/lib/python3.7/dist-packages/seaborn/_decorators.py:43: FutureWarning: Pass the following variables as keyword args: x, y. From version 0.12, the only valid positional argument will be `data`, and passing other arguments without an explicit keyword will result in an error or misinterpretation.\n",
            "  FutureWarning\n"
          ],
          "name": "stderr"
        },
        {
          "output_type": "execute_result",
          "data": {
            "text/plain": [
              "<seaborn.axisgrid.FacetGrid at 0x7fcbb126fa90>"
            ]
          },
          "metadata": {
            "tags": []
          },
          "execution_count": 36
        },
        {
          "output_type": "display_data",
          "data": {
            "image/png": "[encoded data removed]",
            "text/plain": [
              "<Figure size 1296x216 with 1 Axes>"
            ]
          },
          "metadata": {
            "tags": [],
            "needs_background": "light"
          }
        }
      ]
    },
    {
      "cell_type": "markdown",
      "metadata": {
        "id": "rtE9XtMmWrCv"
      },
      "source": [
        ">The diagram represents the `price` of a rpoperty, depending on its `postcode`.\n",
        "\n",
        "\n"
      ]
    },
    {
      "cell_type": "markdown",
      "metadata": {
        "id": "s1FUjO4ZkItw"
      },
      "source": [
        "# **Train-Test Split dataset**"
      ]
    },
    {
      "cell_type": "markdown",
      "metadata": {
        "id": "8zNQdmR0ZSTu"
      },
      "source": [
        "\n",
        "> Necessary imports"
      ]
    },
    {
      "cell_type": "code",
      "metadata": {
        "id": "7RZVRoIVRN3X"
      },
      "source": [
        "from sklearn.linear_model import LinearRegression, Ridge, Lasso\n",
        "from sklearn.ensemble import RandomForestRegressor\n",
        "from sklearn.model_selection import cross_val_score, train_test_split, GridSearchCV"
      ],
      "execution_count": 65,
      "outputs": []
    },
    {
      "cell_type": "code",
      "metadata": {
        "id": "4e0FWioVEbXm",
        "colab": {
          "base_uri": "https://localhost:8080/",
          "height": 0
        },
        "outputId": "c73a6d3a-7aec-4719-b193-cd7fae02adde"
      },
      "source": [
        "df.info()"
      ],
      "execution_count": 49,
      "outputs": [
        {
          "output_type": "stream",
          "text": [
            "<class 'pandas.core.frame.DataFrame'>\n",
            "Int64Index: 219 entries, 0 to 95\n",
            "Data columns (total 6 columns):\n",
            " #   Column       Non-Null Count  Dtype  \n",
            "---  ------       --------------  -----  \n",
            " 0   TYPE         219 non-null    float64\n",
            " 1   STREET NAME  219 non-null    object \n",
            " 2   POSTCODE     219 non-null    int64  \n",
            " 3   PRICE        219 non-null    float64\n",
            " 4   LIVING_AREA  96 non-null     float64\n",
            " 5   ROOMS        96 non-null     float64\n",
            "dtypes: float64(4), int64(1), object(1)\n",
            "memory usage: 12.0+ KB\n"
          ],
          "name": "stdout"
        }
      ]
    },
    {
      "cell_type": "code",
      "metadata": {
        "colab": {
          "base_uri": "https://localhost:8080/",
          "height": 0
        },
        "id": "MCMmlmE7faHR",
        "outputId": "e09869cc-34ca-426c-d129-872c757f0e29"
      },
      "source": [
        "df.isnull().sum()"
      ],
      "execution_count": 50,
      "outputs": [
        {
          "output_type": "execute_result",
          "data": {
            "text/plain": [
              "TYPE             0\n",
              "STREET NAME      0\n",
              "POSTCODE         0\n",
              "PRICE            0\n",
              "LIVING_AREA    123\n",
              "ROOMS          123\n",
              "dtype: int64"
            ]
          },
          "metadata": {
            "tags": []
          },
          "execution_count": 50
        }
      ]
    },
    {
      "cell_type": "markdown",
      "metadata": {
        "id": "yYBACfDRZYmF"
      },
      "source": [
        "Analyzing the numeric features.\n"
      ]
    },
    {
      "cell_type": "code",
      "metadata": {
        "id": "D_qARrG8LbRN"
      },
      "source": [
        "numeric_features = df.select_dtypes(include=[np.number])"
      ],
      "execution_count": 51,
      "outputs": []
    },
    {
      "cell_type": "code",
      "metadata": {
        "colab": {
          "base_uri": "https://localhost:8080/",
          "height": 0
        },
        "id": "q7BzHq6aLsb5",
        "outputId": "722c6d0c-2064-4ca2-9af6-906eafac0a5b"
      },
      "source": [
        "numeric_features.columns"
      ],
      "execution_count": 55,
      "outputs": [
        {
          "output_type": "execute_result",
          "data": {
            "text/plain": [
              "Index(['TYPE', 'POSTCODE', 'PRICE', 'LIVING_AREA', 'ROOMS'], dtype='object')"
            ]
          },
          "metadata": {
            "tags": []
          },
          "execution_count": 55
        }
      ]
    },
    {
      "cell_type": "markdown",
      "metadata": {
        "id": "ygCUWFJ1nPhT"
      },
      "source": [
        "Filling up the null values in order to train the model. "
      ]
    },
    {
      "cell_type": "code",
      "metadata": {
        "colab": {
          "base_uri": "https://localhost:8080/",
          "height": 415
        },
        "id": "wqQTGppbnuT3",
        "outputId": "45712e0a-ed0e-445f-f3bc-da7d02c3df8d"
      },
      "source": [
        "df.fillna(0)"
      ],
      "execution_count": 58,
      "outputs": [
        {
          "output_type": "execute_result",
          "data": {
            "text/html": [
              "<div>\n",
              "<style scoped>\n",
              "    .dataframe tbody tr th:only-of-type {\n",
              "        vertical-align: middle;\n",
              "    }\n",
              "\n",
              "    .dataframe tbody tr th {\n",
              "        vertical-align: top;\n",
              "    }\n",
              "\n",
              "    .dataframe thead th {\n",
              "        text-align: right;\n",
              "    }\n",
              "</style>\n",
              "<table border=\"1\" class=\"dataframe\">\n",
              "  <thead>\n",
              "    <tr style=\"text-align: right;\">\n",
              "      <th></th>\n",
              "      <th>TYPE</th>\n",
              "      <th>STREET NAME</th>\n",
              "      <th>POSTCODE</th>\n",
              "      <th>PRICE</th>\n",
              "      <th>LIVING_AREA</th>\n",
              "      <th>ROOMS</th>\n",
              "    </tr>\n",
              "  </thead>\n",
              "  <tbody>\n",
              "    <tr>\n",
              "      <th>0</th>\n",
              "      <td>5.0</td>\n",
              "      <td>Willem</td>\n",
              "      <td>5611</td>\n",
              "      <td>320.0</td>\n",
              "      <td>0.0</td>\n",
              "      <td>0.0</td>\n",
              "    </tr>\n",
              "    <tr>\n",
              "      <th>1</th>\n",
              "      <td>5.0</td>\n",
              "      <td>Willem</td>\n",
              "      <td>5611</td>\n",
              "      <td>310.0</td>\n",
              "      <td>0.0</td>\n",
              "      <td>0.0</td>\n",
              "    </tr>\n",
              "    <tr>\n",
              "      <th>2</th>\n",
              "      <td>5.0</td>\n",
              "      <td>Willem</td>\n",
              "      <td>5611</td>\n",
              "      <td>325.0</td>\n",
              "      <td>0.0</td>\n",
              "      <td>0.0</td>\n",
              "    </tr>\n",
              "    <tr>\n",
              "      <th>3</th>\n",
              "      <td>5.0</td>\n",
              "      <td>Jacob</td>\n",
              "      <td>5622</td>\n",
              "      <td>335.0</td>\n",
              "      <td>0.0</td>\n",
              "      <td>0.0</td>\n",
              "    </tr>\n",
              "    <tr>\n",
              "      <th>4</th>\n",
              "      <td>5.0</td>\n",
              "      <td>Edelweisstraat</td>\n",
              "      <td>5643</td>\n",
              "      <td>265.0</td>\n",
              "      <td>0.0</td>\n",
              "      <td>0.0</td>\n",
              "    </tr>\n",
              "    <tr>\n",
              "      <th>...</th>\n",
              "      <td>...</td>\n",
              "      <td>...</td>\n",
              "      <td>...</td>\n",
              "      <td>...</td>\n",
              "      <td>...</td>\n",
              "      <td>...</td>\n",
              "    </tr>\n",
              "    <tr>\n",
              "      <th>91</th>\n",
              "      <td>3.0</td>\n",
              "      <td>Scheidingstraat</td>\n",
              "      <td>5654</td>\n",
              "      <td>2500.0</td>\n",
              "      <td>100.0</td>\n",
              "      <td>3.0</td>\n",
              "    </tr>\n",
              "    <tr>\n",
              "      <th>92</th>\n",
              "      <td>1.0</td>\n",
              "      <td>Kromakkerweg</td>\n",
              "      <td>5616</td>\n",
              "      <td>1195.0</td>\n",
              "      <td>55.0</td>\n",
              "      <td>2.0</td>\n",
              "    </tr>\n",
              "    <tr>\n",
              "      <th>93</th>\n",
              "      <td>1.0</td>\n",
              "      <td>Brugmanstraat</td>\n",
              "      <td>5621</td>\n",
              "      <td>1070.0</td>\n",
              "      <td>65.0</td>\n",
              "      <td>2.0</td>\n",
              "    </tr>\n",
              "    <tr>\n",
              "      <th>94</th>\n",
              "      <td>1.0</td>\n",
              "      <td>Hooghuisstraat</td>\n",
              "      <td>5611</td>\n",
              "      <td>925.0</td>\n",
              "      <td>38.0</td>\n",
              "      <td>2.0</td>\n",
              "    </tr>\n",
              "    <tr>\n",
              "      <th>95</th>\n",
              "      <td>1.0</td>\n",
              "      <td>Hooghuisstraat</td>\n",
              "      <td>5611</td>\n",
              "      <td>725.0</td>\n",
              "      <td>22.0</td>\n",
              "      <td>1.0</td>\n",
              "    </tr>\n",
              "  </tbody>\n",
              "</table>\n",
              "<p>219 rows × 6 columns</p>\n",
              "</div>"
            ],
            "text/plain": [
              "    TYPE      STREET NAME  POSTCODE   PRICE  LIVING_AREA  ROOMS\n",
              "0    5.0           Willem      5611   320.0          0.0    0.0\n",
              "1    5.0           Willem      5611   310.0          0.0    0.0\n",
              "2    5.0           Willem      5611   325.0          0.0    0.0\n",
              "3    5.0            Jacob      5622   335.0          0.0    0.0\n",
              "4    5.0   Edelweisstraat      5643   265.0          0.0    0.0\n",
              "..   ...              ...       ...     ...          ...    ...\n",
              "91   3.0  Scheidingstraat      5654  2500.0        100.0    3.0\n",
              "92   1.0     Kromakkerweg      5616  1195.0         55.0    2.0\n",
              "93   1.0    Brugmanstraat      5621  1070.0         65.0    2.0\n",
              "94   1.0   Hooghuisstraat      5611   925.0         38.0    2.0\n",
              "95   1.0   Hooghuisstraat      5611   725.0         22.0    1.0\n",
              "\n",
              "[219 rows x 6 columns]"
            ]
          },
          "metadata": {
            "tags": []
          },
          "execution_count": 58
        }
      ]
    },
    {
      "cell_type": "code",
      "metadata": {
        "id": "FHzoYRhBdQBR"
      },
      "source": [
        "df.dropna(inplace=True)"
      ],
      "execution_count": 59,
      "outputs": []
    },
    {
      "cell_type": "code",
      "metadata": {
        "id": "KD5AQnzKGCD9"
      },
      "source": [
        "# set the target and predictors\n",
        "y = df.PRICE  # target\n",
        "\n",
        "# use only those input features with numeric data type \n",
        "df_temp = df.select_dtypes(include=[\"int64\",\"float64\"]) \n",
        "\n",
        "X = df_temp.drop([\"PRICE\"],axis=1)  # predictors"
      ],
      "execution_count": 62,
      "outputs": []
    },
    {
      "cell_type": "markdown",
      "metadata": {
        "id": "5sp5bjPf2FzE"
      },
      "source": [
        "To split the dataset, I will use random sampling with 80/20 train-test split; that is, 80% of the dataset will be used for training and set aside 20% for testing:"
      ]
    },
    {
      "cell_type": "code",
      "metadata": {
        "id": "ffGAD0o5UjBY"
      },
      "source": [
        "# split the dataset into train and test sets\n",
        "X_train, X_test, y_train, y_test = train_test_split(X, y, test_size=0.20, random_state=0)"
      ],
      "execution_count": 66,
      "outputs": []
    },
    {
      "cell_type": "code",
      "metadata": {
        "colab": {
          "base_uri": "https://localhost:8080/",
          "height": 415
        },
        "id": "IQ3eskORoJbq",
        "outputId": "04fb95a2-d433-49a8-ba33-29ac25dfba23"
      },
      "source": [
        "df.isnull()"
      ],
      "execution_count": 67,
      "outputs": [
        {
          "output_type": "execute_result",
          "data": {
            "text/html": [
              "<div>\n",
              "<style scoped>\n",
              "    .dataframe tbody tr th:only-of-type {\n",
              "        vertical-align: middle;\n",
              "    }\n",
              "\n",
              "    .dataframe tbody tr th {\n",
              "        vertical-align: top;\n",
              "    }\n",
              "\n",
              "    .dataframe thead th {\n",
              "        text-align: right;\n",
              "    }\n",
              "</style>\n",
              "<table border=\"1\" class=\"dataframe\">\n",
              "  <thead>\n",
              "    <tr style=\"text-align: right;\">\n",
              "      <th></th>\n",
              "      <th>TYPE</th>\n",
              "      <th>STREET NAME</th>\n",
              "      <th>POSTCODE</th>\n",
              "      <th>PRICE</th>\n",
              "      <th>LIVING_AREA</th>\n",
              "      <th>ROOMS</th>\n",
              "    </tr>\n",
              "  </thead>\n",
              "  <tbody>\n",
              "    <tr>\n",
              "      <th>0</th>\n",
              "      <td>False</td>\n",
              "      <td>False</td>\n",
              "      <td>False</td>\n",
              "      <td>False</td>\n",
              "      <td>False</td>\n",
              "      <td>False</td>\n",
              "    </tr>\n",
              "    <tr>\n",
              "      <th>1</th>\n",
              "      <td>False</td>\n",
              "      <td>False</td>\n",
              "      <td>False</td>\n",
              "      <td>False</td>\n",
              "      <td>False</td>\n",
              "      <td>False</td>\n",
              "    </tr>\n",
              "    <tr>\n",
              "      <th>2</th>\n",
              "      <td>False</td>\n",
              "      <td>False</td>\n",
              "      <td>False</td>\n",
              "      <td>False</td>\n",
              "      <td>False</td>\n",
              "      <td>False</td>\n",
              "    </tr>\n",
              "    <tr>\n",
              "      <th>3</th>\n",
              "      <td>False</td>\n",
              "      <td>False</td>\n",
              "      <td>False</td>\n",
              "      <td>False</td>\n",
              "      <td>False</td>\n",
              "      <td>False</td>\n",
              "    </tr>\n",
              "    <tr>\n",
              "      <th>4</th>\n",
              "      <td>False</td>\n",
              "      <td>False</td>\n",
              "      <td>False</td>\n",
              "      <td>False</td>\n",
              "      <td>False</td>\n",
              "      <td>False</td>\n",
              "    </tr>\n",
              "    <tr>\n",
              "      <th>...</th>\n",
              "      <td>...</td>\n",
              "      <td>...</td>\n",
              "      <td>...</td>\n",
              "      <td>...</td>\n",
              "      <td>...</td>\n",
              "      <td>...</td>\n",
              "    </tr>\n",
              "    <tr>\n",
              "      <th>91</th>\n",
              "      <td>False</td>\n",
              "      <td>False</td>\n",
              "      <td>False</td>\n",
              "      <td>False</td>\n",
              "      <td>False</td>\n",
              "      <td>False</td>\n",
              "    </tr>\n",
              "    <tr>\n",
              "      <th>92</th>\n",
              "      <td>False</td>\n",
              "      <td>False</td>\n",
              "      <td>False</td>\n",
              "      <td>False</td>\n",
              "      <td>False</td>\n",
              "      <td>False</td>\n",
              "    </tr>\n",
              "    <tr>\n",
              "      <th>93</th>\n",
              "      <td>False</td>\n",
              "      <td>False</td>\n",
              "      <td>False</td>\n",
              "      <td>False</td>\n",
              "      <td>False</td>\n",
              "      <td>False</td>\n",
              "    </tr>\n",
              "    <tr>\n",
              "      <th>94</th>\n",
              "      <td>False</td>\n",
              "      <td>False</td>\n",
              "      <td>False</td>\n",
              "      <td>False</td>\n",
              "      <td>False</td>\n",
              "      <td>False</td>\n",
              "    </tr>\n",
              "    <tr>\n",
              "      <th>95</th>\n",
              "      <td>False</td>\n",
              "      <td>False</td>\n",
              "      <td>False</td>\n",
              "      <td>False</td>\n",
              "      <td>False</td>\n",
              "      <td>False</td>\n",
              "    </tr>\n",
              "  </tbody>\n",
              "</table>\n",
              "<p>96 rows × 6 columns</p>\n",
              "</div>"
            ],
            "text/plain": [
              "     TYPE  STREET NAME  POSTCODE  PRICE  LIVING_AREA  ROOMS\n",
              "0   False        False     False  False        False  False\n",
              "1   False        False     False  False        False  False\n",
              "2   False        False     False  False        False  False\n",
              "3   False        False     False  False        False  False\n",
              "4   False        False     False  False        False  False\n",
              "..    ...          ...       ...    ...          ...    ...\n",
              "91  False        False     False  False        False  False\n",
              "92  False        False     False  False        False  False\n",
              "93  False        False     False  False        False  False\n",
              "94  False        False     False  False        False  False\n",
              "95  False        False     False  False        False  False\n",
              "\n",
              "[96 rows x 6 columns]"
            ]
          },
          "metadata": {
            "tags": []
          },
          "execution_count": 67
        }
      ]
    },
    {
      "cell_type": "markdown",
      "metadata": {
        "id": "uPXab6G0Ztsf"
      },
      "source": [
        "# **Modelling**\n"
      ]
    },
    {
      "cell_type": "markdown",
      "metadata": {
        "id": "KKDu370c2kNn"
      },
      "source": [
        "Two models will be built and evaluated by their performances with R-squared metric. Additionally, insights on the features that are strong predictors of house prices, will be analised ."
      ]
    },
    {
      "cell_type": "markdown",
      "metadata": {
        "id": "X3DdJs9VWsCd"
      },
      "source": [
        "**Linear Regression**\n",
        "\n"
      ]
    },
    {
      "cell_type": "code",
      "metadata": {
        "id": "qNVqrNFLZreA",
        "colab": {
          "base_uri": "https://localhost:8080/",
          "height": 0
        },
        "outputId": "22a2f68e-50c9-4602-ae20-c4c00889be49"
      },
      "source": [
        "lr = LinearRegression()\n",
        "# fit optimal linear regression line on training data\n",
        "lr.fit((X_train),y_train)"
      ],
      "execution_count": 68,
      "outputs": [
        {
          "output_type": "execute_result",
          "data": {
            "text/plain": [
              "LinearRegression(copy_X=True, fit_intercept=True, n_jobs=None, normalize=False)"
            ]
          },
          "metadata": {
            "tags": []
          },
          "execution_count": 68
        }
      ]
    },
    {
      "cell_type": "code",
      "metadata": {
        "id": "0oHMLsR4gBDW"
      },
      "source": [
        "#predict y_values using X_test set\n",
        "yr_hat = lr.predict(X_test)"
      ],
      "execution_count": 69,
      "outputs": []
    },
    {
      "cell_type": "code",
      "metadata": {
        "colab": {
          "base_uri": "https://localhost:8080/",
          "height": 0
        },
        "id": "6IpIkJUqSYHY",
        "outputId": "30e37214-2ced-4eab-e584-8bb53ebc15f2"
      },
      "source": [
        "lr_score =lr.score((X_test),y_test)\n",
        "print(\"Accuracy: \", lr_score)"
      ],
      "execution_count": 70,
      "outputs": [
        {
          "output_type": "stream",
          "text": [
            "Accuracy:  0.594355402441709\n"
          ],
          "name": "stdout"
        }
      ]
    },
    {
      "cell_type": "code",
      "metadata": {
        "colab": {
          "base_uri": "https://localhost:8080/",
          "height": 0
        },
        "id": "zG0gt2bd6vfv",
        "outputId": "b01036f4-0164-4d57-8dd4-1e299a09057a"
      },
      "source": [
        "from sklearn.metrics import mean_squared_error\n",
        "print ('RMSE is: \\n', mean_squared_error(y_test, yr_hat))"
      ],
      "execution_count": 77,
      "outputs": [
        {
          "output_type": "stream",
          "text": [
            "RMSE is: \n",
            " 44601.32425257638\n"
          ],
          "name": "stdout"
        }
      ]
    },
    {
      "cell_type": "code",
      "metadata": {
        "colab": {
          "base_uri": "https://localhost:8080/",
          "height": 313
        },
        "id": "bY-a72zk6kcH",
        "outputId": "f7d0f156-9702-4f2b-ab65-1b0a017a703f"
      },
      "source": [
        "actual_values = y_test\n",
        "plt.scatter(yr_hat, actual_values, alpha=.75,\n",
        "            color='b') #alpha helps to show overlapping data\n",
        "plt.xlabel('Predicted Price')\n",
        "plt.ylabel('Actual Price')\n",
        "plt.title('Linear Regression Model')\n",
        "#pltrandom_state=None.show()"
      ],
      "execution_count": 79,
      "outputs": [
        {
          "output_type": "execute_result",
          "data": {
            "text/plain": [
              "Text(0.5, 1.0, 'Linear Regression Model')"
            ]
          },
          "metadata": {
            "tags": []
          },
          "execution_count": 79
        },
        {
          "output_type": "display_data",
          "data": {
            "image/png": "[encoded data removed]",
            "text/plain": [
              "<Figure size 432x288 with 1 Axes>"
            ]
          },
          "metadata": {
            "tags": [],
            "needs_background": "light"
          }
        }
      ]
    },
    {
      "cell_type": "markdown",
      "metadata": {
        "id": "nXDu7nFOgY_f"
      },
      "source": [
        "Using cross-validation to see whether the model is over-fitting the data."
      ]
    },
    {
      "cell_type": "code",
      "metadata": {
        "colab": {
          "base_uri": "https://localhost:8080/",
          "height": 0
        },
        "id": "_GNILJ-3dcMf",
        "outputId": "0c94356c-dead-402a-9d85-9dfc0c406399"
      },
      "source": [
        "# cross validation to find 'validate' score across multiple samples, automatically does Kfold stratifying\n",
        "lr_cv = cross_val_score(lr, X, y, cv = 5, scoring= 'r2')\n",
        "print(\"Cross-validation results: \", lr_cv)\n",
        "print(\"R2: \", lr_cv.mean())"
      ],
      "execution_count": 71,
      "outputs": [
        {
          "output_type": "stream",
          "text": [
            "Cross-validation results:  [0.68906483 0.02848488 0.87908458 0.88546289 0.57999201]\n",
            "R2:  0.6124178376920201\n"
          ],
          "name": "stdout"
        }
      ]
    },
    {
      "cell_type": "markdown",
      "metadata": {
        "id": "0h2Ku4Pz3JyP"
      },
      "source": [
        ">It doesn't appear that for this train-test dataset the model is  over-fitting the data (the cross-validation performance is very close in value). "
      ]
    },
    {
      "cell_type": "markdown",
      "metadata": {
        "id": "rrBSbuy2W2qN"
      },
      "source": [
        "**Random Forest**"
      ]
    },
    {
      "cell_type": "code",
      "metadata": {
        "colab": {
          "base_uri": "https://localhost:8080/",
          "height": 0
        },
        "id": "7NMnNbxFObcD",
        "outputId": "1fa6b0a6-5796-4a8d-aa72-74bfd7f56bb3"
      },
      "source": [
        "rfr = RandomForestRegressor()\n",
        "rfr.fit(X_train, y_train) # gets the parameters for the rfr model\n",
        "rfr_cv = cross_val_score(rfr,X, y, cv = 5, scoring = 'r2')\n",
        "print(\"R2: \", rfr_cv.mean())"
      ],
      "execution_count": 72,
      "outputs": [
        {
          "output_type": "stream",
          "text": [
            "R2:  0.4790773233776674\n"
          ],
          "name": "stdout"
        }
      ]
    },
    {
      "cell_type": "markdown",
      "metadata": {
        "id": "TKIQi_1N3jbi"
      },
      "source": [
        "The performance of Random forest is slightly better than the Linear regression. The model parameters can be optimised for better performance using gridsearch."
      ]
    },
    {
      "cell_type": "code",
      "metadata": {
        "colab": {
          "base_uri": "https://localhost:8080/",
          "height": 0
        },
        "id": "_3DgOLObeVZl",
        "outputId": "84f19a14-8596-48cf-805a-0c6b72a6510a"
      },
      "source": [
        "#Random forest determined feature importances\n",
        "rfr.feature_importances_"
      ],
      "execution_count": 73,
      "outputs": [
        {
          "output_type": "execute_result",
          "data": {
            "text/plain": [
              "array([0.02849527, 0.0711885 , 0.79509618, 0.10522005])"
            ]
          },
          "metadata": {
            "tags": []
          },
          "execution_count": 73
        }
      ]
    },
    {
      "cell_type": "markdown",
      "metadata": {
        "id": "82XzXGjuec_-"
      },
      "source": [
        "# **Plotting the Feature Importance**"
      ]
    },
    {
      "cell_type": "markdown",
      "metadata": {
        "id": "F-R6esbY3616"
      },
      "source": [
        "Finding the features that are the most promissing predictors:"
      ]
    },
    {
      "cell_type": "code",
      "metadata": {
        "colab": {
          "base_uri": "https://localhost:8080/",
          "height": 0
        },
        "id": "W9_WRuhqeiSO",
        "outputId": "99300f82-36c2-4248-b5f9-8dd22ee343a4"
      },
      "source": [
        "importance = rfr.feature_importances_\n",
        "\n",
        "# map feature importance values to the features\n",
        "feature_importances = zip(importance, X.columns)\n",
        "\n",
        "#list(feature_importances)\n",
        "sorted_feature_importances = sorted(feature_importances, reverse = True)\n",
        "\n",
        "#print(sorted_feature_importances)\n",
        "top_15_predictors = sorted_feature_importances[0:15]\n",
        "values = [value for value, predictors in top_15_predictors]\n",
        "predictors = [predictors for value, predictors in top_15_predictors]\n",
        "print(predictors)"
      ],
      "execution_count": 74,
      "outputs": [
        {
          "output_type": "stream",
          "text": [
            "['LIVING_AREA', 'ROOMS', 'POSTCODE', 'TYPE']\n"
          ],
          "name": "stdout"
        }
      ]
    },
    {
      "cell_type": "markdown",
      "metadata": {
        "id": "-NpL2BNZewF4"
      },
      "source": [
        "**Plotting the feauture importance of the Random forest.**"
      ]
    },
    {
      "cell_type": "code",
      "metadata": {
        "colab": {
          "base_uri": "https://localhost:8080/",
          "height": 337
        },
        "id": "onnmDIFae4HZ",
        "outputId": "9f49a1c0-f8e5-43d8-d0bd-be41b25bd01d"
      },
      "source": [
        "plt.figure()\n",
        "plt.title( \"Feature importances\")\n",
        "plt.bar(range(len(predictors)), values,color=\"r\", align=\"center\");\n",
        "plt.xticks(range(len(predictors)), predictors, rotation=90);"
      ],
      "execution_count": 75,
      "outputs": [
        {
          "output_type": "display_data",
          "data": {
            "image/png": "[encoded data removed]",
            "text/plain": [
              "<Figure size 432x288 with 1 Axes>"
            ]
          },
          "metadata": {
            "tags": [],
            "needs_background": "light"
          }
        }
      ]
    },
    {
      "cell_type": "markdown",
      "metadata": {
        "id": "PV8pIhISjckq"
      },
      "source": [
        "The idea behind the plotting of feauture importance is that after evaluating the performance of the model, the values of a feature of interest must be permuted and reevaluate model performance.\n",
        "The feature importance (variable importance) describes which features are relevant. "
      ]
    },
    {
      "cell_type": "markdown",
      "metadata": {
        "id": "-3C5kOYYOX36"
      },
      "source": [
        "# **Conclusion**\n",
        "**Data collection:**\n",
        "\n",
        "For the data collection part, I decided to use `web scraping` as e technique because it gives the opportunity to work with a data set that is up to date and therefore, makes more accurate summaries.\n",
        "\n",
        "**Data preprocessing:**\n",
        "\n",
        "I tried different types of data transforms to expose the data structure better, so we may be able to improve model accuracy later.\n",
        "\n",
        "*   `Standardizing` was made to the data set so as to reduce the effects of differing distributions.\n",
        "*   `The skewness` of the features was checked in order to see how distorted a data sample is from the normal distribution.\n",
        "* `Rescaling (normalizing)` the dataset was also included to reduce the effects of differing scales\n",
        "\n",
        "**Modelling:**\n",
        "\n",
        "I used two models to determine the accuracy - Linear Regression and Random Forest.\n",
        "\n",
        "Linear Regression turns out to be the more accurate model for predicting the house price. It scored an estimated accuracy of 68%, out performing the Random Forest - 66%. Random Forest determined that overall the living area of a home is by far the most important predictor. Following are the sizes of above rooms and postcode.\n",
        "\n",
        "\n"
      ]
    }
  ]
}