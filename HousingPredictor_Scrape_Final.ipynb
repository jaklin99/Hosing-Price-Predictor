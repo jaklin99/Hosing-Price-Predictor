{
  "nbformat": 4,
  "nbformat_minor": 0,
  "metadata": {
    "colab": {
      "name": "HousingPredictor_Scrape_Final.ipynb",
      "provenance": [],
      "collapsed_sections": []
    },
    "kernelspec": {
      "name": "python3",
      "display_name": "Python 3"
    },
    "language_info": {
      "name": "python"
    }
  },
  "cells": [
    {
      "cell_type": "markdown",
      "metadata": {
        "id": "PwILfzBYixDE"
      },
      "source": [
        "# **Imports**"
      ]
    },
    {
      "cell_type": "code",
      "metadata": {
        "id": "IVXu8JD0Dfjr"
      },
      "source": [
        "from bs4 import BeautifulSoup as bs4\n",
        "from requests import get\n",
        "import json\n",
        "import pandas as pd\n",
        "import requests\n",
        "import matplotlib.pyplot as plt\n",
        "import seaborn as sns\n",
        "import mpl_toolkits\n",
        "import numpy as np\n",
        "%matplotlib inline\n",
        "#from fake_useragent import UserAgent"
      ],
      "execution_count": null,
      "outputs": []
    },
    {
      "cell_type": "markdown",
      "metadata": {
        "id": "Jwn59thSi4qc"
      },
      "source": [
        "# **Data preparation (Web scraping)**"
      ]
    },
    {
      "cell_type": "markdown",
      "metadata": {
        "id": "XYPR9iWTHxBS"
      },
      "source": [
        "Scraping data from the first website - 'FriendlyHousing'"
      ]
    },
    {
      "cell_type": "code",
      "metadata": {
        "id": "aGRVJUxq-7b-"
      },
      "source": [
        "url_1 = 'https://www.friendlyhousing.nl/nl/aanbod/kamer'\n",
        "url_2 = 'https://www.friendlyhousing.nl/nl/aanbod/studio'\n",
        "url_3 = 'https://www.friendlyhousing.nl/nl/aanbod/appartement'\n",
        "urls= [url_1, url_2, url_3]"
      ],
      "execution_count": null,
      "outputs": []
    },
    {
      "cell_type": "markdown",
      "metadata": {
        "id": "LfI4ZVzaH3pw"
      },
      "source": [
        "Scraping data from the second website - 'Pararius'"
      ]
    },
    {
      "cell_type": "code",
      "metadata": {
        "id": "vSCaO5pCDnmK"
      },
      "source": [
        "url_1p = 'https://www.pararius.com/apartments/eindhoven'\n",
        "url_2p = 'https://www.pararius.com/apartments/eindhoven/page-2'\n",
        "url_3p = 'https://www.pararius.com/apartments/eindhoven/page-3'\n",
        "urls_p= [url_1p, url_2p, url_3p]\n"
      ],
      "execution_count": null,
      "outputs": []
    },
    {
      "cell_type": "markdown",
      "metadata": {
        "id": "RYTfmQFMIOXD"
      },
      "source": [
        "'FriendlyHousing'"
      ]
    },
    {
      "cell_type": "code",
      "metadata": {
        "id": "zcUcngFqMICQ"
      },
      "source": [
        "#user_agent = UserAgent()\n",
        "#headers={\"user-agent\": user_agent.chrome}\n",
        "soup_array=[]\n",
        "for url in urls:\n",
        "    ## getting the reponse from the page using get method of requests module\n",
        "    page = get(url)\n",
        "\n",
        "    ## storing the content of the page in a variable\n",
        "    html = page.content\n",
        "\n",
        "    ## creating BeautifulSoup object\n",
        "    soup = bs4(html, \"html.parser\")\n",
        "    soup_array.append(soup)"
      ],
      "execution_count": null,
      "outputs": []
    },
    {
      "cell_type": "markdown",
      "metadata": {
        "id": "U1aRfCtlIUt0"
      },
      "source": [
        "'Pararius'"
      ]
    },
    {
      "cell_type": "code",
      "metadata": {
        "id": "85NXMkdFIZZ-"
      },
      "source": [
        "soup_array_p=[]\n",
        "for url in urls_p:\n",
        "    ## getting the reponse from the page using get method of requests module\n",
        "    page = get(url)\n",
        "\n",
        "    ## storing the content of the page in a variable\n",
        "    html = page.content\n",
        "\n",
        "    ## creating BeautifulSoup object\n",
        "    soup = bs4(html, \"html.parser\")\n",
        "    soup_array_p.append(soup)"
      ],
      "execution_count": null,
      "outputs": []
    },
    {
      "cell_type": "markdown",
      "metadata": {
        "id": "-dsA98jYIkBa"
      },
      "source": [
        "'FriendlyHousing' - finding the elements from the html file"
      ]
    },
    {
      "cell_type": "code",
      "metadata": {
        "id": "Y00lRLog_wuI"
      },
      "source": [
        "houses=[]\n",
        "for s in soup_array:\n",
        "    allHouses = s.find(\"ul\", {\"class\": \"list list-unstyled row equal-row\"})\n",
        "    #print(len(allHouses))\n",
        "    for h in allHouses.find_all(\"li\", {\"class\": \"col-xs-12 col-sm-6 col-md-4 equal-col\"}):\n",
        "     # print(h)\n",
        "      \n",
        "      houses.append(h)\n",
        "     # print(h.findAll(\"li\", {\"class\": \"search-list__item search-list__item--listing\"}))\n",
        "      "
      ],
      "execution_count": null,
      "outputs": []
    },
    {
      "cell_type": "code",
      "metadata": {
        "id": "oQ5ziGdjAIX8"
      },
      "source": [
        "catalog=[]\n",
        "for h in houses:\n",
        "  #data['houses'].append({\n",
        "      type__= h.find('div', class_= 'specs').text\n",
        "      t = type__.split()\n",
        "      type_=t[0]\n",
        "      street_ = h.find('h3').text\n",
        "      s = street_.split()\n",
        "      street = s[0]\n",
        "      address = h.find('p').text\n",
        "      a = address.split()\n",
        "      postcode = a[0]\n",
        "      #city = a[2]\n",
        "      price = h.find('div', class_= 'price').text\n",
        "      vars = type_,street, postcode, price\n",
        "      catalog.append(vars)\n",
        "      #print(city)"
      ],
      "execution_count": null,
      "outputs": []
    },
    {
      "cell_type": "markdown",
      "metadata": {
        "id": "ozJfWu4SIz66"
      },
      "source": [
        "'Pararius' - finding the elements from the html file"
      ]
    },
    {
      "cell_type": "code",
      "metadata": {
        "id": "A2cvkZr8I3Tn"
      },
      "source": [
        "houses_p=[]\n",
        "for s in soup_array_p:\n",
        "    allHouses = s.find(\"ul\", {\"class\": \"search-list\"})\n",
        "    #print(len(allHouses))\n",
        "    for h in allHouses.find_all(\"li\", {\"class\": \"search-list__item search-list__item--listing\"}):\n",
        "     # print(h)\n",
        "      \n",
        "      houses_p.append(h)\n",
        "     # print(h.findAll(\"li\", {\"class\": \"search-list__item search-list__item--listing\"}))\n",
        "      "
      ],
      "execution_count": null,
      "outputs": []
    },
    {
      "cell_type": "code",
      "metadata": {
        "colab": {
          "base_uri": "https://localhost:8080/"
        },
        "id": "Pq_WU8w6SVCW",
        "outputId": "b271eee4-d5f1-47c4-a70a-5dc27d7ef72c"
      },
      "source": [
        "catalog_p=[]\n",
        "for h in houses_p:\n",
        "  #data['houses'].append({\n",
        "        name = h.find('a',class_='listing-search-item__link listing-search-item__link--title').text\n",
        "        _name = name.split()\n",
        "        house_type = _name[0]\n",
        "        street = _name[1]\n",
        "        _address= h.findAll('div', class_='listing-search-item__location')[0].text\n",
        "        #String manipulation to remove the unwanted signs from the address\n",
        "        __address = _address.replace(\"\\nnew\\n \", \"\") \n",
        "        address = __address.replace(\"\\n \", \"\")   #actual address after string manipulation - ready to be used in the exploring of the data\n",
        "        new_address = address.split()\n",
        "        postcode = new_address[0] \n",
        "        price_ = h.findAll('span', class_='listing-search-item__price')[0].text\n",
        "        #splitting the string to find the price\n",
        "        p=price_.split()\n",
        "        _price = p[0] #actual price before string manipulation\n",
        "        __price = _price.replace(\"€\", \"\")  #actual price before full string manipulation\n",
        "        price = __price.replace(\",\", \"\")   #actual price after string manipulation - ready to be used in the exploring of the data\n",
        "\n",
        "        #finding the whole element from the web page\n",
        "        ylr= h.findAll('section', class_= 'illustrated-features illustrated-features--vertical')[0].text \n",
        "\n",
        "        #splitting the string to find the living are, rooms and year\n",
        "        lry= ylr.split()\n",
        "\n",
        "        #living_area after taking the indexes that define it\n",
        "        living_area = lry[0] \n",
        "\n",
        "        #rooms after taking the index that defines the variable\n",
        "        rooms = lry[4] \n",
        "    \n",
        "        vars = house_type, street, postcode,price,living_area,rooms\n",
        "        catalog_p.append(vars)\n",
        "    \n",
        "print(catalog_p)\n"
      ],
      "execution_count": null,
      "outputs": [
        {
          "output_type": "stream",
          "text": [
            "[('Apartment', 'Hoogstraat', '5654', '1190', '80', '3'), ('Apartment', 'Hermanus', '5611', '675', '20', '1'), ('Apartment', 'Genovevalaan', '5625', '1050', '54', '2'), ('Apartment', 'St', '5611', '1250', '75', '3'), ('House', 'Primulastraat', '5644', '2250', '162', '7'), ('Apartment', 'Distelstraat', '5643', '975', '55', '2'), ('Apartment', 'Kruisstraat', '5612', '1100', '46', '2'), ('Apartment', 'Emmasingel', '5611', '1749', '135', '3'), ('Apartment', 'Merovingersweg', '5616', '1195', '60', '2'), ('Apartment', 'Kruisstraat', '5612', '995', '55', '2'), ('Apartment', 'Kerkakkerstraat', '5616', '1115', '50', '2'), ('Apartment', 'Hoogstraat', '5654', '995', '50', '2'), ('Apartment', 'Genovevalaan', '5625', '1095', '65', '2'), ('Apartment', 'Geldropseweg', '5643', '990', '67', '2'), ('Apartment', 'Kromakkerweg', '5616', '1195', '75', '3'), ('Room', 'Musschenbroekstraat', '5621', '415', '13', '1'), ('Apartment', 'Fuutlaan', '5613', '1395', '79', '3'), ('House', 'Charlotte', '5611', '1995', '110', '4'), ('Apartment', 'Veldmaarschalk', '5623', '1195', '80', '3'), ('House', 'Patrijsstraat', '5613', '1950', '135', '4'), ('Apartment', 'Paradijslaan', '5611', '1850', '120', '3'), ('Apartment', 'Grote', '5611', '1450', '80', '3'), ('Apartment', 'Rivierstraat', '5615', '950', '50', '2'), ('Room', 'Koenraadlaan', '5651', '660', '24', '1'), ('Apartment', 'P', '5611', '1395', '78', '3'), ('Apartment', 'Philitelaan', '5617', '940', '52', '1'), ('Apartment', 'Philitelaan', '5617', '1200', '72', '3'), ('Apartment', 'Philitelaan', '5617', '800', '45', '1'), ('Apartment', 'Philitelaan', '5617', '1200', '73', '3'), ('Apartment', 'Philitelaan', '5617', '780', '41', '1'), ('Apartment', 'Philitelaan', '5617', '1000', '52', '3'), ('Apartment', 'Hoogstraat', '5654', '1190', '80', '3'), ('Apartment', 'Philitelaan', '5617', '1025', '77', '1'), ('Apartment', 'Diepenbrockstraat', '5654', '895', '35', '2'), ('Apartment', 'Tongelresestraat', '5642', '1025', '35', '1'), ('Apartment', 'Lupinestraat', '5614', '850', '34', '1'), ('Apartment', 'Nieuwe', '5611', '1045', '43', '1'), ('Apartment', 'Philitelaan', '5617', '895', '50', '1'), ('Apartment', 'Philitelaan', '5617', '890', '42', '1'), ('Apartment', 'Philitelaan', '5617', '955', '57', '1'), ('Apartment', 'van', '5612', '775', '19', '1'), ('Apartment', 'Otterstraat', '5622', '1000', '80', '2'), ('Apartment', 'Hertog', '5611', '1045', '60', '3'), ('Apartment', 'Philitelaan', '5617', '995', '53', '2'), ('Apartment', 'Penelopestraat', '5631', '995', '50', '2'), ('House', 'Speckenlaan', '5644', '3500', '185', '7'), ('House', 'Scheidingstraat', '5654', '2500', '100', '3'), ('Apartment', 'Kromakkerweg', '5616', '1195', '55', '2'), ('Apartment', 'Brugmanstraat', '5621', '1070', '65', '2'), ('Apartment', 'Hooghuisstraat', '5611', '925', '38', '2'), ('Apartment', 'Hooghuisstraat', '5611', '725', '22', '1'), ('House', 'Lassusstraat', '5654', '1295', '144', '7'), ('Apartment', 'Lichtstraat', '5611', '1250', '80', '3'), ('House', 'Persglashof', '5651', '1400', '110', '4'), ('Apartment', 'Veldmaarschalk', '5623', '1330', '76', '3'), ('Apartment', 'Emmasingel', '5611', '1150', '85', '2'), ('Apartment', 'Jonckbloetlaan', '5615', '1095', '50', '2'), ('Apartment', 'Hertog', '5611', '750', '20', '1'), ('Apartment', 'Geldropseweg', '5611', '895', '60', '2'), ('Apartment', 'Strijpsestraat', '5616', '1095', '70', '2'), ('Apartment', 'Willem', '5612', '895', '50', '2'), ('Apartment', 'Prins', '5611', '1550', '90', '3'), ('Apartment', 'Hoogstraat', '5654', '1190', '80', '3'), ('Apartment', 'Hoogstraat', '5615', '1395', '85', '3'), ('Apartment', 'Edenstraat', '5611', '700', '22', '1'), ('Apartment', 'Kruisstraat', '5612', '485', '20', '1'), ('Apartment', 'Bleekstraat', '5611', '1175', '50', '2'), ('Apartment', 'Boccherinilaan', '5653', '1090', '44', '2'), ('Apartment', 'Accumulatorstraat', '5641', '800', '30', '1'), ('Room', 'Verschaffeltstraat', '5623', '425', '14', '1'), ('Apartment', 'Roosje', '5612', '625', '25', '1'), ('Apartment', 'Brucknerplein', '5653', '1075', '57', '2'), ('Apartment', 'St', '5614', '625', '16', '1'), ('Apartment', 'Leenderweg', '5643', '850', '40', '2'), ('Apartment', 'Heezerweg', '5643', '1245', '80', '3'), ('Room', 'Heezerweg', '5614', '625', '16', '1'), ('Apartment', 'Tongelresestraat', '5613', '835', '35', '2'), ('Apartment', 'Hoogstraat', '5615', '1195', '48', '2'), ('Apartment', 'Paulus', '5613', '1035', '62', '2'), ('Apartment', 'Hoogstraat', '5611', '925', '30', '2'), ('Apartment', '1e', '5614', '1195', '93', '3'), ('Apartment', 'Dierenriemstraat', '5632', '790', '50', '2'), ('House', 'Henkenshage', '5653', '1425', '138', '5'), ('House', 'Count', '5629', '3495', '279', '5'), ('Apartment', 'van', '5612', '592', '18', '1'), ('Apartment', 'Kruisstraat', '5612', '950', '46', '2'), ('Apartment', 'Schootsestraat', '5616', '1395', '92', '3'), ('Apartment', 'Kruisstraat', '5612', '1000', '46', '2'), ('Apartment', 'Kruisstraat', '5612', '1000', '45', '2'), ('Apartment', 'Morsestraat', '5621', '675', '30', '1'), ('Apartment', 'Paradijslaan', '5611', '1245', '110', '3'), ('Apartment', 'Kromakkerweg', '5616', '1175', '65', '2'), ('Apartment', 'Kleine', '5611', '1050', '45', '2')]\n"
          ],
          "name": "stdout"
        }
      ]
    },
    {
      "cell_type": "markdown",
      "metadata": {
        "id": "f1y3SXaLKUTy"
      },
      "source": [
        "'FriendlyHousing' - creating the dataframe"
      ]
    },
    {
      "cell_type": "code",
      "metadata": {
        "colab": {
          "base_uri": "https://localhost:8080/",
          "height": 415
        },
        "id": "gf801ahMFPOM",
        "outputId": "9ed931ce-170e-4f75-b792-ae6c11ad5af4"
      },
      "source": [
        "dataframe = pd.DataFrame(catalog)\n",
        "dataframe.columns=['TYPE', 'STREET NAME', 'POSTCODE', 'PRICE'] \n",
        "dataframe "
      ],
      "execution_count": null,
      "outputs": [
        {
          "output_type": "execute_result",
          "data": {
            "text/html": [
              "<div>\n",
              "<style scoped>\n",
              "    .dataframe tbody tr th:only-of-type {\n",
              "        vertical-align: middle;\n",
              "    }\n",
              "\n",
              "    .dataframe tbody tr th {\n",
              "        vertical-align: top;\n",
              "    }\n",
              "\n",
              "    .dataframe thead th {\n",
              "        text-align: right;\n",
              "    }\n",
              "</style>\n",
              "<table border=\"1\" class=\"dataframe\">\n",
              "  <thead>\n",
              "    <tr style=\"text-align: right;\">\n",
              "      <th></th>\n",
              "      <th>TYPE</th>\n",
              "      <th>STREET NAME</th>\n",
              "      <th>POSTCODE</th>\n",
              "      <th>PRICE</th>\n",
              "    </tr>\n",
              "  </thead>\n",
              "  <tbody>\n",
              "    <tr>\n",
              "      <th>0</th>\n",
              "      <td>Kamer</td>\n",
              "      <td>Willem</td>\n",
              "      <td>5611</td>\n",
              "      <td>320</td>\n",
              "    </tr>\n",
              "    <tr>\n",
              "      <th>1</th>\n",
              "      <td>Kamer</td>\n",
              "      <td>Willem</td>\n",
              "      <td>5611</td>\n",
              "      <td>310</td>\n",
              "    </tr>\n",
              "    <tr>\n",
              "      <th>2</th>\n",
              "      <td>Kamer</td>\n",
              "      <td>Willem</td>\n",
              "      <td>5611</td>\n",
              "      <td>325</td>\n",
              "    </tr>\n",
              "    <tr>\n",
              "      <th>3</th>\n",
              "      <td>Kamer</td>\n",
              "      <td>Leenderweg</td>\n",
              "      <td>5643</td>\n",
              "      <td>580</td>\n",
              "    </tr>\n",
              "    <tr>\n",
              "      <th>4</th>\n",
              "      <td>Kamer</td>\n",
              "      <td>Jacob</td>\n",
              "      <td>5622</td>\n",
              "      <td>335</td>\n",
              "    </tr>\n",
              "    <tr>\n",
              "      <th>...</th>\n",
              "      <td>...</td>\n",
              "      <td>...</td>\n",
              "      <td>...</td>\n",
              "      <td>...</td>\n",
              "    </tr>\n",
              "    <tr>\n",
              "      <th>121</th>\n",
              "      <td>Appartement</td>\n",
              "      <td>Frankrijkstraat</td>\n",
              "      <td>5622</td>\n",
              "      <td>925</td>\n",
              "    </tr>\n",
              "    <tr>\n",
              "      <th>122</th>\n",
              "      <td>Appartement</td>\n",
              "      <td>Kerkakkerstraat</td>\n",
              "      <td>5616</td>\n",
              "      <td>950</td>\n",
              "    </tr>\n",
              "    <tr>\n",
              "      <th>123</th>\n",
              "      <td>Appartement</td>\n",
              "      <td>Leenderweg</td>\n",
              "      <td>5614</td>\n",
              "      <td>800</td>\n",
              "    </tr>\n",
              "    <tr>\n",
              "      <th>124</th>\n",
              "      <td>Appartement</td>\n",
              "      <td>Leostraat</td>\n",
              "      <td>5615</td>\n",
              "      <td>775</td>\n",
              "    </tr>\n",
              "    <tr>\n",
              "      <th>125</th>\n",
              "      <td>Appartement</td>\n",
              "      <td>Stratumsedijk</td>\n",
              "      <td>5614</td>\n",
              "      <td>1075</td>\n",
              "    </tr>\n",
              "  </tbody>\n",
              "</table>\n",
              "<p>126 rows × 4 columns</p>\n",
              "</div>"
            ],
            "text/plain": [
              "            TYPE      STREET NAME POSTCODE PRICE\n",
              "0          Kamer           Willem     5611   320\n",
              "1          Kamer           Willem     5611   310\n",
              "2          Kamer           Willem     5611   325\n",
              "3          Kamer       Leenderweg     5643   580\n",
              "4          Kamer            Jacob     5622   335\n",
              "..           ...              ...      ...   ...\n",
              "121  Appartement  Frankrijkstraat     5622   925\n",
              "122  Appartement  Kerkakkerstraat     5616   950\n",
              "123  Appartement       Leenderweg     5614   800\n",
              "124  Appartement        Leostraat     5615   775\n",
              "125  Appartement    Stratumsedijk     5614  1075\n",
              "\n",
              "[126 rows x 4 columns]"
            ]
          },
          "metadata": {
            "tags": []
          },
          "execution_count": 29
        }
      ]
    },
    {
      "cell_type": "markdown",
      "metadata": {
        "id": "dK0MGNHfKZsI"
      },
      "source": [
        "'Pararius'- creating the dataframe"
      ]
    },
    {
      "cell_type": "code",
      "metadata": {
        "colab": {
          "base_uri": "https://localhost:8080/",
          "height": 415
        },
        "id": "tYe6YPLlS-hB",
        "outputId": "afb80bea-fe48-4594-e5f4-b0c7067433e4"
      },
      "source": [
        "df_ = pd.DataFrame(catalog_p)\n",
        "df_.columns=['TYPE', 'STREET NAME', 'POSTCODE', 'PRICE','LIVING_AREA', 'ROOMS'] \n",
        "df_ "
      ],
      "execution_count": null,
      "outputs": [
        {
          "output_type": "execute_result",
          "data": {
            "text/html": [
              "<div>\n",
              "<style scoped>\n",
              "    .dataframe tbody tr th:only-of-type {\n",
              "        vertical-align: middle;\n",
              "    }\n",
              "\n",
              "    .dataframe tbody tr th {\n",
              "        vertical-align: top;\n",
              "    }\n",
              "\n",
              "    .dataframe thead th {\n",
              "        text-align: right;\n",
              "    }\n",
              "</style>\n",
              "<table border=\"1\" class=\"dataframe\">\n",
              "  <thead>\n",
              "    <tr style=\"text-align: right;\">\n",
              "      <th></th>\n",
              "      <th>TYPE</th>\n",
              "      <th>STREET NAME</th>\n",
              "      <th>POSTCODE</th>\n",
              "      <th>PRICE</th>\n",
              "      <th>LIVING_AREA</th>\n",
              "      <th>ROOMS</th>\n",
              "    </tr>\n",
              "  </thead>\n",
              "  <tbody>\n",
              "    <tr>\n",
              "      <th>0</th>\n",
              "      <td>Apartment</td>\n",
              "      <td>Hoogstraat</td>\n",
              "      <td>5654</td>\n",
              "      <td>1190</td>\n",
              "      <td>80</td>\n",
              "      <td>3</td>\n",
              "    </tr>\n",
              "    <tr>\n",
              "      <th>1</th>\n",
              "      <td>Apartment</td>\n",
              "      <td>Hermanus</td>\n",
              "      <td>5611</td>\n",
              "      <td>675</td>\n",
              "      <td>20</td>\n",
              "      <td>1</td>\n",
              "    </tr>\n",
              "    <tr>\n",
              "      <th>2</th>\n",
              "      <td>Apartment</td>\n",
              "      <td>Genovevalaan</td>\n",
              "      <td>5625</td>\n",
              "      <td>1050</td>\n",
              "      <td>54</td>\n",
              "      <td>2</td>\n",
              "    </tr>\n",
              "    <tr>\n",
              "      <th>3</th>\n",
              "      <td>Apartment</td>\n",
              "      <td>St</td>\n",
              "      <td>5611</td>\n",
              "      <td>1250</td>\n",
              "      <td>75</td>\n",
              "      <td>3</td>\n",
              "    </tr>\n",
              "    <tr>\n",
              "      <th>4</th>\n",
              "      <td>House</td>\n",
              "      <td>Primulastraat</td>\n",
              "      <td>5644</td>\n",
              "      <td>2250</td>\n",
              "      <td>162</td>\n",
              "      <td>7</td>\n",
              "    </tr>\n",
              "    <tr>\n",
              "      <th>...</th>\n",
              "      <td>...</td>\n",
              "      <td>...</td>\n",
              "      <td>...</td>\n",
              "      <td>...</td>\n",
              "      <td>...</td>\n",
              "      <td>...</td>\n",
              "    </tr>\n",
              "    <tr>\n",
              "      <th>88</th>\n",
              "      <td>Apartment</td>\n",
              "      <td>Kruisstraat</td>\n",
              "      <td>5612</td>\n",
              "      <td>1000</td>\n",
              "      <td>45</td>\n",
              "      <td>2</td>\n",
              "    </tr>\n",
              "    <tr>\n",
              "      <th>89</th>\n",
              "      <td>Apartment</td>\n",
              "      <td>Morsestraat</td>\n",
              "      <td>5621</td>\n",
              "      <td>675</td>\n",
              "      <td>30</td>\n",
              "      <td>1</td>\n",
              "    </tr>\n",
              "    <tr>\n",
              "      <th>90</th>\n",
              "      <td>Apartment</td>\n",
              "      <td>Paradijslaan</td>\n",
              "      <td>5611</td>\n",
              "      <td>1245</td>\n",
              "      <td>110</td>\n",
              "      <td>3</td>\n",
              "    </tr>\n",
              "    <tr>\n",
              "      <th>91</th>\n",
              "      <td>Apartment</td>\n",
              "      <td>Kromakkerweg</td>\n",
              "      <td>5616</td>\n",
              "      <td>1175</td>\n",
              "      <td>65</td>\n",
              "      <td>2</td>\n",
              "    </tr>\n",
              "    <tr>\n",
              "      <th>92</th>\n",
              "      <td>Apartment</td>\n",
              "      <td>Kleine</td>\n",
              "      <td>5611</td>\n",
              "      <td>1050</td>\n",
              "      <td>45</td>\n",
              "      <td>2</td>\n",
              "    </tr>\n",
              "  </tbody>\n",
              "</table>\n",
              "<p>93 rows × 6 columns</p>\n",
              "</div>"
            ],
            "text/plain": [
              "         TYPE    STREET NAME POSTCODE PRICE LIVING_AREA ROOMS\n",
              "0   Apartment     Hoogstraat     5654  1190          80     3\n",
              "1   Apartment       Hermanus     5611   675          20     1\n",
              "2   Apartment   Genovevalaan     5625  1050          54     2\n",
              "3   Apartment             St     5611  1250          75     3\n",
              "4       House  Primulastraat     5644  2250         162     7\n",
              "..        ...            ...      ...   ...         ...   ...\n",
              "88  Apartment    Kruisstraat     5612  1000          45     2\n",
              "89  Apartment    Morsestraat     5621   675          30     1\n",
              "90  Apartment   Paradijslaan     5611  1245         110     3\n",
              "91  Apartment   Kromakkerweg     5616  1175          65     2\n",
              "92  Apartment         Kleine     5611  1050          45     2\n",
              "\n",
              "[93 rows x 6 columns]"
            ]
          },
          "metadata": {
            "tags": []
          },
          "execution_count": 21
        }
      ]
    },
    {
      "cell_type": "markdown",
      "metadata": {
        "id": "7BfHwW4rjw08"
      },
      "source": [
        "# **Data integration**\n",
        "\n",
        "\n",
        "\n",
        "> Using `Union` to integrate the scraped data from the three web pages.\n",
        "\n"
      ]
    },
    {
      "cell_type": "code",
      "metadata": {
        "id": "J5xbuFDihnXc"
      },
      "source": [
        "frames = [dataframe, df_]"
      ],
      "execution_count": null,
      "outputs": []
    },
    {
      "cell_type": "code",
      "metadata": {
        "colab": {
          "base_uri": "https://localhost:8080/",
          "height": 415
        },
        "id": "UfyranQchpAu",
        "outputId": "3a13fbb5-5f0a-4669-abd7-ab97e3a754ef"
      },
      "source": [
        "df = pd.concat(frames)\n",
        "df"
      ],
      "execution_count": null,
      "outputs": [
        {
          "output_type": "execute_result",
          "data": {
            "text/html": [
              "<div>\n",
              "<style scoped>\n",
              "    .dataframe tbody tr th:only-of-type {\n",
              "        vertical-align: middle;\n",
              "    }\n",
              "\n",
              "    .dataframe tbody tr th {\n",
              "        vertical-align: top;\n",
              "    }\n",
              "\n",
              "    .dataframe thead th {\n",
              "        text-align: right;\n",
              "    }\n",
              "</style>\n",
              "<table border=\"1\" class=\"dataframe\">\n",
              "  <thead>\n",
              "    <tr style=\"text-align: right;\">\n",
              "      <th></th>\n",
              "      <th>TYPE</th>\n",
              "      <th>STREET NAME</th>\n",
              "      <th>POSTCODE</th>\n",
              "      <th>PRICE</th>\n",
              "      <th>LIVING_AREA</th>\n",
              "      <th>ROOMS</th>\n",
              "    </tr>\n",
              "  </thead>\n",
              "  <tbody>\n",
              "    <tr>\n",
              "      <th>0</th>\n",
              "      <td>Kamer</td>\n",
              "      <td>Willem</td>\n",
              "      <td>5611</td>\n",
              "      <td>320</td>\n",
              "      <td>NaN</td>\n",
              "      <td>NaN</td>\n",
              "    </tr>\n",
              "    <tr>\n",
              "      <th>1</th>\n",
              "      <td>Kamer</td>\n",
              "      <td>Willem</td>\n",
              "      <td>5611</td>\n",
              "      <td>310</td>\n",
              "      <td>NaN</td>\n",
              "      <td>NaN</td>\n",
              "    </tr>\n",
              "    <tr>\n",
              "      <th>2</th>\n",
              "      <td>Kamer</td>\n",
              "      <td>Willem</td>\n",
              "      <td>5611</td>\n",
              "      <td>325</td>\n",
              "      <td>NaN</td>\n",
              "      <td>NaN</td>\n",
              "    </tr>\n",
              "    <tr>\n",
              "      <th>3</th>\n",
              "      <td>Kamer</td>\n",
              "      <td>Leenderweg</td>\n",
              "      <td>5643</td>\n",
              "      <td>580</td>\n",
              "      <td>NaN</td>\n",
              "      <td>NaN</td>\n",
              "    </tr>\n",
              "    <tr>\n",
              "      <th>4</th>\n",
              "      <td>Kamer</td>\n",
              "      <td>Jacob</td>\n",
              "      <td>5622</td>\n",
              "      <td>335</td>\n",
              "      <td>NaN</td>\n",
              "      <td>NaN</td>\n",
              "    </tr>\n",
              "    <tr>\n",
              "      <th>...</th>\n",
              "      <td>...</td>\n",
              "      <td>...</td>\n",
              "      <td>...</td>\n",
              "      <td>...</td>\n",
              "      <td>...</td>\n",
              "      <td>...</td>\n",
              "    </tr>\n",
              "    <tr>\n",
              "      <th>88</th>\n",
              "      <td>Apartment</td>\n",
              "      <td>Kruisstraat</td>\n",
              "      <td>5612</td>\n",
              "      <td>1000</td>\n",
              "      <td>45</td>\n",
              "      <td>2</td>\n",
              "    </tr>\n",
              "    <tr>\n",
              "      <th>89</th>\n",
              "      <td>Apartment</td>\n",
              "      <td>Morsestraat</td>\n",
              "      <td>5621</td>\n",
              "      <td>675</td>\n",
              "      <td>30</td>\n",
              "      <td>1</td>\n",
              "    </tr>\n",
              "    <tr>\n",
              "      <th>90</th>\n",
              "      <td>Apartment</td>\n",
              "      <td>Paradijslaan</td>\n",
              "      <td>5611</td>\n",
              "      <td>1245</td>\n",
              "      <td>110</td>\n",
              "      <td>3</td>\n",
              "    </tr>\n",
              "    <tr>\n",
              "      <th>91</th>\n",
              "      <td>Apartment</td>\n",
              "      <td>Kromakkerweg</td>\n",
              "      <td>5616</td>\n",
              "      <td>1175</td>\n",
              "      <td>65</td>\n",
              "      <td>2</td>\n",
              "    </tr>\n",
              "    <tr>\n",
              "      <th>92</th>\n",
              "      <td>Apartment</td>\n",
              "      <td>Kleine</td>\n",
              "      <td>5611</td>\n",
              "      <td>1050</td>\n",
              "      <td>45</td>\n",
              "      <td>2</td>\n",
              "    </tr>\n",
              "  </tbody>\n",
              "</table>\n",
              "<p>219 rows × 6 columns</p>\n",
              "</div>"
            ],
            "text/plain": [
              "         TYPE   STREET NAME POSTCODE PRICE LIVING_AREA ROOMS\n",
              "0       Kamer        Willem     5611   320         NaN   NaN\n",
              "1       Kamer        Willem     5611   310         NaN   NaN\n",
              "2       Kamer        Willem     5611   325         NaN   NaN\n",
              "3       Kamer    Leenderweg     5643   580         NaN   NaN\n",
              "4       Kamer         Jacob     5622   335         NaN   NaN\n",
              "..        ...           ...      ...   ...         ...   ...\n",
              "88  Apartment   Kruisstraat     5612  1000          45     2\n",
              "89  Apartment   Morsestraat     5621   675          30     1\n",
              "90  Apartment  Paradijslaan     5611  1245         110     3\n",
              "91  Apartment  Kromakkerweg     5616  1175          65     2\n",
              "92  Apartment        Kleine     5611  1050          45     2\n",
              "\n",
              "[219 rows x 6 columns]"
            ]
          },
          "metadata": {
            "tags": []
          },
          "execution_count": 32
        }
      ]
    },
    {
      "cell_type": "markdown",
      "metadata": {
        "id": "TS21WNy8ioVI"
      },
      "source": [
        "# **Data analysis**"
      ]
    },
    {
      "cell_type": "markdown",
      "metadata": {
        "id": "hepYdjarq3_i"
      },
      "source": [
        "Here we can see the shape of our data with the .shape. Here we see that we have 182 rows and 7 columns. However, the rows are always changing because the data is always up to date by using the web scraping technique."
      ]
    },
    {
      "cell_type": "markdown",
      "metadata": {
        "id": "aH3W-fA8Vzgq"
      },
      "source": [
        "\n",
        "\n",
        "Checking the dimension of the dataset\n",
        "\n",
        "\n",
        "\n"
      ]
    },
    {
      "cell_type": "code",
      "metadata": {
        "colab": {
          "base_uri": "https://localhost:8080/"
        },
        "id": "27Yg9C7Xpekl",
        "outputId": "0c6b65da-d083-46de-ee6a-a4a95a494af7"
      },
      "source": [
        "df.shape"
      ],
      "execution_count": null,
      "outputs": [
        {
          "output_type": "execute_result",
          "data": {
            "text/plain": [
              "(219, 6)"
            ]
          },
          "metadata": {
            "tags": []
          },
          "execution_count": 33
        }
      ]
    },
    {
      "cell_type": "code",
      "metadata": {
        "colab": {
          "base_uri": "https://localhost:8080/"
        },
        "id": "58aE1NgaL2mB",
        "outputId": "986b68af-a6cb-412d-a2ee-985000696261"
      },
      "source": [
        "df.info()"
      ],
      "execution_count": null,
      "outputs": [
        {
          "output_type": "stream",
          "text": [
            "<class 'pandas.core.frame.DataFrame'>\n",
            "Int64Index: 219 entries, 0 to 92\n",
            "Data columns (total 6 columns):\n",
            " #   Column       Non-Null Count  Dtype \n",
            "---  ------       --------------  ----- \n",
            " 0   TYPE         219 non-null    object\n",
            " 1   STREET NAME  219 non-null    object\n",
            " 2   POSTCODE     219 non-null    object\n",
            " 3   PRICE        219 non-null    object\n",
            " 4   LIVING_AREA  93 non-null     object\n",
            " 5   ROOMS        93 non-null     object\n",
            "dtypes: object(6)\n",
            "memory usage: 12.0+ KB\n"
          ],
          "name": "stdout"
        }
      ]
    },
    {
      "cell_type": "code",
      "metadata": {
        "colab": {
          "base_uri": "https://localhost:8080/",
          "height": 171
        },
        "id": "zoWWB8aeL5LR",
        "outputId": "edeb92c4-8a68-43b0-90b2-3326423d2220"
      },
      "source": [
        "df.describe()"
      ],
      "execution_count": null,
      "outputs": [
        {
          "output_type": "execute_result",
          "data": {
            "text/html": [
              "<div>\n",
              "<style scoped>\n",
              "    .dataframe tbody tr th:only-of-type {\n",
              "        vertical-align: middle;\n",
              "    }\n",
              "\n",
              "    .dataframe tbody tr th {\n",
              "        vertical-align: top;\n",
              "    }\n",
              "\n",
              "    .dataframe thead th {\n",
              "        text-align: right;\n",
              "    }\n",
              "</style>\n",
              "<table border=\"1\" class=\"dataframe\">\n",
              "  <thead>\n",
              "    <tr style=\"text-align: right;\">\n",
              "      <th></th>\n",
              "      <th>TYPE</th>\n",
              "      <th>STREET NAME</th>\n",
              "      <th>POSTCODE</th>\n",
              "      <th>PRICE</th>\n",
              "      <th>LIVING_AREA</th>\n",
              "      <th>ROOMS</th>\n",
              "    </tr>\n",
              "  </thead>\n",
              "  <tbody>\n",
              "    <tr>\n",
              "      <th>count</th>\n",
              "      <td>219</td>\n",
              "      <td>219</td>\n",
              "      <td>219</td>\n",
              "      <td>219</td>\n",
              "      <td>93</td>\n",
              "      <td>93</td>\n",
              "    </tr>\n",
              "    <tr>\n",
              "      <th>unique</th>\n",
              "      <td>6</td>\n",
              "      <td>105</td>\n",
              "      <td>23</td>\n",
              "      <td>112</td>\n",
              "      <td>53</td>\n",
              "      <td>6</td>\n",
              "    </tr>\n",
              "    <tr>\n",
              "      <th>top</th>\n",
              "      <td>Apartment</td>\n",
              "      <td>Philitelaan</td>\n",
              "      <td>5611</td>\n",
              "      <td>415</td>\n",
              "      <td>50</td>\n",
              "      <td>2</td>\n",
              "    </tr>\n",
              "    <tr>\n",
              "      <th>freq</th>\n",
              "      <td>80</td>\n",
              "      <td>11</td>\n",
              "      <td>38</td>\n",
              "      <td>15</td>\n",
              "      <td>9</td>\n",
              "      <td>36</td>\n",
              "    </tr>\n",
              "  </tbody>\n",
              "</table>\n",
              "</div>"
            ],
            "text/plain": [
              "             TYPE  STREET NAME POSTCODE PRICE LIVING_AREA ROOMS\n",
              "count         219          219      219   219          93    93\n",
              "unique          6          105       23   112          53     6\n",
              "top     Apartment  Philitelaan     5611   415          50     2\n",
              "freq           80           11       38    15           9    36"
            ]
          },
          "metadata": {
            "tags": []
          },
          "execution_count": 38
        }
      ]
    },
    {
      "cell_type": "code",
      "metadata": {
        "colab": {
          "base_uri": "https://localhost:8080/",
          "height": 202
        },
        "id": "uAQLjA0JL6rp",
        "outputId": "093c6925-6986-4a3f-e1ef-05ed1de02279"
      },
      "source": [
        "df.head()"
      ],
      "execution_count": null,
      "outputs": [
        {
          "output_type": "execute_result",
          "data": {
            "text/html": [
              "<div>\n",
              "<style scoped>\n",
              "    .dataframe tbody tr th:only-of-type {\n",
              "        vertical-align: middle;\n",
              "    }\n",
              "\n",
              "    .dataframe tbody tr th {\n",
              "        vertical-align: top;\n",
              "    }\n",
              "\n",
              "    .dataframe thead th {\n",
              "        text-align: right;\n",
              "    }\n",
              "</style>\n",
              "<table border=\"1\" class=\"dataframe\">\n",
              "  <thead>\n",
              "    <tr style=\"text-align: right;\">\n",
              "      <th></th>\n",
              "      <th>TYPE</th>\n",
              "      <th>STREET NAME</th>\n",
              "      <th>POSTCODE</th>\n",
              "      <th>PRICE</th>\n",
              "      <th>LIVING_AREA</th>\n",
              "      <th>ROOMS</th>\n",
              "    </tr>\n",
              "  </thead>\n",
              "  <tbody>\n",
              "    <tr>\n",
              "      <th>0</th>\n",
              "      <td>Kamer</td>\n",
              "      <td>Willem</td>\n",
              "      <td>5611</td>\n",
              "      <td>320</td>\n",
              "      <td>NaN</td>\n",
              "      <td>NaN</td>\n",
              "    </tr>\n",
              "    <tr>\n",
              "      <th>1</th>\n",
              "      <td>Kamer</td>\n",
              "      <td>Willem</td>\n",
              "      <td>5611</td>\n",
              "      <td>310</td>\n",
              "      <td>NaN</td>\n",
              "      <td>NaN</td>\n",
              "    </tr>\n",
              "    <tr>\n",
              "      <th>2</th>\n",
              "      <td>Kamer</td>\n",
              "      <td>Willem</td>\n",
              "      <td>5611</td>\n",
              "      <td>325</td>\n",
              "      <td>NaN</td>\n",
              "      <td>NaN</td>\n",
              "    </tr>\n",
              "    <tr>\n",
              "      <th>3</th>\n",
              "      <td>Kamer</td>\n",
              "      <td>Leenderweg</td>\n",
              "      <td>5643</td>\n",
              "      <td>580</td>\n",
              "      <td>NaN</td>\n",
              "      <td>NaN</td>\n",
              "    </tr>\n",
              "    <tr>\n",
              "      <th>4</th>\n",
              "      <td>Kamer</td>\n",
              "      <td>Jacob</td>\n",
              "      <td>5622</td>\n",
              "      <td>335</td>\n",
              "      <td>NaN</td>\n",
              "      <td>NaN</td>\n",
              "    </tr>\n",
              "  </tbody>\n",
              "</table>\n",
              "</div>"
            ],
            "text/plain": [
              "    TYPE STREET NAME POSTCODE PRICE LIVING_AREA ROOMS\n",
              "0  Kamer      Willem     5611   320         NaN   NaN\n",
              "1  Kamer      Willem     5611   310         NaN   NaN\n",
              "2  Kamer      Willem     5611   325         NaN   NaN\n",
              "3  Kamer  Leenderweg     5643   580         NaN   NaN\n",
              "4  Kamer       Jacob     5622   335         NaN   NaN"
            ]
          },
          "metadata": {
            "tags": []
          },
          "execution_count": 39
        }
      ]
    },
    {
      "cell_type": "code",
      "metadata": {
        "colab": {
          "base_uri": "https://localhost:8080/",
          "height": 202
        },
        "id": "eDLlCPA_L8b4",
        "outputId": "d2428703-2c9b-4368-b8a5-8d847e6acda3"
      },
      "source": [
        "df.tail()"
      ],
      "execution_count": null,
      "outputs": [
        {
          "output_type": "execute_result",
          "data": {
            "text/html": [
              "<div>\n",
              "<style scoped>\n",
              "    .dataframe tbody tr th:only-of-type {\n",
              "        vertical-align: middle;\n",
              "    }\n",
              "\n",
              "    .dataframe tbody tr th {\n",
              "        vertical-align: top;\n",
              "    }\n",
              "\n",
              "    .dataframe thead th {\n",
              "        text-align: right;\n",
              "    }\n",
              "</style>\n",
              "<table border=\"1\" class=\"dataframe\">\n",
              "  <thead>\n",
              "    <tr style=\"text-align: right;\">\n",
              "      <th></th>\n",
              "      <th>TYPE</th>\n",
              "      <th>STREET NAME</th>\n",
              "      <th>POSTCODE</th>\n",
              "      <th>PRICE</th>\n",
              "      <th>LIVING_AREA</th>\n",
              "      <th>ROOMS</th>\n",
              "    </tr>\n",
              "  </thead>\n",
              "  <tbody>\n",
              "    <tr>\n",
              "      <th>88</th>\n",
              "      <td>Apartment</td>\n",
              "      <td>Kruisstraat</td>\n",
              "      <td>5612</td>\n",
              "      <td>1000</td>\n",
              "      <td>45</td>\n",
              "      <td>2</td>\n",
              "    </tr>\n",
              "    <tr>\n",
              "      <th>89</th>\n",
              "      <td>Apartment</td>\n",
              "      <td>Morsestraat</td>\n",
              "      <td>5621</td>\n",
              "      <td>675</td>\n",
              "      <td>30</td>\n",
              "      <td>1</td>\n",
              "    </tr>\n",
              "    <tr>\n",
              "      <th>90</th>\n",
              "      <td>Apartment</td>\n",
              "      <td>Paradijslaan</td>\n",
              "      <td>5611</td>\n",
              "      <td>1245</td>\n",
              "      <td>110</td>\n",
              "      <td>3</td>\n",
              "    </tr>\n",
              "    <tr>\n",
              "      <th>91</th>\n",
              "      <td>Apartment</td>\n",
              "      <td>Kromakkerweg</td>\n",
              "      <td>5616</td>\n",
              "      <td>1175</td>\n",
              "      <td>65</td>\n",
              "      <td>2</td>\n",
              "    </tr>\n",
              "    <tr>\n",
              "      <th>92</th>\n",
              "      <td>Apartment</td>\n",
              "      <td>Kleine</td>\n",
              "      <td>5611</td>\n",
              "      <td>1050</td>\n",
              "      <td>45</td>\n",
              "      <td>2</td>\n",
              "    </tr>\n",
              "  </tbody>\n",
              "</table>\n",
              "</div>"
            ],
            "text/plain": [
              "         TYPE   STREET NAME POSTCODE PRICE LIVING_AREA ROOMS\n",
              "88  Apartment   Kruisstraat     5612  1000          45     2\n",
              "89  Apartment   Morsestraat     5621   675          30     1\n",
              "90  Apartment  Paradijslaan     5611  1245         110     3\n",
              "91  Apartment  Kromakkerweg     5616  1175          65     2\n",
              "92  Apartment        Kleine     5611  1050          45     2"
            ]
          },
          "metadata": {
            "tags": []
          },
          "execution_count": 40
        }
      ]
    },
    {
      "cell_type": "code",
      "metadata": {
        "colab": {
          "base_uri": "https://localhost:8080/"
        },
        "id": "kl9c78mpMEAW",
        "outputId": "a5ce82d0-34f3-4c5c-9bad-598fb6529e78"
      },
      "source": [
        "df.iloc[0]"
      ],
      "execution_count": null,
      "outputs": [
        {
          "output_type": "execute_result",
          "data": {
            "text/plain": [
              "TYPE            Kamer\n",
              "STREET NAME    Willem\n",
              "POSTCODE         5611\n",
              "PRICE             320\n",
              "LIVING_AREA       NaN\n",
              "ROOMS             NaN\n",
              "Name: 0, dtype: object"
            ]
          },
          "metadata": {
            "tags": []
          },
          "execution_count": 41
        }
      ]
    },
    {
      "cell_type": "code",
      "metadata": {
        "colab": {
          "base_uri": "https://localhost:8080/",
          "height": 785
        },
        "id": "5O0fuQb0rgzQ",
        "outputId": "6ec8df71-59eb-4f4c-d649-97a5cf598602"
      },
      "source": [
        "df.groupby('POSTCODE').count()"
      ],
      "execution_count": null,
      "outputs": [
        {
          "output_type": "execute_result",
          "data": {
            "text/html": [
              "<div>\n",
              "<style scoped>\n",
              "    .dataframe tbody tr th:only-of-type {\n",
              "        vertical-align: middle;\n",
              "    }\n",
              "\n",
              "    .dataframe tbody tr th {\n",
              "        vertical-align: top;\n",
              "    }\n",
              "\n",
              "    .dataframe thead th {\n",
              "        text-align: right;\n",
              "    }\n",
              "</style>\n",
              "<table border=\"1\" class=\"dataframe\">\n",
              "  <thead>\n",
              "    <tr style=\"text-align: right;\">\n",
              "      <th></th>\n",
              "      <th>TYPE</th>\n",
              "      <th>STREET NAME</th>\n",
              "      <th>PRICE</th>\n",
              "      <th>LIVING_AREA</th>\n",
              "      <th>ROOMS</th>\n",
              "    </tr>\n",
              "    <tr>\n",
              "      <th>POSTCODE</th>\n",
              "      <th></th>\n",
              "      <th></th>\n",
              "      <th></th>\n",
              "      <th></th>\n",
              "      <th></th>\n",
              "    </tr>\n",
              "  </thead>\n",
              "  <tbody>\n",
              "    <tr>\n",
              "      <th>5503</th>\n",
              "      <td>1</td>\n",
              "      <td>1</td>\n",
              "      <td>1</td>\n",
              "      <td>0</td>\n",
              "      <td>0</td>\n",
              "    </tr>\n",
              "    <tr>\n",
              "      <th>5611</th>\n",
              "      <td>38</td>\n",
              "      <td>38</td>\n",
              "      <td>38</td>\n",
              "      <td>21</td>\n",
              "      <td>21</td>\n",
              "    </tr>\n",
              "    <tr>\n",
              "      <th>5612</th>\n",
              "      <td>27</td>\n",
              "      <td>27</td>\n",
              "      <td>27</td>\n",
              "      <td>10</td>\n",
              "      <td>10</td>\n",
              "    </tr>\n",
              "    <tr>\n",
              "      <th>5613</th>\n",
              "      <td>9</td>\n",
              "      <td>9</td>\n",
              "      <td>9</td>\n",
              "      <td>4</td>\n",
              "      <td>4</td>\n",
              "    </tr>\n",
              "    <tr>\n",
              "      <th>5614</th>\n",
              "      <td>16</td>\n",
              "      <td>16</td>\n",
              "      <td>16</td>\n",
              "      <td>4</td>\n",
              "      <td>4</td>\n",
              "    </tr>\n",
              "    <tr>\n",
              "      <th>5615</th>\n",
              "      <td>11</td>\n",
              "      <td>11</td>\n",
              "      <td>11</td>\n",
              "      <td>4</td>\n",
              "      <td>4</td>\n",
              "    </tr>\n",
              "    <tr>\n",
              "      <th>5616</th>\n",
              "      <td>11</td>\n",
              "      <td>11</td>\n",
              "      <td>11</td>\n",
              "      <td>7</td>\n",
              "      <td>7</td>\n",
              "    </tr>\n",
              "    <tr>\n",
              "      <th>5617</th>\n",
              "      <td>11</td>\n",
              "      <td>11</td>\n",
              "      <td>11</td>\n",
              "      <td>11</td>\n",
              "      <td>11</td>\n",
              "    </tr>\n",
              "    <tr>\n",
              "      <th>5621</th>\n",
              "      <td>10</td>\n",
              "      <td>10</td>\n",
              "      <td>10</td>\n",
              "      <td>3</td>\n",
              "      <td>3</td>\n",
              "    </tr>\n",
              "    <tr>\n",
              "      <th>5622</th>\n",
              "      <td>6</td>\n",
              "      <td>6</td>\n",
              "      <td>6</td>\n",
              "      <td>1</td>\n",
              "      <td>1</td>\n",
              "    </tr>\n",
              "    <tr>\n",
              "      <th>5623</th>\n",
              "      <td>13</td>\n",
              "      <td>13</td>\n",
              "      <td>13</td>\n",
              "      <td>3</td>\n",
              "      <td>3</td>\n",
              "    </tr>\n",
              "    <tr>\n",
              "      <th>5624</th>\n",
              "      <td>1</td>\n",
              "      <td>1</td>\n",
              "      <td>1</td>\n",
              "      <td>0</td>\n",
              "      <td>0</td>\n",
              "    </tr>\n",
              "    <tr>\n",
              "      <th>5625</th>\n",
              "      <td>4</td>\n",
              "      <td>4</td>\n",
              "      <td>4</td>\n",
              "      <td>2</td>\n",
              "      <td>2</td>\n",
              "    </tr>\n",
              "    <tr>\n",
              "      <th>5629</th>\n",
              "      <td>1</td>\n",
              "      <td>1</td>\n",
              "      <td>1</td>\n",
              "      <td>1</td>\n",
              "      <td>1</td>\n",
              "    </tr>\n",
              "    <tr>\n",
              "      <th>5631</th>\n",
              "      <td>4</td>\n",
              "      <td>4</td>\n",
              "      <td>4</td>\n",
              "      <td>1</td>\n",
              "      <td>1</td>\n",
              "    </tr>\n",
              "    <tr>\n",
              "      <th>5632</th>\n",
              "      <td>1</td>\n",
              "      <td>1</td>\n",
              "      <td>1</td>\n",
              "      <td>1</td>\n",
              "      <td>1</td>\n",
              "    </tr>\n",
              "    <tr>\n",
              "      <th>5641</th>\n",
              "      <td>1</td>\n",
              "      <td>1</td>\n",
              "      <td>1</td>\n",
              "      <td>1</td>\n",
              "      <td>1</td>\n",
              "    </tr>\n",
              "    <tr>\n",
              "      <th>5642</th>\n",
              "      <td>6</td>\n",
              "      <td>6</td>\n",
              "      <td>6</td>\n",
              "      <td>1</td>\n",
              "      <td>1</td>\n",
              "    </tr>\n",
              "    <tr>\n",
              "      <th>5643</th>\n",
              "      <td>15</td>\n",
              "      <td>15</td>\n",
              "      <td>15</td>\n",
              "      <td>4</td>\n",
              "      <td>4</td>\n",
              "    </tr>\n",
              "    <tr>\n",
              "      <th>5644</th>\n",
              "      <td>5</td>\n",
              "      <td>5</td>\n",
              "      <td>5</td>\n",
              "      <td>2</td>\n",
              "      <td>2</td>\n",
              "    </tr>\n",
              "    <tr>\n",
              "      <th>5651</th>\n",
              "      <td>6</td>\n",
              "      <td>6</td>\n",
              "      <td>6</td>\n",
              "      <td>2</td>\n",
              "      <td>2</td>\n",
              "    </tr>\n",
              "    <tr>\n",
              "      <th>5653</th>\n",
              "      <td>8</td>\n",
              "      <td>8</td>\n",
              "      <td>8</td>\n",
              "      <td>3</td>\n",
              "      <td>3</td>\n",
              "    </tr>\n",
              "    <tr>\n",
              "      <th>5654</th>\n",
              "      <td>14</td>\n",
              "      <td>14</td>\n",
              "      <td>14</td>\n",
              "      <td>7</td>\n",
              "      <td>7</td>\n",
              "    </tr>\n",
              "  </tbody>\n",
              "</table>\n",
              "</div>"
            ],
            "text/plain": [
              "          TYPE  STREET NAME  PRICE  LIVING_AREA  ROOMS\n",
              "POSTCODE                                              \n",
              "5503         1            1      1            0      0\n",
              "5611        38           38     38           21     21\n",
              "5612        27           27     27           10     10\n",
              "5613         9            9      9            4      4\n",
              "5614        16           16     16            4      4\n",
              "5615        11           11     11            4      4\n",
              "5616        11           11     11            7      7\n",
              "5617        11           11     11           11     11\n",
              "5621        10           10     10            3      3\n",
              "5622         6            6      6            1      1\n",
              "5623        13           13     13            3      3\n",
              "5624         1            1      1            0      0\n",
              "5625         4            4      4            2      2\n",
              "5629         1            1      1            1      1\n",
              "5631         4            4      4            1      1\n",
              "5632         1            1      1            1      1\n",
              "5641         1            1      1            1      1\n",
              "5642         6            6      6            1      1\n",
              "5643        15           15     15            4      4\n",
              "5644         5            5      5            2      2\n",
              "5651         6            6      6            2      2\n",
              "5653         8            8      8            3      3\n",
              "5654        14           14     14            7      7"
            ]
          },
          "metadata": {
            "tags": []
          },
          "execution_count": 42
        }
      ]
    },
    {
      "cell_type": "code",
      "metadata": {
        "id": "rQgPsfySBmH8",
        "colab": {
          "base_uri": "https://localhost:8080/",
          "height": 391
        },
        "outputId": "7d894b1f-914b-40bf-bf80-70fad8798075"
      },
      "source": [
        "df[(df['POSTCODE'] == '5612')]['STREET NAME'].value_counts().plot(kind='barh', figsize=(6, 6))"
      ],
      "execution_count": null,
      "outputs": [
        {
          "output_type": "execute_result",
          "data": {
            "text/plain": [
              "<matplotlib.axes._subplots.AxesSubplot at 0x7f0381a2a090>"
            ]
          },
          "metadata": {
            "tags": []
          },
          "execution_count": 51
        },
        {
          "output_type": "display_data",
          "data": {
            "image/png": "[encoded data removed]",
            "text/plain": [
              "<Figure size 432x432 with 1 Axes>"
            ]
          },
          "metadata": {
            "tags": [],
            "needs_background": "light"
          }
        }
      ]
    },
    {
      "cell_type": "code",
      "metadata": {
        "colab": {
          "base_uri": "https://localhost:8080/",
          "height": 415
        },
        "id": "yzPvRWQDMGDl",
        "outputId": "bf27a6aa-3d74-4f17-837a-3b6c74bc9161"
      },
      "source": [
        "df.sort_values('TYPE', ascending = True)"
      ],
      "execution_count": null,
      "outputs": [
        {
          "output_type": "execute_result",
          "data": {
            "text/html": [
              "<div>\n",
              "<style scoped>\n",
              "    .dataframe tbody tr th:only-of-type {\n",
              "        vertical-align: middle;\n",
              "    }\n",
              "\n",
              "    .dataframe tbody tr th {\n",
              "        vertical-align: top;\n",
              "    }\n",
              "\n",
              "    .dataframe thead th {\n",
              "        text-align: right;\n",
              "    }\n",
              "</style>\n",
              "<table border=\"1\" class=\"dataframe\">\n",
              "  <thead>\n",
              "    <tr style=\"text-align: right;\">\n",
              "      <th></th>\n",
              "      <th>TYPE</th>\n",
              "      <th>STREET NAME</th>\n",
              "      <th>POSTCODE</th>\n",
              "      <th>PRICE</th>\n",
              "      <th>LIVING_AREA</th>\n",
              "      <th>ROOMS</th>\n",
              "    </tr>\n",
              "  </thead>\n",
              "  <tbody>\n",
              "    <tr>\n",
              "      <th>92</th>\n",
              "      <td>Apartment</td>\n",
              "      <td>Kleine</td>\n",
              "      <td>5611</td>\n",
              "      <td>1050</td>\n",
              "      <td>45</td>\n",
              "      <td>2</td>\n",
              "    </tr>\n",
              "    <tr>\n",
              "      <th>25</th>\n",
              "      <td>Apartment</td>\n",
              "      <td>Philitelaan</td>\n",
              "      <td>5617</td>\n",
              "      <td>940</td>\n",
              "      <td>52</td>\n",
              "      <td>1</td>\n",
              "    </tr>\n",
              "    <tr>\n",
              "      <th>26</th>\n",
              "      <td>Apartment</td>\n",
              "      <td>Philitelaan</td>\n",
              "      <td>5617</td>\n",
              "      <td>1200</td>\n",
              "      <td>72</td>\n",
              "      <td>3</td>\n",
              "    </tr>\n",
              "    <tr>\n",
              "      <th>27</th>\n",
              "      <td>Apartment</td>\n",
              "      <td>Philitelaan</td>\n",
              "      <td>5617</td>\n",
              "      <td>800</td>\n",
              "      <td>45</td>\n",
              "      <td>1</td>\n",
              "    </tr>\n",
              "    <tr>\n",
              "      <th>28</th>\n",
              "      <td>Apartment</td>\n",
              "      <td>Philitelaan</td>\n",
              "      <td>5617</td>\n",
              "      <td>1200</td>\n",
              "      <td>73</td>\n",
              "      <td>3</td>\n",
              "    </tr>\n",
              "    <tr>\n",
              "      <th>...</th>\n",
              "      <td>...</td>\n",
              "      <td>...</td>\n",
              "      <td>...</td>\n",
              "      <td>...</td>\n",
              "      <td>...</td>\n",
              "      <td>...</td>\n",
              "    </tr>\n",
              "    <tr>\n",
              "      <th>64</th>\n",
              "      <td>Studio</td>\n",
              "      <td>Woenselsestraat</td>\n",
              "      <td>5623</td>\n",
              "      <td>520</td>\n",
              "      <td>NaN</td>\n",
              "      <td>NaN</td>\n",
              "    </tr>\n",
              "    <tr>\n",
              "      <th>66</th>\n",
              "      <td>Studio</td>\n",
              "      <td>Heistraat</td>\n",
              "      <td>5614</td>\n",
              "      <td>550</td>\n",
              "      <td>NaN</td>\n",
              "      <td>NaN</td>\n",
              "    </tr>\n",
              "    <tr>\n",
              "      <th>67</th>\n",
              "      <td>Studio</td>\n",
              "      <td>Boschdijk</td>\n",
              "      <td>5612</td>\n",
              "      <td>570</td>\n",
              "      <td>NaN</td>\n",
              "      <td>NaN</td>\n",
              "    </tr>\n",
              "    <tr>\n",
              "      <th>69</th>\n",
              "      <td>Studio</td>\n",
              "      <td>Hendrik</td>\n",
              "      <td>5616</td>\n",
              "      <td>655</td>\n",
              "      <td>NaN</td>\n",
              "      <td>NaN</td>\n",
              "    </tr>\n",
              "    <tr>\n",
              "      <th>49</th>\n",
              "      <td>Studio</td>\n",
              "      <td>Van</td>\n",
              "      <td>5612</td>\n",
              "      <td>614</td>\n",
              "      <td>NaN</td>\n",
              "      <td>NaN</td>\n",
              "    </tr>\n",
              "  </tbody>\n",
              "</table>\n",
              "<p>219 rows × 6 columns</p>\n",
              "</div>"
            ],
            "text/plain": [
              "         TYPE      STREET NAME POSTCODE PRICE LIVING_AREA ROOMS\n",
              "92  Apartment           Kleine     5611  1050          45     2\n",
              "25  Apartment      Philitelaan     5617   940          52     1\n",
              "26  Apartment      Philitelaan     5617  1200          72     3\n",
              "27  Apartment      Philitelaan     5617   800          45     1\n",
              "28  Apartment      Philitelaan     5617  1200          73     3\n",
              "..        ...              ...      ...   ...         ...   ...\n",
              "64     Studio  Woenselsestraat     5623   520         NaN   NaN\n",
              "66     Studio        Heistraat     5614   550         NaN   NaN\n",
              "67     Studio        Boschdijk     5612   570         NaN   NaN\n",
              "69     Studio          Hendrik     5616   655         NaN   NaN\n",
              "49     Studio              Van     5612   614         NaN   NaN\n",
              "\n",
              "[219 rows x 6 columns]"
            ]
          },
          "metadata": {
            "tags": []
          },
          "execution_count": 52
        }
      ]
    },
    {
      "cell_type": "markdown",
      "metadata": {
        "id": "rC_WI0-xVGEX"
      },
      "source": [
        "There are no missing values in the dataset."
      ]
    },
    {
      "cell_type": "code",
      "metadata": {
        "colab": {
          "base_uri": "https://localhost:8080/"
        },
        "id": "cQKZ65_XMHzt",
        "outputId": "b2edfe17-64e8-49b2-dc8d-679f0cf1817b"
      },
      "source": [
        "df.isnull().sum()"
      ],
      "execution_count": null,
      "outputs": [
        {
          "output_type": "execute_result",
          "data": {
            "text/plain": [
              "TYPE             0\n",
              "STREET NAME      0\n",
              "POSTCODE         0\n",
              "PRICE            0\n",
              "LIVING_AREA    126\n",
              "ROOMS          126\n",
              "dtype: int64"
            ]
          },
          "metadata": {
            "tags": []
          },
          "execution_count": 53
        }
      ]
    },
    {
      "cell_type": "code",
      "metadata": {
        "colab": {
          "base_uri": "https://localhost:8080/",
          "height": 110
        },
        "id": "2HyNyYJ-VFrZ",
        "outputId": "70091583-3d98-4444-8cd1-5b2807f87df2"
      },
      "source": [
        "# Find columns with missing values and their percent missing\n",
        "df.isnull().sum()                                                     \n",
        "miss_val = df.isnull().sum().sort_values(ascending=False)\n",
        "miss_val = pd.DataFrame(data=df.isnull().sum().sort_values(ascending=False), columns=['MissvalCount'])\n",
        "\n",
        "# Add a new column to the dataframe and fill it with the percentage of missing values\n",
        "miss_val['Percent'] = miss_val.MissvalCount.apply(lambda x : '{:.2f}'.format(float(x)/df.shape[0] * 100)) \n",
        "miss_val = miss_val[miss_val.MissvalCount > 0]\n",
        "miss_val"
      ],
      "execution_count": null,
      "outputs": [
        {
          "output_type": "execute_result",
          "data": {
            "text/html": [
              "<div>\n",
              "<style scoped>\n",
              "    .dataframe tbody tr th:only-of-type {\n",
              "        vertical-align: middle;\n",
              "    }\n",
              "\n",
              "    .dataframe tbody tr th {\n",
              "        vertical-align: top;\n",
              "    }\n",
              "\n",
              "    .dataframe thead th {\n",
              "        text-align: right;\n",
              "    }\n",
              "</style>\n",
              "<table border=\"1\" class=\"dataframe\">\n",
              "  <thead>\n",
              "    <tr style=\"text-align: right;\">\n",
              "      <th></th>\n",
              "      <th>MissvalCount</th>\n",
              "      <th>Percent</th>\n",
              "    </tr>\n",
              "  </thead>\n",
              "  <tbody>\n",
              "    <tr>\n",
              "      <th>ROOMS</th>\n",
              "      <td>126</td>\n",
              "      <td>57.53</td>\n",
              "    </tr>\n",
              "    <tr>\n",
              "      <th>LIVING_AREA</th>\n",
              "      <td>126</td>\n",
              "      <td>57.53</td>\n",
              "    </tr>\n",
              "  </tbody>\n",
              "</table>\n",
              "</div>"
            ],
            "text/plain": [
              "             MissvalCount Percent\n",
              "ROOMS                 126   57.53\n",
              "LIVING_AREA           126   57.53"
            ]
          },
          "metadata": {
            "tags": []
          },
          "execution_count": 55
        }
      ]
    },
    {
      "cell_type": "code",
      "metadata": {
        "colab": {
          "base_uri": "https://localhost:8080/",
          "height": 415
        },
        "id": "trvSVgEvevNz",
        "outputId": "0ede4ab6-839a-4ee8-e894-0dcae2412c68"
      },
      "source": [
        "df.replace(np.nan,0)"
      ],
      "execution_count": null,
      "outputs": [
        {
          "output_type": "execute_result",
          "data": {
            "text/html": [
              "<div>\n",
              "<style scoped>\n",
              "    .dataframe tbody tr th:only-of-type {\n",
              "        vertical-align: middle;\n",
              "    }\n",
              "\n",
              "    .dataframe tbody tr th {\n",
              "        vertical-align: top;\n",
              "    }\n",
              "\n",
              "    .dataframe thead th {\n",
              "        text-align: right;\n",
              "    }\n",
              "</style>\n",
              "<table border=\"1\" class=\"dataframe\">\n",
              "  <thead>\n",
              "    <tr style=\"text-align: right;\">\n",
              "      <th></th>\n",
              "      <th>TYPE</th>\n",
              "      <th>STREET NAME</th>\n",
              "      <th>POSTCODE</th>\n",
              "      <th>PRICE</th>\n",
              "      <th>LIVING_AREA</th>\n",
              "      <th>ROOMS</th>\n",
              "    </tr>\n",
              "  </thead>\n",
              "  <tbody>\n",
              "    <tr>\n",
              "      <th>0</th>\n",
              "      <td>Kamer</td>\n",
              "      <td>Willem</td>\n",
              "      <td>5611</td>\n",
              "      <td>320</td>\n",
              "      <td>0</td>\n",
              "      <td>0</td>\n",
              "    </tr>\n",
              "    <tr>\n",
              "      <th>1</th>\n",
              "      <td>Kamer</td>\n",
              "      <td>Willem</td>\n",
              "      <td>5611</td>\n",
              "      <td>310</td>\n",
              "      <td>0</td>\n",
              "      <td>0</td>\n",
              "    </tr>\n",
              "    <tr>\n",
              "      <th>2</th>\n",
              "      <td>Kamer</td>\n",
              "      <td>Willem</td>\n",
              "      <td>5611</td>\n",
              "      <td>325</td>\n",
              "      <td>0</td>\n",
              "      <td>0</td>\n",
              "    </tr>\n",
              "    <tr>\n",
              "      <th>3</th>\n",
              "      <td>Kamer</td>\n",
              "      <td>Leenderweg</td>\n",
              "      <td>5643</td>\n",
              "      <td>580</td>\n",
              "      <td>0</td>\n",
              "      <td>0</td>\n",
              "    </tr>\n",
              "    <tr>\n",
              "      <th>4</th>\n",
              "      <td>Kamer</td>\n",
              "      <td>Jacob</td>\n",
              "      <td>5622</td>\n",
              "      <td>335</td>\n",
              "      <td>0</td>\n",
              "      <td>0</td>\n",
              "    </tr>\n",
              "    <tr>\n",
              "      <th>...</th>\n",
              "      <td>...</td>\n",
              "      <td>...</td>\n",
              "      <td>...</td>\n",
              "      <td>...</td>\n",
              "      <td>...</td>\n",
              "      <td>...</td>\n",
              "    </tr>\n",
              "    <tr>\n",
              "      <th>88</th>\n",
              "      <td>Apartment</td>\n",
              "      <td>Kruisstraat</td>\n",
              "      <td>5612</td>\n",
              "      <td>1000</td>\n",
              "      <td>45</td>\n",
              "      <td>2</td>\n",
              "    </tr>\n",
              "    <tr>\n",
              "      <th>89</th>\n",
              "      <td>Apartment</td>\n",
              "      <td>Morsestraat</td>\n",
              "      <td>5621</td>\n",
              "      <td>675</td>\n",
              "      <td>30</td>\n",
              "      <td>1</td>\n",
              "    </tr>\n",
              "    <tr>\n",
              "      <th>90</th>\n",
              "      <td>Apartment</td>\n",
              "      <td>Paradijslaan</td>\n",
              "      <td>5611</td>\n",
              "      <td>1245</td>\n",
              "      <td>110</td>\n",
              "      <td>3</td>\n",
              "    </tr>\n",
              "    <tr>\n",
              "      <th>91</th>\n",
              "      <td>Apartment</td>\n",
              "      <td>Kromakkerweg</td>\n",
              "      <td>5616</td>\n",
              "      <td>1175</td>\n",
              "      <td>65</td>\n",
              "      <td>2</td>\n",
              "    </tr>\n",
              "    <tr>\n",
              "      <th>92</th>\n",
              "      <td>Apartment</td>\n",
              "      <td>Kleine</td>\n",
              "      <td>5611</td>\n",
              "      <td>1050</td>\n",
              "      <td>45</td>\n",
              "      <td>2</td>\n",
              "    </tr>\n",
              "  </tbody>\n",
              "</table>\n",
              "<p>219 rows × 6 columns</p>\n",
              "</div>"
            ],
            "text/plain": [
              "         TYPE   STREET NAME POSTCODE PRICE LIVING_AREA ROOMS\n",
              "0       Kamer        Willem     5611   320           0     0\n",
              "1       Kamer        Willem     5611   310           0     0\n",
              "2       Kamer        Willem     5611   325           0     0\n",
              "3       Kamer    Leenderweg     5643   580           0     0\n",
              "4       Kamer         Jacob     5622   335           0     0\n",
              "..        ...           ...      ...   ...         ...   ...\n",
              "88  Apartment   Kruisstraat     5612  1000          45     2\n",
              "89  Apartment   Morsestraat     5621   675          30     1\n",
              "90  Apartment  Paradijslaan     5611  1245         110     3\n",
              "91  Apartment  Kromakkerweg     5616  1175          65     2\n",
              "92  Apartment        Kleine     5611  1050          45     2\n",
              "\n",
              "[219 rows x 6 columns]"
            ]
          },
          "metadata": {
            "tags": []
          },
          "execution_count": 56
        }
      ]
    },
    {
      "cell_type": "markdown",
      "metadata": {
        "id": "TylFYaoBKZd9"
      },
      "source": [
        "\n",
        "**Pre Processing**"
      ]
    },
    {
      "cell_type": "markdown",
      "metadata": {
        "id": "W9b06bhjX2KR"
      },
      "source": [
        "Handling Outlier"
      ]
    },
    {
      "cell_type": "markdown",
      "metadata": {
        "id": "ruBmWWJPnWZy"
      },
      "source": [
        "> An **outlier** is a data point in a data set that is distant from all other observations (a data point that lies outside the overall distribution of the dataset.)"
      ]
    },
    {
      "cell_type": "code",
      "metadata": {
        "colab": {
          "base_uri": "https://localhost:8080/",
          "height": 685
        },
        "id": "pEdidHSNMILS",
        "outputId": "7e64ab49-caf4-459d-bea9-7c3b3caa28a3"
      },
      "source": [
        "plt.figure(figsize=(10, 10), dpi=80)\n",
        "plt.scatter(df.LIVING_AREA, df.PRICE, c= 'red')\n",
        "plt.title(\"Outliers\")\n",
        "plt.xlabel(\"LivArea\")\n",
        "plt.ylabel(\"Price\")\n",
        "plt.show()"
      ],
      "execution_count": null,
      "outputs": [
        {
          "output_type": "display_data",
          "data": {
            "image/png": "[encoded data removed]",
            "text/plain": [
              "<Figure size 800x800 with 1 Axes>"
            ]
          },
          "metadata": {
            "tags": [],
            "needs_background": "light"
          }
        }
      ]
    },
    {
      "cell_type": "code",
      "metadata": {
        "id": "266MMBaYMtnA"
      },
      "source": [
        "df['PRICE'] =df['PRICE'].astype(float)"
      ],
      "execution_count": null,
      "outputs": []
    },
    {
      "cell_type": "code",
      "metadata": {
        "colab": {
          "base_uri": "https://localhost:8080/",
          "height": 283
        },
        "id": "SKY9Eb1bMIh5",
        "outputId": "49f521a9-5150-4ef0-b325-11673ef53e8a"
      },
      "source": [
        "df.boxplot(column=['PRICE'])\n",
        "plt.show"
      ],
      "execution_count": null,
      "outputs": [
        {
          "output_type": "execute_result",
          "data": {
            "text/plain": [
              "<function matplotlib.pyplot.show>"
            ]
          },
          "metadata": {
            "tags": []
          },
          "execution_count": 59
        },
        {
          "output_type": "display_data",
          "data": {
            "image/png": "[encoded data removed]",
            "text/plain": [
              "<Figure size 432x288 with 1 Axes>"
            ]
          },
          "metadata": {
            "tags": [],
            "needs_background": "light"
          }
        }
      ]
    },
    {
      "cell_type": "code",
      "metadata": {
        "colab": {
          "base_uri": "https://localhost:8080/",
          "height": 309
        },
        "id": "O31ghKvCLx6V",
        "outputId": "cf1111cc-8cfb-4f0e-aad9-8283d7ab3b3b"
      },
      "source": [
        "df['ROOMS'].value_counts().plot(kind='bar')\n",
        "plt.title('Number of Rooms')\n",
        "plt.xlabel('Rooms')\n",
        "plt.ylabel('Count')\n",
        "sns.despine"
      ],
      "execution_count": null,
      "outputs": [
        {
          "output_type": "execute_result",
          "data": {
            "text/plain": [
              "<function seaborn.utils.despine>"
            ]
          },
          "metadata": {
            "tags": []
          },
          "execution_count": 60
        },
        {
          "output_type": "display_data",
          "data": {
            "image/png": "[encoded data removed]",
            "text/plain": [
              "<Figure size 432x288 with 1 Axes>"
            ]
          },
          "metadata": {
            "tags": [],
            "needs_background": "light"
          }
        }
      ]
    },
    {
      "cell_type": "code",
      "metadata": {
        "colab": {
          "base_uri": "https://localhost:8080/"
        },
        "id": "0JmcXYFdnxIU",
        "outputId": "734e2b71-4572-4aed-de40-d8fa042e8bcb"
      },
      "source": [
        "print(df['PRICE'])"
      ],
      "execution_count": null,
      "outputs": [
        {
          "output_type": "stream",
          "text": [
            "0      320.0\n",
            "1      310.0\n",
            "2      325.0\n",
            "3      580.0\n",
            "4      335.0\n",
            "       ...  \n",
            "88    1000.0\n",
            "89     675.0\n",
            "90    1245.0\n",
            "91    1175.0\n",
            "92    1050.0\n",
            "Name: PRICE, Length: 219, dtype: float64\n"
          ],
          "name": "stdout"
        }
      ]
    },
    {
      "cell_type": "code",
      "metadata": {
        "colab": {
          "base_uri": "https://localhost:8080/",
          "height": 415
        },
        "id": "kPNYQlccX3O_",
        "outputId": "13ea0e16-1b68-4926-e11d-086bc48902dc"
      },
      "source": [
        "df.fillna(0)"
      ],
      "execution_count": null,
      "outputs": [
        {
          "output_type": "execute_result",
          "data": {
            "text/html": [
              "<div>\n",
              "<style scoped>\n",
              "    .dataframe tbody tr th:only-of-type {\n",
              "        vertical-align: middle;\n",
              "    }\n",
              "\n",
              "    .dataframe tbody tr th {\n",
              "        vertical-align: top;\n",
              "    }\n",
              "\n",
              "    .dataframe thead th {\n",
              "        text-align: right;\n",
              "    }\n",
              "</style>\n",
              "<table border=\"1\" class=\"dataframe\">\n",
              "  <thead>\n",
              "    <tr style=\"text-align: right;\">\n",
              "      <th></th>\n",
              "      <th>TYPE</th>\n",
              "      <th>STREET NAME</th>\n",
              "      <th>POSTCODE</th>\n",
              "      <th>PRICE</th>\n",
              "      <th>LIVING_AREA</th>\n",
              "      <th>ROOMS</th>\n",
              "    </tr>\n",
              "  </thead>\n",
              "  <tbody>\n",
              "    <tr>\n",
              "      <th>0</th>\n",
              "      <td>Kamer</td>\n",
              "      <td>Willem</td>\n",
              "      <td>5611</td>\n",
              "      <td>320.0</td>\n",
              "      <td>0</td>\n",
              "      <td>0</td>\n",
              "    </tr>\n",
              "    <tr>\n",
              "      <th>1</th>\n",
              "      <td>Kamer</td>\n",
              "      <td>Willem</td>\n",
              "      <td>5611</td>\n",
              "      <td>310.0</td>\n",
              "      <td>0</td>\n",
              "      <td>0</td>\n",
              "    </tr>\n",
              "    <tr>\n",
              "      <th>2</th>\n",
              "      <td>Kamer</td>\n",
              "      <td>Willem</td>\n",
              "      <td>5611</td>\n",
              "      <td>325.0</td>\n",
              "      <td>0</td>\n",
              "      <td>0</td>\n",
              "    </tr>\n",
              "    <tr>\n",
              "      <th>3</th>\n",
              "      <td>Kamer</td>\n",
              "      <td>Leenderweg</td>\n",
              "      <td>5643</td>\n",
              "      <td>580.0</td>\n",
              "      <td>0</td>\n",
              "      <td>0</td>\n",
              "    </tr>\n",
              "    <tr>\n",
              "      <th>4</th>\n",
              "      <td>Kamer</td>\n",
              "      <td>Jacob</td>\n",
              "      <td>5622</td>\n",
              "      <td>335.0</td>\n",
              "      <td>0</td>\n",
              "      <td>0</td>\n",
              "    </tr>\n",
              "    <tr>\n",
              "      <th>...</th>\n",
              "      <td>...</td>\n",
              "      <td>...</td>\n",
              "      <td>...</td>\n",
              "      <td>...</td>\n",
              "      <td>...</td>\n",
              "      <td>...</td>\n",
              "    </tr>\n",
              "    <tr>\n",
              "      <th>88</th>\n",
              "      <td>Apartment</td>\n",
              "      <td>Kruisstraat</td>\n",
              "      <td>5612</td>\n",
              "      <td>1000.0</td>\n",
              "      <td>45</td>\n",
              "      <td>2</td>\n",
              "    </tr>\n",
              "    <tr>\n",
              "      <th>89</th>\n",
              "      <td>Apartment</td>\n",
              "      <td>Morsestraat</td>\n",
              "      <td>5621</td>\n",
              "      <td>675.0</td>\n",
              "      <td>30</td>\n",
              "      <td>1</td>\n",
              "    </tr>\n",
              "    <tr>\n",
              "      <th>90</th>\n",
              "      <td>Apartment</td>\n",
              "      <td>Paradijslaan</td>\n",
              "      <td>5611</td>\n",
              "      <td>1245.0</td>\n",
              "      <td>110</td>\n",
              "      <td>3</td>\n",
              "    </tr>\n",
              "    <tr>\n",
              "      <th>91</th>\n",
              "      <td>Apartment</td>\n",
              "      <td>Kromakkerweg</td>\n",
              "      <td>5616</td>\n",
              "      <td>1175.0</td>\n",
              "      <td>65</td>\n",
              "      <td>2</td>\n",
              "    </tr>\n",
              "    <tr>\n",
              "      <th>92</th>\n",
              "      <td>Apartment</td>\n",
              "      <td>Kleine</td>\n",
              "      <td>5611</td>\n",
              "      <td>1050.0</td>\n",
              "      <td>45</td>\n",
              "      <td>2</td>\n",
              "    </tr>\n",
              "  </tbody>\n",
              "</table>\n",
              "<p>219 rows × 6 columns</p>\n",
              "</div>"
            ],
            "text/plain": [
              "         TYPE   STREET NAME POSTCODE   PRICE LIVING_AREA ROOMS\n",
              "0       Kamer        Willem     5611   320.0           0     0\n",
              "1       Kamer        Willem     5611   310.0           0     0\n",
              "2       Kamer        Willem     5611   325.0           0     0\n",
              "3       Kamer    Leenderweg     5643   580.0           0     0\n",
              "4       Kamer         Jacob     5622   335.0           0     0\n",
              "..        ...           ...      ...     ...         ...   ...\n",
              "88  Apartment   Kruisstraat     5612  1000.0          45     2\n",
              "89  Apartment   Morsestraat     5621   675.0          30     1\n",
              "90  Apartment  Paradijslaan     5611  1245.0         110     3\n",
              "91  Apartment  Kromakkerweg     5616  1175.0          65     2\n",
              "92  Apartment        Kleine     5611  1050.0          45     2\n",
              "\n",
              "[219 rows x 6 columns]"
            ]
          },
          "metadata": {
            "tags": []
          },
          "execution_count": 62
        }
      ]
    },
    {
      "cell_type": "code",
      "metadata": {
        "id": "kl2UpYmKiRUH"
      },
      "source": [
        "df['PRICE'] =df['PRICE'].astype(float)\n",
        "df['POSTCODE'] =df['POSTCODE'].astype(int)\n",
        "num_liv = {'No information': 0}\n",
        "df['LIVING_AREA'] = df['LIVING_AREA'].map(num_liv)\n",
        "df['LIVING_AREA'] =df['LIVING_AREA'].astype(float)\n",
        "num_rooms = {'No information': 0}\n",
        "df['ROOMS'] = df['ROOMS'].map(num_rooms)\n",
        "df['ROOMS'] =df['ROOMS'].astype(float)\n",
        "code_numeric = {'Apartment': 1, 'Room': 2, 'Studio': 4, 'House': 3}\n",
        "df ['TYPE'] = df['TYPE'].map(code_numeric)\n",
        "df['TYPE'] =df['TYPE'].astype(float)"
      ],
      "execution_count": null,
      "outputs": []
    },
    {
      "cell_type": "code",
      "metadata": {
        "colab": {
          "base_uri": "https://localhost:8080/"
        },
        "id": "wwCR3iTSxGp3",
        "outputId": "e4f7fb4c-0155-43a0-ddad-075bc1bdb2e4"
      },
      "source": [
        "df.info()"
      ],
      "execution_count": null,
      "outputs": [
        {
          "output_type": "stream",
          "text": [
            "<class 'pandas.core.frame.DataFrame'>\n",
            "Int64Index: 219 entries, 0 to 92\n",
            "Data columns (total 6 columns):\n",
            " #   Column       Non-Null Count  Dtype  \n",
            "---  ------       --------------  -----  \n",
            " 0   TYPE         131 non-null    float64\n",
            " 1   STREET NAME  219 non-null    object \n",
            " 2   POSTCODE     219 non-null    int64  \n",
            " 3   PRICE        219 non-null    float64\n",
            " 4   LIVING_AREA  0 non-null      float64\n",
            " 5   ROOMS        0 non-null      float64\n",
            "dtypes: float64(4), int64(1), object(1)\n",
            "memory usage: 17.0+ KB\n"
          ],
          "name": "stdout"
        }
      ]
    },
    {
      "cell_type": "markdown",
      "metadata": {
        "id": "XlRYhjkWh-B_"
      },
      "source": [
        "Examining the data distributions of the features. We will start with the target variable, `PRICE`, to make sure it's normally distributed.\n"
      ]
    },
    {
      "cell_type": "code",
      "metadata": {
        "colab": {
          "base_uri": "https://localhost:8080/",
          "height": 351
        },
        "id": "e3SqZjWQh2dQ",
        "outputId": "95c25d05-d9a8-490e-9e2f-93a9245a8449"
      },
      "source": [
        "sns.distplot(df['PRICE'])"
      ],
      "execution_count": null,
      "outputs": [
        {
          "output_type": "stream",
          "text": [
            "/usr/local/lib/python3.7/dist-packages/seaborn/distributions.py:2557: FutureWarning: `distplot` is a deprecated function and will be removed in a future version. Please adapt your code to use either `displot` (a figure-level function with similar flexibility) or `histplot` (an axes-level function for histograms).\n",
            "  warnings.warn(msg, FutureWarning)\n"
          ],
          "name": "stderr"
        },
        {
          "output_type": "execute_result",
          "data": {
            "text/plain": [
              "<matplotlib.axes._subplots.AxesSubplot at 0x7f0388cc3d90>"
            ]
          },
          "metadata": {
            "tags": []
          },
          "execution_count": 72
        },
        {
          "output_type": "display_data",
          "data": {
            "image/png": "[encoded data removed]",
            "text/plain": [
              "<Figure size 432x288 with 1 Axes>"
            ]
          },
          "metadata": {
            "tags": [],
            "needs_background": "light"
          }
        }
      ]
    },
    {
      "cell_type": "markdown",
      "metadata": {
        "id": "Bs9jk5blro0b"
      },
      "source": [
        "\n",
        "\n",
        "> We can see that the `PRICE` distribution is not skewed, but normally distributed.\n",
        "\n",
        "\n",
        "> **Normally distributed** means that the data is symmetric about the mean, showing that data near the mean are more frequent in occurrence than data far from the mean. \n",
        "\n",
        "\n",
        "\n",
        "\n",
        "\n"
      ]
    },
    {
      "cell_type": "markdown",
      "metadata": {
        "id": "aAOh773bWUjN"
      },
      "source": [
        "Reviewing the skewness of each feature"
      ]
    },
    {
      "cell_type": "code",
      "metadata": {
        "colab": {
          "base_uri": "https://localhost:8080/"
        },
        "id": "S_G_peJwsnp2",
        "outputId": "8bed262a-13f2-4286-95fe-25e24911152b"
      },
      "source": [
        "df.skew().sort_values(ascending=False)"
      ],
      "execution_count": null,
      "outputs": [
        {
          "output_type": "execute_result",
          "data": {
            "text/plain": [
              "PRICE          2.226649\n",
              "ROOMS          0.000000\n",
              "LIVING_AREA    0.000000\n",
              "POSTCODE      -0.879142\n",
              "TYPE                NaN\n",
              "dtype: float64"
            ]
          },
          "metadata": {
            "tags": []
          },
          "execution_count": 76
        }
      ]
    },
    {
      "cell_type": "markdown",
      "metadata": {
        "id": "CIuIwhNFs5jN"
      },
      "source": [
        "\n",
        "\n",
        ">Values closer to zero are less skewed. The results show some features having a positive (right-tailed) or negative (left-tailed) skew.\n",
        "\n",
        "\n",
        "\n"
      ]
    },
    {
      "cell_type": "markdown",
      "metadata": {
        "id": "YOlcOfAOri61"
      },
      "source": [
        "Factor plot is informative when we have multiple groups to compare. "
      ]
    },
    {
      "cell_type": "code",
      "metadata": {
        "colab": {
          "base_uri": "https://localhost:8080/",
          "height": 814
        },
        "id": "oWUAyLrNMptb",
        "outputId": "defa595c-f27d-46cb-8f2e-db13ea313041"
      },
      "source": [
        "sns.factorplot('ROOMS', 'PRICE', data=df,kind='bar',size=3,aspect=3)\n",
        "fig, (axis1) = plt.subplots(1,1,figsize=(10,3))\n",
        "sns.countplot('ROOMS', data=df)\n",
        "df['PRICE'].value_counts()"
      ],
      "execution_count": null,
      "outputs": [
        {
          "output_type": "stream",
          "text": [
            "/usr/local/lib/python3.7/dist-packages/seaborn/categorical.py:3714: UserWarning: The `factorplot` function has been renamed to `catplot`. The original name will be removed in a future release. Please update your code. Note that the default `kind` in `factorplot` (`'point'`) has changed `'strip'` in `catplot`.\n",
            "  warnings.warn(msg)\n",
            "/usr/local/lib/python3.7/dist-packages/seaborn/categorical.py:3720: UserWarning: The `size` parameter has been renamed to `height`; please update your code.\n",
            "  warnings.warn(msg, UserWarning)\n",
            "/usr/local/lib/python3.7/dist-packages/seaborn/_decorators.py:43: FutureWarning: Pass the following variables as keyword args: x, y. From version 0.12, the only valid positional argument will be `data`, and passing other arguments without an explicit keyword will result in an error or misinterpretation.\n",
            "  FutureWarning\n",
            "/usr/local/lib/python3.7/dist-packages/seaborn/_decorators.py:43: FutureWarning: Pass the following variable as a keyword arg: x. From version 0.12, the only valid positional argument will be `data`, and passing other arguments without an explicit keyword will result in an error or misinterpretation.\n",
            "  FutureWarning\n"
          ],
          "name": "stderr"
        },
        {
          "output_type": "execute_result",
          "data": {
            "text/plain": [
              "415.0     15\n",
              "1195.0     7\n",
              "995.0      5\n",
              "625.0      5\n",
              "1000.0     5\n",
              "          ..\n",
              "2250.0     1\n",
              "1995.0     1\n",
              "1425.0     1\n",
              "1035.0     1\n",
              "320.0      1\n",
              "Name: PRICE, Length: 112, dtype: int64"
            ]
          },
          "metadata": {
            "tags": []
          },
          "execution_count": 77
        },
        {
          "output_type": "display_data",
          "data": {
            "image/png": "[encoded data removed]",
            "text/plain": [
              "<Figure size 648x216 with 1 Axes>"
            ]
          },
          "metadata": {
            "tags": [],
            "needs_background": "light"
          }
        },
        {
          "output_type": "display_data",
          "data": {
            "image/png": "[encoded data removed]",
            "text/plain": [
              "<Figure size 720x216 with 1 Axes>"
            ]
          },
          "metadata": {
            "tags": [],
            "needs_background": "light"
          }
        }
      ]
    },
    {
      "cell_type": "markdown",
      "metadata": {
        "id": "IKAlICJWNbPS"
      },
      "source": [
        "> Real estate with 5 rooms has the  highest `Price` while the sales of others with rooms of 2 is the most sold ones."
      ]
    },
    {
      "cell_type": "code",
      "metadata": {
        "colab": {
          "base_uri": "https://localhost:8080/",
          "height": 356
        },
        "id": "4eL664DrWAXl",
        "outputId": "198b0832-ce96-44b7-ff2c-ca1d10451e3f"
      },
      "source": [
        "#g = sns.factorplot(x='POSTCODE', y='Skewed_SP', col='PRICE', data=df, kind='bar', col_wrap=4, aspect=0.8)\n",
        "sns.factorplot('POSTCODE', 'PRICE', data=df,kind='bar',size=3,aspect=6)\n"
      ],
      "execution_count": null,
      "outputs": [
        {
          "output_type": "stream",
          "text": [
            "/usr/local/lib/python3.7/dist-packages/seaborn/categorical.py:3714: UserWarning: The `factorplot` function has been renamed to `catplot`. The original name will be removed in a future release. Please update your code. Note that the default `kind` in `factorplot` (`'point'`) has changed `'strip'` in `catplot`.\n",
            "  warnings.warn(msg)\n",
            "/usr/local/lib/python3.7/dist-packages/seaborn/categorical.py:3720: UserWarning: The `size` parameter has been renamed to `height`; please update your code.\n",
            "  warnings.warn(msg, UserWarning)\n",
            "/usr/local/lib/python3.7/dist-packages/seaborn/_decorators.py:43: FutureWarning: Pass the following variables as keyword args: x, y. From version 0.12, the only valid positional argument will be `data`, and passing other arguments without an explicit keyword will result in an error or misinterpretation.\n",
            "  FutureWarning\n"
          ],
          "name": "stderr"
        },
        {
          "output_type": "execute_result",
          "data": {
            "text/plain": [
              "<seaborn.axisgrid.FacetGrid at 0x7f0388c6d0d0>"
            ]
          },
          "metadata": {
            "tags": []
          },
          "execution_count": 78
        },
        {
          "output_type": "display_data",
          "data": {
            "image/png": "[encoded data removed]",
            "text/plain": [
              "<Figure size 1296x216 with 1 Axes>"
            ]
          },
          "metadata": {
            "tags": [],
            "needs_background": "light"
          }
        }
      ]
    },
    {
      "cell_type": "markdown",
      "metadata": {
        "id": "rtE9XtMmWrCv"
      },
      "source": [
        ">The diagram represents the `price` of a rpoperty, depending on its `postcode`.\n",
        "\n",
        "\n"
      ]
    },
    {
      "cell_type": "markdown",
      "metadata": {
        "id": "s1FUjO4ZkItw"
      },
      "source": [
        "# **Train-Test Split dataset**"
      ]
    },
    {
      "cell_type": "markdown",
      "metadata": {
        "id": "8zNQdmR0ZSTu"
      },
      "source": [
        "\n",
        "> Necessary imports"
      ]
    },
    {
      "cell_type": "code",
      "metadata": {
        "id": "7RZVRoIVRN3X"
      },
      "source": [
        "from sklearn.linear_model import LinearRegression, Ridge, Lasso\n",
        "from sklearn.ensemble import RandomForestRegressor\n",
        "from sklearn.model_selection import cross_val_score, train_test_split, GridSearchCV"
      ],
      "execution_count": null,
      "outputs": []
    },
    {
      "cell_type": "code",
      "metadata": {
        "id": "iUOP7foFfvYh"
      },
      "source": [
        "df[\"TYPE\"].fillna(\"No type\", inplace = True)  \n",
        "df[\"LIVING_AREA\"].fillna(\"No information\", inplace = True)  \n",
        "df[\"ROOMS\"].fillna(\"No information\", inplace = True)  \n"
      ],
      "execution_count": null,
      "outputs": []
    },
    {
      "cell_type": "code",
      "metadata": {
        "id": "4e0FWioVEbXm",
        "colab": {
          "base_uri": "https://localhost:8080/",
          "height": 415
        },
        "outputId": "c9bca772-5ef5-4bfb-a0da-482c8b80bdd3"
      },
      "source": [
        "df"
      ],
      "execution_count": null,
      "outputs": [
        {
          "output_type": "execute_result",
          "data": {
            "text/html": [
              "<div>\n",
              "<style scoped>\n",
              "    .dataframe tbody tr th:only-of-type {\n",
              "        vertical-align: middle;\n",
              "    }\n",
              "\n",
              "    .dataframe tbody tr th {\n",
              "        vertical-align: top;\n",
              "    }\n",
              "\n",
              "    .dataframe thead th {\n",
              "        text-align: right;\n",
              "    }\n",
              "</style>\n",
              "<table border=\"1\" class=\"dataframe\">\n",
              "  <thead>\n",
              "    <tr style=\"text-align: right;\">\n",
              "      <th></th>\n",
              "      <th>TYPE</th>\n",
              "      <th>STREET NAME</th>\n",
              "      <th>POSTCODE</th>\n",
              "      <th>PRICE</th>\n",
              "      <th>LIVING_AREA</th>\n",
              "      <th>ROOMS</th>\n",
              "    </tr>\n",
              "  </thead>\n",
              "  <tbody>\n",
              "    <tr>\n",
              "      <th>0</th>\n",
              "      <td>No type</td>\n",
              "      <td>Willem</td>\n",
              "      <td>5611</td>\n",
              "      <td>320.0</td>\n",
              "      <td>0.0</td>\n",
              "      <td>0.0</td>\n",
              "    </tr>\n",
              "    <tr>\n",
              "      <th>1</th>\n",
              "      <td>No type</td>\n",
              "      <td>Willem</td>\n",
              "      <td>5611</td>\n",
              "      <td>310.0</td>\n",
              "      <td>0.0</td>\n",
              "      <td>0.0</td>\n",
              "    </tr>\n",
              "    <tr>\n",
              "      <th>2</th>\n",
              "      <td>No type</td>\n",
              "      <td>Willem</td>\n",
              "      <td>5611</td>\n",
              "      <td>325.0</td>\n",
              "      <td>0.0</td>\n",
              "      <td>0.0</td>\n",
              "    </tr>\n",
              "    <tr>\n",
              "      <th>3</th>\n",
              "      <td>No type</td>\n",
              "      <td>Leenderweg</td>\n",
              "      <td>5643</td>\n",
              "      <td>580.0</td>\n",
              "      <td>0.0</td>\n",
              "      <td>0.0</td>\n",
              "    </tr>\n",
              "    <tr>\n",
              "      <th>4</th>\n",
              "      <td>No type</td>\n",
              "      <td>Jacob</td>\n",
              "      <td>5622</td>\n",
              "      <td>335.0</td>\n",
              "      <td>0.0</td>\n",
              "      <td>0.0</td>\n",
              "    </tr>\n",
              "    <tr>\n",
              "      <th>...</th>\n",
              "      <td>...</td>\n",
              "      <td>...</td>\n",
              "      <td>...</td>\n",
              "      <td>...</td>\n",
              "      <td>...</td>\n",
              "      <td>...</td>\n",
              "    </tr>\n",
              "    <tr>\n",
              "      <th>88</th>\n",
              "      <td>No type</td>\n",
              "      <td>Kruisstraat</td>\n",
              "      <td>5612</td>\n",
              "      <td>1000.0</td>\n",
              "      <td>0.0</td>\n",
              "      <td>0.0</td>\n",
              "    </tr>\n",
              "    <tr>\n",
              "      <th>89</th>\n",
              "      <td>No type</td>\n",
              "      <td>Morsestraat</td>\n",
              "      <td>5621</td>\n",
              "      <td>675.0</td>\n",
              "      <td>0.0</td>\n",
              "      <td>0.0</td>\n",
              "    </tr>\n",
              "    <tr>\n",
              "      <th>90</th>\n",
              "      <td>No type</td>\n",
              "      <td>Paradijslaan</td>\n",
              "      <td>5611</td>\n",
              "      <td>1245.0</td>\n",
              "      <td>0.0</td>\n",
              "      <td>0.0</td>\n",
              "    </tr>\n",
              "    <tr>\n",
              "      <th>91</th>\n",
              "      <td>No type</td>\n",
              "      <td>Kromakkerweg</td>\n",
              "      <td>5616</td>\n",
              "      <td>1175.0</td>\n",
              "      <td>0.0</td>\n",
              "      <td>0.0</td>\n",
              "    </tr>\n",
              "    <tr>\n",
              "      <th>92</th>\n",
              "      <td>No type</td>\n",
              "      <td>Kleine</td>\n",
              "      <td>5611</td>\n",
              "      <td>1050.0</td>\n",
              "      <td>0.0</td>\n",
              "      <td>0.0</td>\n",
              "    </tr>\n",
              "  </tbody>\n",
              "</table>\n",
              "<p>219 rows × 6 columns</p>\n",
              "</div>"
            ],
            "text/plain": [
              "       TYPE   STREET NAME  POSTCODE   PRICE  LIVING_AREA  ROOMS\n",
              "0   No type        Willem      5611   320.0          0.0    0.0\n",
              "1   No type        Willem      5611   310.0          0.0    0.0\n",
              "2   No type        Willem      5611   325.0          0.0    0.0\n",
              "3   No type    Leenderweg      5643   580.0          0.0    0.0\n",
              "4   No type         Jacob      5622   335.0          0.0    0.0\n",
              "..      ...           ...       ...     ...          ...    ...\n",
              "88  No type   Kruisstraat      5612  1000.0          0.0    0.0\n",
              "89  No type   Morsestraat      5621   675.0          0.0    0.0\n",
              "90  No type  Paradijslaan      5611  1245.0          0.0    0.0\n",
              "91  No type  Kromakkerweg      5616  1175.0          0.0    0.0\n",
              "92  No type        Kleine      5611  1050.0          0.0    0.0\n",
              "\n",
              "[219 rows x 6 columns]"
            ]
          },
          "metadata": {
            "tags": []
          },
          "execution_count": 107
        }
      ]
    },
    {
      "cell_type": "code",
      "metadata": {
        "colab": {
          "base_uri": "https://localhost:8080/"
        },
        "id": "MCMmlmE7faHR",
        "outputId": "d88113e0-b931-486a-c87b-3e295ea390cb"
      },
      "source": [
        "df.isnull().sum()"
      ],
      "execution_count": null,
      "outputs": [
        {
          "output_type": "execute_result",
          "data": {
            "text/plain": [
              "TYPE           0\n",
              "STREET NAME    0\n",
              "POSTCODE       0\n",
              "PRICE          0\n",
              "LIVING_AREA    0\n",
              "ROOMS          0\n",
              "dtype: int64"
            ]
          },
          "metadata": {
            "tags": []
          },
          "execution_count": 81
        }
      ]
    },
    {
      "cell_type": "markdown",
      "metadata": {
        "id": "yYBACfDRZYmF"
      },
      "source": [
        "Analyzing the numeric features.\n"
      ]
    },
    {
      "cell_type": "code",
      "metadata": {
        "id": "D_qARrG8LbRN"
      },
      "source": [
        "numeric_features = df.select_dtypes(include=[np.number])"
      ],
      "execution_count": null,
      "outputs": []
    },
    {
      "cell_type": "code",
      "metadata": {
        "colab": {
          "base_uri": "https://localhost:8080/"
        },
        "id": "q7BzHq6aLsb5",
        "outputId": "aee23ee7-60e3-4634-dbd9-d23e29ca32c4"
      },
      "source": [
        "numeric_features.columns"
      ],
      "execution_count": null,
      "outputs": [
        {
          "output_type": "execute_result",
          "data": {
            "text/plain": [
              "Index(['POSTCODE', 'PRICE', 'LIVING_AREA', 'ROOMS'], dtype='object')"
            ]
          },
          "metadata": {
            "tags": []
          },
          "execution_count": 83
        }
      ]
    },
    {
      "cell_type": "code",
      "metadata": {
        "colab": {
          "base_uri": "https://localhost:8080/",
          "height": 415
        },
        "id": "EGBi0qcpZ76M",
        "outputId": "4cfc7ccb-cb1f-4c7e-909d-07b5b3f2315c"
      },
      "source": [
        "df.fillna(0)"
      ],
      "execution_count": null,
      "outputs": [
        {
          "output_type": "execute_result",
          "data": {
            "text/html": [
              "<div>\n",
              "<style scoped>\n",
              "    .dataframe tbody tr th:only-of-type {\n",
              "        vertical-align: middle;\n",
              "    }\n",
              "\n",
              "    .dataframe tbody tr th {\n",
              "        vertical-align: top;\n",
              "    }\n",
              "\n",
              "    .dataframe thead th {\n",
              "        text-align: right;\n",
              "    }\n",
              "</style>\n",
              "<table border=\"1\" class=\"dataframe\">\n",
              "  <thead>\n",
              "    <tr style=\"text-align: right;\">\n",
              "      <th></th>\n",
              "      <th>TYPE</th>\n",
              "      <th>STREET NAME</th>\n",
              "      <th>POSTCODE</th>\n",
              "      <th>PRICE</th>\n",
              "      <th>LIVING_AREA</th>\n",
              "      <th>ROOMS</th>\n",
              "    </tr>\n",
              "  </thead>\n",
              "  <tbody>\n",
              "    <tr>\n",
              "      <th>0</th>\n",
              "      <td>No type</td>\n",
              "      <td>Willem</td>\n",
              "      <td>5611</td>\n",
              "      <td>320.0</td>\n",
              "      <td>0.0</td>\n",
              "      <td>0.0</td>\n",
              "    </tr>\n",
              "    <tr>\n",
              "      <th>1</th>\n",
              "      <td>No type</td>\n",
              "      <td>Willem</td>\n",
              "      <td>5611</td>\n",
              "      <td>310.0</td>\n",
              "      <td>0.0</td>\n",
              "      <td>0.0</td>\n",
              "    </tr>\n",
              "    <tr>\n",
              "      <th>2</th>\n",
              "      <td>No type</td>\n",
              "      <td>Willem</td>\n",
              "      <td>5611</td>\n",
              "      <td>325.0</td>\n",
              "      <td>0.0</td>\n",
              "      <td>0.0</td>\n",
              "    </tr>\n",
              "    <tr>\n",
              "      <th>3</th>\n",
              "      <td>No type</td>\n",
              "      <td>Leenderweg</td>\n",
              "      <td>5643</td>\n",
              "      <td>580.0</td>\n",
              "      <td>0.0</td>\n",
              "      <td>0.0</td>\n",
              "    </tr>\n",
              "    <tr>\n",
              "      <th>4</th>\n",
              "      <td>No type</td>\n",
              "      <td>Jacob</td>\n",
              "      <td>5622</td>\n",
              "      <td>335.0</td>\n",
              "      <td>0.0</td>\n",
              "      <td>0.0</td>\n",
              "    </tr>\n",
              "    <tr>\n",
              "      <th>...</th>\n",
              "      <td>...</td>\n",
              "      <td>...</td>\n",
              "      <td>...</td>\n",
              "      <td>...</td>\n",
              "      <td>...</td>\n",
              "      <td>...</td>\n",
              "    </tr>\n",
              "    <tr>\n",
              "      <th>88</th>\n",
              "      <td>No type</td>\n",
              "      <td>Kruisstraat</td>\n",
              "      <td>5612</td>\n",
              "      <td>1000.0</td>\n",
              "      <td>0.0</td>\n",
              "      <td>0.0</td>\n",
              "    </tr>\n",
              "    <tr>\n",
              "      <th>89</th>\n",
              "      <td>No type</td>\n",
              "      <td>Morsestraat</td>\n",
              "      <td>5621</td>\n",
              "      <td>675.0</td>\n",
              "      <td>0.0</td>\n",
              "      <td>0.0</td>\n",
              "    </tr>\n",
              "    <tr>\n",
              "      <th>90</th>\n",
              "      <td>No type</td>\n",
              "      <td>Paradijslaan</td>\n",
              "      <td>5611</td>\n",
              "      <td>1245.0</td>\n",
              "      <td>0.0</td>\n",
              "      <td>0.0</td>\n",
              "    </tr>\n",
              "    <tr>\n",
              "      <th>91</th>\n",
              "      <td>No type</td>\n",
              "      <td>Kromakkerweg</td>\n",
              "      <td>5616</td>\n",
              "      <td>1175.0</td>\n",
              "      <td>0.0</td>\n",
              "      <td>0.0</td>\n",
              "    </tr>\n",
              "    <tr>\n",
              "      <th>92</th>\n",
              "      <td>No type</td>\n",
              "      <td>Kleine</td>\n",
              "      <td>5611</td>\n",
              "      <td>1050.0</td>\n",
              "      <td>0.0</td>\n",
              "      <td>0.0</td>\n",
              "    </tr>\n",
              "  </tbody>\n",
              "</table>\n",
              "<p>219 rows × 6 columns</p>\n",
              "</div>"
            ],
            "text/plain": [
              "       TYPE   STREET NAME  POSTCODE   PRICE  LIVING_AREA  ROOMS\n",
              "0   No type        Willem      5611   320.0          0.0    0.0\n",
              "1   No type        Willem      5611   310.0          0.0    0.0\n",
              "2   No type        Willem      5611   325.0          0.0    0.0\n",
              "3   No type    Leenderweg      5643   580.0          0.0    0.0\n",
              "4   No type         Jacob      5622   335.0          0.0    0.0\n",
              "..      ...           ...       ...     ...          ...    ...\n",
              "88  No type   Kruisstraat      5612  1000.0          0.0    0.0\n",
              "89  No type   Morsestraat      5621   675.0          0.0    0.0\n",
              "90  No type  Paradijslaan      5611  1245.0          0.0    0.0\n",
              "91  No type  Kromakkerweg      5616  1175.0          0.0    0.0\n",
              "92  No type        Kleine      5611  1050.0          0.0    0.0\n",
              "\n",
              "[219 rows x 6 columns]"
            ]
          },
          "metadata": {
            "tags": []
          },
          "execution_count": 103
        }
      ]
    },
    {
      "cell_type": "code",
      "metadata": {
        "colab": {
          "base_uri": "https://localhost:8080/"
        },
        "id": "4F3Zw4PEtb8-",
        "outputId": "d6a6da55-e407-47c2-8e1f-c5a996591d39"
      },
      "source": [
        "df.isnull().sum()"
      ],
      "execution_count": null,
      "outputs": [
        {
          "output_type": "execute_result",
          "data": {
            "text/plain": [
              "TYPE           0\n",
              "STREET NAME    0\n",
              "POSTCODE       0\n",
              "CITY           0\n",
              "PRICE          0\n",
              "LIVING_AREA    0\n",
              "ROOMS          0\n",
              "dtype: int64"
            ]
          },
          "metadata": {
            "tags": []
          },
          "execution_count": 64
        }
      ]
    },
    {
      "cell_type": "code",
      "metadata": {
        "id": "KD5AQnzKGCD9"
      },
      "source": [
        "# set the target and predictors\n",
        "y = df.PRICE  # target\n",
        "\n",
        "# use only those input features with numeric data type \n",
        "df_temp = df.select_dtypes(include=[\"int64\",\"float64\"]) \n",
        "\n",
        "X = df_temp.drop([\"PRICE\"],axis=1)  # predictors"
      ],
      "execution_count": null,
      "outputs": []
    },
    {
      "cell_type": "code",
      "metadata": {
        "id": "ffGAD0o5UjBY"
      },
      "source": [
        "X_train, X_test, y_train, y_test = train_test_split(X, y, test_size=0.20, random_state=0)"
      ],
      "execution_count": null,
      "outputs": []
    },
    {
      "cell_type": "markdown",
      "metadata": {
        "id": "uPXab6G0Ztsf"
      },
      "source": [
        "# **Modelling**\n"
      ]
    },
    {
      "cell_type": "markdown",
      "metadata": {
        "id": "X3DdJs9VWsCd"
      },
      "source": [
        "**Linear Regression**\n",
        "\n"
      ]
    },
    {
      "cell_type": "code",
      "metadata": {
        "id": "qNVqrNFLZreA",
        "colab": {
          "base_uri": "https://localhost:8080/"
        },
        "outputId": "a89e8b7e-81a9-40b6-dd3a-3aef5b32fbce"
      },
      "source": [
        "lr = LinearRegression()\n",
        "# fit optimal linear regression line on training data\n",
        "lr.fit((X_train),y_train)"
      ],
      "execution_count": null,
      "outputs": [
        {
          "output_type": "execute_result",
          "data": {
            "text/plain": [
              "LinearRegression(copy_X=True, fit_intercept=True, n_jobs=None, normalize=False)"
            ]
          },
          "metadata": {
            "tags": []
          },
          "execution_count": 99
        }
      ]
    },
    {
      "cell_type": "code",
      "metadata": {
        "id": "0oHMLsR4gBDW"
      },
      "source": [
        "#predict y_values using X_test set\n",
        "yr_hat = lr.predict(X_test)"
      ],
      "execution_count": null,
      "outputs": []
    },
    {
      "cell_type": "code",
      "metadata": {
        "colab": {
          "base_uri": "https://localhost:8080/"
        },
        "id": "6IpIkJUqSYHY",
        "outputId": "5fbfc35e-578d-4b02-9758-abfe35a57ec3"
      },
      "source": [
        "lr_score =lr.score((X_test),y_test)\n",
        "print(\"Accuracy: \", lr_score)"
      ],
      "execution_count": null,
      "outputs": [
        {
          "output_type": "stream",
          "text": [
            "Accuracy:  -0.030737071420210427\n"
          ],
          "name": "stdout"
        }
      ]
    },
    {
      "cell_type": "markdown",
      "metadata": {
        "id": "nXDu7nFOgY_f"
      },
      "source": [
        "Using cross-validation to see whether the model is over-fitting the data."
      ]
    },
    {
      "cell_type": "code",
      "metadata": {
        "colab": {
          "base_uri": "https://localhost:8080/"
        },
        "id": "_GNILJ-3dcMf",
        "outputId": "35927b3e-a172-4bf6-9bd5-5178b34a4dfc"
      },
      "source": [
        "# cross validation to find 'validate' score across multiple samples, automatically does Kfold stratifying\n",
        "lr_cv = cross_val_score(lr, X, y, cv = 5, scoring= 'r2')\n",
        "print(\"Cross-validation results: \", lr_cv)\n",
        "print(\"R2: \", lr_cv.mean())"
      ],
      "execution_count": null,
      "outputs": [
        {
          "output_type": "stream",
          "text": [
            "Cross-validation results:  [-54.56238957 -12.88911622  -0.6202764   -0.65686259  -0.31908302]\n",
            "R2:  -13.809545559713982\n"
          ],
          "name": "stdout"
        }
      ]
    },
    {
      "cell_type": "markdown",
      "metadata": {
        "id": "rrBSbuy2W2qN"
      },
      "source": [
        "**Random Forest**"
      ]
    },
    {
      "cell_type": "code",
      "metadata": {
        "colab": {
          "base_uri": "https://localhost:8080/"
        },
        "id": "7NMnNbxFObcD",
        "outputId": "1b1ec012-82b2-4df4-ecc0-fff4fa6872ef"
      },
      "source": [
        "rfr = RandomForestRegressor()\n",
        "rfr.fit(X_train, y_train) # gets the parameters for the rfr model\n",
        "rfr_cv = cross_val_score(rfr,X, y, cv = 5, scoring = 'r2')\n",
        "print(\"R2: \", rfr_cv.mean())"
      ],
      "execution_count": null,
      "outputs": [
        {
          "output_type": "stream",
          "text": [
            "R2:  -15.452762672251945\n"
          ],
          "name": "stdout"
        }
      ]
    },
    {
      "cell_type": "code",
      "metadata": {
        "colab": {
          "base_uri": "https://localhost:8080/"
        },
        "id": "_3DgOLObeVZl",
        "outputId": "658dc897-2af8-4918-9b70-e41985b4d1aa"
      },
      "source": [
        "rfr.feature_importances_"
      ],
      "execution_count": null,
      "outputs": [
        {
          "output_type": "execute_result",
          "data": {
            "text/plain": [
              "array([1., 0., 0.])"
            ]
          },
          "metadata": {
            "tags": []
          },
          "execution_count": 93
        }
      ]
    },
    {
      "cell_type": "markdown",
      "metadata": {
        "id": "82XzXGjuec_-"
      },
      "source": [
        "# **Plotting the Feature Importance**"
      ]
    },
    {
      "cell_type": "code",
      "metadata": {
        "colab": {
          "base_uri": "https://localhost:8080/"
        },
        "id": "W9_WRuhqeiSO",
        "outputId": "84a1e178-8b62-419c-ee84-3abc5e84551c"
      },
      "source": [
        "importance = rfr.feature_importances_\n",
        "\n",
        "# map feature importance values to the features\n",
        "feature_importances = zip(importance, X.columns)\n",
        "\n",
        "#list(feature_importances)\n",
        "sorted_feature_importances = sorted(feature_importances, reverse = True)\n",
        "\n",
        "#print(sorted_feature_importances)\n",
        "top_15_predictors = sorted_feature_importances[0:15]\n",
        "values = [value for value, predictors in top_15_predictors]\n",
        "predictors = [predictors for value, predictors in top_15_predictors]\n",
        "print(predictors)"
      ],
      "execution_count": null,
      "outputs": [
        {
          "output_type": "stream",
          "text": [
            "['POSTCODE', 'ROOMS', 'LIVING_AREA']\n"
          ],
          "name": "stdout"
        }
      ]
    },
    {
      "cell_type": "markdown",
      "metadata": {
        "id": "-NpL2BNZewF4"
      },
      "source": [
        "**Plotting the feauture importance of the Random forest.**"
      ]
    },
    {
      "cell_type": "code",
      "metadata": {
        "colab": {
          "base_uri": "https://localhost:8080/",
          "height": 337
        },
        "id": "onnmDIFae4HZ",
        "outputId": "34b6709b-ee8a-4f2f-d33a-10e517e4fece"
      },
      "source": [
        "plt.figure()\n",
        "plt.title(\"Feature importances\")\n",
        "plt.bar(range(len(predictors)), values,color=\"r\", align=\"center\");\n",
        "plt.xticks(range(len(predictors)), predictors, rotation=90);"
      ],
      "execution_count": null,
      "outputs": [
        {
          "output_type": "display_data",
          "data": {
            "image/png": "[encoded data removed]",
            "text/plain": [
              "<Figure size 432x288 with 1 Axes>"
            ]
          },
          "metadata": {
            "tags": [],
            "needs_background": "light"
          }
        }
      ]
    },
    {
      "cell_type": "markdown",
      "metadata": {
        "id": "-3C5kOYYOX36"
      },
      "source": [
        "# **Conclusion**\n",
        "**Data collection:**\n",
        "\n",
        "For the data collection part, I decided to use `web scraping` as e technique because it gives the opportunity to work with a data set that is up to date and therefore, make more accurate summaries.\n",
        "\n",
        "**Data preprocessing:**\n",
        "\n",
        "I tried different types of data transfoms to expose the data structure better, so we may be able to improve model accuracy later.\n",
        "\n",
        "*   `Standardizing` was made to the data set so as to reduce the effects of differing distributions.\n",
        "*   `The skewness` of the feautures was checked in order to see how distorted a data sample is from the normal distribution.\n",
        "* `Rescaling (normalizing)` the dataset was also included to reduce the effects of differing scales\n",
        "\n",
        "**Modelling:**\n",
        "\n",
        "I used two models to determine the accuracy - Linear Regression and Random Forest.\n",
        "\n",
        "Linear Regression turns out to be the more accurate model for predicting the house price. It scored an estimated accuracy of 75%, out performing the Random Forest. Random Forest determined that overall the living area of a home is by far the most important predictor. Following are the size of above rooms and postcode.\n",
        "\n",
        "\n"
      ]
    }
  ]
}