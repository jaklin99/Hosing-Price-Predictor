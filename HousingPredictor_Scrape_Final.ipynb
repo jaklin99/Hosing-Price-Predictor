{
  "nbformat": 4,
  "nbformat_minor": 0,
  "metadata": {
    "colab": {
      "name": "HousingPredictor_Scrape_Final.ipynb",
      "provenance": [],
      "collapsed_sections": []
    },
    "kernelspec": {
      "name": "python3",
      "display_name": "Python 3"
    },
    "language_info": {
      "name": "python"
    }
  },
  "cells": [
    {
      "cell_type": "markdown",
      "metadata": {
        "id": "O0jDE-ojxKH6"
      },
      "source": [
        "# **House Price Prediction with Linear Regression and Random Forest**"
      ]
    },
    {
      "cell_type": "markdown",
      "metadata": {
        "id": "4Ee10GvtxHa1"
      },
      "source": [
        "The aim of this project is to predict real-estate prices using the machine learning algorithm, Linear Regression, Random Forest. Both will show different results for the accuracy. Also, I will use regression with regularization such as Ridge and Lasso to try to improve the prediction accuracy."
      ]
    },
    {
      "cell_type": "markdown",
      "metadata": {
        "id": "PwILfzBYixDE"
      },
      "source": [
        "# **Imports**"
      ]
    },
    {
      "cell_type": "code",
      "metadata": {
        "id": "IVXu8JD0Dfjr"
      },
      "source": [
        "from bs4 import BeautifulSoup as bs4\n",
        "from requests import get\n",
        "import json\n",
        "import pandas as pd\n",
        "import requests\n",
        "import matplotlib.pyplot as plt\n",
        "import seaborn as sns\n",
        "import mpl_toolkits\n",
        "import numpy as np\n",
        "%matplotlib inline\n",
        "#from fake_useragent import UserAgent"
      ],
      "execution_count": null,
      "outputs": []
    },
    {
      "cell_type": "markdown",
      "metadata": {
        "id": "Jwn59thSi4qc"
      },
      "source": [
        "# **Data preparation (Web scraping)**"
      ]
    },
    {
      "cell_type": "markdown",
      "metadata": {
        "id": "XYPR9iWTHxBS"
      },
      "source": [
        "Scraping data from the first website - 'FriendlyHousing'"
      ]
    },
    {
      "cell_type": "code",
      "metadata": {
        "id": "aGRVJUxq-7b-"
      },
      "source": [
        "url_1 = 'https://www.friendlyhousing.nl/nl/aanbod/kamer'\n",
        "url_2 = 'https://www.friendlyhousing.nl/nl/aanbod/studio'\n",
        "url_3 = 'https://www.friendlyhousing.nl/nl/aanbod/appartement'\n",
        "urls= [url_1, url_2, url_3]"
      ],
      "execution_count": null,
      "outputs": []
    },
    {
      "cell_type": "markdown",
      "metadata": {
        "id": "LfI4ZVzaH3pw"
      },
      "source": [
        "Scraping data from the second website - 'Pararius'"
      ]
    },
    {
      "cell_type": "code",
      "metadata": {
        "id": "vSCaO5pCDnmK"
      },
      "source": [
        "url_1p = 'https://www.pararius.com/apartments/eindhoven'\n",
        "url_2p = 'https://www.pararius.com/apartments/eindhoven/page-2'\n",
        "url_3p = 'https://www.pararius.com/apartments/eindhoven/page-3'\n",
        "urls_p= [url_1p, url_2p, url_3p]\n"
      ],
      "execution_count": null,
      "outputs": []
    },
    {
      "cell_type": "markdown",
      "metadata": {
        "id": "RYTfmQFMIOXD"
      },
      "source": [
        "'FriendlyHousing'"
      ]
    },
    {
      "cell_type": "code",
      "metadata": {
        "id": "zcUcngFqMICQ"
      },
      "source": [
        "#user_agent = UserAgent()\n",
        "#headers={\"user-agent\": user_agent.chrome}\n",
        "soup_array=[]\n",
        "for url in urls:\n",
        "    ## getting the reponse from the page using get method of requests module\n",
        "    page = get(url)\n",
        "\n",
        "    ## storing the content of the page in a variable\n",
        "    html = page.content\n",
        "\n",
        "    ## creating BeautifulSoup object\n",
        "    soup = bs4(html, \"html.parser\")\n",
        "    soup_array.append(soup)"
      ],
      "execution_count": null,
      "outputs": []
    },
    {
      "cell_type": "markdown",
      "metadata": {
        "id": "U1aRfCtlIUt0"
      },
      "source": [
        "'Pararius'"
      ]
    },
    {
      "cell_type": "code",
      "metadata": {
        "id": "85NXMkdFIZZ-"
      },
      "source": [
        "soup_array_p=[]\n",
        "for url in urls_p:\n",
        "    ## getting the reponse from the page using get method of requests module\n",
        "    page = get(url)\n",
        "\n",
        "    ## storing the content of the page in a variable\n",
        "    html = page.content\n",
        "\n",
        "    ## creating BeautifulSoup object\n",
        "    soup = bs4(html, \"html.parser\")\n",
        "    soup_array_p.append(soup)"
      ],
      "execution_count": null,
      "outputs": []
    },
    {
      "cell_type": "markdown",
      "metadata": {
        "id": "-dsA98jYIkBa"
      },
      "source": [
        "'FriendlyHousing' - finding the elements from the html file"
      ]
    },
    {
      "cell_type": "code",
      "metadata": {
        "id": "Y00lRLog_wuI"
      },
      "source": [
        "houses=[]\n",
        "for s in soup_array:\n",
        "    allHouses = s.find(\"ul\", {\"class\": \"list list-unstyled row equal-row\"})\n",
        "    #print(len(allHouses))\n",
        "    for h in allHouses.find_all(\"li\", {\"class\": \"col-xs-12 col-sm-6 col-md-4 equal-col\"}):\n",
        "     # print(h)\n",
        "      \n",
        "      houses.append(h)\n",
        "     # print(h.findAll(\"li\", {\"class\": \"search-list__item search-list__item--listing\"}))\n",
        "      "
      ],
      "execution_count": null,
      "outputs": []
    },
    {
      "cell_type": "code",
      "metadata": {
        "id": "oQ5ziGdjAIX8"
      },
      "source": [
        "catalog=[]\n",
        "for h in houses:\n",
        "  #data['houses'].append({\n",
        "      type__= h.find('div', class_= 'specs').text\n",
        "      t = type__.split()\n",
        "      type_=t[0]\n",
        "      street_ = h.find('h3').text\n",
        "      s = street_.split()\n",
        "      street = s[0]\n",
        "      address = h.find('p').text\n",
        "      a = address.split()\n",
        "      postcode = a[0]\n",
        "      #city = a[2]\n",
        "      price = h.find('div', class_= 'price').text\n",
        "      vars = type_,street, postcode, price\n",
        "      catalog.append(vars)\n",
        "      #print(city)"
      ],
      "execution_count": null,
      "outputs": []
    },
    {
      "cell_type": "markdown",
      "metadata": {
        "id": "ozJfWu4SIz66"
      },
      "source": [
        "'Pararius' - finding the elements from the html file"
      ]
    },
    {
      "cell_type": "code",
      "metadata": {
        "id": "A2cvkZr8I3Tn"
      },
      "source": [
        "houses_p=[]\n",
        "for s in soup_array_p:\n",
        "    allHouses = s.find(\"ul\", {\"class\": \"search-list\"})\n",
        "    #print(len(allHouses))\n",
        "    for h in allHouses.find_all(\"li\", {\"class\": \"search-list__item search-list__item--listing\"}):\n",
        "     # print(h)\n",
        "      \n",
        "      houses_p.append(h)\n",
        "     # print(h.findAll(\"li\", {\"class\": \"search-list__item search-list__item--listing\"}))\n",
        "      "
      ],
      "execution_count": null,
      "outputs": []
    },
    {
      "cell_type": "code",
      "metadata": {
        "colab": {
          "base_uri": "https://localhost:8080/"
        },
        "id": "Pq_WU8w6SVCW",
        "outputId": "2d213c43-e86b-4459-bda7-16b9d6fe040a"
      },
      "source": [
        "catalog_p=[]\n",
        "for h in houses_p:\n",
        "  #data['houses'].append({\n",
        "        name = h.find('a',class_='listing-search-item__link listing-search-item__link--title').text\n",
        "        _name = name.split()\n",
        "        house_type = _name[0]\n",
        "        street = _name[1]\n",
        "        _address= h.findAll('div', class_='listing-search-item__location')[0].text\n",
        "        #String manipulation to remove the unwanted signs from the address\n",
        "        __address = _address.replace(\"\\nnew\\n \", \"\") \n",
        "        address = __address.replace(\"\\n \", \"\")   #actual address after string manipulation - ready to be used in the exploring of the data\n",
        "        new_address = address.split()\n",
        "        postcode = new_address[0] \n",
        "        price_ = h.findAll('span', class_='listing-search-item__price')[0].text\n",
        "        #splitting the string to find the price\n",
        "        p=price_.split()\n",
        "        _price = p[0] #actual price before string manipulation\n",
        "        __price = _price.replace(\"€\", \"\")  #actual price before full string manipulation\n",
        "        price = __price.replace(\",\", \"\")   #actual price after string manipulation - ready to be used in the exploring of the data\n",
        "\n",
        "        #finding the whole element from the web page\n",
        "        ylr= h.findAll('section', class_= 'illustrated-features illustrated-features--vertical')[0].text \n",
        "\n",
        "        #splitting the string to find the living are, rooms and year\n",
        "        lry= ylr.split()\n",
        "\n",
        "        #living_area after taking the indexes that define it\n",
        "        living_area = lry[0] \n",
        "\n",
        "        #rooms after taking the index that defines the variable\n",
        "        rooms = lry[4] \n",
        "    \n",
        "        vars = house_type, street, postcode,price,living_area,rooms\n",
        "        catalog_p.append(vars)\n",
        "    \n",
        "print(catalog_p)\n"
      ],
      "execution_count": null,
      "outputs": [
        {
          "output_type": "stream",
          "text": [
            "[('House', 'Nieuwe', '5612', '1150', '65', '3'), ('Apartment', 'Vrijstraat', '5611', '1750', '90', '2'), ('Room', 'Schootsestraat', '5616', '445', '10', '1'), ('Apartment', 'Jeroen', '5642', '1195', '75', '3'), ('Apartment', 'De', '5612', '423', '20', '2'), ('Apartment', 'Bomansplaats', '5611', '545', '19', '2'), ('Apartment', 'Emmasingel', '5611', '2500', '135', '3'), ('Apartment', 'Geldropseweg', '5611', '1195', '75', '3'), ('Apartment', 'Limburglaan', '5616', '804', '50', '2'), ('Apartment', 'Kruisstraat', '5612', '895', '39', '1'), ('Apartment', 'St', '5614', '675', '18', '1'), ('Apartment', 'Trompstraat', '5612', '1475', '80', '3'), ('Apartment', 'Gabriël', '5611', '1140', '63', '3'), ('Apartment', 'Aalsterweg', '5615', '795', '45', '2'), ('House', 'Jacob', '5611', '4500', '169', '7'), ('Room', 'Eckartseweg', '5623', '360', '10', '1'), ('Apartment', 'Hertogstraat', '5611', '1200', '100', '1'), ('Apartment', 'Jeroen', '5613', '750', '40', '2'), ('Apartment', 'De', '5611', '1349', '91', '3'), ('Room', 'Julianastraat', '5611', '375', '12', '1'), ('Apartment', 'Margrietstraat', '5643', '685', '20', '1'), ('Room', 'Leenderweg', '5615', '415', '12', '1'), ('Apartment', 'Bomanshof', '5611', '1485', '108', '2'), ('House', 'Hoogstraat', '5654', '1475', '119', '5'), ('Apartment', 'Meerring', '5658', '1250', '80', '3'), ('Apartment', 'Stratumsedijk', '5611', '1350', '56', '3'), ('House', 'Scheidingstraat', '5654', '1295', '100', '3'), ('Apartment', 'Marconilaan', '5612', '800', '35', '2'), ('Apartment', 'Bomanshof', '5611', '1260', '63', '2'), ('Apartment', 'Bomanshof', '5611', '1385', '79', '2'), ('Apartment', 'Bomanshof', '5611', '1260', '63', '2'), ('House', 'Nieuwe', '5612', '1150', '65', '3'), ('Apartment', 'Bomanshof', '5611', '1485', '108', '2'), ('Apartment', 'Bomanshof', '5611', '1080', '54', '2'), ('Apartment', 'Bomanshof', '5611', '1100', '50', '2'), ('Apartment', 'Bomanshof', '5611', '1260', '63', '2'), ('Apartment', 'Bomanshof', '5611', '1460', '86', '2'), ('Apartment', 'Kruisstraat', '5612', '950', '45', '2'), ('Apartment', 'Franklin', '5625', '865', '60', '3'), ('Room', 'Chrysantenstraat', '5644', '255', '12', '1'), ('Apartment', 'Aalsterweg', '5615', '1700', '75', '3'), ('Apartment', 'Geldropseweg', '5611', '645', '29', '1'), ('Apartment', 'Geldropseweg', '5611', '695', '29', '1'), ('Apartment', 'Jan', '5642', '435', '18', '1'), ('House', 'Kees', '5622', '1445', '120', '5'), ('Room', 'Frederika', '5616', '465', '14', '1'), ('Apartment', 'Stevinstraat', '5621', '795', '28', '1'), ('Apartment', 'Leenderweg', '5644', '1000', '48', '2'), ('Apartment', 'Blaarthemseweg', '5654', '875', '45', '2'), ('Apartment', 'Boschdijk', '5612', '560', '20', '1'), ('Apartment', 'Boschdijk', '5612', '570', '21', '1'), ('Apartment', 'Sophia', '5616', '755', '40', '2'), ('Apartment', 'Hoogstraat', '5654', '925', '42', '1'), ('Apartment', 'Treurenburgstraat', '5613', '1150', '78', '4'), ('Apartment', 'Kalmoesplein', '5643', '1850', '121', '4'), ('Apartment', 'St', '5614', '945', '55', '2'), ('Apartment', 'Tongelresestraat', '5613', '970', '70', '1'), ('Apartment', 'Aalsterweg', '5615', '795', '50', '2'), ('Apartment', 'Kruisstraat', '5612', '850', '46', '2'), ('Apartment', 'Keizersgracht', '5611', '1095', '84', '2'), ('Apartment', 'Bleekstraat', '5611', '1175', '52', '2'), ('Apartment', 'Emmasingel', '5611', '2500', '135', '3'), ('House', 'Nieuwe', '5612', '1150', '65', '3'), ('Apartment', 'Winkelcentrum', '5625', '1750', '110', '3'), ('Apartment', 'De', '5611', '1353', '91', '3'), ('Apartment', 'De', '5611', '1318', '91', '3'), ('House', 'Bolestein', '5653', '1550', '147', '5'), ('House', 'Nabucco', '5629', '1300', '100', '4'), ('Apartment', 'Jan', '5611', '1485', '90', '2'), ('Apartment', 'Jan', '5611', '1350', '90', '3'), ('Apartment', 'Gestelsestraat', '5615', '1250', '61', '2'), ('Apartment', 'Maalakker', '5625', '1245', '75', '3'), ('Apartment', 'Borchmolen', '5612', '1450', '100', '3'), ('Apartment', 'Pastoor', '5612', '1150', '75', '3'), ('Apartment', 'Schootsestraat', '5616', '850', '45', '2'), ('Apartment', 'Pastoor', '5622', '695', '56', '2'), ('Apartment', 'Franz', '5654', '1075', '35', '2'), ('Apartment', 'Bredalaan', '5652', '1495', '75', '3'), ('Apartment', 'Cornelis', '5654', '720', '25', '1'), ('Apartment', 'Philitelaan', '5617', '1900', '135', '5'), ('House', 'Frans', '5613', '1295', '85', '3'), ('House', 'Vrijkensven', '5646', '1090', '121', '5'), ('House', 'Vrijkensven', '5646', '1200', '130', '5'), ('Apartment', 'Lichtstraat', '5611', '1278', '105', '3'), ('Apartment', 'Lichtstraat', '5611', '1233', '93', '3'), ('Apartment', 'Gagelboschplein', '5654', '1070', '100', '3'), ('House', 'Nicolaas', '5615', '1875', '115', '5'), ('Apartment', 'Strijpsestraat', '5616', '975', '65', '3'), ('House', 'Grote', '5632', '1290', '115', '4'), ('Room', 'Sebastiaan', '5622', '475', '14', '1'), ('House', 'van', '5612', '1500', '108', '5'), ('Room', 'Aalsterweg', '5615', '360', '16', '1'), ('House', 'Landgraaf', '5658', '1350', '113', '5')]\n"
          ],
          "name": "stdout"
        }
      ]
    },
    {
      "cell_type": "markdown",
      "metadata": {
        "id": "f1y3SXaLKUTy"
      },
      "source": [
        "'FriendlyHousing' - creating the dataframe"
      ]
    },
    {
      "cell_type": "code",
      "metadata": {
        "colab": {
          "base_uri": "https://localhost:8080/",
          "height": 419
        },
        "id": "gf801ahMFPOM",
        "outputId": "fcb6fab7-4034-4495-b7c7-372bb72ae797"
      },
      "source": [
        "dataframe = pd.DataFrame(catalog)\n",
        "dataframe.columns=['TYPE', 'STREET NAME', 'POSTCODE', 'PRICE'] \n",
        "dataframe "
      ],
      "execution_count": null,
      "outputs": [
        {
          "output_type": "execute_result",
          "data": {
            "text/html": [
              "<div>\n",
              "<style scoped>\n",
              "    .dataframe tbody tr th:only-of-type {\n",
              "        vertical-align: middle;\n",
              "    }\n",
              "\n",
              "    .dataframe tbody tr th {\n",
              "        vertical-align: top;\n",
              "    }\n",
              "\n",
              "    .dataframe thead th {\n",
              "        text-align: right;\n",
              "    }\n",
              "</style>\n",
              "<table border=\"1\" class=\"dataframe\">\n",
              "  <thead>\n",
              "    <tr style=\"text-align: right;\">\n",
              "      <th></th>\n",
              "      <th>TYPE</th>\n",
              "      <th>STREET NAME</th>\n",
              "      <th>POSTCODE</th>\n",
              "      <th>PRICE</th>\n",
              "    </tr>\n",
              "  </thead>\n",
              "  <tbody>\n",
              "    <tr>\n",
              "      <th>0</th>\n",
              "      <td>Kamer</td>\n",
              "      <td>Willem</td>\n",
              "      <td>5611</td>\n",
              "      <td>320</td>\n",
              "    </tr>\n",
              "    <tr>\n",
              "      <th>1</th>\n",
              "      <td>Kamer</td>\n",
              "      <td>Willem</td>\n",
              "      <td>5611</td>\n",
              "      <td>310</td>\n",
              "    </tr>\n",
              "    <tr>\n",
              "      <th>2</th>\n",
              "      <td>Kamer</td>\n",
              "      <td>Julianastraat</td>\n",
              "      <td>5611</td>\n",
              "      <td>375</td>\n",
              "    </tr>\n",
              "    <tr>\n",
              "      <th>3</th>\n",
              "      <td>Kamer</td>\n",
              "      <td>Bennekelstraat</td>\n",
              "      <td>5654</td>\n",
              "      <td>430</td>\n",
              "    </tr>\n",
              "    <tr>\n",
              "      <th>4</th>\n",
              "      <td>Kamer</td>\n",
              "      <td>Leenderweg</td>\n",
              "      <td>5615</td>\n",
              "      <td>415</td>\n",
              "    </tr>\n",
              "    <tr>\n",
              "      <th>...</th>\n",
              "      <td>...</td>\n",
              "      <td>...</td>\n",
              "      <td>...</td>\n",
              "      <td>...</td>\n",
              "    </tr>\n",
              "    <tr>\n",
              "      <th>114</th>\n",
              "      <td>Appartement</td>\n",
              "      <td>Frankrijkstraat</td>\n",
              "      <td>5622</td>\n",
              "      <td>925</td>\n",
              "    </tr>\n",
              "    <tr>\n",
              "      <th>115</th>\n",
              "      <td>Appartement</td>\n",
              "      <td>Kerkakkerstraat</td>\n",
              "      <td>5616</td>\n",
              "      <td>950</td>\n",
              "    </tr>\n",
              "    <tr>\n",
              "      <th>116</th>\n",
              "      <td>Appartement</td>\n",
              "      <td>Leenderweg</td>\n",
              "      <td>5614</td>\n",
              "      <td>800</td>\n",
              "    </tr>\n",
              "    <tr>\n",
              "      <th>117</th>\n",
              "      <td>Appartement</td>\n",
              "      <td>Leostraat</td>\n",
              "      <td>5615</td>\n",
              "      <td>775</td>\n",
              "    </tr>\n",
              "    <tr>\n",
              "      <th>118</th>\n",
              "      <td>Appartement</td>\n",
              "      <td>Stratumsedijk</td>\n",
              "      <td>5614</td>\n",
              "      <td>1075</td>\n",
              "    </tr>\n",
              "  </tbody>\n",
              "</table>\n",
              "<p>119 rows × 4 columns</p>\n",
              "</div>"
            ],
            "text/plain": [
              "            TYPE      STREET NAME POSTCODE PRICE\n",
              "0          Kamer           Willem     5611   320\n",
              "1          Kamer           Willem     5611   310\n",
              "2          Kamer    Julianastraat     5611   375\n",
              "3          Kamer   Bennekelstraat     5654   430\n",
              "4          Kamer       Leenderweg     5615   415\n",
              "..           ...              ...      ...   ...\n",
              "114  Appartement  Frankrijkstraat     5622   925\n",
              "115  Appartement  Kerkakkerstraat     5616   950\n",
              "116  Appartement       Leenderweg     5614   800\n",
              "117  Appartement        Leostraat     5615   775\n",
              "118  Appartement    Stratumsedijk     5614  1075\n",
              "\n",
              "[119 rows x 4 columns]"
            ]
          },
          "metadata": {
            "tags": []
          },
          "execution_count": 10
        }
      ]
    },
    {
      "cell_type": "markdown",
      "metadata": {
        "id": "dK0MGNHfKZsI"
      },
      "source": [
        "'Pararius'- creating the dataframe"
      ]
    },
    {
      "cell_type": "code",
      "metadata": {
        "colab": {
          "base_uri": "https://localhost:8080/",
          "height": 419
        },
        "id": "tYe6YPLlS-hB",
        "outputId": "43430049-2aa9-48f1-a82f-a3d283e9cda0"
      },
      "source": [
        "df_ = pd.DataFrame(catalog_p)\n",
        "df_.columns=['TYPE', 'STREET NAME', 'POSTCODE', 'PRICE','LIVING_AREA', 'ROOMS'] \n",
        "df_ "
      ],
      "execution_count": null,
      "outputs": [
        {
          "output_type": "execute_result",
          "data": {
            "text/html": [
              "<div>\n",
              "<style scoped>\n",
              "    .dataframe tbody tr th:only-of-type {\n",
              "        vertical-align: middle;\n",
              "    }\n",
              "\n",
              "    .dataframe tbody tr th {\n",
              "        vertical-align: top;\n",
              "    }\n",
              "\n",
              "    .dataframe thead th {\n",
              "        text-align: right;\n",
              "    }\n",
              "</style>\n",
              "<table border=\"1\" class=\"dataframe\">\n",
              "  <thead>\n",
              "    <tr style=\"text-align: right;\">\n",
              "      <th></th>\n",
              "      <th>TYPE</th>\n",
              "      <th>STREET NAME</th>\n",
              "      <th>POSTCODE</th>\n",
              "      <th>PRICE</th>\n",
              "      <th>LIVING_AREA</th>\n",
              "      <th>ROOMS</th>\n",
              "    </tr>\n",
              "  </thead>\n",
              "  <tbody>\n",
              "    <tr>\n",
              "      <th>0</th>\n",
              "      <td>House</td>\n",
              "      <td>Nieuwe</td>\n",
              "      <td>5612</td>\n",
              "      <td>1150</td>\n",
              "      <td>65</td>\n",
              "      <td>3</td>\n",
              "    </tr>\n",
              "    <tr>\n",
              "      <th>1</th>\n",
              "      <td>Apartment</td>\n",
              "      <td>Vrijstraat</td>\n",
              "      <td>5611</td>\n",
              "      <td>1750</td>\n",
              "      <td>90</td>\n",
              "      <td>2</td>\n",
              "    </tr>\n",
              "    <tr>\n",
              "      <th>2</th>\n",
              "      <td>Room</td>\n",
              "      <td>Schootsestraat</td>\n",
              "      <td>5616</td>\n",
              "      <td>445</td>\n",
              "      <td>10</td>\n",
              "      <td>1</td>\n",
              "    </tr>\n",
              "    <tr>\n",
              "      <th>3</th>\n",
              "      <td>Apartment</td>\n",
              "      <td>Jeroen</td>\n",
              "      <td>5642</td>\n",
              "      <td>1195</td>\n",
              "      <td>75</td>\n",
              "      <td>3</td>\n",
              "    </tr>\n",
              "    <tr>\n",
              "      <th>4</th>\n",
              "      <td>Apartment</td>\n",
              "      <td>De</td>\n",
              "      <td>5612</td>\n",
              "      <td>423</td>\n",
              "      <td>20</td>\n",
              "      <td>2</td>\n",
              "    </tr>\n",
              "    <tr>\n",
              "      <th>...</th>\n",
              "      <td>...</td>\n",
              "      <td>...</td>\n",
              "      <td>...</td>\n",
              "      <td>...</td>\n",
              "      <td>...</td>\n",
              "      <td>...</td>\n",
              "    </tr>\n",
              "    <tr>\n",
              "      <th>88</th>\n",
              "      <td>House</td>\n",
              "      <td>Grote</td>\n",
              "      <td>5632</td>\n",
              "      <td>1290</td>\n",
              "      <td>115</td>\n",
              "      <td>4</td>\n",
              "    </tr>\n",
              "    <tr>\n",
              "      <th>89</th>\n",
              "      <td>Room</td>\n",
              "      <td>Sebastiaan</td>\n",
              "      <td>5622</td>\n",
              "      <td>475</td>\n",
              "      <td>14</td>\n",
              "      <td>1</td>\n",
              "    </tr>\n",
              "    <tr>\n",
              "      <th>90</th>\n",
              "      <td>House</td>\n",
              "      <td>van</td>\n",
              "      <td>5612</td>\n",
              "      <td>1500</td>\n",
              "      <td>108</td>\n",
              "      <td>5</td>\n",
              "    </tr>\n",
              "    <tr>\n",
              "      <th>91</th>\n",
              "      <td>Room</td>\n",
              "      <td>Aalsterweg</td>\n",
              "      <td>5615</td>\n",
              "      <td>360</td>\n",
              "      <td>16</td>\n",
              "      <td>1</td>\n",
              "    </tr>\n",
              "    <tr>\n",
              "      <th>92</th>\n",
              "      <td>House</td>\n",
              "      <td>Landgraaf</td>\n",
              "      <td>5658</td>\n",
              "      <td>1350</td>\n",
              "      <td>113</td>\n",
              "      <td>5</td>\n",
              "    </tr>\n",
              "  </tbody>\n",
              "</table>\n",
              "<p>93 rows × 6 columns</p>\n",
              "</div>"
            ],
            "text/plain": [
              "         TYPE     STREET NAME POSTCODE PRICE LIVING_AREA ROOMS\n",
              "0       House          Nieuwe     5612  1150          65     3\n",
              "1   Apartment      Vrijstraat     5611  1750          90     2\n",
              "2        Room  Schootsestraat     5616   445          10     1\n",
              "3   Apartment          Jeroen     5642  1195          75     3\n",
              "4   Apartment              De     5612   423          20     2\n",
              "..        ...             ...      ...   ...         ...   ...\n",
              "88      House           Grote     5632  1290         115     4\n",
              "89       Room      Sebastiaan     5622   475          14     1\n",
              "90      House             van     5612  1500         108     5\n",
              "91       Room      Aalsterweg     5615   360          16     1\n",
              "92      House       Landgraaf     5658  1350         113     5\n",
              "\n",
              "[93 rows x 6 columns]"
            ]
          },
          "metadata": {
            "tags": []
          },
          "execution_count": 11
        }
      ]
    },
    {
      "cell_type": "markdown",
      "metadata": {
        "id": "7BfHwW4rjw08"
      },
      "source": [
        "# **Data integration**\n",
        "\n",
        "\n",
        "\n",
        "> Using concat to create a `Union` between the two datasets and then, integrate them into one dataset.\n",
        "\n"
      ]
    },
    {
      "cell_type": "code",
      "metadata": {
        "id": "J5xbuFDihnXc"
      },
      "source": [
        "frames = [dataframe, df_]"
      ],
      "execution_count": null,
      "outputs": []
    },
    {
      "cell_type": "code",
      "metadata": {
        "colab": {
          "base_uri": "https://localhost:8080/",
          "height": 419
        },
        "id": "UfyranQchpAu",
        "outputId": "6fddc814-d638-4a74-cae0-65e7625517b8"
      },
      "source": [
        "df = pd.concat(frames)\n",
        "df"
      ],
      "execution_count": null,
      "outputs": [
        {
          "output_type": "execute_result",
          "data": {
            "text/html": [
              "<div>\n",
              "<style scoped>\n",
              "    .dataframe tbody tr th:only-of-type {\n",
              "        vertical-align: middle;\n",
              "    }\n",
              "\n",
              "    .dataframe tbody tr th {\n",
              "        vertical-align: top;\n",
              "    }\n",
              "\n",
              "    .dataframe thead th {\n",
              "        text-align: right;\n",
              "    }\n",
              "</style>\n",
              "<table border=\"1\" class=\"dataframe\">\n",
              "  <thead>\n",
              "    <tr style=\"text-align: right;\">\n",
              "      <th></th>\n",
              "      <th>TYPE</th>\n",
              "      <th>STREET NAME</th>\n",
              "      <th>POSTCODE</th>\n",
              "      <th>PRICE</th>\n",
              "      <th>LIVING_AREA</th>\n",
              "      <th>ROOMS</th>\n",
              "    </tr>\n",
              "  </thead>\n",
              "  <tbody>\n",
              "    <tr>\n",
              "      <th>0</th>\n",
              "      <td>Kamer</td>\n",
              "      <td>Willem</td>\n",
              "      <td>5611</td>\n",
              "      <td>320</td>\n",
              "      <td>NaN</td>\n",
              "      <td>NaN</td>\n",
              "    </tr>\n",
              "    <tr>\n",
              "      <th>1</th>\n",
              "      <td>Kamer</td>\n",
              "      <td>Willem</td>\n",
              "      <td>5611</td>\n",
              "      <td>310</td>\n",
              "      <td>NaN</td>\n",
              "      <td>NaN</td>\n",
              "    </tr>\n",
              "    <tr>\n",
              "      <th>2</th>\n",
              "      <td>Kamer</td>\n",
              "      <td>Julianastraat</td>\n",
              "      <td>5611</td>\n",
              "      <td>375</td>\n",
              "      <td>NaN</td>\n",
              "      <td>NaN</td>\n",
              "    </tr>\n",
              "    <tr>\n",
              "      <th>3</th>\n",
              "      <td>Kamer</td>\n",
              "      <td>Bennekelstraat</td>\n",
              "      <td>5654</td>\n",
              "      <td>430</td>\n",
              "      <td>NaN</td>\n",
              "      <td>NaN</td>\n",
              "    </tr>\n",
              "    <tr>\n",
              "      <th>4</th>\n",
              "      <td>Kamer</td>\n",
              "      <td>Leenderweg</td>\n",
              "      <td>5615</td>\n",
              "      <td>415</td>\n",
              "      <td>NaN</td>\n",
              "      <td>NaN</td>\n",
              "    </tr>\n",
              "    <tr>\n",
              "      <th>...</th>\n",
              "      <td>...</td>\n",
              "      <td>...</td>\n",
              "      <td>...</td>\n",
              "      <td>...</td>\n",
              "      <td>...</td>\n",
              "      <td>...</td>\n",
              "    </tr>\n",
              "    <tr>\n",
              "      <th>88</th>\n",
              "      <td>House</td>\n",
              "      <td>Grote</td>\n",
              "      <td>5632</td>\n",
              "      <td>1290</td>\n",
              "      <td>115</td>\n",
              "      <td>4</td>\n",
              "    </tr>\n",
              "    <tr>\n",
              "      <th>89</th>\n",
              "      <td>Room</td>\n",
              "      <td>Sebastiaan</td>\n",
              "      <td>5622</td>\n",
              "      <td>475</td>\n",
              "      <td>14</td>\n",
              "      <td>1</td>\n",
              "    </tr>\n",
              "    <tr>\n",
              "      <th>90</th>\n",
              "      <td>House</td>\n",
              "      <td>van</td>\n",
              "      <td>5612</td>\n",
              "      <td>1500</td>\n",
              "      <td>108</td>\n",
              "      <td>5</td>\n",
              "    </tr>\n",
              "    <tr>\n",
              "      <th>91</th>\n",
              "      <td>Room</td>\n",
              "      <td>Aalsterweg</td>\n",
              "      <td>5615</td>\n",
              "      <td>360</td>\n",
              "      <td>16</td>\n",
              "      <td>1</td>\n",
              "    </tr>\n",
              "    <tr>\n",
              "      <th>92</th>\n",
              "      <td>House</td>\n",
              "      <td>Landgraaf</td>\n",
              "      <td>5658</td>\n",
              "      <td>1350</td>\n",
              "      <td>113</td>\n",
              "      <td>5</td>\n",
              "    </tr>\n",
              "  </tbody>\n",
              "</table>\n",
              "<p>212 rows × 6 columns</p>\n",
              "</div>"
            ],
            "text/plain": [
              "     TYPE     STREET NAME POSTCODE PRICE LIVING_AREA ROOMS\n",
              "0   Kamer          Willem     5611   320         NaN   NaN\n",
              "1   Kamer          Willem     5611   310         NaN   NaN\n",
              "2   Kamer   Julianastraat     5611   375         NaN   NaN\n",
              "3   Kamer  Bennekelstraat     5654   430         NaN   NaN\n",
              "4   Kamer      Leenderweg     5615   415         NaN   NaN\n",
              "..    ...             ...      ...   ...         ...   ...\n",
              "88  House           Grote     5632  1290         115     4\n",
              "89   Room      Sebastiaan     5622   475          14     1\n",
              "90  House             van     5612  1500         108     5\n",
              "91   Room      Aalsterweg     5615   360          16     1\n",
              "92  House       Landgraaf     5658  1350         113     5\n",
              "\n",
              "[212 rows x 6 columns]"
            ]
          },
          "metadata": {
            "tags": []
          },
          "execution_count": 13
        }
      ]
    },
    {
      "cell_type": "markdown",
      "metadata": {
        "id": "TS21WNy8ioVI"
      },
      "source": [
        "# **Data analysis**"
      ]
    },
    {
      "cell_type": "markdown",
      "metadata": {
        "id": "aH3W-fA8Vzgq"
      },
      "source": [
        "\n",
        "\n",
        "Checking the dimension of the dataset and the features.\n",
        "\n",
        "\n",
        "\n"
      ]
    },
    {
      "cell_type": "code",
      "metadata": {
        "colab": {
          "base_uri": "https://localhost:8080/"
        },
        "id": "27Yg9C7Xpekl",
        "outputId": "4bf8f699-817f-4586-e674-9079921fbdce"
      },
      "source": [
        "# Check the dimension of the dataset\n",
        "df.shape"
      ],
      "execution_count": null,
      "outputs": [
        {
          "output_type": "execute_result",
          "data": {
            "text/plain": [
              "(212, 6)"
            ]
          },
          "metadata": {
            "tags": []
          },
          "execution_count": 14
        }
      ]
    },
    {
      "cell_type": "markdown",
      "metadata": {
        "id": "4jX5Gvkoz-2f"
      },
      "source": [
        ">The dataset has 219 observations and 6 features, but the observations(rows) will change with time because the data is scraped and this means it is up to date. Whenever there is a change on the websites, there is a change in the dataset.\n"
      ]
    },
    {
      "cell_type": "code",
      "metadata": {
        "colab": {
          "base_uri": "https://localhost:8080/"
        },
        "id": "58aE1NgaL2mB",
        "outputId": "b942cdee-54c6-4699-92b0-0598fdd53c48"
      },
      "source": [
        "df.info()"
      ],
      "execution_count": null,
      "outputs": [
        {
          "output_type": "stream",
          "text": [
            "<class 'pandas.core.frame.DataFrame'>\n",
            "Int64Index: 212 entries, 0 to 92\n",
            "Data columns (total 6 columns):\n",
            " #   Column       Non-Null Count  Dtype \n",
            "---  ------       --------------  ----- \n",
            " 0   TYPE         212 non-null    object\n",
            " 1   STREET NAME  212 non-null    object\n",
            " 2   POSTCODE     212 non-null    object\n",
            " 3   PRICE        212 non-null    object\n",
            " 4   LIVING_AREA  93 non-null     object\n",
            " 5   ROOMS        93 non-null     object\n",
            "dtypes: object(6)\n",
            "memory usage: 11.6+ KB\n"
          ],
          "name": "stdout"
        }
      ]
    },
    {
      "cell_type": "markdown",
      "metadata": {
        "id": "6gYS7U_Fxybm"
      },
      "source": [
        ">It can be seen that none features are numeric, but objects. Later, they will have to be converted into either float or int in order to be plotted and then used for the trainig of the models. There are also missing values in the dataset."
      ]
    },
    {
      "cell_type": "markdown",
      "metadata": {
        "id": "rC_WI0-xVGEX"
      },
      "source": [
        "There are missing values in the dataset, which appeared after the data integration of the two datasets. This will be fixed later before the training of the models."
      ]
    },
    {
      "cell_type": "code",
      "metadata": {
        "colab": {
          "base_uri": "https://localhost:8080/"
        },
        "id": "cQKZ65_XMHzt",
        "outputId": "741c0d20-c9d5-4aeb-8fb9-7ccee9cf6b24"
      },
      "source": [
        "df.isnull().sum()"
      ],
      "execution_count": null,
      "outputs": [
        {
          "output_type": "execute_result",
          "data": {
            "text/plain": [
              "TYPE             0\n",
              "STREET NAME      0\n",
              "POSTCODE         0\n",
              "PRICE            0\n",
              "LIVING_AREA    119\n",
              "ROOMS          119\n",
              "dtype: int64"
            ]
          },
          "metadata": {
            "tags": []
          },
          "execution_count": 16
        }
      ]
    },
    {
      "cell_type": "code",
      "metadata": {
        "colab": {
          "base_uri": "https://localhost:8080/",
          "height": 82
        },
        "id": "2HyNyYJ-VFrZ",
        "outputId": "3db55bca-3645-423a-d1c1-6276bc2dc9d5"
      },
      "source": [
        "# Find columns with missing values and their percent missing\n",
        "df.isnull().sum()                                                     \n",
        "miss_val = df.isnull().sum().sort_values(ascending=False)\n",
        "miss_val = pd.DataFrame(data=df.isnull().sum().sort_values(ascending=False), columns=['MissvalCount'])\n",
        "\n",
        "# Add a new column to the dataframe and fill it with the percentage of missing values\n",
        "miss_val['Percent'] = miss_val.MissvalCount.apply(lambda x : '{:.2f}'.format(float(x)/df.shape[0] * 100)) \n",
        "miss_val = miss_val[miss_val.MissvalCount > 0].style.background_gradient(cmap='Reds')\n",
        "miss_val"
      ],
      "execution_count": null,
      "outputs": [
        {
          "output_type": "execute_result",
          "data": {
            "text/html": [
              "<style  type=\"text/css\" >\n",
              "#T_95e25752_9a3d_11eb_971e_0242ac1c0002row0_col0,#T_95e25752_9a3d_11eb_971e_0242ac1c0002row1_col0{\n",
              "            background-color:  #fff5f0;\n",
              "            color:  #000000;\n",
              "        }</style><table id=\"T_95e25752_9a3d_11eb_971e_0242ac1c0002\" ><thead>    <tr>        <th class=\"blank level0\" ></th>        <th class=\"col_heading level0 col0\" >MissvalCount</th>        <th class=\"col_heading level0 col1\" >Percent</th>    </tr></thead><tbody>\n",
              "                <tr>\n",
              "                        <th id=\"T_95e25752_9a3d_11eb_971e_0242ac1c0002level0_row0\" class=\"row_heading level0 row0\" >ROOMS</th>\n",
              "                        <td id=\"T_95e25752_9a3d_11eb_971e_0242ac1c0002row0_col0\" class=\"data row0 col0\" >119</td>\n",
              "                        <td id=\"T_95e25752_9a3d_11eb_971e_0242ac1c0002row0_col1\" class=\"data row0 col1\" >56.13</td>\n",
              "            </tr>\n",
              "            <tr>\n",
              "                        <th id=\"T_95e25752_9a3d_11eb_971e_0242ac1c0002level0_row1\" class=\"row_heading level0 row1\" >LIVING_AREA</th>\n",
              "                        <td id=\"T_95e25752_9a3d_11eb_971e_0242ac1c0002row1_col0\" class=\"data row1 col0\" >119</td>\n",
              "                        <td id=\"T_95e25752_9a3d_11eb_971e_0242ac1c0002row1_col1\" class=\"data row1 col1\" >56.13</td>\n",
              "            </tr>\n",
              "    </tbody></table>"
            ],
            "text/plain": [
              "<pandas.io.formats.style.Styler at 0x7ff5e55b1c90>"
            ]
          },
          "metadata": {
            "tags": []
          },
          "execution_count": 17
        }
      ]
    },
    {
      "cell_type": "markdown",
      "metadata": {
        "id": "gUIM0jdHyawG"
      },
      "source": [
        ">The light red color shows the small amount of NaN values. If the features were with a high percent of missing values, they would have to be removed. Yet, in this case, they have relatively low percentage so they can be used in future. Then, the NaN values will be replaced."
      ]
    },
    {
      "cell_type": "code",
      "metadata": {
        "colab": {
          "base_uri": "https://localhost:8080/",
          "height": 173
        },
        "id": "zoWWB8aeL5LR",
        "outputId": "8a865f30-8159-4ed5-df5b-27b816d4b815"
      },
      "source": [
        "#Description of the dataset\n",
        "df.describe()"
      ],
      "execution_count": null,
      "outputs": [
        {
          "output_type": "execute_result",
          "data": {
            "text/html": [
              "<div>\n",
              "<style scoped>\n",
              "    .dataframe tbody tr th:only-of-type {\n",
              "        vertical-align: middle;\n",
              "    }\n",
              "\n",
              "    .dataframe tbody tr th {\n",
              "        vertical-align: top;\n",
              "    }\n",
              "\n",
              "    .dataframe thead th {\n",
              "        text-align: right;\n",
              "    }\n",
              "</style>\n",
              "<table border=\"1\" class=\"dataframe\">\n",
              "  <thead>\n",
              "    <tr style=\"text-align: right;\">\n",
              "      <th></th>\n",
              "      <th>TYPE</th>\n",
              "      <th>STREET NAME</th>\n",
              "      <th>POSTCODE</th>\n",
              "      <th>PRICE</th>\n",
              "      <th>LIVING_AREA</th>\n",
              "      <th>ROOMS</th>\n",
              "    </tr>\n",
              "  </thead>\n",
              "  <tbody>\n",
              "    <tr>\n",
              "      <th>count</th>\n",
              "      <td>212</td>\n",
              "      <td>212</td>\n",
              "      <td>212</td>\n",
              "      <td>212</td>\n",
              "      <td>93</td>\n",
              "      <td>93</td>\n",
              "    </tr>\n",
              "    <tr>\n",
              "      <th>unique</th>\n",
              "      <td>6</td>\n",
              "      <td>107</td>\n",
              "      <td>25</td>\n",
              "      <td>123</td>\n",
              "      <td>51</td>\n",
              "      <td>6</td>\n",
              "    </tr>\n",
              "    <tr>\n",
              "      <th>top</th>\n",
              "      <td>Apartment</td>\n",
              "      <td>Leenderweg</td>\n",
              "      <td>5611</td>\n",
              "      <td>415</td>\n",
              "      <td>75</td>\n",
              "      <td>2</td>\n",
              "    </tr>\n",
              "    <tr>\n",
              "      <th>freq</th>\n",
              "      <td>69</td>\n",
              "      <td>9</td>\n",
              "      <td>47</td>\n",
              "      <td>15</td>\n",
              "      <td>6</td>\n",
              "      <td>30</td>\n",
              "    </tr>\n",
              "  </tbody>\n",
              "</table>\n",
              "</div>"
            ],
            "text/plain": [
              "             TYPE STREET NAME POSTCODE PRICE LIVING_AREA ROOMS\n",
              "count         212         212      212   212          93    93\n",
              "unique          6         107       25   123          51     6\n",
              "top     Apartment  Leenderweg     5611   415          75     2\n",
              "freq           69           9       47    15           6    30"
            ]
          },
          "metadata": {
            "tags": []
          },
          "execution_count": 18
        }
      ]
    },
    {
      "cell_type": "code",
      "metadata": {
        "colab": {
          "base_uri": "https://localhost:8080/",
          "height": 204
        },
        "id": "uAQLjA0JL6rp",
        "outputId": "d4852ddc-ea51-4816-a5a5-5c99a32c1773"
      },
      "source": [
        "#First 5 rows of our dataset\n",
        "df.head()"
      ],
      "execution_count": null,
      "outputs": [
        {
          "output_type": "execute_result",
          "data": {
            "text/html": [
              "<div>\n",
              "<style scoped>\n",
              "    .dataframe tbody tr th:only-of-type {\n",
              "        vertical-align: middle;\n",
              "    }\n",
              "\n",
              "    .dataframe tbody tr th {\n",
              "        vertical-align: top;\n",
              "    }\n",
              "\n",
              "    .dataframe thead th {\n",
              "        text-align: right;\n",
              "    }\n",
              "</style>\n",
              "<table border=\"1\" class=\"dataframe\">\n",
              "  <thead>\n",
              "    <tr style=\"text-align: right;\">\n",
              "      <th></th>\n",
              "      <th>TYPE</th>\n",
              "      <th>STREET NAME</th>\n",
              "      <th>POSTCODE</th>\n",
              "      <th>PRICE</th>\n",
              "      <th>LIVING_AREA</th>\n",
              "      <th>ROOMS</th>\n",
              "    </tr>\n",
              "  </thead>\n",
              "  <tbody>\n",
              "    <tr>\n",
              "      <th>0</th>\n",
              "      <td>Kamer</td>\n",
              "      <td>Willem</td>\n",
              "      <td>5611</td>\n",
              "      <td>320</td>\n",
              "      <td>NaN</td>\n",
              "      <td>NaN</td>\n",
              "    </tr>\n",
              "    <tr>\n",
              "      <th>1</th>\n",
              "      <td>Kamer</td>\n",
              "      <td>Willem</td>\n",
              "      <td>5611</td>\n",
              "      <td>310</td>\n",
              "      <td>NaN</td>\n",
              "      <td>NaN</td>\n",
              "    </tr>\n",
              "    <tr>\n",
              "      <th>2</th>\n",
              "      <td>Kamer</td>\n",
              "      <td>Julianastraat</td>\n",
              "      <td>5611</td>\n",
              "      <td>375</td>\n",
              "      <td>NaN</td>\n",
              "      <td>NaN</td>\n",
              "    </tr>\n",
              "    <tr>\n",
              "      <th>3</th>\n",
              "      <td>Kamer</td>\n",
              "      <td>Bennekelstraat</td>\n",
              "      <td>5654</td>\n",
              "      <td>430</td>\n",
              "      <td>NaN</td>\n",
              "      <td>NaN</td>\n",
              "    </tr>\n",
              "    <tr>\n",
              "      <th>4</th>\n",
              "      <td>Kamer</td>\n",
              "      <td>Leenderweg</td>\n",
              "      <td>5615</td>\n",
              "      <td>415</td>\n",
              "      <td>NaN</td>\n",
              "      <td>NaN</td>\n",
              "    </tr>\n",
              "  </tbody>\n",
              "</table>\n",
              "</div>"
            ],
            "text/plain": [
              "    TYPE     STREET NAME POSTCODE PRICE LIVING_AREA ROOMS\n",
              "0  Kamer          Willem     5611   320         NaN   NaN\n",
              "1  Kamer          Willem     5611   310         NaN   NaN\n",
              "2  Kamer   Julianastraat     5611   375         NaN   NaN\n",
              "3  Kamer  Bennekelstraat     5654   430         NaN   NaN\n",
              "4  Kamer      Leenderweg     5615   415         NaN   NaN"
            ]
          },
          "metadata": {
            "tags": []
          },
          "execution_count": 19
        }
      ]
    },
    {
      "cell_type": "code",
      "metadata": {
        "colab": {
          "base_uri": "https://localhost:8080/",
          "height": 204
        },
        "id": "eDLlCPA_L8b4",
        "outputId": "9ea3fe5b-381d-4265-894f-fd24f4b6c5d1"
      },
      "source": [
        "#Last 5 rows of our dataset\n",
        "df.tail()"
      ],
      "execution_count": null,
      "outputs": [
        {
          "output_type": "execute_result",
          "data": {
            "text/html": [
              "<div>\n",
              "<style scoped>\n",
              "    .dataframe tbody tr th:only-of-type {\n",
              "        vertical-align: middle;\n",
              "    }\n",
              "\n",
              "    .dataframe tbody tr th {\n",
              "        vertical-align: top;\n",
              "    }\n",
              "\n",
              "    .dataframe thead th {\n",
              "        text-align: right;\n",
              "    }\n",
              "</style>\n",
              "<table border=\"1\" class=\"dataframe\">\n",
              "  <thead>\n",
              "    <tr style=\"text-align: right;\">\n",
              "      <th></th>\n",
              "      <th>TYPE</th>\n",
              "      <th>STREET NAME</th>\n",
              "      <th>POSTCODE</th>\n",
              "      <th>PRICE</th>\n",
              "      <th>LIVING_AREA</th>\n",
              "      <th>ROOMS</th>\n",
              "    </tr>\n",
              "  </thead>\n",
              "  <tbody>\n",
              "    <tr>\n",
              "      <th>88</th>\n",
              "      <td>House</td>\n",
              "      <td>Grote</td>\n",
              "      <td>5632</td>\n",
              "      <td>1290</td>\n",
              "      <td>115</td>\n",
              "      <td>4</td>\n",
              "    </tr>\n",
              "    <tr>\n",
              "      <th>89</th>\n",
              "      <td>Room</td>\n",
              "      <td>Sebastiaan</td>\n",
              "      <td>5622</td>\n",
              "      <td>475</td>\n",
              "      <td>14</td>\n",
              "      <td>1</td>\n",
              "    </tr>\n",
              "    <tr>\n",
              "      <th>90</th>\n",
              "      <td>House</td>\n",
              "      <td>van</td>\n",
              "      <td>5612</td>\n",
              "      <td>1500</td>\n",
              "      <td>108</td>\n",
              "      <td>5</td>\n",
              "    </tr>\n",
              "    <tr>\n",
              "      <th>91</th>\n",
              "      <td>Room</td>\n",
              "      <td>Aalsterweg</td>\n",
              "      <td>5615</td>\n",
              "      <td>360</td>\n",
              "      <td>16</td>\n",
              "      <td>1</td>\n",
              "    </tr>\n",
              "    <tr>\n",
              "      <th>92</th>\n",
              "      <td>House</td>\n",
              "      <td>Landgraaf</td>\n",
              "      <td>5658</td>\n",
              "      <td>1350</td>\n",
              "      <td>113</td>\n",
              "      <td>5</td>\n",
              "    </tr>\n",
              "  </tbody>\n",
              "</table>\n",
              "</div>"
            ],
            "text/plain": [
              "     TYPE STREET NAME POSTCODE PRICE LIVING_AREA ROOMS\n",
              "88  House       Grote     5632  1290         115     4\n",
              "89   Room  Sebastiaan     5622   475          14     1\n",
              "90  House         van     5612  1500         108     5\n",
              "91   Room  Aalsterweg     5615   360          16     1\n",
              "92  House   Landgraaf     5658  1350         113     5"
            ]
          },
          "metadata": {
            "tags": []
          },
          "execution_count": 20
        }
      ]
    },
    {
      "cell_type": "code",
      "metadata": {
        "colab": {
          "base_uri": "https://localhost:8080/"
        },
        "id": "ObPApD8SnCI9",
        "outputId": "16e7fb58-3810-4a12-dc11-a6f4d7fe0e61"
      },
      "source": [
        "df['TYPE'].value_counts()"
      ],
      "execution_count": null,
      "outputs": [
        {
          "output_type": "execute_result",
          "data": {
            "text/plain": [
              "Apartment      69\n",
              "Kamer          47\n",
              "Studio         36\n",
              "Appartement    36\n",
              "House          16\n",
              "Room            8\n",
              "Name: TYPE, dtype: int64"
            ]
          },
          "metadata": {
            "tags": []
          },
          "execution_count": 21
        }
      ]
    },
    {
      "cell_type": "code",
      "metadata": {
        "colab": {
          "base_uri": "https://localhost:8080/"
        },
        "id": "kl9c78mpMEAW",
        "outputId": "d51b5b79-b418-42be-de09-0ae226a15b25"
      },
      "source": [
        "df.iloc[0]"
      ],
      "execution_count": null,
      "outputs": [
        {
          "output_type": "execute_result",
          "data": {
            "text/plain": [
              "TYPE            Kamer\n",
              "STREET NAME    Willem\n",
              "POSTCODE         5611\n",
              "PRICE             320\n",
              "LIVING_AREA       NaN\n",
              "ROOMS             NaN\n",
              "Name: 0, dtype: object"
            ]
          },
          "metadata": {
            "tags": []
          },
          "execution_count": 22
        }
      ]
    },
    {
      "cell_type": "code",
      "metadata": {
        "colab": {
          "base_uri": "https://localhost:8080/",
          "height": 855
        },
        "id": "5O0fuQb0rgzQ",
        "outputId": "7bd09bc1-b9bb-4acc-a9da-674bd1c55fca"
      },
      "source": [
        "df.groupby('POSTCODE').count()"
      ],
      "execution_count": null,
      "outputs": [
        {
          "output_type": "execute_result",
          "data": {
            "text/html": [
              "<div>\n",
              "<style scoped>\n",
              "    .dataframe tbody tr th:only-of-type {\n",
              "        vertical-align: middle;\n",
              "    }\n",
              "\n",
              "    .dataframe tbody tr th {\n",
              "        vertical-align: top;\n",
              "    }\n",
              "\n",
              "    .dataframe thead th {\n",
              "        text-align: right;\n",
              "    }\n",
              "</style>\n",
              "<table border=\"1\" class=\"dataframe\">\n",
              "  <thead>\n",
              "    <tr style=\"text-align: right;\">\n",
              "      <th></th>\n",
              "      <th>TYPE</th>\n",
              "      <th>STREET NAME</th>\n",
              "      <th>PRICE</th>\n",
              "      <th>LIVING_AREA</th>\n",
              "      <th>ROOMS</th>\n",
              "    </tr>\n",
              "    <tr>\n",
              "      <th>POSTCODE</th>\n",
              "      <th></th>\n",
              "      <th></th>\n",
              "      <th></th>\n",
              "      <th></th>\n",
              "      <th></th>\n",
              "    </tr>\n",
              "  </thead>\n",
              "  <tbody>\n",
              "    <tr>\n",
              "      <th>5503</th>\n",
              "      <td>1</td>\n",
              "      <td>1</td>\n",
              "      <td>1</td>\n",
              "      <td>0</td>\n",
              "      <td>0</td>\n",
              "    </tr>\n",
              "    <tr>\n",
              "      <th>5611</th>\n",
              "      <td>47</td>\n",
              "      <td>47</td>\n",
              "      <td>47</td>\n",
              "      <td>30</td>\n",
              "      <td>30</td>\n",
              "    </tr>\n",
              "    <tr>\n",
              "      <th>5612</th>\n",
              "      <td>30</td>\n",
              "      <td>30</td>\n",
              "      <td>30</td>\n",
              "      <td>14</td>\n",
              "      <td>14</td>\n",
              "    </tr>\n",
              "    <tr>\n",
              "      <th>5613</th>\n",
              "      <td>9</td>\n",
              "      <td>9</td>\n",
              "      <td>9</td>\n",
              "      <td>4</td>\n",
              "      <td>4</td>\n",
              "    </tr>\n",
              "    <tr>\n",
              "      <th>5614</th>\n",
              "      <td>13</td>\n",
              "      <td>13</td>\n",
              "      <td>13</td>\n",
              "      <td>2</td>\n",
              "      <td>2</td>\n",
              "    </tr>\n",
              "    <tr>\n",
              "      <th>5615</th>\n",
              "      <td>15</td>\n",
              "      <td>15</td>\n",
              "      <td>15</td>\n",
              "      <td>7</td>\n",
              "      <td>7</td>\n",
              "    </tr>\n",
              "    <tr>\n",
              "      <th>5616</th>\n",
              "      <td>8</td>\n",
              "      <td>8</td>\n",
              "      <td>8</td>\n",
              "      <td>6</td>\n",
              "      <td>6</td>\n",
              "    </tr>\n",
              "    <tr>\n",
              "      <th>5617</th>\n",
              "      <td>1</td>\n",
              "      <td>1</td>\n",
              "      <td>1</td>\n",
              "      <td>1</td>\n",
              "      <td>1</td>\n",
              "    </tr>\n",
              "    <tr>\n",
              "      <th>5621</th>\n",
              "      <td>8</td>\n",
              "      <td>8</td>\n",
              "      <td>8</td>\n",
              "      <td>1</td>\n",
              "      <td>1</td>\n",
              "    </tr>\n",
              "    <tr>\n",
              "      <th>5622</th>\n",
              "      <td>8</td>\n",
              "      <td>8</td>\n",
              "      <td>8</td>\n",
              "      <td>3</td>\n",
              "      <td>3</td>\n",
              "    </tr>\n",
              "    <tr>\n",
              "      <th>5623</th>\n",
              "      <td>10</td>\n",
              "      <td>10</td>\n",
              "      <td>10</td>\n",
              "      <td>1</td>\n",
              "      <td>1</td>\n",
              "    </tr>\n",
              "    <tr>\n",
              "      <th>5624</th>\n",
              "      <td>1</td>\n",
              "      <td>1</td>\n",
              "      <td>1</td>\n",
              "      <td>0</td>\n",
              "      <td>0</td>\n",
              "    </tr>\n",
              "    <tr>\n",
              "      <th>5625</th>\n",
              "      <td>4</td>\n",
              "      <td>4</td>\n",
              "      <td>4</td>\n",
              "      <td>3</td>\n",
              "      <td>3</td>\n",
              "    </tr>\n",
              "    <tr>\n",
              "      <th>5629</th>\n",
              "      <td>1</td>\n",
              "      <td>1</td>\n",
              "      <td>1</td>\n",
              "      <td>1</td>\n",
              "      <td>1</td>\n",
              "    </tr>\n",
              "    <tr>\n",
              "      <th>5631</th>\n",
              "      <td>3</td>\n",
              "      <td>3</td>\n",
              "      <td>3</td>\n",
              "      <td>0</td>\n",
              "      <td>0</td>\n",
              "    </tr>\n",
              "    <tr>\n",
              "      <th>5632</th>\n",
              "      <td>1</td>\n",
              "      <td>1</td>\n",
              "      <td>1</td>\n",
              "      <td>1</td>\n",
              "      <td>1</td>\n",
              "    </tr>\n",
              "    <tr>\n",
              "      <th>5642</th>\n",
              "      <td>7</td>\n",
              "      <td>7</td>\n",
              "      <td>7</td>\n",
              "      <td>2</td>\n",
              "      <td>2</td>\n",
              "    </tr>\n",
              "    <tr>\n",
              "      <th>5643</th>\n",
              "      <td>13</td>\n",
              "      <td>13</td>\n",
              "      <td>13</td>\n",
              "      <td>2</td>\n",
              "      <td>2</td>\n",
              "    </tr>\n",
              "    <tr>\n",
              "      <th>5644</th>\n",
              "      <td>5</td>\n",
              "      <td>5</td>\n",
              "      <td>5</td>\n",
              "      <td>2</td>\n",
              "      <td>2</td>\n",
              "    </tr>\n",
              "    <tr>\n",
              "      <th>5646</th>\n",
              "      <td>2</td>\n",
              "      <td>2</td>\n",
              "      <td>2</td>\n",
              "      <td>2</td>\n",
              "      <td>2</td>\n",
              "    </tr>\n",
              "    <tr>\n",
              "      <th>5651</th>\n",
              "      <td>4</td>\n",
              "      <td>4</td>\n",
              "      <td>4</td>\n",
              "      <td>0</td>\n",
              "      <td>0</td>\n",
              "    </tr>\n",
              "    <tr>\n",
              "      <th>5652</th>\n",
              "      <td>1</td>\n",
              "      <td>1</td>\n",
              "      <td>1</td>\n",
              "      <td>1</td>\n",
              "      <td>1</td>\n",
              "    </tr>\n",
              "    <tr>\n",
              "      <th>5653</th>\n",
              "      <td>5</td>\n",
              "      <td>5</td>\n",
              "      <td>5</td>\n",
              "      <td>1</td>\n",
              "      <td>1</td>\n",
              "    </tr>\n",
              "    <tr>\n",
              "      <th>5654</th>\n",
              "      <td>13</td>\n",
              "      <td>13</td>\n",
              "      <td>13</td>\n",
              "      <td>7</td>\n",
              "      <td>7</td>\n",
              "    </tr>\n",
              "    <tr>\n",
              "      <th>5658</th>\n",
              "      <td>2</td>\n",
              "      <td>2</td>\n",
              "      <td>2</td>\n",
              "      <td>2</td>\n",
              "      <td>2</td>\n",
              "    </tr>\n",
              "  </tbody>\n",
              "</table>\n",
              "</div>"
            ],
            "text/plain": [
              "          TYPE  STREET NAME  PRICE  LIVING_AREA  ROOMS\n",
              "POSTCODE                                              \n",
              "5503         1            1      1            0      0\n",
              "5611        47           47     47           30     30\n",
              "5612        30           30     30           14     14\n",
              "5613         9            9      9            4      4\n",
              "5614        13           13     13            2      2\n",
              "5615        15           15     15            7      7\n",
              "5616         8            8      8            6      6\n",
              "5617         1            1      1            1      1\n",
              "5621         8            8      8            1      1\n",
              "5622         8            8      8            3      3\n",
              "5623        10           10     10            1      1\n",
              "5624         1            1      1            0      0\n",
              "5625         4            4      4            3      3\n",
              "5629         1            1      1            1      1\n",
              "5631         3            3      3            0      0\n",
              "5632         1            1      1            1      1\n",
              "5642         7            7      7            2      2\n",
              "5643        13           13     13            2      2\n",
              "5644         5            5      5            2      2\n",
              "5646         2            2      2            2      2\n",
              "5651         4            4      4            0      0\n",
              "5652         1            1      1            1      1\n",
              "5653         5            5      5            1      1\n",
              "5654        13           13     13            7      7\n",
              "5658         2            2      2            2      2"
            ]
          },
          "metadata": {
            "tags": []
          },
          "execution_count": 23
        }
      ]
    },
    {
      "cell_type": "code",
      "metadata": {
        "id": "rQgPsfySBmH8",
        "colab": {
          "base_uri": "https://localhost:8080/",
          "height": 391
        },
        "outputId": "c95db920-ba15-47b5-aa70-deec0415491d"
      },
      "source": [
        "df[(df['POSTCODE'] == '5612')]['STREET NAME'].value_counts().plot(kind='barh', figsize=(6, 6))"
      ],
      "execution_count": null,
      "outputs": [
        {
          "output_type": "execute_result",
          "data": {
            "text/plain": [
              "<matplotlib.axes._subplots.AxesSubplot at 0x7ff5e45161d0>"
            ]
          },
          "metadata": {
            "tags": []
          },
          "execution_count": 24
        },
        {
          "output_type": "display_data",
          "data": {
            "image/png": "[encoded data removed]",
            "text/plain": [
              "<Figure size 432x432 with 1 Axes>"
            ]
          },
          "metadata": {
            "tags": [],
            "needs_background": "light"
          }
        }
      ]
    },
    {
      "cell_type": "markdown",
      "metadata": {
        "id": "F2NCHpuJwSry"
      },
      "source": [
        "Sorting the data by `Type`."
      ]
    },
    {
      "cell_type": "code",
      "metadata": {
        "colab": {
          "base_uri": "https://localhost:8080/",
          "height": 419
        },
        "id": "yzPvRWQDMGDl",
        "outputId": "d3d1feba-384d-4b9c-b774-1f10a3ba0967"
      },
      "source": [
        "df.sort_values('TYPE', ascending = True)"
      ],
      "execution_count": null,
      "outputs": [
        {
          "output_type": "execute_result",
          "data": {
            "text/html": [
              "<div>\n",
              "<style scoped>\n",
              "    .dataframe tbody tr th:only-of-type {\n",
              "        vertical-align: middle;\n",
              "    }\n",
              "\n",
              "    .dataframe tbody tr th {\n",
              "        vertical-align: top;\n",
              "    }\n",
              "\n",
              "    .dataframe thead th {\n",
              "        text-align: right;\n",
              "    }\n",
              "</style>\n",
              "<table border=\"1\" class=\"dataframe\">\n",
              "  <thead>\n",
              "    <tr style=\"text-align: right;\">\n",
              "      <th></th>\n",
              "      <th>TYPE</th>\n",
              "      <th>STREET NAME</th>\n",
              "      <th>POSTCODE</th>\n",
              "      <th>PRICE</th>\n",
              "      <th>LIVING_AREA</th>\n",
              "      <th>ROOMS</th>\n",
              "    </tr>\n",
              "  </thead>\n",
              "  <tbody>\n",
              "    <tr>\n",
              "      <th>29</th>\n",
              "      <td>Apartment</td>\n",
              "      <td>Bomanshof</td>\n",
              "      <td>5611</td>\n",
              "      <td>1385</td>\n",
              "      <td>79</td>\n",
              "      <td>2</td>\n",
              "    </tr>\n",
              "    <tr>\n",
              "      <th>34</th>\n",
              "      <td>Apartment</td>\n",
              "      <td>Bomanshof</td>\n",
              "      <td>5611</td>\n",
              "      <td>1100</td>\n",
              "      <td>50</td>\n",
              "      <td>2</td>\n",
              "    </tr>\n",
              "    <tr>\n",
              "      <th>35</th>\n",
              "      <td>Apartment</td>\n",
              "      <td>Bomanshof</td>\n",
              "      <td>5611</td>\n",
              "      <td>1260</td>\n",
              "      <td>63</td>\n",
              "      <td>2</td>\n",
              "    </tr>\n",
              "    <tr>\n",
              "      <th>36</th>\n",
              "      <td>Apartment</td>\n",
              "      <td>Bomanshof</td>\n",
              "      <td>5611</td>\n",
              "      <td>1460</td>\n",
              "      <td>86</td>\n",
              "      <td>2</td>\n",
              "    </tr>\n",
              "    <tr>\n",
              "      <th>37</th>\n",
              "      <td>Apartment</td>\n",
              "      <td>Kruisstraat</td>\n",
              "      <td>5612</td>\n",
              "      <td>950</td>\n",
              "      <td>45</td>\n",
              "      <td>2</td>\n",
              "    </tr>\n",
              "    <tr>\n",
              "      <th>...</th>\n",
              "      <td>...</td>\n",
              "      <td>...</td>\n",
              "      <td>...</td>\n",
              "      <td>...</td>\n",
              "      <td>...</td>\n",
              "      <td>...</td>\n",
              "    </tr>\n",
              "    <tr>\n",
              "      <th>51</th>\n",
              "      <td>Studio</td>\n",
              "      <td>Van</td>\n",
              "      <td>5612</td>\n",
              "      <td>592</td>\n",
              "      <td>NaN</td>\n",
              "      <td>NaN</td>\n",
              "    </tr>\n",
              "    <tr>\n",
              "      <th>50</th>\n",
              "      <td>Studio</td>\n",
              "      <td>Boschdijk</td>\n",
              "      <td>5612</td>\n",
              "      <td>570</td>\n",
              "      <td>NaN</td>\n",
              "      <td>NaN</td>\n",
              "    </tr>\n",
              "    <tr>\n",
              "      <th>67</th>\n",
              "      <td>Studio</td>\n",
              "      <td>Zernikestraat</td>\n",
              "      <td>5612</td>\n",
              "      <td>590</td>\n",
              "      <td>NaN</td>\n",
              "      <td>NaN</td>\n",
              "    </tr>\n",
              "    <tr>\n",
              "      <th>52</th>\n",
              "      <td>Studio</td>\n",
              "      <td>Aalsterweg</td>\n",
              "      <td>5615</td>\n",
              "      <td>500</td>\n",
              "      <td>NaN</td>\n",
              "      <td>NaN</td>\n",
              "    </tr>\n",
              "    <tr>\n",
              "      <th>66</th>\n",
              "      <td>Studio</td>\n",
              "      <td>Kempensebaan</td>\n",
              "      <td>5613</td>\n",
              "      <td>425</td>\n",
              "      <td>NaN</td>\n",
              "      <td>NaN</td>\n",
              "    </tr>\n",
              "  </tbody>\n",
              "</table>\n",
              "<p>212 rows × 6 columns</p>\n",
              "</div>"
            ],
            "text/plain": [
              "         TYPE    STREET NAME POSTCODE PRICE LIVING_AREA ROOMS\n",
              "29  Apartment      Bomanshof     5611  1385          79     2\n",
              "34  Apartment      Bomanshof     5611  1100          50     2\n",
              "35  Apartment      Bomanshof     5611  1260          63     2\n",
              "36  Apartment      Bomanshof     5611  1460          86     2\n",
              "37  Apartment    Kruisstraat     5612   950          45     2\n",
              "..        ...            ...      ...   ...         ...   ...\n",
              "51     Studio            Van     5612   592         NaN   NaN\n",
              "50     Studio      Boschdijk     5612   570         NaN   NaN\n",
              "67     Studio  Zernikestraat     5612   590         NaN   NaN\n",
              "52     Studio     Aalsterweg     5615   500         NaN   NaN\n",
              "66     Studio   Kempensebaan     5613   425         NaN   NaN\n",
              "\n",
              "[212 rows x 6 columns]"
            ]
          },
          "metadata": {
            "tags": []
          },
          "execution_count": 25
        }
      ]
    },
    {
      "cell_type": "markdown",
      "metadata": {
        "id": "TylFYaoBKZd9"
      },
      "source": [
        "\n",
        "**Pre Processing**"
      ]
    },
    {
      "cell_type": "markdown",
      "metadata": {
        "id": "W9b06bhjX2KR"
      },
      "source": [
        "Handling Outlier"
      ]
    },
    {
      "cell_type": "markdown",
      "metadata": {
        "id": "ruBmWWJPnWZy"
      },
      "source": [
        "> An **outlier** is a data point in a data set that is distant from all other observations (a data point that lies outside the overall distribution of the dataset.)"
      ]
    },
    {
      "cell_type": "code",
      "metadata": {
        "colab": {
          "base_uri": "https://localhost:8080/",
          "height": 685
        },
        "id": "pEdidHSNMILS",
        "outputId": "1d3ce398-bd37-4b03-de38-7ea40203c39f"
      },
      "source": [
        "plt.figure(figsize=(10, 10), dpi=80)\n",
        "plt.scatter(df.LIVING_AREA, df.PRICE, c= 'red')\n",
        "plt.title(\"Outliers\")\n",
        "plt.xlabel(\"LivArea\")\n",
        "plt.ylabel(\"Price\")\n",
        "plt.show()"
      ],
      "execution_count": null,
      "outputs": [
        {
          "output_type": "display_data",
          "data": {
            "image/png": "[encoded data removed]",
            "text/plain": [
              "<Figure size 800x800 with 1 Axes>"
            ]
          },
          "metadata": {
            "tags": [],
            "needs_background": "light"
          }
        }
      ]
    },
    {
      "cell_type": "code",
      "metadata": {
        "id": "kl2UpYmKiRUH"
      },
      "source": [
        "df['PRICE'] =df['PRICE'].astype(float)\n",
        "df['POSTCODE'] =df['POSTCODE'].astype(int)\n",
        "df['LIVING_AREA'] =df['LIVING_AREA'].astype(float)\n",
        "df['ROOMS'] =df['ROOMS'].astype(float)\n",
        "code_numeric = {'Kamer': 5,'Apartment': 1, 'Appartement': 1, 'Room': 2, 'Studio': 4, 'House': 3}\n",
        "df ['TYPE'] = df['TYPE'].map(code_numeric)\n",
        "df['TYPE'] =df['TYPE'].astype(float)"
      ],
      "execution_count": null,
      "outputs": []
    },
    {
      "cell_type": "code",
      "metadata": {
        "id": "266MMBaYMtnA"
      },
      "source": [
        "df['PRICE'] =df['PRICE'].astype(float)"
      ],
      "execution_count": null,
      "outputs": []
    },
    {
      "cell_type": "code",
      "metadata": {
        "colab": {
          "base_uri": "https://localhost:8080/",
          "height": 282
        },
        "id": "SKY9Eb1bMIh5",
        "outputId": "51fea632-7df8-4ea9-e2d0-fb1b0728083a"
      },
      "source": [
        "df.boxplot(column=['PRICE'])\n",
        "plt.show"
      ],
      "execution_count": null,
      "outputs": [
        {
          "output_type": "execute_result",
          "data": {
            "text/plain": [
              "<function matplotlib.pyplot.show>"
            ]
          },
          "metadata": {
            "tags": []
          },
          "execution_count": 29
        },
        {
          "output_type": "display_data",
          "data": {
            "image/png": "[encoded data removed]",
            "text/plain": [
              "<Figure size 432x288 with 1 Axes>"
            ]
          },
          "metadata": {
            "tags": [],
            "needs_background": "light"
          }
        }
      ]
    },
    {
      "cell_type": "code",
      "metadata": {
        "colab": {
          "base_uri": "https://localhost:8080/"
        },
        "id": "sF92e-eF-Sj1",
        "outputId": "7af82aa4-83ea-4ede-f3bc-3c8b9d14f146"
      },
      "source": [
        "#Check the mean values\n",
        "df['LIVING_AREA'].mean()"
      ],
      "execution_count": null,
      "outputs": [
        {
          "output_type": "execute_result",
          "data": {
            "text/plain": [
              "68.27956989247312"
            ]
          },
          "metadata": {
            "tags": []
          },
          "execution_count": 30
        }
      ]
    },
    {
      "cell_type": "code",
      "metadata": {
        "colab": {
          "base_uri": "https://localhost:8080/"
        },
        "id": "8WqMHNZu_EeY",
        "outputId": "de35a198-676d-4bd3-d180-d0752a0ff7ff"
      },
      "source": [
        "#Check the median \n",
        "df['LIVING_AREA'].median()"
      ],
      "execution_count": null,
      "outputs": [
        {
          "output_type": "execute_result",
          "data": {
            "text/plain": [
              "65.0"
            ]
          },
          "metadata": {
            "tags": []
          },
          "execution_count": 31
        }
      ]
    },
    {
      "cell_type": "code",
      "metadata": {
        "colab": {
          "base_uri": "https://localhost:8080/"
        },
        "id": "oLXKcRapPTOx",
        "outputId": "452acaad-c53a-4459-8ba5-abe97ef8030b"
      },
      "source": [
        "Q1 = df.quantile(0.25)\n",
        "Q3 = df.quantile(0.75)\n",
        "IQR = Q3 - Q1\n",
        "print(IQR)"
      ],
      "execution_count": null,
      "outputs": [
        {
          "output_type": "stream",
          "text": [
            "TYPE             3.00\n",
            "POSTCODE        19.25\n",
            "PRICE          688.75\n",
            "LIVING_AREA     53.00\n",
            "ROOMS            1.00\n",
            "dtype: float64\n"
          ],
          "name": "stdout"
        }
      ]
    },
    {
      "cell_type": "code",
      "metadata": {
        "colab": {
          "base_uri": "https://localhost:8080/"
        },
        "id": "oysTdTZQS_Wt",
        "outputId": "e449bad9-68f9-486c-9e59-1e94a6b42c08"
      },
      "source": [
        "print(df['PRICE'].skew())\n",
        "df['PRICE'].describe()"
      ],
      "execution_count": null,
      "outputs": [
        {
          "output_type": "stream",
          "text": [
            "2.3931092033413135\n"
          ],
          "name": "stdout"
        },
        {
          "output_type": "execute_result",
          "data": {
            "text/plain": [
              "count     212.000000\n",
              "mean      865.136792\n",
              "std       503.871594\n",
              "min       255.000000\n",
              "25%       461.250000\n",
              "50%       752.500000\n",
              "75%      1150.000000\n",
              "max      4500.000000\n",
              "Name: PRICE, dtype: float64"
            ]
          },
          "metadata": {
            "tags": []
          },
          "execution_count": 33
        }
      ]
    },
    {
      "cell_type": "code",
      "metadata": {
        "colab": {
          "base_uri": "https://localhost:8080/"
        },
        "id": "mqwJIp-yTN1b",
        "outputId": "c07f39c9-4368-43ce-e89a-dfb863cc9d7d"
      },
      "source": [
        "print(df['PRICE'].quantile(0.10))\n",
        "print(df['PRICE'].quantile(0.90))"
      ],
      "execution_count": null,
      "outputs": [
        {
          "output_type": "stream",
          "text": [
            "400.0\n",
            "1439.0000000000002\n"
          ],
          "name": "stdout"
        }
      ]
    },
    {
      "cell_type": "code",
      "metadata": {
        "colab": {
          "base_uri": "https://localhost:8080/",
          "height": 318
        },
        "id": "O31ghKvCLx6V",
        "outputId": "0a7456f2-7ee8-4831-80c7-51083e938d64"
      },
      "source": [
        "df['ROOMS'].value_counts().plot(kind='bar')\n",
        "plt.title('Number of Rooms')\n",
        "plt.xlabel('Rooms')\n",
        "plt.ylabel('Count')\n",
        "sns.despine"
      ],
      "execution_count": null,
      "outputs": [
        {
          "output_type": "execute_result",
          "data": {
            "text/plain": [
              "<function seaborn.utils.despine>"
            ]
          },
          "metadata": {
            "tags": []
          },
          "execution_count": 35
        },
        {
          "output_type": "display_data",
          "data": {
            "image/png": "[encoded data removed]",
            "text/plain": [
              "<Figure size 432x288 with 1 Axes>"
            ]
          },
          "metadata": {
            "tags": [],
            "needs_background": "light"
          }
        }
      ]
    },
    {
      "cell_type": "code",
      "metadata": {
        "colab": {
          "base_uri": "https://localhost:8080/"
        },
        "id": "0JmcXYFdnxIU",
        "outputId": "b6f13700-e4aa-4826-fae3-3d3133f5eb69"
      },
      "source": [
        "print(df['PRICE'])"
      ],
      "execution_count": null,
      "outputs": [
        {
          "output_type": "stream",
          "text": [
            "0      320.0\n",
            "1      310.0\n",
            "2      375.0\n",
            "3      430.0\n",
            "4      415.0\n",
            "       ...  \n",
            "88    1290.0\n",
            "89     475.0\n",
            "90    1500.0\n",
            "91     360.0\n",
            "92    1350.0\n",
            "Name: PRICE, Length: 212, dtype: float64\n"
          ],
          "name": "stdout"
        }
      ]
    },
    {
      "cell_type": "markdown",
      "metadata": {
        "id": "XWkMkGwc4zuy"
      },
      "source": [
        "We will analyze the features in their descending of correlation with sales price"
      ]
    },
    {
      "cell_type": "markdown",
      "metadata": {
        "id": "XlRYhjkWh-B_"
      },
      "source": [
        "Examining the data distributions of the features. We will start with the target variable, `PRICE`, to make sure it's normally distributed.\n",
        "\n",
        "This is important because most machine learning algorithms make the assumption that the data is normally distributed. When data fits a normal distribution, statements about the price using analytical techniques will be made."
      ]
    },
    {
      "cell_type": "code",
      "metadata": {
        "colab": {
          "base_uri": "https://localhost:8080/",
          "height": 350
        },
        "id": "e3SqZjWQh2dQ",
        "outputId": "0a1833d5-80b6-408a-b4f1-706250e1e07a"
      },
      "source": [
        "sns.distplot(df['PRICE'])"
      ],
      "execution_count": null,
      "outputs": [
        {
          "output_type": "stream",
          "text": [
            "/usr/local/lib/python3.7/dist-packages/seaborn/distributions.py:2557: FutureWarning: `distplot` is a deprecated function and will be removed in a future version. Please adapt your code to use either `displot` (a figure-level function with similar flexibility) or `histplot` (an axes-level function for histograms).\n",
            "  warnings.warn(msg, FutureWarning)\n"
          ],
          "name": "stderr"
        },
        {
          "output_type": "execute_result",
          "data": {
            "text/plain": [
              "<matplotlib.axes._subplots.AxesSubplot at 0x7ff5e3cdf910>"
            ]
          },
          "metadata": {
            "tags": []
          },
          "execution_count": 37
        },
        {
          "output_type": "display_data",
          "data": {
            "image/png": "[encoded data removed]",
            "text/plain": [
              "<Figure size 432x288 with 1 Axes>"
            ]
          },
          "metadata": {
            "tags": [],
            "needs_background": "light"
          }
        }
      ]
    },
    {
      "cell_type": "code",
      "metadata": {
        "colab": {
          "base_uri": "https://localhost:8080/",
          "height": 350
        },
        "id": "RNndqSjs1Apz",
        "outputId": "47c47375-f433-46af-fd96-af005d5cdafa"
      },
      "source": [
        "# Transform the target variable \n",
        "sns.distplot(np.log(df.PRICE))"
      ],
      "execution_count": null,
      "outputs": [
        {
          "output_type": "stream",
          "text": [
            "/usr/local/lib/python3.7/dist-packages/seaborn/distributions.py:2557: FutureWarning: `distplot` is a deprecated function and will be removed in a future version. Please adapt your code to use either `displot` (a figure-level function with similar flexibility) or `histplot` (an axes-level function for histograms).\n",
            "  warnings.warn(msg, FutureWarning)\n"
          ],
          "name": "stderr"
        },
        {
          "output_type": "execute_result",
          "data": {
            "text/plain": [
              "<matplotlib.axes._subplots.AxesSubplot at 0x7ff5e3c1a190>"
            ]
          },
          "metadata": {
            "tags": []
          },
          "execution_count": 38
        },
        {
          "output_type": "display_data",
          "data": {
            "image/png": "[encoded data removed]",
            "text/plain": [
              "<Figure size 432x288 with 1 Axes>"
            ]
          },
          "metadata": {
            "tags": [],
            "needs_background": "light"
          }
        }
      ]
    },
    {
      "cell_type": "markdown",
      "metadata": {
        "id": "Bs9jk5blro0b"
      },
      "source": [
        "\n",
        "\n",
        "> We can see that the `PRICE` distribution is not skewed after the transformation, but normally distributed.\n",
        ">The transformed data will be used in in the dataframe and remove the skewed distribution:\n",
        "\n",
        "\n",
        "> **Normally distributed** means that the data is symmetric about the mean, showing that data near the mean are more frequent in occurrence than data far from the mean. \n",
        "\n",
        "\n",
        "\n",
        "\n",
        "\n"
      ]
    },
    {
      "cell_type": "code",
      "metadata": {
        "id": "g-tGotpI1e4J"
      },
      "source": [
        "df['LogOfPrice'] = np.log(df.PRICE)\n",
        "df.drop([\"PRICE\"], axis=1, inplace=True)"
      ],
      "execution_count": null,
      "outputs": []
    },
    {
      "cell_type": "markdown",
      "metadata": {
        "id": "aAOh773bWUjN"
      },
      "source": [
        "Reviewing the skewness of each feature"
      ]
    },
    {
      "cell_type": "code",
      "metadata": {
        "colab": {
          "base_uri": "https://localhost:8080/"
        },
        "id": "S_G_peJwsnp2",
        "outputId": "4a65874b-803e-415e-8d85-fdebb811d575"
      },
      "source": [
        "df.skew().sort_values(ascending=False)"
      ],
      "execution_count": null,
      "outputs": [
        {
          "output_type": "execute_result",
          "data": {
            "text/plain": [
              "ROOMS          0.942239\n",
              "TYPE           0.331908\n",
              "LIVING_AREA    0.283844\n",
              "LogOfPrice     0.170493\n",
              "POSTCODE      -0.808656\n",
              "dtype: float64"
            ]
          },
          "metadata": {
            "tags": []
          },
          "execution_count": 40
        }
      ]
    },
    {
      "cell_type": "markdown",
      "metadata": {
        "id": "CIuIwhNFs5jN"
      },
      "source": [
        "\n",
        "\n",
        ">Values closer to zero are less skewed. The results show some features having a positive (right-tailed) or negative (left-tailed) skew.\n",
        "\n",
        "\n",
        "\n"
      ]
    },
    {
      "cell_type": "markdown",
      "metadata": {
        "id": "YOlcOfAOri61"
      },
      "source": [
        "Factor plot is informative when we have multiple groups to compare. "
      ]
    },
    {
      "cell_type": "code",
      "metadata": {
        "colab": {
          "base_uri": "https://localhost:8080/",
          "height": 807
        },
        "id": "oWUAyLrNMptb",
        "outputId": "aa90520a-ccd8-4484-9185-e7faa6334aa3"
      },
      "source": [
        "sns.factorplot('ROOMS', 'LogOfPrice', data=df,kind='bar',size=3,aspect=3)\n",
        "fig, (axis1) = plt.subplots(1,1,figsize=(10,3))\n",
        "sns.countplot('ROOMS', data=df)\n",
        "df['LogOfPrice'].value_counts()"
      ],
      "execution_count": null,
      "outputs": [
        {
          "output_type": "stream",
          "text": [
            "/usr/local/lib/python3.7/dist-packages/seaborn/categorical.py:3714: UserWarning: The `factorplot` function has been renamed to `catplot`. The original name will be removed in a future release. Please update your code. Note that the default `kind` in `factorplot` (`'point'`) has changed `'strip'` in `catplot`.\n",
            "  warnings.warn(msg)\n",
            "/usr/local/lib/python3.7/dist-packages/seaborn/categorical.py:3720: UserWarning: The `size` parameter has been renamed to `height`; please update your code.\n",
            "  warnings.warn(msg, UserWarning)\n",
            "/usr/local/lib/python3.7/dist-packages/seaborn/_decorators.py:43: FutureWarning: Pass the following variables as keyword args: x, y. From version 0.12, the only valid positional argument will be `data`, and passing other arguments without an explicit keyword will result in an error or misinterpretation.\n",
            "  FutureWarning\n",
            "/usr/local/lib/python3.7/dist-packages/seaborn/_decorators.py:43: FutureWarning: Pass the following variable as a keyword arg: x. From version 0.12, the only valid positional argument will be `data`, and passing other arguments without an explicit keyword will result in an error or misinterpretation.\n",
            "  FutureWarning\n"
          ],
          "name": "stderr"
        },
        {
          "output_type": "execute_result",
          "data": {
            "text/plain": [
              "6.028279    15\n",
              "7.047517     7\n",
              "6.109248     5\n",
              "6.345636     4\n",
              "6.380123     4\n",
              "            ..\n",
              "7.153052     1\n",
              "5.899897     1\n",
              "6.993933     1\n",
              "7.803843     1\n",
              "7.210080     1\n",
              "Name: LogOfPrice, Length: 123, dtype: int64"
            ]
          },
          "metadata": {
            "tags": []
          },
          "execution_count": 41
        },
        {
          "output_type": "display_data",
          "data": {
            "image/png": "[encoded data removed]",
            "text/plain": [
              "<Figure size 648x216 with 1 Axes>"
            ]
          },
          "metadata": {
            "tags": [],
            "needs_background": "light"
          }
        },
        {
          "output_type": "display_data",
          "data": {
            "image/png": "[encoded data removed]",
            "text/plain": [
              "<Figure size 720x216 with 1 Axes>"
            ]
          },
          "metadata": {
            "tags": [],
            "needs_background": "light"
          }
        }
      ]
    },
    {
      "cell_type": "markdown",
      "metadata": {
        "id": "IKAlICJWNbPS"
      },
      "source": [
        "> Real estate with 5 rooms has the  highest `Price` while the sales of others with rooms of 2 is the most sold ones."
      ]
    },
    {
      "cell_type": "code",
      "metadata": {
        "colab": {
          "base_uri": "https://localhost:8080/",
          "height": 299
        },
        "id": "4eL664DrWAXl",
        "outputId": "ba38723a-5002-41f9-f9b2-49146eb1b6a9"
      },
      "source": [
        "#g = sns.factorplot(x='POSTCODE', y='Skewed_SP', col='PRICE', data=df, kind='bar', col_wrap=4, aspect=0.8)\n",
        "sns.factorplot('POSTCODE', 'LogOfPrice', data=df,kind='bar',size=3,aspect=6)\n"
      ],
      "execution_count": null,
      "outputs": [
        {
          "output_type": "stream",
          "text": [
            "/usr/local/lib/python3.7/dist-packages/seaborn/categorical.py:3714: UserWarning: The `factorplot` function has been renamed to `catplot`. The original name will be removed in a future release. Please update your code. Note that the default `kind` in `factorplot` (`'point'`) has changed `'strip'` in `catplot`.\n",
            "  warnings.warn(msg)\n",
            "/usr/local/lib/python3.7/dist-packages/seaborn/categorical.py:3720: UserWarning: The `size` parameter has been renamed to `height`; please update your code.\n",
            "  warnings.warn(msg, UserWarning)\n",
            "/usr/local/lib/python3.7/dist-packages/seaborn/_decorators.py:43: FutureWarning: Pass the following variables as keyword args: x, y. From version 0.12, the only valid positional argument will be `data`, and passing other arguments without an explicit keyword will result in an error or misinterpretation.\n",
            "  FutureWarning\n"
          ],
          "name": "stderr"
        },
        {
          "output_type": "execute_result",
          "data": {
            "text/plain": [
              "<seaborn.axisgrid.FacetGrid at 0x7ff5e3b20dd0>"
            ]
          },
          "metadata": {
            "tags": []
          },
          "execution_count": 42
        },
        {
          "output_type": "display_data",
          "data": {
            "image/png": "[encoded data removed]",
            "text/plain": [
              "<Figure size 1296x216 with 1 Axes>"
            ]
          },
          "metadata": {
            "tags": [],
            "needs_background": "light"
          }
        }
      ]
    },
    {
      "cell_type": "markdown",
      "metadata": {
        "id": "rtE9XtMmWrCv"
      },
      "source": [
        ">The diagram represents the `price` of a rpoperty, depending on its `postcode`.\n",
        "\n",
        "\n"
      ]
    },
    {
      "cell_type": "markdown",
      "metadata": {
        "id": "-7tpfJKimwvE"
      },
      "source": [
        "# **Preparing the data for training the models**"
      ]
    },
    {
      "cell_type": "markdown",
      "metadata": {
        "id": "s1FUjO4ZkItw"
      },
      "source": [
        "**Train-Test Split dataset**"
      ]
    },
    {
      "cell_type": "markdown",
      "metadata": {
        "id": "8zNQdmR0ZSTu"
      },
      "source": [
        "\n",
        "> Necessary imports"
      ]
    },
    {
      "cell_type": "code",
      "metadata": {
        "id": "7RZVRoIVRN3X"
      },
      "source": [
        "from sklearn.linear_model import LinearRegression, Ridge, Lasso\n",
        "from sklearn.ensemble import RandomForestRegressor\n",
        "from sklearn.model_selection import cross_val_score, train_test_split, GridSearchCV"
      ],
      "execution_count": null,
      "outputs": []
    },
    {
      "cell_type": "code",
      "metadata": {
        "id": "4e0FWioVEbXm",
        "colab": {
          "base_uri": "https://localhost:8080/"
        },
        "outputId": "fa77b791-19dd-486f-dd97-9ebc0053fda5"
      },
      "source": [
        "df.info()"
      ],
      "execution_count": null,
      "outputs": [
        {
          "output_type": "stream",
          "text": [
            "<class 'pandas.core.frame.DataFrame'>\n",
            "Int64Index: 212 entries, 0 to 92\n",
            "Data columns (total 6 columns):\n",
            " #   Column       Non-Null Count  Dtype  \n",
            "---  ------       --------------  -----  \n",
            " 0   TYPE         212 non-null    float64\n",
            " 1   STREET NAME  212 non-null    object \n",
            " 2   POSTCODE     212 non-null    int64  \n",
            " 3   LIVING_AREA  93 non-null     float64\n",
            " 4   ROOMS        93 non-null     float64\n",
            " 5   LogOfPrice   212 non-null    float64\n",
            "dtypes: float64(4), int64(1), object(1)\n",
            "memory usage: 16.6+ KB\n"
          ],
          "name": "stdout"
        }
      ]
    },
    {
      "cell_type": "code",
      "metadata": {
        "colab": {
          "base_uri": "https://localhost:8080/"
        },
        "id": "MCMmlmE7faHR",
        "outputId": "f4d404b8-5163-47c5-bd32-0fdf9ed09236"
      },
      "source": [
        "df.isnull().sum()"
      ],
      "execution_count": null,
      "outputs": [
        {
          "output_type": "execute_result",
          "data": {
            "text/plain": [
              "TYPE             0\n",
              "STREET NAME      0\n",
              "POSTCODE         0\n",
              "LIVING_AREA    119\n",
              "ROOMS          119\n",
              "LogOfPrice       0\n",
              "dtype: int64"
            ]
          },
          "metadata": {
            "tags": []
          },
          "execution_count": 45
        }
      ]
    },
    {
      "cell_type": "markdown",
      "metadata": {
        "id": "yYBACfDRZYmF"
      },
      "source": [
        "Analyzing the numeric features.\n"
      ]
    },
    {
      "cell_type": "code",
      "metadata": {
        "id": "D_qARrG8LbRN"
      },
      "source": [
        "numeric_features = df.select_dtypes(include=[np.number])"
      ],
      "execution_count": null,
      "outputs": []
    },
    {
      "cell_type": "code",
      "metadata": {
        "colab": {
          "base_uri": "https://localhost:8080/"
        },
        "id": "q7BzHq6aLsb5",
        "outputId": "1f7d3bf5-4e05-4d96-903b-d3d4974f84d1"
      },
      "source": [
        "numeric_features.columns"
      ],
      "execution_count": null,
      "outputs": [
        {
          "output_type": "execute_result",
          "data": {
            "text/plain": [
              "Index(['TYPE', 'POSTCODE', 'LIVING_AREA', 'ROOMS', 'LogOfPrice'], dtype='object')"
            ]
          },
          "metadata": {
            "tags": []
          },
          "execution_count": 47
        }
      ]
    },
    {
      "cell_type": "markdown",
      "metadata": {
        "id": "ygCUWFJ1nPhT"
      },
      "source": [
        "Filling up the null values in order to train the model. "
      ]
    },
    {
      "cell_type": "code",
      "metadata": {
        "colab": {
          "base_uri": "https://localhost:8080/",
          "height": 419
        },
        "id": "wqQTGppbnuT3",
        "outputId": "a61ece4b-ee57-4b01-e694-405fe2ef158c"
      },
      "source": [
        "df.fillna(0)"
      ],
      "execution_count": null,
      "outputs": [
        {
          "output_type": "execute_result",
          "data": {
            "text/html": [
              "<div>\n",
              "<style scoped>\n",
              "    .dataframe tbody tr th:only-of-type {\n",
              "        vertical-align: middle;\n",
              "    }\n",
              "\n",
              "    .dataframe tbody tr th {\n",
              "        vertical-align: top;\n",
              "    }\n",
              "\n",
              "    .dataframe thead th {\n",
              "        text-align: right;\n",
              "    }\n",
              "</style>\n",
              "<table border=\"1\" class=\"dataframe\">\n",
              "  <thead>\n",
              "    <tr style=\"text-align: right;\">\n",
              "      <th></th>\n",
              "      <th>TYPE</th>\n",
              "      <th>STREET NAME</th>\n",
              "      <th>POSTCODE</th>\n",
              "      <th>LIVING_AREA</th>\n",
              "      <th>ROOMS</th>\n",
              "      <th>LogOfPrice</th>\n",
              "    </tr>\n",
              "  </thead>\n",
              "  <tbody>\n",
              "    <tr>\n",
              "      <th>0</th>\n",
              "      <td>5.0</td>\n",
              "      <td>Willem</td>\n",
              "      <td>5611</td>\n",
              "      <td>0.0</td>\n",
              "      <td>0.0</td>\n",
              "      <td>5.768321</td>\n",
              "    </tr>\n",
              "    <tr>\n",
              "      <th>1</th>\n",
              "      <td>5.0</td>\n",
              "      <td>Willem</td>\n",
              "      <td>5611</td>\n",
              "      <td>0.0</td>\n",
              "      <td>0.0</td>\n",
              "      <td>5.736572</td>\n",
              "    </tr>\n",
              "    <tr>\n",
              "      <th>2</th>\n",
              "      <td>5.0</td>\n",
              "      <td>Julianastraat</td>\n",
              "      <td>5611</td>\n",
              "      <td>0.0</td>\n",
              "      <td>0.0</td>\n",
              "      <td>5.926926</td>\n",
              "    </tr>\n",
              "    <tr>\n",
              "      <th>3</th>\n",
              "      <td>5.0</td>\n",
              "      <td>Bennekelstraat</td>\n",
              "      <td>5654</td>\n",
              "      <td>0.0</td>\n",
              "      <td>0.0</td>\n",
              "      <td>6.063785</td>\n",
              "    </tr>\n",
              "    <tr>\n",
              "      <th>4</th>\n",
              "      <td>5.0</td>\n",
              "      <td>Leenderweg</td>\n",
              "      <td>5615</td>\n",
              "      <td>0.0</td>\n",
              "      <td>0.0</td>\n",
              "      <td>6.028279</td>\n",
              "    </tr>\n",
              "    <tr>\n",
              "      <th>...</th>\n",
              "      <td>...</td>\n",
              "      <td>...</td>\n",
              "      <td>...</td>\n",
              "      <td>...</td>\n",
              "      <td>...</td>\n",
              "      <td>...</td>\n",
              "    </tr>\n",
              "    <tr>\n",
              "      <th>88</th>\n",
              "      <td>3.0</td>\n",
              "      <td>Grote</td>\n",
              "      <td>5632</td>\n",
              "      <td>115.0</td>\n",
              "      <td>4.0</td>\n",
              "      <td>7.162397</td>\n",
              "    </tr>\n",
              "    <tr>\n",
              "      <th>89</th>\n",
              "      <td>2.0</td>\n",
              "      <td>Sebastiaan</td>\n",
              "      <td>5622</td>\n",
              "      <td>14.0</td>\n",
              "      <td>1.0</td>\n",
              "      <td>6.163315</td>\n",
              "    </tr>\n",
              "    <tr>\n",
              "      <th>90</th>\n",
              "      <td>3.0</td>\n",
              "      <td>van</td>\n",
              "      <td>5612</td>\n",
              "      <td>108.0</td>\n",
              "      <td>5.0</td>\n",
              "      <td>7.313220</td>\n",
              "    </tr>\n",
              "    <tr>\n",
              "      <th>91</th>\n",
              "      <td>2.0</td>\n",
              "      <td>Aalsterweg</td>\n",
              "      <td>5615</td>\n",
              "      <td>16.0</td>\n",
              "      <td>1.0</td>\n",
              "      <td>5.886104</td>\n",
              "    </tr>\n",
              "    <tr>\n",
              "      <th>92</th>\n",
              "      <td>3.0</td>\n",
              "      <td>Landgraaf</td>\n",
              "      <td>5658</td>\n",
              "      <td>113.0</td>\n",
              "      <td>5.0</td>\n",
              "      <td>7.207860</td>\n",
              "    </tr>\n",
              "  </tbody>\n",
              "</table>\n",
              "<p>212 rows × 6 columns</p>\n",
              "</div>"
            ],
            "text/plain": [
              "    TYPE     STREET NAME  POSTCODE  LIVING_AREA  ROOMS  LogOfPrice\n",
              "0    5.0          Willem      5611          0.0    0.0    5.768321\n",
              "1    5.0          Willem      5611          0.0    0.0    5.736572\n",
              "2    5.0   Julianastraat      5611          0.0    0.0    5.926926\n",
              "3    5.0  Bennekelstraat      5654          0.0    0.0    6.063785\n",
              "4    5.0      Leenderweg      5615          0.0    0.0    6.028279\n",
              "..   ...             ...       ...          ...    ...         ...\n",
              "88   3.0           Grote      5632        115.0    4.0    7.162397\n",
              "89   2.0      Sebastiaan      5622         14.0    1.0    6.163315\n",
              "90   3.0             van      5612        108.0    5.0    7.313220\n",
              "91   2.0      Aalsterweg      5615         16.0    1.0    5.886104\n",
              "92   3.0       Landgraaf      5658        113.0    5.0    7.207860\n",
              "\n",
              "[212 rows x 6 columns]"
            ]
          },
          "metadata": {
            "tags": []
          },
          "execution_count": 48
        }
      ]
    },
    {
      "cell_type": "code",
      "metadata": {
        "id": "FHzoYRhBdQBR"
      },
      "source": [
        "df.dropna(inplace=True)"
      ],
      "execution_count": null,
      "outputs": []
    },
    {
      "cell_type": "code",
      "metadata": {
        "id": "KD5AQnzKGCD9"
      },
      "source": [
        "# set the target and predictors\n",
        "y = df.LogOfPrice  # target\n",
        "\n",
        "# use only those input features with numeric data type \n",
        "df_temp = df.select_dtypes(include=[\"int64\",\"float64\"]) \n",
        "\n",
        "X = df_temp.drop([\"LogOfPrice\"],axis=1)  # predictors"
      ],
      "execution_count": null,
      "outputs": []
    },
    {
      "cell_type": "markdown",
      "metadata": {
        "id": "5sp5bjPf2FzE"
      },
      "source": [
        "To split the dataset, I will use random sampling with 80/20 train-test split; that is, 80% of the dataset will be used for training and set aside 20% for testing:"
      ]
    },
    {
      "cell_type": "code",
      "metadata": {
        "id": "ffGAD0o5UjBY"
      },
      "source": [
        "# split the dataset into train and test sets\n",
        "X_train, X_test, y_train, y_test = train_test_split(X, y, test_size=0.20, random_state=0)"
      ],
      "execution_count": null,
      "outputs": []
    },
    {
      "cell_type": "code",
      "metadata": {
        "colab": {
          "base_uri": "https://localhost:8080/",
          "height": 419
        },
        "id": "IQ3eskORoJbq",
        "outputId": "7885375e-af7b-49a8-8338-d0a13c7c7d1f"
      },
      "source": [
        "df.isnull()"
      ],
      "execution_count": null,
      "outputs": [
        {
          "output_type": "execute_result",
          "data": {
            "text/html": [
              "<div>\n",
              "<style scoped>\n",
              "    .dataframe tbody tr th:only-of-type {\n",
              "        vertical-align: middle;\n",
              "    }\n",
              "\n",
              "    .dataframe tbody tr th {\n",
              "        vertical-align: top;\n",
              "    }\n",
              "\n",
              "    .dataframe thead th {\n",
              "        text-align: right;\n",
              "    }\n",
              "</style>\n",
              "<table border=\"1\" class=\"dataframe\">\n",
              "  <thead>\n",
              "    <tr style=\"text-align: right;\">\n",
              "      <th></th>\n",
              "      <th>TYPE</th>\n",
              "      <th>STREET NAME</th>\n",
              "      <th>POSTCODE</th>\n",
              "      <th>LIVING_AREA</th>\n",
              "      <th>ROOMS</th>\n",
              "      <th>LogOfPrice</th>\n",
              "    </tr>\n",
              "  </thead>\n",
              "  <tbody>\n",
              "    <tr>\n",
              "      <th>0</th>\n",
              "      <td>False</td>\n",
              "      <td>False</td>\n",
              "      <td>False</td>\n",
              "      <td>False</td>\n",
              "      <td>False</td>\n",
              "      <td>False</td>\n",
              "    </tr>\n",
              "    <tr>\n",
              "      <th>1</th>\n",
              "      <td>False</td>\n",
              "      <td>False</td>\n",
              "      <td>False</td>\n",
              "      <td>False</td>\n",
              "      <td>False</td>\n",
              "      <td>False</td>\n",
              "    </tr>\n",
              "    <tr>\n",
              "      <th>2</th>\n",
              "      <td>False</td>\n",
              "      <td>False</td>\n",
              "      <td>False</td>\n",
              "      <td>False</td>\n",
              "      <td>False</td>\n",
              "      <td>False</td>\n",
              "    </tr>\n",
              "    <tr>\n",
              "      <th>3</th>\n",
              "      <td>False</td>\n",
              "      <td>False</td>\n",
              "      <td>False</td>\n",
              "      <td>False</td>\n",
              "      <td>False</td>\n",
              "      <td>False</td>\n",
              "    </tr>\n",
              "    <tr>\n",
              "      <th>4</th>\n",
              "      <td>False</td>\n",
              "      <td>False</td>\n",
              "      <td>False</td>\n",
              "      <td>False</td>\n",
              "      <td>False</td>\n",
              "      <td>False</td>\n",
              "    </tr>\n",
              "    <tr>\n",
              "      <th>...</th>\n",
              "      <td>...</td>\n",
              "      <td>...</td>\n",
              "      <td>...</td>\n",
              "      <td>...</td>\n",
              "      <td>...</td>\n",
              "      <td>...</td>\n",
              "    </tr>\n",
              "    <tr>\n",
              "      <th>88</th>\n",
              "      <td>False</td>\n",
              "      <td>False</td>\n",
              "      <td>False</td>\n",
              "      <td>False</td>\n",
              "      <td>False</td>\n",
              "      <td>False</td>\n",
              "    </tr>\n",
              "    <tr>\n",
              "      <th>89</th>\n",
              "      <td>False</td>\n",
              "      <td>False</td>\n",
              "      <td>False</td>\n",
              "      <td>False</td>\n",
              "      <td>False</td>\n",
              "      <td>False</td>\n",
              "    </tr>\n",
              "    <tr>\n",
              "      <th>90</th>\n",
              "      <td>False</td>\n",
              "      <td>False</td>\n",
              "      <td>False</td>\n",
              "      <td>False</td>\n",
              "      <td>False</td>\n",
              "      <td>False</td>\n",
              "    </tr>\n",
              "    <tr>\n",
              "      <th>91</th>\n",
              "      <td>False</td>\n",
              "      <td>False</td>\n",
              "      <td>False</td>\n",
              "      <td>False</td>\n",
              "      <td>False</td>\n",
              "      <td>False</td>\n",
              "    </tr>\n",
              "    <tr>\n",
              "      <th>92</th>\n",
              "      <td>False</td>\n",
              "      <td>False</td>\n",
              "      <td>False</td>\n",
              "      <td>False</td>\n",
              "      <td>False</td>\n",
              "      <td>False</td>\n",
              "    </tr>\n",
              "  </tbody>\n",
              "</table>\n",
              "<p>93 rows × 6 columns</p>\n",
              "</div>"
            ],
            "text/plain": [
              "     TYPE  STREET NAME  POSTCODE  LIVING_AREA  ROOMS  LogOfPrice\n",
              "0   False        False     False        False  False       False\n",
              "1   False        False     False        False  False       False\n",
              "2   False        False     False        False  False       False\n",
              "3   False        False     False        False  False       False\n",
              "4   False        False     False        False  False       False\n",
              "..    ...          ...       ...          ...    ...         ...\n",
              "88  False        False     False        False  False       False\n",
              "89  False        False     False        False  False       False\n",
              "90  False        False     False        False  False       False\n",
              "91  False        False     False        False  False       False\n",
              "92  False        False     False        False  False       False\n",
              "\n",
              "[93 rows x 6 columns]"
            ]
          },
          "metadata": {
            "tags": []
          },
          "execution_count": 52
        }
      ]
    },
    {
      "cell_type": "markdown",
      "metadata": {
        "id": "uPXab6G0Ztsf"
      },
      "source": [
        "# **Modelling**\n"
      ]
    },
    {
      "cell_type": "markdown",
      "metadata": {
        "id": "KKDu370c2kNn"
      },
      "source": [
        "Two models will be built and evaluated by their performances with R-squared metric. Additionally, insights on the features that are strong predictors of house prices, will be analised ."
      ]
    },
    {
      "cell_type": "markdown",
      "metadata": {
        "id": "X3DdJs9VWsCd"
      },
      "source": [
        "**Linear Regression**\n",
        "\n"
      ]
    },
    {
      "cell_type": "markdown",
      "metadata": {
        "id": "MdiDDV0djljs"
      },
      "source": [
        "To fit a linear regression model, the features which have a high correlation with the target variable PRICE are selected. By looking at the correlation matrix, it is noticable that the rooms and the living area have a strong correlation with the price ('Log of price')."
      ]
    },
    {
      "cell_type": "code",
      "metadata": {
        "colab": {
          "base_uri": "https://localhost:8080/",
          "height": 342
        },
        "id": "9uLGBPHNjpyJ",
        "outputId": "a90efe60-85cf-4026-dcb0-64accf4e5515"
      },
      "source": [
        "correlation_matrix = df.corr().round(2)\n",
        "# annot = True to print the values inside the square\n",
        "sns.heatmap(data=correlation_matrix, annot=True)"
      ],
      "execution_count": null,
      "outputs": [
        {
          "output_type": "execute_result",
          "data": {
            "text/plain": [
              "<matplotlib.axes._subplots.AxesSubplot at 0x7ff5d6b11f90>"
            ]
          },
          "metadata": {
            "tags": []
          },
          "execution_count": 53
        },
        {
          "output_type": "display_data",
          "data": {
            "image/png": "[encoded data removed]",
            "text/plain": [
              "<Figure size 432x288 with 2 Axes>"
            ]
          },
          "metadata": {
            "tags": [],
            "needs_background": "light"
          }
        }
      ]
    },
    {
      "cell_type": "code",
      "metadata": {
        "id": "qNVqrNFLZreA",
        "colab": {
          "base_uri": "https://localhost:8080/"
        },
        "outputId": "dfdf2da2-d906-4560-f201-0c07c82aa4f0"
      },
      "source": [
        "lr = LinearRegression()\n",
        "# fit optimal linear regression line on training data\n",
        "lr.fit((X_train),y_train)"
      ],
      "execution_count": null,
      "outputs": [
        {
          "output_type": "execute_result",
          "data": {
            "text/plain": [
              "LinearRegression(copy_X=True, fit_intercept=True, n_jobs=None, normalize=False)"
            ]
          },
          "metadata": {
            "tags": []
          },
          "execution_count": 54
        }
      ]
    },
    {
      "cell_type": "markdown",
      "metadata": {
        "id": "DWsLu75bBWGB"
      },
      "source": [
        "Root Mean Square Error (RMSE) is the standard deviation of the residuals (prediction errors). Residuals are a measure of how far from the regression line data points are; RMSE is a measure of how spread out these residuals are. In other words, it tells you how concentrated the data is around the line of best fit.\n",
        ">RMSE values between 0.2 and 0.5 shows that the model can relatively predict the data accurately. In this case, it is exactly 0.2, so it is relatively accurate."
      ]
    },
    {
      "cell_type": "code",
      "metadata": {
        "id": "fSy44B7ZoAtB"
      },
      "source": [
        "from sklearn.metrics import mean_squared_error"
      ],
      "execution_count": null,
      "outputs": []
    },
    {
      "cell_type": "code",
      "metadata": {
        "colab": {
          "base_uri": "https://localhost:8080/"
        },
        "id": "gAEpeormknIF",
        "outputId": "463ab0c8-2254-4074-a855-bc07d2d31e78"
      },
      "source": [
        "# model evaluation for training set\n",
        "y_train_predict = lr.predict(X_train)\n",
        "rmse = (np.sqrt(mean_squared_error(y_train, y_train_predict)))\n",
        "\n",
        "print(\"The model performance for training set:\")\n",
        "print('RMSE is {}'.format(rmse))"
      ],
      "execution_count": null,
      "outputs": [
        {
          "output_type": "stream",
          "text": [
            "The model performance for training set:\n",
            "RMSE is 0.20765301137306907\n"
          ],
          "name": "stdout"
        }
      ]
    },
    {
      "cell_type": "code",
      "metadata": {
        "colab": {
          "base_uri": "https://localhost:8080/"
        },
        "id": "XLqttZw_luZx",
        "outputId": "90f5be6c-0bd9-4522-9e3b-1c862edc2f48"
      },
      "source": [
        "# model evaluation for testing set\n",
        "y_test_predict = lr.predict(X_test)\n",
        "rmse = (np.sqrt(mean_squared_error(y_test, y_test_predict)))\n",
        "print(\"The model performance for testing set:\")\n",
        "print('RMSE is {}'.format(rmse))"
      ],
      "execution_count": null,
      "outputs": [
        {
          "output_type": "stream",
          "text": [
            "The model performance for testing set:\n",
            "RMSE is 0.1665026490419032\n"
          ],
          "name": "stdout"
        }
      ]
    },
    {
      "cell_type": "code",
      "metadata": {
        "id": "0oHMLsR4gBDW"
      },
      "source": [
        "#predict y_values using X_test set\n",
        "yr_hat = lr.predict(X_test)"
      ],
      "execution_count": null,
      "outputs": []
    },
    {
      "cell_type": "code",
      "metadata": {
        "colab": {
          "base_uri": "https://localhost:8080/"
        },
        "id": "6IpIkJUqSYHY",
        "outputId": "cbeb1aeb-3285-421e-a625-709511a7ca6a"
      },
      "source": [
        "lr_score =lr.score((X_test),y_test)\n",
        "print(\"Accuracy: \", lr_score)"
      ],
      "execution_count": null,
      "outputs": [
        {
          "output_type": "stream",
          "text": [
            "Accuracy:  0.8635924573514335\n"
          ],
          "name": "stdout"
        }
      ]
    },
    {
      "cell_type": "code",
      "metadata": {
        "colab": {
          "base_uri": "https://localhost:8080/",
          "height": 295
        },
        "id": "bY-a72zk6kcH",
        "outputId": "56487de5-b32f-4138-d309-33991e8fd5e2"
      },
      "source": [
        "actual_values = y_test\n",
        "plt.scatter(yr_hat, actual_values, alpha=.75,\n",
        "            color='b') #alpha helps to show overlapping data\n",
        "plt.xlabel('Predicted Price')\n",
        "plt.ylabel('Actual Price')\n",
        "plt.title('Linear Regression Model')\n",
        "plt.show()\n",
        "#pltrandom_state=None.show()"
      ],
      "execution_count": null,
      "outputs": [
        {
          "output_type": "display_data",
          "data": {
            "image/png": "[encoded data removed]",
            "text/plain": [
              "<Figure size 432x288 with 1 Axes>"
            ]
          },
          "metadata": {
            "tags": [],
            "needs_background": "light"
          }
        }
      ]
    },
    {
      "cell_type": "code",
      "metadata": {
        "colab": {
          "base_uri": "https://localhost:8080/",
          "height": 265
        },
        "id": "nTXsquuMcLdA",
        "outputId": "960fe1ae-094d-4f04-c6e3-5a53bd33cc99"
      },
      "source": [
        "from scipy import stats\n",
        "\n",
        "#Execute a method that returns the important key values of Linear Regression\n",
        "slope, intercept, r, p, std_err = stats.linregress(yr_hat, y_test)\n",
        "#Create a function that uses the slope and intercept values to return a new value. This new value represents where on the y-axis the corresponding x value will be placed\n",
        "def myfunc(x):\n",
        "  return slope * x + intercept\n",
        "\n",
        "mymodel = list(map(myfunc, yr_hat))\n",
        "#Draw the scatter plot\n",
        "plt.scatter(yr_hat, y_test)\n",
        "#Draw the line of linear regression\n",
        "plt.plot(yr_hat, mymodel)\n",
        "plt.show()"
      ],
      "execution_count": null,
      "outputs": [
        {
          "output_type": "display_data",
          "data": {
            "image/png": "[encoded data removed]",
            "text/plain": [
              "<Figure size 432x288 with 1 Axes>"
            ]
          },
          "metadata": {
            "tags": [],
            "needs_background": "light"
          }
        }
      ]
    },
    {
      "cell_type": "markdown",
      "metadata": {
        "id": "nXDu7nFOgY_f"
      },
      "source": [
        "Using cross-validation to see whether the model is over-fitting the data."
      ]
    },
    {
      "cell_type": "code",
      "metadata": {
        "colab": {
          "base_uri": "https://localhost:8080/"
        },
        "id": "_GNILJ-3dcMf",
        "outputId": "8f9e2440-0422-4010-e43c-c4c0748465a4"
      },
      "source": [
        "# cross validation to find 'validate' score across multiple samples, automatically does Kfold stratifying\n",
        "lr_cv = cross_val_score(lr, X, y, cv = 5, scoring= 'r2')\n",
        "print(\"Cross-validation results: \", lr_cv)\n",
        "print(\"R2: \", lr_cv.mean())"
      ],
      "execution_count": null,
      "outputs": [
        {
          "output_type": "stream",
          "text": [
            "Cross-validation results:  [0.87346696 0.76442401 0.80012497 0.66745531 0.5488312 ]\n",
            "R2:  0.7308604883584712\n"
          ],
          "name": "stdout"
        }
      ]
    },
    {
      "cell_type": "markdown",
      "metadata": {
        "id": "0h2Ku4Pz3JyP"
      },
      "source": [
        ">It doesn't appear that for this train-test dataset the model is  over-fitting the data (the cross-validation performance is very close in value). "
      ]
    },
    {
      "cell_type": "markdown",
      "metadata": {
        "id": "3TauxaDynVgF"
      },
      "source": [
        "**Regularization:**\n",
        "\n",
        "\n",
        "The alpha parameter in ridge and lasso regularizes the regression model. The regression algorithms with regularization differ from linear regression in that they try to penalize those features that are not significant in our prediction. Ridge will try to reduce their effects (i.e., shrink their coeffients) in order to optimize all the input features. Lasso will try to remove the not-significant features by making their coefficients zero. In short, Lasso (L1 regularization) can eliminate the not-significant features, thus performing feature selection while Ridge (L2 regularization) cannot."
      ]
    },
    {
      "cell_type": "markdown",
      "metadata": {
        "id": "k8S8xy_IX6WB"
      },
      "source": [
        "**Lasso regression**"
      ]
    },
    {
      "cell_type": "code",
      "metadata": {
        "colab": {
          "base_uri": "https://localhost:8080/"
        },
        "id": "FC61Z0lokfb-",
        "outputId": "d5b04a29-e4df-44a2-cc1e-8400cb4037d9"
      },
      "source": [
        "lasso = Lasso(alpha = 1)  # sets alpha to almost zero as baseline\n",
        "lasso.fit(X_train, y_train)"
      ],
      "execution_count": null,
      "outputs": [
        {
          "output_type": "execute_result",
          "data": {
            "text/plain": [
              "Lasso(alpha=1, copy_X=True, fit_intercept=True, max_iter=1000, normalize=False,\n",
              "      positive=False, precompute=False, random_state=None, selection='cyclic',\n",
              "      tol=0.0001, warm_start=False)"
            ]
          },
          "metadata": {
            "tags": []
          },
          "execution_count": 63
        }
      ]
    },
    {
      "cell_type": "markdown",
      "metadata": {
        "id": "Z52PEGQgoS7u"
      },
      "source": [
        "RMSE tells you how concentrated the data is around the line of best fit. "
      ]
    },
    {
      "cell_type": "code",
      "metadata": {
        "colab": {
          "base_uri": "https://localhost:8080/"
        },
        "id": "qPcmKyCEkntV",
        "outputId": "737ac8a8-3ff9-4643-d2e1-92919b6a4de8"
      },
      "source": [
        "# model evaluation for training set\n",
        "y_train_l_predict = lasso.predict(X_train)\n",
        "rmse = (np.sqrt(mean_squared_error(y_train, y_train_l_predict)))\n",
        "\n",
        "print(\"The model performance for training set:\")\n",
        "print('RMSE is {}'.format(rmse))"
      ],
      "execution_count": null,
      "outputs": [
        {
          "output_type": "stream",
          "text": [
            "The model performance for training set:\n",
            "RMSE is 0.23581221443279687\n"
          ],
          "name": "stdout"
        }
      ]
    },
    {
      "cell_type": "markdown",
      "metadata": {
        "id": "lrQWOvd1poqz"
      },
      "source": [
        "RMSE values between 0.2 and 0.5 shows that the model can relatively predict the data accurately. In this case, it is 0.5, so it is relatively accurate."
      ]
    },
    {
      "cell_type": "code",
      "metadata": {
        "colab": {
          "base_uri": "https://localhost:8080/"
        },
        "id": "7kLJVxl_kx8m",
        "outputId": "cb8ac0ba-5364-4765-dcb6-5a91e9638735"
      },
      "source": [
        "# model evaluation for testing set\n",
        "y_test_l_predict = lasso.predict(X_test)\n",
        "rmse = (np.sqrt(mean_squared_error(y_test, y_test_l_predict)))\n",
        "print(\"The model performance for testing set:\")\n",
        "print('RMSE is {}'.format(rmse))"
      ],
      "execution_count": null,
      "outputs": [
        {
          "output_type": "stream",
          "text": [
            "The model performance for testing set:\n",
            "RMSE is 0.19371218192805603\n"
          ],
          "name": "stdout"
        }
      ]
    },
    {
      "cell_type": "markdown",
      "metadata": {
        "id": "CWnipK1Fpnri"
      },
      "source": [
        "RMSE values between 0.2 and 0.5 shows that the model can relatively predict the data accurately. In this case, it is 0.5, so it is relatively accurate."
      ]
    },
    {
      "cell_type": "code",
      "metadata": {
        "id": "kuiLC0lkk5p3"
      },
      "source": [
        "#predict y_values using X_test set\n",
        "yr_lasso = lasso.predict(X_test)"
      ],
      "execution_count": null,
      "outputs": []
    },
    {
      "cell_type": "code",
      "metadata": {
        "colab": {
          "base_uri": "https://localhost:8080/"
        },
        "id": "mYWNuy2KlC7h",
        "outputId": "81787ff1-86f9-4f42-cc70-e0b044ef3620"
      },
      "source": [
        "lasso_score =lasso.score((X_test),y_test)\n",
        "print(\"Accuracy: \", lasso_score)"
      ],
      "execution_count": null,
      "outputs": [
        {
          "output_type": "stream",
          "text": [
            "Accuracy:  0.8153667322347822\n"
          ],
          "name": "stdout"
        }
      ]
    },
    {
      "cell_type": "code",
      "metadata": {
        "colab": {
          "base_uri": "https://localhost:8080/"
        },
        "id": "ARbg24jXoYm6",
        "outputId": "b2c225af-47d8-4661-9b7c-3ea8c9da63f7"
      },
      "source": [
        "lasso_cv = cross_val_score(lasso, X, y, cv = 5, scoring = 'r2')\n",
        "print (\"Cross-validation results: \", lasso_cv)\n",
        "print (\"R2: \", lasso_cv.mean())"
      ],
      "execution_count": null,
      "outputs": [
        {
          "output_type": "stream",
          "text": [
            "Cross-validation results:  [0.82842652 0.66440621 0.69514684 0.59111828 0.48721021]\n",
            "R2:  0.6532616143265344\n"
          ],
          "name": "stdout"
        }
      ]
    },
    {
      "cell_type": "code",
      "metadata": {
        "colab": {
          "base_uri": "https://localhost:8080/",
          "height": 295
        },
        "id": "CI-kO2KCl-UE",
        "outputId": "2c1f567e-d769-4903-dde3-296422dd943a"
      },
      "source": [
        "actual_values = y_test\n",
        "plt.scatter(yr_lasso, actual_values, alpha=.75,\n",
        "            color='b') #alpha helps to show overlapping data\n",
        "plt.xlabel('Predicted Price')\n",
        "plt.ylabel('Actual Price')\n",
        "plt.title('Lasso Regression Model')\n",
        "plt.show()\n",
        "#pltrandom_state=None.show()"
      ],
      "execution_count": null,
      "outputs": [
        {
          "output_type": "display_data",
          "data": {
            "image/png": "[encoded data removed]",
            "text/plain": [
              "<Figure size 432x288 with 1 Axes>"
            ]
          },
          "metadata": {
            "tags": [],
            "needs_background": "light"
          }
        }
      ]
    },
    {
      "cell_type": "code",
      "metadata": {
        "colab": {
          "base_uri": "https://localhost:8080/",
          "height": 265
        },
        "id": "SAUidlsBlrd8",
        "outputId": "dd10bae8-501c-408a-9ab6-5842e07a6e21"
      },
      "source": [
        "from scipy import stats\n",
        "\n",
        "#Execute a method that returns the important key values of Linear Regression\n",
        "slope, intercept, r, p, std_err = stats.linregress(yr_lasso, y_test)\n",
        "#Create a function that uses the slope and intercept values to return a new value. This new value represents where on the y-axis the corresponding x value will be placed\n",
        "def myfunc(x):\n",
        "  return slope * x + intercept\n",
        "\n",
        "mymodel = list(map(myfunc, yr_lasso))\n",
        "#Draw the scatter plot\n",
        "plt.scatter(yr_lasso, y_test)\n",
        "#Draw the line of linear regression\n",
        "plt.plot(yr_lasso, mymodel)\n",
        "plt.show()"
      ],
      "execution_count": null,
      "outputs": [
        {
          "output_type": "display_data",
          "data": {
            "image/png": "[encoded data removed]",
            "text/plain": [
              "<Figure size 432x288 with 1 Axes>"
            ]
          },
          "metadata": {
            "tags": [],
            "needs_background": "light"
          }
        }
      ]
    },
    {
      "cell_type": "markdown",
      "metadata": {
        "id": "5efTrnYaX9Ci"
      },
      "source": [
        "**Ridge regression**"
      ]
    },
    {
      "cell_type": "code",
      "metadata": {
        "colab": {
          "base_uri": "https://localhost:8080/"
        },
        "id": "Iq8uUPBno7ib",
        "outputId": "f47f6c36-0178-4ee9-fb87-2bbc42fa7cbb"
      },
      "source": [
        "ridge = Ridge(alpha = 1)  # sets alpha to a default value as baseline  \n",
        "ridge.fit(X_train, y_train)"
      ],
      "execution_count": null,
      "outputs": [
        {
          "output_type": "execute_result",
          "data": {
            "text/plain": [
              "Ridge(alpha=1, copy_X=True, fit_intercept=True, max_iter=None, normalize=False,\n",
              "      random_state=None, solver='auto', tol=0.001)"
            ]
          },
          "metadata": {
            "tags": []
          },
          "execution_count": 71
        }
      ]
    },
    {
      "cell_type": "code",
      "metadata": {
        "colab": {
          "base_uri": "https://localhost:8080/"
        },
        "id": "pYDFcv5mpFVi",
        "outputId": "ef41ebc0-d96b-40f7-ccc0-13096795738b"
      },
      "source": [
        "# model evaluation for training set\n",
        "y_train_r_predict = ridge.predict(X_train)\n",
        "rmse = (np.sqrt(mean_squared_error(y_train, y_train_r_predict)))\n",
        "\n",
        "print(\"The model performance for training set:\")\n",
        "print('RMSE is {}'.format(rmse))"
      ],
      "execution_count": null,
      "outputs": [
        {
          "output_type": "stream",
          "text": [
            "The model performance for training set:\n",
            "RMSE is 0.20767204734215916\n"
          ],
          "name": "stdout"
        }
      ]
    },
    {
      "cell_type": "markdown",
      "metadata": {
        "id": "ab24UjOvqFuN"
      },
      "source": [
        ">RMSE values between 0.2 and 0.5 shows that the model can relatively predict the data accurately. In this case, it is 0.2, so it is relatively accurate."
      ]
    },
    {
      "cell_type": "code",
      "metadata": {
        "colab": {
          "base_uri": "https://localhost:8080/"
        },
        "id": "GdMmStcpp1r8",
        "outputId": "04c4067f-6e62-45e8-e6d5-b9a643f5e07c"
      },
      "source": [
        "# model evaluation for testing set\n",
        "y_test_r_predict = ridge.predict(X_test)\n",
        "rmse = (np.sqrt(mean_squared_error(y_test, y_test_r_predict)))\n",
        "print(\"The model performance for testing set:\")\n",
        "print('RMSE is {}'.format(rmse))"
      ],
      "execution_count": null,
      "outputs": [
        {
          "output_type": "stream",
          "text": [
            "The model performance for testing set:\n",
            "RMSE is 0.16812086580920915\n"
          ],
          "name": "stdout"
        }
      ]
    },
    {
      "cell_type": "markdown",
      "metadata": {
        "id": "UnNblY1qqK-C"
      },
      "source": [
        ">RMSE values between 0.2 and 0.5 shows that the model can relatively predict the data accurately. In this case, it is rounded to 0.2, so it is relatively accurate."
      ]
    },
    {
      "cell_type": "code",
      "metadata": {
        "id": "sO8rwhcIqVfe"
      },
      "source": [
        "#predict y_values using X_test set\n",
        "yr_ridge = ridge.predict(X_test)"
      ],
      "execution_count": null,
      "outputs": []
    },
    {
      "cell_type": "code",
      "metadata": {
        "colab": {
          "base_uri": "https://localhost:8080/"
        },
        "id": "Hwp-5vqKqckk",
        "outputId": "118334f8-31bc-4c41-e6e4-5609d192b3c3"
      },
      "source": [
        "ridge_score =ridge.score((X_test),y_test)\n",
        "print(\"Accuracy: \", ridge_score)"
      ],
      "execution_count": null,
      "outputs": [
        {
          "output_type": "stream",
          "text": [
            "Accuracy:  0.8609281198121118\n"
          ],
          "name": "stdout"
        }
      ]
    },
    {
      "cell_type": "code",
      "metadata": {
        "colab": {
          "base_uri": "https://localhost:8080/"
        },
        "id": "0fLeJ8tCnjNt",
        "outputId": "fdaff540-3a3b-4ef5-98c7-00813fb209a8"
      },
      "source": [
        "ridge_cv = cross_val_score(ridge, X, y, cv = 5, scoring = 'r2')\n",
        "print (\"Cross-validation results: \", ridge_cv)\n",
        "print (\"R2: \", ridge_cv.mean())"
      ],
      "execution_count": null,
      "outputs": [
        {
          "output_type": "stream",
          "text": [
            "Cross-validation results:  [0.87430768 0.76335975 0.79883498 0.67112458 0.54775124]\n",
            "R2:  0.7310756447849953\n"
          ],
          "name": "stdout"
        }
      ]
    },
    {
      "cell_type": "code",
      "metadata": {
        "colab": {
          "base_uri": "https://localhost:8080/",
          "height": 295
        },
        "id": "rskikGhNqlbH",
        "outputId": "586dc159-325a-464f-d33c-2e9e972604b7"
      },
      "source": [
        "actual_values = y_test\n",
        "plt.scatter(yr_ridge, actual_values, alpha=.75,\n",
        "            color='b') #alpha helps to show overlapping data\n",
        "plt.xlabel('Predicted Price')\n",
        "plt.ylabel('Actual Price')\n",
        "plt.title('Ridge Regression Model')\n",
        "plt.show()\n",
        "#pltrandom_state=None.show()"
      ],
      "execution_count": null,
      "outputs": [
        {
          "output_type": "display_data",
          "data": {
            "image/png": "[encoded data removed]",
            "text/plain": [
              "<Figure size 432x288 with 1 Axes>"
            ]
          },
          "metadata": {
            "tags": [],
            "needs_background": "light"
          }
        }
      ]
    },
    {
      "cell_type": "code",
      "metadata": {
        "colab": {
          "base_uri": "https://localhost:8080/",
          "height": 265
        },
        "id": "bFo7WAxxrYPS",
        "outputId": "f99dc1e2-9718-4d2c-99ce-150d4e01fab2"
      },
      "source": [
        "from scipy import stats\n",
        "\n",
        "#Execute a method that returns the important key values of Linear Regression\n",
        "slope, intercept, r, p, std_err = stats.linregress(yr_ridge, y_test)\n",
        "#Create a function that uses the slope and intercept values to return a new value. This new value represents where on the y-axis the corresponding x value will be placed\n",
        "def myfunc(x):\n",
        "  return slope * x + intercept\n",
        "\n",
        "mymodel = list(map(myfunc, yr_ridge))\n",
        "#Draw the scatter plot\n",
        "plt.scatter(yr_ridge, y_test)\n",
        "#Draw the line of linear regression\n",
        "plt.plot(yr_ridge, mymodel)\n",
        "plt.show()"
      ],
      "execution_count": null,
      "outputs": [
        {
          "output_type": "display_data",
          "data": {
            "image/png": "[encoded data removed]",
            "text/plain": [
              "<Figure size 432x288 with 1 Axes>"
            ]
          },
          "metadata": {
            "tags": [],
            "needs_background": "light"
          }
        }
      ]
    },
    {
      "cell_type": "markdown",
      "metadata": {
        "id": "rrBSbuy2W2qN"
      },
      "source": [
        "**Random Forest**"
      ]
    },
    {
      "cell_type": "markdown",
      "metadata": {
        "id": "AXrke4TiEByv"
      },
      "source": [
        "The library sklearn.ensemble is used to solve regression problems via Random forest. The most important parameter is the n_estimators parameter. This parameter defines the number of trees in the random forest."
      ]
    },
    {
      "cell_type": "code",
      "metadata": {
        "id": "tNOXuakWCdsM"
      },
      "source": [
        "# Feature Scaling\n",
        "from sklearn.preprocessing import StandardScaler\n",
        "\n",
        "sc = StandardScaler()\n",
        "X_train = sc.fit_transform(X_train)\n",
        "X_test = sc.transform(X_test)"
      ],
      "execution_count": null,
      "outputs": []
    },
    {
      "cell_type": "code",
      "metadata": {
        "id": "JQOrAqI8CHEY"
      },
      "source": [
        "regressor = RandomForestRegressor(n_estimators=20, random_state=0)\n",
        "regressor.fit(X_train, y_train)\n",
        "y_pred = regressor.predict(X_test)"
      ],
      "execution_count": null,
      "outputs": []
    },
    {
      "cell_type": "markdown",
      "metadata": {
        "id": "kOz7BY5VC00P"
      },
      "source": [
        "Evaluating the Algorithm:\n",
        "The last and final step of solving a machine learning problem is to evaluate the performance of the algorithm. For regression problems the metrics used to evaluate an algorithm are mean absolute error, mean squared error, and root mean squared error."
      ]
    },
    {
      "cell_type": "code",
      "metadata": {
        "colab": {
          "base_uri": "https://localhost:8080/"
        },
        "id": "ffrZnle1CS3s",
        "outputId": "e16e0e9f-0f22-4392-f9c6-7e04248dab4f"
      },
      "source": [
        "from sklearn import metrics\n",
        "\n",
        "print('Mean Absolute Error:', metrics.mean_absolute_error(y_test, y_pred))\n",
        "print('Mean Squared Error:', metrics.mean_squared_error(y_test, y_pred))\n",
        "print('Root Mean Squared Error:', np.sqrt(metrics.mean_squared_error(y_test, y_pred)))"
      ],
      "execution_count": null,
      "outputs": [
        {
          "output_type": "stream",
          "text": [
            "Mean Absolute Error: 0.12552548827951324\n",
            "Mean Squared Error: 0.024254698257395242\n",
            "Root Mean Squared Error: 0.15573919948874543\n"
          ],
          "name": "stdout"
        }
      ]
    },
    {
      "cell_type": "markdown",
      "metadata": {
        "id": "LTjAI163YYUW"
      },
      "source": [
        "Training the model"
      ]
    },
    {
      "cell_type": "code",
      "metadata": {
        "colab": {
          "base_uri": "https://localhost:8080/"
        },
        "id": "aoc4Z8W1TEvr",
        "outputId": "332e0a1e-f998-443d-ba6e-e5233d4964f4"
      },
      "source": [
        "# Import the model we are using\n",
        "from sklearn.ensemble import RandomForestRegressor\n",
        "# Instantiate model with 1000 decision trees\n",
        "rf = RandomForestRegressor(n_estimators = 1000, random_state = 42)\n",
        "# Train the model on training data\n",
        "rf.fit(X_train, y_train)"
      ],
      "execution_count": null,
      "outputs": [
        {
          "output_type": "execute_result",
          "data": {
            "text/plain": [
              "RandomForestRegressor(bootstrap=True, ccp_alpha=0.0, criterion='mse',\n",
              "                      max_depth=None, max_features='auto', max_leaf_nodes=None,\n",
              "                      max_samples=None, min_impurity_decrease=0.0,\n",
              "                      min_impurity_split=None, min_samples_leaf=1,\n",
              "                      min_samples_split=2, min_weight_fraction_leaf=0.0,\n",
              "                      n_estimators=1000, n_jobs=None, oob_score=False,\n",
              "                      random_state=42, verbose=0, warm_start=False)"
            ]
          },
          "metadata": {
            "tags": []
          },
          "execution_count": 82
        }
      ]
    },
    {
      "cell_type": "markdown",
      "metadata": {
        "id": "KZ41_qodXdXf"
      },
      "source": [
        "Making predictions on the test set:\n",
        "\n",
        "When performing regression, the absolute error should be used.It needs to be checked how far away the average prediction is from the actual value so the absolute value has to be calculated."
      ]
    },
    {
      "cell_type": "code",
      "metadata": {
        "colab": {
          "base_uri": "https://localhost:8080/"
        },
        "id": "BnBVJCqATu2H",
        "outputId": "ae54ff6b-2b6d-4f5c-80bb-b778a11db129"
      },
      "source": [
        "# Use the forest's predict method on the test data\n",
        "predictions = rf.predict(X_test)\n",
        "# Calculate the absolute errors\n",
        "errors = abs(predictions - y_test)\n",
        "# Print out the mean absolute error (mae)\n",
        "print('Mean Absolute Error:', round(np.mean(errors), 2), 'degrees.')"
      ],
      "execution_count": null,
      "outputs": [
        {
          "output_type": "stream",
          "text": [
            "Mean Absolute Error: 0.13 degrees.\n"
          ],
          "name": "stdout"
        }
      ]
    },
    {
      "cell_type": "markdown",
      "metadata": {
        "id": "oUP118DHYLU1"
      },
      "source": [
        "\n",
        "\n",
        "> There is a 0.12 improvement.\n",
        "\n"
      ]
    },
    {
      "cell_type": "markdown",
      "metadata": {
        "id": "mS6CBlvuW_VM"
      },
      "source": [
        "Determine performance metrics:\n",
        "\n",
        "To put the predictions in perspective, accuracy can be calculated by using the mean average percentage error subtracted from 100 %."
      ]
    },
    {
      "cell_type": "code",
      "metadata": {
        "colab": {
          "base_uri": "https://localhost:8080/"
        },
        "id": "-rUYrjTVUHud",
        "outputId": "38dffc79-5d7c-4285-cb97-1e850b9f8378"
      },
      "source": [
        "# Calculate mean absolute percentage error (MAPE)\n",
        "mape = 100 * (errors /y_test)\n",
        "# Calculate and display accuracy\n",
        "accuracy = 100 - np.mean(mape)\n",
        "print('Accuracy:', round(accuracy, 2), '%.')"
      ],
      "execution_count": null,
      "outputs": [
        {
          "output_type": "stream",
          "text": [
            "Accuracy: 98.13 %.\n"
          ],
          "name": "stdout"
        }
      ]
    },
    {
      "cell_type": "markdown",
      "metadata": {
        "id": "1EUPbN3zXNrs"
      },
      "source": [
        "> The model has learned how to predict the price with 98% accuracy."
      ]
    },
    {
      "cell_type": "code",
      "metadata": {
        "id": "7NMnNbxFObcD"
      },
      "source": [
        "rfr = RandomForestRegressor()\n",
        "rfr.fit(X_train, y_train) # gets the parameters for the rfr model\n",
        "rfr_cv = cross_val_score(rfr,X, y, cv = 5, scoring = 'r2')\n",
        "print(\"R2: \", rfr_cv.mean())"
      ],
      "execution_count": null,
      "outputs": []
    },
    {
      "cell_type": "markdown",
      "metadata": {
        "id": "TKIQi_1N3jbi"
      },
      "source": [
        "The performance of Random forest is slightly better than the Linear regression. The model parameters can be optimised for better performance using gridsearch."
      ]
    },
    {
      "cell_type": "code",
      "metadata": {
        "id": "_3DgOLObeVZl"
      },
      "source": [
        "#Random forest determined feature importances\n",
        "rfr.feature_importances_"
      ],
      "execution_count": null,
      "outputs": []
    },
    {
      "cell_type": "markdown",
      "metadata": {
        "id": "82XzXGjuec_-"
      },
      "source": [
        "# **Plotting the Feature Importance**"
      ]
    },
    {
      "cell_type": "markdown",
      "metadata": {
        "id": "F-R6esbY3616"
      },
      "source": [
        "Finding the features that are the most promissing predictors:"
      ]
    },
    {
      "cell_type": "code",
      "metadata": {
        "id": "W9_WRuhqeiSO"
      },
      "source": [
        "importance = rfr.feature_importances_\n",
        "\n",
        "# map feature importance values to the features\n",
        "feature_importances = zip(importance, X.columns)\n",
        "\n",
        "#list(feature_importances)\n",
        "sorted_feature_importances = sorted(feature_importances, reverse = True)\n",
        "\n",
        "#print(sorted_feature_importances)\n",
        "top_15_predictors = sorted_feature_importances[0:15]\n",
        "values = [value for value, predictors in top_15_predictors]\n",
        "predictors = [predictors for value, predictors in top_15_predictors]\n",
        "print(predictors)"
      ],
      "execution_count": null,
      "outputs": []
    },
    {
      "cell_type": "markdown",
      "metadata": {
        "id": "-NpL2BNZewF4"
      },
      "source": [
        "**Plotting the feauture importance of the Random forest.**"
      ]
    },
    {
      "cell_type": "markdown",
      "metadata": {
        "id": "J3t_rUzTVhBm"
      },
      "source": [
        "Plotting the feature importances to illustrate the disparities in the relative significance of the variables. "
      ]
    },
    {
      "cell_type": "code",
      "metadata": {
        "id": "onnmDIFae4HZ"
      },
      "source": [
        "plt.figure()\n",
        "plt.title( \"Feature importances\")\n",
        "plt.bar(range(len(predictors)), values,color=\"r\", align=\"center\");\n",
        "plt.xticks(range(len(predictors)), predictors, rotation=90);"
      ],
      "execution_count": null,
      "outputs": []
    },
    {
      "cell_type": "markdown",
      "metadata": {
        "id": "PV8pIhISjckq"
      },
      "source": [
        "The idea behind the plotting of feauture importance is that after evaluating the performance of the model, the values of a feature of interest must be permuted and reevaluate model performance.\n",
        "The feature importance (variable importance) describes which features are relevant. \n",
        ">Random Forest determined that overall the living area of a home is by far the most important predictor. Following are the sizes of above rooms and postcode."
      ]
    },
    {
      "cell_type": "markdown",
      "metadata": {
        "id": "-3C5kOYYOX36"
      },
      "source": [
        "# **Conclusion**\n",
        "**Data collection:**\n",
        "\n",
        "For the data collection part, I decided to use `web scraping` as e technique because it gives the opportunity to work with a data set that is up to date and therefore, makes more accurate summaries.\n",
        "\n",
        "**Data preprocessing:**\n",
        "\n",
        "I tried different types of data transforms to expose the data structure better, so we may be able to improve model accuracy later.\n",
        "\n",
        "*   `Standardizing` was made to the data set so as to reduce the effects of differing distributions.\n",
        "*   `The skewness` of the features was checked in order to see how distorted a data sample is from the normal distribution.\n",
        "* `Rescaling (normalizing)` the dataset was also included to reduce the effects of differing scales\n",
        "\n",
        "**Modelling:**\n",
        "\n",
        "I used four models to determine the accuracy - Linear Regression, Lasso Regression and Ridge Regression, Random Forest.\n",
        "\n",
        "From the exploring of the models RMSE:\n",
        "\n",
        "* Linear Regression score: 0.2003 (0.1887)\n",
        "\n",
        "* Lasso score: 0.5 (0.4675)\n",
        "\n",
        "* Ridge score: 0.2 (0.1877)\n",
        "\n",
        "* Random forest score: 0.2372 \n",
        "\n",
        "> RMSE values between 0.2 and 0.5 shows that the model can relatively predict the data accurately. All of the models showed values in this range.\n",
        "\n",
        "From the exploring of the models accuracy: \n",
        "\n",
        "* Linear Regression score:  0.80 (80%)\n",
        "\n",
        "* Lasso score: 0.82 (82%)\n",
        "\n",
        "* Ridge score: 0.86 (86%)\n",
        "\n",
        "* Random forest score: 98.13 %\n",
        "\n",
        "From the exploring of the models cross-validation:  \n",
        "\n",
        "* Linear Regression score:  R2: 0.7308604883584712\n",
        "\n",
        "* Lasso score: R2:  0.6532616143265344\n",
        "\n",
        "* Ridge score: R2:  0.7310756447849953\n",
        "\n",
        "* Random forest: R2:  0.7742740242196954\n",
        "\n",
        "Random forest turns out to be the more accurate model for predicting the house price. \n",
        "\n",
        "All of the models showed RMSE values between 0.2 and 0.5 so that they show  relatively accurate predictions of the data. \n",
        "\n",
        "I evaluated the models performances with R-squared metric and the one that is overfitting the least is the Linear Regression.\n",
        "\n",
        "\n"
      ]
    }
  ]
}