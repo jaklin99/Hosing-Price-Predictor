{
  "nbformat": 4,
  "nbformat_minor": 0,
  "metadata": {
    "colab": {
      "name": "HousingPredictor_Scrape_Final.ipynb",
      "provenance": [],
      "collapsed_sections": []
    },
    "kernelspec": {
      "name": "python3",
      "display_name": "Python 3"
    },
    "language_info": {
      "name": "python"
    }
  },
  "cells": [
    {
      "cell_type": "markdown",
      "metadata": {
        "id": "O0jDE-ojxKH6"
      },
      "source": [
        "# **House Price Prediction with Linear Regression and Random Forest**"
      ]
    },
    {
      "cell_type": "markdown",
      "metadata": {
        "id": "4Ee10GvtxHa1"
      },
      "source": [
        "The aim of this project is to predict real-estate prices using the machine learning algorithm, Linear Regression, Random Forest. Both will show different results for the accuracy. Also, I will use regression with regularization such as Ridge and Lasso to try to improve the prediction accuracy."
      ]
    },
    {
      "cell_type": "markdown",
      "metadata": {
        "id": "PwILfzBYixDE"
      },
      "source": [
        "# **Imports**"
      ]
    },
    {
      "cell_type": "code",
      "metadata": {
        "id": "IVXu8JD0Dfjr"
      },
      "source": [
        "from bs4 import BeautifulSoup as bs4\n",
        "from requests import get\n",
        "import json\n",
        "import pandas as pd\n",
        "import requests\n",
        "import matplotlib.pyplot as plt\n",
        "import seaborn as sns\n",
        "import mpl_toolkits\n",
        "import numpy as np\n",
        "%matplotlib inline\n",
        "#from fake_useragent import UserAgent"
      ],
      "execution_count": 65,
      "outputs": []
    },
    {
      "cell_type": "markdown",
      "metadata": {
        "id": "Jwn59thSi4qc"
      },
      "source": [
        "# **Data preparation (Web scraping)**"
      ]
    },
    {
      "cell_type": "markdown",
      "metadata": {
        "id": "XYPR9iWTHxBS"
      },
      "source": [
        "Scraping data from the first website - 'FriendlyHousing'"
      ]
    },
    {
      "cell_type": "code",
      "metadata": {
        "id": "aGRVJUxq-7b-"
      },
      "source": [
        "url_1 = 'https://www.friendlyhousing.nl/nl/aanbod/kamer'\n",
        "url_2 = 'https://www.friendlyhousing.nl/nl/aanbod/studio'\n",
        "url_3 = 'https://www.friendlyhousing.nl/nl/aanbod/appartement'\n",
        "urls= [url_1, url_2, url_3]"
      ],
      "execution_count": 66,
      "outputs": []
    },
    {
      "cell_type": "markdown",
      "metadata": {
        "id": "LfI4ZVzaH3pw"
      },
      "source": [
        "Scraping data from the second website - 'Pararius'"
      ]
    },
    {
      "cell_type": "code",
      "metadata": {
        "id": "vSCaO5pCDnmK"
      },
      "source": [
        "url_1p = 'https://www.pararius.com/apartments/eindhoven'\n",
        "url_2p = 'https://www.pararius.com/apartments/eindhoven/page-2'\n",
        "url_3p = 'https://www.pararius.com/apartments/eindhoven/page-3'\n",
        "urls_p= [url_1p, url_2p, url_3p]\n"
      ],
      "execution_count": 67,
      "outputs": []
    },
    {
      "cell_type": "markdown",
      "metadata": {
        "id": "RYTfmQFMIOXD"
      },
      "source": [
        "'FriendlyHousing'"
      ]
    },
    {
      "cell_type": "code",
      "metadata": {
        "id": "zcUcngFqMICQ"
      },
      "source": [
        "#user_agent = UserAgent()\n",
        "#headers={\"user-agent\": user_agent.chrome}\n",
        "soup_array=[]\n",
        "for url in urls:\n",
        "    ## getting the reponse from the page using get method of requests module\n",
        "    page = get(url)\n",
        "\n",
        "    ## storing the content of the page in a variable\n",
        "    html = page.content\n",
        "\n",
        "    ## creating BeautifulSoup object\n",
        "    soup = bs4(html, \"html.parser\")\n",
        "    soup_array.append(soup)"
      ],
      "execution_count": 68,
      "outputs": []
    },
    {
      "cell_type": "markdown",
      "metadata": {
        "id": "U1aRfCtlIUt0"
      },
      "source": [
        "'Pararius'"
      ]
    },
    {
      "cell_type": "code",
      "metadata": {
        "id": "85NXMkdFIZZ-"
      },
      "source": [
        "soup_array_p=[]\n",
        "for url in urls_p:\n",
        "    ## getting the reponse from the page using get method of requests module\n",
        "    page = get(url)\n",
        "\n",
        "    ## storing the content of the page in a variable\n",
        "    html = page.content\n",
        "\n",
        "    ## creating BeautifulSoup object\n",
        "    soup = bs4(html, \"html.parser\")\n",
        "    soup_array_p.append(soup)"
      ],
      "execution_count": 69,
      "outputs": []
    },
    {
      "cell_type": "markdown",
      "metadata": {
        "id": "-dsA98jYIkBa"
      },
      "source": [
        "'FriendlyHousing' - finding the elements from the html file"
      ]
    },
    {
      "cell_type": "code",
      "metadata": {
        "id": "Y00lRLog_wuI"
      },
      "source": [
        "houses=[]\n",
        "for s in soup_array:\n",
        "    allHouses = s.find(\"ul\", {\"class\": \"list list-unstyled row equal-row\"})\n",
        "    #print(len(allHouses))\n",
        "    for h in allHouses.find_all(\"li\", {\"class\": \"col-xs-12 col-sm-6 col-md-4 equal-col\"}):\n",
        "     # print(h)\n",
        "      \n",
        "      houses.append(h)\n",
        "     # print(h.findAll(\"li\", {\"class\": \"search-list__item search-list__item--listing\"}))\n",
        "      "
      ],
      "execution_count": 70,
      "outputs": []
    },
    {
      "cell_type": "code",
      "metadata": {
        "id": "oQ5ziGdjAIX8"
      },
      "source": [
        "catalog=[]\n",
        "for h in houses:\n",
        "  #data['houses'].append({\n",
        "      type__= h.find('div', class_= 'specs').text\n",
        "      t = type__.split()\n",
        "      type_=t[0]\n",
        "      street_ = h.find('h3').text\n",
        "      s = street_.split()\n",
        "      street = s[0]\n",
        "      address = h.find('p').text\n",
        "      a = address.split()\n",
        "      postcode = a[0]\n",
        "      #city = a[2]\n",
        "      price = h.find('div', class_= 'price').text\n",
        "      vars = type_,street, postcode, price\n",
        "      catalog.append(vars)\n",
        "      #print(city)"
      ],
      "execution_count": 71,
      "outputs": []
    },
    {
      "cell_type": "markdown",
      "metadata": {
        "id": "ozJfWu4SIz66"
      },
      "source": [
        "'Pararius' - finding the elements from the html file"
      ]
    },
    {
      "cell_type": "code",
      "metadata": {
        "id": "A2cvkZr8I3Tn"
      },
      "source": [
        "houses_p=[]\n",
        "for s in soup_array_p:\n",
        "    allHouses = s.find(\"ul\", {\"class\": \"search-list\"})\n",
        "    #print(len(allHouses))\n",
        "    for h in allHouses.find_all(\"li\", {\"class\": \"search-list__item search-list__item--listing\"}):\n",
        "     # print(h)\n",
        "      \n",
        "      houses_p.append(h)\n",
        "     # print(h.findAll(\"li\", {\"class\": \"search-list__item search-list__item--listing\"}))\n",
        "      "
      ],
      "execution_count": 72,
      "outputs": []
    },
    {
      "cell_type": "code",
      "metadata": {
        "colab": {
          "base_uri": "https://localhost:8080/"
        },
        "id": "Pq_WU8w6SVCW",
        "outputId": "8ad71af7-0b1e-4367-88b2-48355a1fb3f7"
      },
      "source": [
        "catalog_p=[]\n",
        "for h in houses_p:\n",
        "  #data['houses'].append({\n",
        "        name = h.find('a',class_='listing-search-item__link listing-search-item__link--title').text\n",
        "        _name = name.split()\n",
        "        house_type = _name[0]\n",
        "        street = _name[1]\n",
        "        _address= h.findAll('div', class_='listing-search-item__location')[0].text\n",
        "        #String manipulation to remove the unwanted signs from the address\n",
        "        __address = _address.replace(\"\\nnew\\n \", \"\") \n",
        "        address = __address.replace(\"\\n \", \"\")   #actual address after string manipulation - ready to be used in the exploring of the data\n",
        "        new_address = address.split()\n",
        "        postcode = new_address[0] \n",
        "        price_ = h.findAll('span', class_='listing-search-item__price')[0].text\n",
        "        #splitting the string to find the price\n",
        "        p=price_.split()\n",
        "        _price = p[0] #actual price before string manipulation\n",
        "        __price = _price.replace(\"€\", \"\")  #actual price before full string manipulation\n",
        "        price = __price.replace(\",\", \"\")   #actual price after string manipulation - ready to be used in the exploring of the data\n",
        "\n",
        "        #finding the whole element from the web page\n",
        "        ylr= h.findAll('section', class_= 'illustrated-features illustrated-features--vertical')[0].text \n",
        "\n",
        "        #splitting the string to find the living are, rooms and year\n",
        "        lry= ylr.split()\n",
        "\n",
        "        #living_area after taking the indexes that define it\n",
        "        living_area = lry[0] \n",
        "\n",
        "        #rooms after taking the index that defines the variable\n",
        "        rooms = lry[4] \n",
        "    \n",
        "        vars = house_type, street, postcode,price,living_area,rooms\n",
        "        catalog_p.append(vars)\n",
        "    \n",
        "print(catalog_p)\n"
      ],
      "execution_count": 73,
      "outputs": [
        {
          "output_type": "stream",
          "text": [
            "[('House', 'Nieuwe', '5612', '1150', '65', '3'), ('Apartment', 'Nicolaas', '5615', '1150', '72', '3'), ('Apartment', 'Aalsterweg', '5615', '795', '45', '2'), ('House', 'Jacob', '5611', '4500', '169', '7'), ('Room', 'Eckartseweg', '5623', '360', '10', '1'), ('Apartment', 'Hertogstraat', '5611', '1200', '100', '1'), ('Apartment', 'Jeroen', '5613', '750', '40', '2'), ('Apartment', 'De', '5611', '1349', '91', '3'), ('Room', 'Julianastraat', '5611', '375', '12', '1'), ('Apartment', 'Margrietstraat', '5643', '685', '20', '1'), ('Room', 'Leenderweg', '5615', '415', '12', '1'), ('Apartment', 'Bomanshof', '5611', '1485', '108', '2'), ('House', 'Hoogstraat', '5654', '1475', '119', '5'), ('Apartment', 'Meerring', '5658', '1250', '80', '3'), ('Apartment', 'Stratumsedijk', '5611', '1350', '56', '3'), ('House', 'Scheidingstraat', '5654', '1295', '100', '3'), ('Apartment', 'Marconilaan', '5612', '800', '35', '2'), ('Apartment', 'Bomanshof', '5611', '1260', '63', '2'), ('Apartment', 'Bomanshof', '5611', '1385', '79', '2'), ('Apartment', 'Bomanshof', '5611', '1260', '63', '2'), ('Apartment', 'Bomanshof', '5611', '1485', '108', '2'), ('Apartment', 'Bomanshof', '5611', '1080', '54', '2'), ('Apartment', 'Bomanshof', '5611', '1100', '50', '2'), ('Apartment', 'Bomanshof', '5611', '1260', '63', '2'), ('Apartment', 'Bomanshof', '5611', '1460', '86', '2'), ('Apartment', 'Kruisstraat', '5612', '950', '45', '2'), ('Apartment', 'Franklin', '5625', '865', '60', '3'), ('Room', 'Chrysantenstraat', '5644', '255', '12', '1'), ('Apartment', 'Aalsterweg', '5615', '1700', '75', '3'), ('Apartment', 'Geldropseweg', '5611', '645', '29', '1'), ('Apartment', 'Geldropseweg', '5611', '695', '29', '1'), ('Apartment', 'Jan', '5642', '435', '18', '1'), ('House', 'Nieuwe', '5612', '1150', '65', '3'), ('Apartment', 'Heezerweg', '5614', '1150', '83', '2'), ('House', 'Kees', '5622', '1445', '120', '5'), ('Room', 'Frederika', '5616', '465', '14', '1'), ('Apartment', 'Stevinstraat', '5621', '795', '28', '1'), ('Apartment', 'Leenderweg', '5644', '1000', '48', '2'), ('Apartment', 'Blaarthemseweg', '5654', '875', '45', '2'), ('Apartment', 'Boschdijk', '5612', '560', '20', '1'), ('Apartment', 'Boschdijk', '5612', '570', '21', '1'), ('Apartment', 'Sophia', '5616', '755', '40', '2'), ('Apartment', 'Hoogstraat', '5654', '925', '42', '1'), ('Apartment', 'Treurenburgstraat', '5613', '1150', '78', '4'), ('Apartment', 'Kalmoesplein', '5643', '1850', '121', '4'), ('Apartment', 'St', '5614', '945', '55', '2'), ('Apartment', 'Tongelresestraat', '5613', '995', '70', '1'), ('Apartment', 'Aalsterweg', '5615', '795', '50', '2'), ('Apartment', 'Kruisstraat', '5612', '850', '46', '2'), ('Apartment', 'Keizersgracht', '5611', '1095', '84', '2'), ('Apartment', 'Bleekstraat', '5611', '1175', '52', '2'), ('Apartment', 'Emmasingel', '5611', '2500', '135', '3'), ('Apartment', 'Winkelcentrum', '5625', '1750', '110', '3'), ('Apartment', 'De', '5611', '1353', '91', '3'), ('Apartment', 'De', '5611', '1318', '91', '3'), ('House', 'Bolestein', '5653', '1550', '147', '5'), ('House', 'Nabucco', '5629', '1300', '100', '4'), ('Apartment', 'Jan', '5611', '1485', '90', '2'), ('Apartment', 'Jan', '5611', '1350', '90', '3'), ('Apartment', 'Gestelsestraat', '5615', '1250', '61', '2'), ('Apartment', 'Maalakker', '5625', '1245', '75', '3'), ('Apartment', 'Borchmolen', '5612', '1450', '100', '3'), ('Apartment', 'Pastoor', '5612', '1150', '75', '3'), ('Apartment', 'Schootsestraat', '5616', '850', '45', '2'), ('House', 'Nieuwe', '5612', '1150', '65', '3'), ('Apartment', 'Heezerweg', '5614', '1150', '83', '2'), ('Apartment', 'Pastoor', '5622', '695', '56', '2'), ('Apartment', 'Franz', '5654', '1075', '35', '2'), ('Apartment', 'Bredalaan', '5652', '1495', '75', '3'), ('Apartment', 'Cornelis', '5654', '720', '25', '1'), ('Apartment', 'Philitelaan', '5617', '1900', '135', '5'), ('House', 'Frans', '5613', '1295', '85', '3'), ('House', 'Vrijkensven', '5646', '1090', '121', '5'), ('House', 'Vrijkensven', '5646', '1200', '130', '5'), ('Apartment', 'Lichtstraat', '5611', '1308', '103', '3'), ('Apartment', 'Lichtstraat', '5611', '1278', '105', '3'), ('Apartment', 'Lichtstraat', '5611', '1233', '93', '3'), ('Apartment', 'Gagelboschplein', '5654', '1070', '100', '3'), ('House', 'Nicolaas', '5615', '1875', '115', '5'), ('Apartment', 'Strijpsestraat', '5616', '975', '65', '3'), ('House', 'Grote', '5632', '1290', '115', '4'), ('Room', 'Sebastiaan', '5622', '475', '14', '1'), ('House', 'van', '5612', '1500', '108', '5'), ('Room', 'Aalsterweg', '5615', '360', '16', '1'), ('House', 'Landgraaf', '5658', '1350', '113', '5'), ('Apartment', 'Leenderweg', '5614', '1095', '60', '3'), ('Apartment', 'Normandielaan', '5627', '800', '40', '1'), ('Apartment', 'Nederlandplein', '5628', '1200', '90', '4'), ('House', 'Samuel', '5654', '1200', '95', '4'), ('Apartment', 'Franz', '5654', '1025', '35', '1'), ('Apartment', 'Strijpsestraat', '5616', '900', '35', '1'), ('Apartment', 'Peperstraat', '5612', '710', '20', '1'), ('Apartment', 'Hermanus', '5611', '675', '20', '1'), ('Apartment', 'Genovevalaan', '5625', '1050', '54', '2'), ('Apartment', 'St', '5611', '1250', '75', '3'), ('House', 'Primulastraat', '5644', '2250', '162', '7')]\n"
          ],
          "name": "stdout"
        }
      ]
    },
    {
      "cell_type": "markdown",
      "metadata": {
        "id": "f1y3SXaLKUTy"
      },
      "source": [
        "'FriendlyHousing' - creating the dataframe"
      ]
    },
    {
      "cell_type": "code",
      "metadata": {
        "colab": {
          "base_uri": "https://localhost:8080/",
          "height": 415
        },
        "id": "gf801ahMFPOM",
        "outputId": "e685ea20-a7f5-4d29-d7ed-b3b23af27a1f"
      },
      "source": [
        "dataframe = pd.DataFrame(catalog)\n",
        "dataframe.columns=['TYPE', 'STREET NAME', 'POSTCODE', 'PRICE'] \n",
        "dataframe "
      ],
      "execution_count": 74,
      "outputs": [
        {
          "output_type": "execute_result",
          "data": {
            "text/html": [
              "<div>\n",
              "<style scoped>\n",
              "    .dataframe tbody tr th:only-of-type {\n",
              "        vertical-align: middle;\n",
              "    }\n",
              "\n",
              "    .dataframe tbody tr th {\n",
              "        vertical-align: top;\n",
              "    }\n",
              "\n",
              "    .dataframe thead th {\n",
              "        text-align: right;\n",
              "    }\n",
              "</style>\n",
              "<table border=\"1\" class=\"dataframe\">\n",
              "  <thead>\n",
              "    <tr style=\"text-align: right;\">\n",
              "      <th></th>\n",
              "      <th>TYPE</th>\n",
              "      <th>STREET NAME</th>\n",
              "      <th>POSTCODE</th>\n",
              "      <th>PRICE</th>\n",
              "    </tr>\n",
              "  </thead>\n",
              "  <tbody>\n",
              "    <tr>\n",
              "      <th>0</th>\n",
              "      <td>Kamer</td>\n",
              "      <td>Julianastraat</td>\n",
              "      <td>5611</td>\n",
              "      <td>375</td>\n",
              "    </tr>\n",
              "    <tr>\n",
              "      <th>1</th>\n",
              "      <td>Kamer</td>\n",
              "      <td>Bennekelstraat</td>\n",
              "      <td>5654</td>\n",
              "      <td>430</td>\n",
              "    </tr>\n",
              "    <tr>\n",
              "      <th>2</th>\n",
              "      <td>Kamer</td>\n",
              "      <td>Leenderweg</td>\n",
              "      <td>5615</td>\n",
              "      <td>415</td>\n",
              "    </tr>\n",
              "    <tr>\n",
              "      <th>3</th>\n",
              "      <td>Kamer</td>\n",
              "      <td>Bennekelstraat</td>\n",
              "      <td>5654</td>\n",
              "      <td>315</td>\n",
              "    </tr>\n",
              "    <tr>\n",
              "      <th>4</th>\n",
              "      <td>Kamer</td>\n",
              "      <td>Willem</td>\n",
              "      <td>5611</td>\n",
              "      <td>320</td>\n",
              "    </tr>\n",
              "    <tr>\n",
              "      <th>...</th>\n",
              "      <td>...</td>\n",
              "      <td>...</td>\n",
              "      <td>...</td>\n",
              "      <td>...</td>\n",
              "    </tr>\n",
              "    <tr>\n",
              "      <th>118</th>\n",
              "      <td>Appartement</td>\n",
              "      <td>Frankrijkstraat</td>\n",
              "      <td>5622</td>\n",
              "      <td>925</td>\n",
              "    </tr>\n",
              "    <tr>\n",
              "      <th>119</th>\n",
              "      <td>Appartement</td>\n",
              "      <td>Kerkakkerstraat</td>\n",
              "      <td>5616</td>\n",
              "      <td>950</td>\n",
              "    </tr>\n",
              "    <tr>\n",
              "      <th>120</th>\n",
              "      <td>Appartement</td>\n",
              "      <td>Leenderweg</td>\n",
              "      <td>5614</td>\n",
              "      <td>800</td>\n",
              "    </tr>\n",
              "    <tr>\n",
              "      <th>121</th>\n",
              "      <td>Appartement</td>\n",
              "      <td>Leostraat</td>\n",
              "      <td>5615</td>\n",
              "      <td>775</td>\n",
              "    </tr>\n",
              "    <tr>\n",
              "      <th>122</th>\n",
              "      <td>Appartement</td>\n",
              "      <td>Stratumsedijk</td>\n",
              "      <td>5614</td>\n",
              "      <td>1075</td>\n",
              "    </tr>\n",
              "  </tbody>\n",
              "</table>\n",
              "<p>123 rows × 4 columns</p>\n",
              "</div>"
            ],
            "text/plain": [
              "            TYPE      STREET NAME POSTCODE PRICE\n",
              "0          Kamer    Julianastraat     5611   375\n",
              "1          Kamer   Bennekelstraat     5654   430\n",
              "2          Kamer       Leenderweg     5615   415\n",
              "3          Kamer   Bennekelstraat     5654   315\n",
              "4          Kamer           Willem     5611   320\n",
              "..           ...              ...      ...   ...\n",
              "118  Appartement  Frankrijkstraat     5622   925\n",
              "119  Appartement  Kerkakkerstraat     5616   950\n",
              "120  Appartement       Leenderweg     5614   800\n",
              "121  Appartement        Leostraat     5615   775\n",
              "122  Appartement    Stratumsedijk     5614  1075\n",
              "\n",
              "[123 rows x 4 columns]"
            ]
          },
          "metadata": {
            "tags": []
          },
          "execution_count": 74
        }
      ]
    },
    {
      "cell_type": "markdown",
      "metadata": {
        "id": "dK0MGNHfKZsI"
      },
      "source": [
        "'Pararius'- creating the dataframe"
      ]
    },
    {
      "cell_type": "code",
      "metadata": {
        "colab": {
          "base_uri": "https://localhost:8080/",
          "height": 415
        },
        "id": "tYe6YPLlS-hB",
        "outputId": "8affd137-5efc-47f5-8921-eadf963f4e71"
      },
      "source": [
        "df_ = pd.DataFrame(catalog_p)\n",
        "df_.columns=['TYPE', 'STREET NAME', 'POSTCODE', 'PRICE','LIVING_AREA', 'ROOMS'] \n",
        "df_ "
      ],
      "execution_count": 75,
      "outputs": [
        {
          "output_type": "execute_result",
          "data": {
            "text/html": [
              "<div>\n",
              "<style scoped>\n",
              "    .dataframe tbody tr th:only-of-type {\n",
              "        vertical-align: middle;\n",
              "    }\n",
              "\n",
              "    .dataframe tbody tr th {\n",
              "        vertical-align: top;\n",
              "    }\n",
              "\n",
              "    .dataframe thead th {\n",
              "        text-align: right;\n",
              "    }\n",
              "</style>\n",
              "<table border=\"1\" class=\"dataframe\">\n",
              "  <thead>\n",
              "    <tr style=\"text-align: right;\">\n",
              "      <th></th>\n",
              "      <th>TYPE</th>\n",
              "      <th>STREET NAME</th>\n",
              "      <th>POSTCODE</th>\n",
              "      <th>PRICE</th>\n",
              "      <th>LIVING_AREA</th>\n",
              "      <th>ROOMS</th>\n",
              "    </tr>\n",
              "  </thead>\n",
              "  <tbody>\n",
              "    <tr>\n",
              "      <th>0</th>\n",
              "      <td>House</td>\n",
              "      <td>Nieuwe</td>\n",
              "      <td>5612</td>\n",
              "      <td>1150</td>\n",
              "      <td>65</td>\n",
              "      <td>3</td>\n",
              "    </tr>\n",
              "    <tr>\n",
              "      <th>1</th>\n",
              "      <td>Apartment</td>\n",
              "      <td>Nicolaas</td>\n",
              "      <td>5615</td>\n",
              "      <td>1150</td>\n",
              "      <td>72</td>\n",
              "      <td>3</td>\n",
              "    </tr>\n",
              "    <tr>\n",
              "      <th>2</th>\n",
              "      <td>Apartment</td>\n",
              "      <td>Aalsterweg</td>\n",
              "      <td>5615</td>\n",
              "      <td>795</td>\n",
              "      <td>45</td>\n",
              "      <td>2</td>\n",
              "    </tr>\n",
              "    <tr>\n",
              "      <th>3</th>\n",
              "      <td>House</td>\n",
              "      <td>Jacob</td>\n",
              "      <td>5611</td>\n",
              "      <td>4500</td>\n",
              "      <td>169</td>\n",
              "      <td>7</td>\n",
              "    </tr>\n",
              "    <tr>\n",
              "      <th>4</th>\n",
              "      <td>Room</td>\n",
              "      <td>Eckartseweg</td>\n",
              "      <td>5623</td>\n",
              "      <td>360</td>\n",
              "      <td>10</td>\n",
              "      <td>1</td>\n",
              "    </tr>\n",
              "    <tr>\n",
              "      <th>...</th>\n",
              "      <td>...</td>\n",
              "      <td>...</td>\n",
              "      <td>...</td>\n",
              "      <td>...</td>\n",
              "      <td>...</td>\n",
              "      <td>...</td>\n",
              "    </tr>\n",
              "    <tr>\n",
              "      <th>91</th>\n",
              "      <td>Apartment</td>\n",
              "      <td>Peperstraat</td>\n",
              "      <td>5612</td>\n",
              "      <td>710</td>\n",
              "      <td>20</td>\n",
              "      <td>1</td>\n",
              "    </tr>\n",
              "    <tr>\n",
              "      <th>92</th>\n",
              "      <td>Apartment</td>\n",
              "      <td>Hermanus</td>\n",
              "      <td>5611</td>\n",
              "      <td>675</td>\n",
              "      <td>20</td>\n",
              "      <td>1</td>\n",
              "    </tr>\n",
              "    <tr>\n",
              "      <th>93</th>\n",
              "      <td>Apartment</td>\n",
              "      <td>Genovevalaan</td>\n",
              "      <td>5625</td>\n",
              "      <td>1050</td>\n",
              "      <td>54</td>\n",
              "      <td>2</td>\n",
              "    </tr>\n",
              "    <tr>\n",
              "      <th>94</th>\n",
              "      <td>Apartment</td>\n",
              "      <td>St</td>\n",
              "      <td>5611</td>\n",
              "      <td>1250</td>\n",
              "      <td>75</td>\n",
              "      <td>3</td>\n",
              "    </tr>\n",
              "    <tr>\n",
              "      <th>95</th>\n",
              "      <td>House</td>\n",
              "      <td>Primulastraat</td>\n",
              "      <td>5644</td>\n",
              "      <td>2250</td>\n",
              "      <td>162</td>\n",
              "      <td>7</td>\n",
              "    </tr>\n",
              "  </tbody>\n",
              "</table>\n",
              "<p>96 rows × 6 columns</p>\n",
              "</div>"
            ],
            "text/plain": [
              "         TYPE    STREET NAME POSTCODE PRICE LIVING_AREA ROOMS\n",
              "0       House         Nieuwe     5612  1150          65     3\n",
              "1   Apartment       Nicolaas     5615  1150          72     3\n",
              "2   Apartment     Aalsterweg     5615   795          45     2\n",
              "3       House          Jacob     5611  4500         169     7\n",
              "4        Room    Eckartseweg     5623   360          10     1\n",
              "..        ...            ...      ...   ...         ...   ...\n",
              "91  Apartment    Peperstraat     5612   710          20     1\n",
              "92  Apartment       Hermanus     5611   675          20     1\n",
              "93  Apartment   Genovevalaan     5625  1050          54     2\n",
              "94  Apartment             St     5611  1250          75     3\n",
              "95      House  Primulastraat     5644  2250         162     7\n",
              "\n",
              "[96 rows x 6 columns]"
            ]
          },
          "metadata": {
            "tags": []
          },
          "execution_count": 75
        }
      ]
    },
    {
      "cell_type": "markdown",
      "metadata": {
        "id": "7BfHwW4rjw08"
      },
      "source": [
        "# **Data integration**\n",
        "\n",
        "\n",
        "\n",
        "> Using concat to create a `Union` between the two datasets and then, integrate them into one dataset.\n",
        "\n"
      ]
    },
    {
      "cell_type": "code",
      "metadata": {
        "id": "J5xbuFDihnXc"
      },
      "source": [
        "frames = [dataframe, df_]"
      ],
      "execution_count": 76,
      "outputs": []
    },
    {
      "cell_type": "code",
      "metadata": {
        "colab": {
          "base_uri": "https://localhost:8080/",
          "height": 415
        },
        "id": "UfyranQchpAu",
        "outputId": "cdb5fe00-2526-4c86-a1e8-788c3576e7d4"
      },
      "source": [
        "df = pd.concat(frames)\n",
        "df"
      ],
      "execution_count": 77,
      "outputs": [
        {
          "output_type": "execute_result",
          "data": {
            "text/html": [
              "<div>\n",
              "<style scoped>\n",
              "    .dataframe tbody tr th:only-of-type {\n",
              "        vertical-align: middle;\n",
              "    }\n",
              "\n",
              "    .dataframe tbody tr th {\n",
              "        vertical-align: top;\n",
              "    }\n",
              "\n",
              "    .dataframe thead th {\n",
              "        text-align: right;\n",
              "    }\n",
              "</style>\n",
              "<table border=\"1\" class=\"dataframe\">\n",
              "  <thead>\n",
              "    <tr style=\"text-align: right;\">\n",
              "      <th></th>\n",
              "      <th>TYPE</th>\n",
              "      <th>STREET NAME</th>\n",
              "      <th>POSTCODE</th>\n",
              "      <th>PRICE</th>\n",
              "      <th>LIVING_AREA</th>\n",
              "      <th>ROOMS</th>\n",
              "    </tr>\n",
              "  </thead>\n",
              "  <tbody>\n",
              "    <tr>\n",
              "      <th>0</th>\n",
              "      <td>Kamer</td>\n",
              "      <td>Julianastraat</td>\n",
              "      <td>5611</td>\n",
              "      <td>375</td>\n",
              "      <td>NaN</td>\n",
              "      <td>NaN</td>\n",
              "    </tr>\n",
              "    <tr>\n",
              "      <th>1</th>\n",
              "      <td>Kamer</td>\n",
              "      <td>Bennekelstraat</td>\n",
              "      <td>5654</td>\n",
              "      <td>430</td>\n",
              "      <td>NaN</td>\n",
              "      <td>NaN</td>\n",
              "    </tr>\n",
              "    <tr>\n",
              "      <th>2</th>\n",
              "      <td>Kamer</td>\n",
              "      <td>Leenderweg</td>\n",
              "      <td>5615</td>\n",
              "      <td>415</td>\n",
              "      <td>NaN</td>\n",
              "      <td>NaN</td>\n",
              "    </tr>\n",
              "    <tr>\n",
              "      <th>3</th>\n",
              "      <td>Kamer</td>\n",
              "      <td>Bennekelstraat</td>\n",
              "      <td>5654</td>\n",
              "      <td>315</td>\n",
              "      <td>NaN</td>\n",
              "      <td>NaN</td>\n",
              "    </tr>\n",
              "    <tr>\n",
              "      <th>4</th>\n",
              "      <td>Kamer</td>\n",
              "      <td>Willem</td>\n",
              "      <td>5611</td>\n",
              "      <td>320</td>\n",
              "      <td>NaN</td>\n",
              "      <td>NaN</td>\n",
              "    </tr>\n",
              "    <tr>\n",
              "      <th>...</th>\n",
              "      <td>...</td>\n",
              "      <td>...</td>\n",
              "      <td>...</td>\n",
              "      <td>...</td>\n",
              "      <td>...</td>\n",
              "      <td>...</td>\n",
              "    </tr>\n",
              "    <tr>\n",
              "      <th>91</th>\n",
              "      <td>Apartment</td>\n",
              "      <td>Peperstraat</td>\n",
              "      <td>5612</td>\n",
              "      <td>710</td>\n",
              "      <td>20</td>\n",
              "      <td>1</td>\n",
              "    </tr>\n",
              "    <tr>\n",
              "      <th>92</th>\n",
              "      <td>Apartment</td>\n",
              "      <td>Hermanus</td>\n",
              "      <td>5611</td>\n",
              "      <td>675</td>\n",
              "      <td>20</td>\n",
              "      <td>1</td>\n",
              "    </tr>\n",
              "    <tr>\n",
              "      <th>93</th>\n",
              "      <td>Apartment</td>\n",
              "      <td>Genovevalaan</td>\n",
              "      <td>5625</td>\n",
              "      <td>1050</td>\n",
              "      <td>54</td>\n",
              "      <td>2</td>\n",
              "    </tr>\n",
              "    <tr>\n",
              "      <th>94</th>\n",
              "      <td>Apartment</td>\n",
              "      <td>St</td>\n",
              "      <td>5611</td>\n",
              "      <td>1250</td>\n",
              "      <td>75</td>\n",
              "      <td>3</td>\n",
              "    </tr>\n",
              "    <tr>\n",
              "      <th>95</th>\n",
              "      <td>House</td>\n",
              "      <td>Primulastraat</td>\n",
              "      <td>5644</td>\n",
              "      <td>2250</td>\n",
              "      <td>162</td>\n",
              "      <td>7</td>\n",
              "    </tr>\n",
              "  </tbody>\n",
              "</table>\n",
              "<p>219 rows × 6 columns</p>\n",
              "</div>"
            ],
            "text/plain": [
              "         TYPE     STREET NAME POSTCODE PRICE LIVING_AREA ROOMS\n",
              "0       Kamer   Julianastraat     5611   375         NaN   NaN\n",
              "1       Kamer  Bennekelstraat     5654   430         NaN   NaN\n",
              "2       Kamer      Leenderweg     5615   415         NaN   NaN\n",
              "3       Kamer  Bennekelstraat     5654   315         NaN   NaN\n",
              "4       Kamer          Willem     5611   320         NaN   NaN\n",
              "..        ...             ...      ...   ...         ...   ...\n",
              "91  Apartment     Peperstraat     5612   710          20     1\n",
              "92  Apartment        Hermanus     5611   675          20     1\n",
              "93  Apartment    Genovevalaan     5625  1050          54     2\n",
              "94  Apartment              St     5611  1250          75     3\n",
              "95      House   Primulastraat     5644  2250         162     7\n",
              "\n",
              "[219 rows x 6 columns]"
            ]
          },
          "metadata": {
            "tags": []
          },
          "execution_count": 77
        }
      ]
    },
    {
      "cell_type": "markdown",
      "metadata": {
        "id": "TS21WNy8ioVI"
      },
      "source": [
        "# **Data analysis**"
      ]
    },
    {
      "cell_type": "markdown",
      "metadata": {
        "id": "aH3W-fA8Vzgq"
      },
      "source": [
        "\n",
        "\n",
        "Checking the dimension of the dataset and the features.\n",
        "\n",
        "\n",
        "\n"
      ]
    },
    {
      "cell_type": "code",
      "metadata": {
        "colab": {
          "base_uri": "https://localhost:8080/"
        },
        "id": "27Yg9C7Xpekl",
        "outputId": "8c4be45f-3547-4cd4-a6d5-4036dc11bfe1"
      },
      "source": [
        "# Check the dimension of the dataset\n",
        "df.shape"
      ],
      "execution_count": 78,
      "outputs": [
        {
          "output_type": "execute_result",
          "data": {
            "text/plain": [
              "(219, 6)"
            ]
          },
          "metadata": {
            "tags": []
          },
          "execution_count": 78
        }
      ]
    },
    {
      "cell_type": "markdown",
      "metadata": {
        "id": "4jX5Gvkoz-2f"
      },
      "source": [
        ">The dataset has 219 observations and 6 features, but the observations(rows) will change with time because the data is scraped and this means it is up to date. Whenever there is a change on the websites, there is a change in the dataset.\n"
      ]
    },
    {
      "cell_type": "code",
      "metadata": {
        "colab": {
          "base_uri": "https://localhost:8080/"
        },
        "id": "58aE1NgaL2mB",
        "outputId": "f926a3bd-f8d9-45f7-e343-1606c4d4a503"
      },
      "source": [
        "df.info()"
      ],
      "execution_count": 79,
      "outputs": [
        {
          "output_type": "stream",
          "text": [
            "<class 'pandas.core.frame.DataFrame'>\n",
            "Int64Index: 219 entries, 0 to 95\n",
            "Data columns (total 6 columns):\n",
            " #   Column       Non-Null Count  Dtype \n",
            "---  ------       --------------  ----- \n",
            " 0   TYPE         219 non-null    object\n",
            " 1   STREET NAME  219 non-null    object\n",
            " 2   POSTCODE     219 non-null    object\n",
            " 3   PRICE        219 non-null    object\n",
            " 4   LIVING_AREA  96 non-null     object\n",
            " 5   ROOMS        96 non-null     object\n",
            "dtypes: object(6)\n",
            "memory usage: 12.0+ KB\n"
          ],
          "name": "stdout"
        }
      ]
    },
    {
      "cell_type": "markdown",
      "metadata": {
        "id": "6gYS7U_Fxybm"
      },
      "source": [
        ">It can be seen that none features are numeric, but objects. Later, they will have to be converted into either float or int in order to be plotted and then used for the trainig of the models. There are also missing values in the dataset."
      ]
    },
    {
      "cell_type": "markdown",
      "metadata": {
        "id": "rC_WI0-xVGEX"
      },
      "source": [
        "There are missing values in the dataset, which appeared after the data integration of the two datasets. This will be fixed later before the training of the models."
      ]
    },
    {
      "cell_type": "code",
      "metadata": {
        "colab": {
          "base_uri": "https://localhost:8080/"
        },
        "id": "cQKZ65_XMHzt",
        "outputId": "2ece3cac-f716-43b1-e423-08f56648afa5"
      },
      "source": [
        "df.isnull().sum()"
      ],
      "execution_count": 80,
      "outputs": [
        {
          "output_type": "execute_result",
          "data": {
            "text/plain": [
              "TYPE             0\n",
              "STREET NAME      0\n",
              "POSTCODE         0\n",
              "PRICE            0\n",
              "LIVING_AREA    123\n",
              "ROOMS          123\n",
              "dtype: int64"
            ]
          },
          "metadata": {
            "tags": []
          },
          "execution_count": 80
        }
      ]
    },
    {
      "cell_type": "code",
      "metadata": {
        "colab": {
          "base_uri": "https://localhost:8080/",
          "height": 81
        },
        "id": "2HyNyYJ-VFrZ",
        "outputId": "9aeea8ca-7529-4120-d05b-5ccbfd7499b8"
      },
      "source": [
        "# Find columns with missing values and their percent missing\n",
        "df.isnull().sum()                                                     \n",
        "miss_val = df.isnull().sum().sort_values(ascending=False)\n",
        "miss_val = pd.DataFrame(data=df.isnull().sum().sort_values(ascending=False), columns=['MissvalCount'])\n",
        "\n",
        "# Add a new column to the dataframe and fill it with the percentage of missing values\n",
        "miss_val['Percent'] = miss_val.MissvalCount.apply(lambda x : '{:.2f}'.format(float(x)/df.shape[0] * 100)) \n",
        "miss_val = miss_val[miss_val.MissvalCount > 0].style.background_gradient(cmap='Reds')\n",
        "miss_val"
      ],
      "execution_count": 81,
      "outputs": [
        {
          "output_type": "execute_result",
          "data": {
            "text/html": [
              "<style  type=\"text/css\" >\n",
              "#T_42fd1c52_9916_11eb_be88_0242ac1c0002row0_col0,#T_42fd1c52_9916_11eb_be88_0242ac1c0002row1_col0{\n",
              "            background-color:  #fff5f0;\n",
              "            color:  #000000;\n",
              "        }</style><table id=\"T_42fd1c52_9916_11eb_be88_0242ac1c0002\" ><thead>    <tr>        <th class=\"blank level0\" ></th>        <th class=\"col_heading level0 col0\" >MissvalCount</th>        <th class=\"col_heading level0 col1\" >Percent</th>    </tr></thead><tbody>\n",
              "                <tr>\n",
              "                        <th id=\"T_42fd1c52_9916_11eb_be88_0242ac1c0002level0_row0\" class=\"row_heading level0 row0\" >ROOMS</th>\n",
              "                        <td id=\"T_42fd1c52_9916_11eb_be88_0242ac1c0002row0_col0\" class=\"data row0 col0\" >123</td>\n",
              "                        <td id=\"T_42fd1c52_9916_11eb_be88_0242ac1c0002row0_col1\" class=\"data row0 col1\" >56.16</td>\n",
              "            </tr>\n",
              "            <tr>\n",
              "                        <th id=\"T_42fd1c52_9916_11eb_be88_0242ac1c0002level0_row1\" class=\"row_heading level0 row1\" >LIVING_AREA</th>\n",
              "                        <td id=\"T_42fd1c52_9916_11eb_be88_0242ac1c0002row1_col0\" class=\"data row1 col0\" >123</td>\n",
              "                        <td id=\"T_42fd1c52_9916_11eb_be88_0242ac1c0002row1_col1\" class=\"data row1 col1\" >56.16</td>\n",
              "            </tr>\n",
              "    </tbody></table>"
            ],
            "text/plain": [
              "<pandas.io.formats.style.Styler at 0x7f5bbeb55090>"
            ]
          },
          "metadata": {
            "tags": []
          },
          "execution_count": 81
        }
      ]
    },
    {
      "cell_type": "markdown",
      "metadata": {
        "id": "gUIM0jdHyawG"
      },
      "source": [
        ">The light red color shows the small amount of NaN values. If the features were with a high percent of missing values, they would have to be removed. Yet, in this case, they have relatively low percentage so they can be used in future. Then, the NaN values will be replaced."
      ]
    },
    {
      "cell_type": "code",
      "metadata": {
        "colab": {
          "base_uri": "https://localhost:8080/",
          "height": 171
        },
        "id": "zoWWB8aeL5LR",
        "outputId": "4bec5add-ca44-43f9-b2a5-e6d1fec2e77c"
      },
      "source": [
        "#Description of the dataset\n",
        "df.describe()"
      ],
      "execution_count": 82,
      "outputs": [
        {
          "output_type": "execute_result",
          "data": {
            "text/html": [
              "<div>\n",
              "<style scoped>\n",
              "    .dataframe tbody tr th:only-of-type {\n",
              "        vertical-align: middle;\n",
              "    }\n",
              "\n",
              "    .dataframe tbody tr th {\n",
              "        vertical-align: top;\n",
              "    }\n",
              "\n",
              "    .dataframe thead th {\n",
              "        text-align: right;\n",
              "    }\n",
              "</style>\n",
              "<table border=\"1\" class=\"dataframe\">\n",
              "  <thead>\n",
              "    <tr style=\"text-align: right;\">\n",
              "      <th></th>\n",
              "      <th>TYPE</th>\n",
              "      <th>STREET NAME</th>\n",
              "      <th>POSTCODE</th>\n",
              "      <th>PRICE</th>\n",
              "      <th>LIVING_AREA</th>\n",
              "      <th>ROOMS</th>\n",
              "    </tr>\n",
              "  </thead>\n",
              "  <tbody>\n",
              "    <tr>\n",
              "      <th>count</th>\n",
              "      <td>219</td>\n",
              "      <td>219</td>\n",
              "      <td>219</td>\n",
              "      <td>219</td>\n",
              "      <td>96</td>\n",
              "      <td>96</td>\n",
              "    </tr>\n",
              "    <tr>\n",
              "      <th>unique</th>\n",
              "      <td>6</td>\n",
              "      <td>109</td>\n",
              "      <td>27</td>\n",
              "      <td>122</td>\n",
              "      <td>54</td>\n",
              "      <td>6</td>\n",
              "    </tr>\n",
              "    <tr>\n",
              "      <th>top</th>\n",
              "      <td>Apartment</td>\n",
              "      <td>Leenderweg</td>\n",
              "      <td>5611</td>\n",
              "      <td>415</td>\n",
              "      <td>100</td>\n",
              "      <td>2</td>\n",
              "    </tr>\n",
              "    <tr>\n",
              "      <th>freq</th>\n",
              "      <td>71</td>\n",
              "      <td>11</td>\n",
              "      <td>45</td>\n",
              "      <td>15</td>\n",
              "      <td>5</td>\n",
              "      <td>29</td>\n",
              "    </tr>\n",
              "  </tbody>\n",
              "</table>\n",
              "</div>"
            ],
            "text/plain": [
              "             TYPE STREET NAME POSTCODE PRICE LIVING_AREA ROOMS\n",
              "count         219         219      219   219          96    96\n",
              "unique          6         109       27   122          54     6\n",
              "top     Apartment  Leenderweg     5611   415         100     2\n",
              "freq           71          11       45    15           5    29"
            ]
          },
          "metadata": {
            "tags": []
          },
          "execution_count": 82
        }
      ]
    },
    {
      "cell_type": "code",
      "metadata": {
        "colab": {
          "base_uri": "https://localhost:8080/",
          "height": 202
        },
        "id": "uAQLjA0JL6rp",
        "outputId": "de9e30a9-e46c-4809-8591-e309014bf16b"
      },
      "source": [
        "#First 5 rows of our dataset\n",
        "df.head()"
      ],
      "execution_count": 83,
      "outputs": [
        {
          "output_type": "execute_result",
          "data": {
            "text/html": [
              "<div>\n",
              "<style scoped>\n",
              "    .dataframe tbody tr th:only-of-type {\n",
              "        vertical-align: middle;\n",
              "    }\n",
              "\n",
              "    .dataframe tbody tr th {\n",
              "        vertical-align: top;\n",
              "    }\n",
              "\n",
              "    .dataframe thead th {\n",
              "        text-align: right;\n",
              "    }\n",
              "</style>\n",
              "<table border=\"1\" class=\"dataframe\">\n",
              "  <thead>\n",
              "    <tr style=\"text-align: right;\">\n",
              "      <th></th>\n",
              "      <th>TYPE</th>\n",
              "      <th>STREET NAME</th>\n",
              "      <th>POSTCODE</th>\n",
              "      <th>PRICE</th>\n",
              "      <th>LIVING_AREA</th>\n",
              "      <th>ROOMS</th>\n",
              "    </tr>\n",
              "  </thead>\n",
              "  <tbody>\n",
              "    <tr>\n",
              "      <th>0</th>\n",
              "      <td>Kamer</td>\n",
              "      <td>Julianastraat</td>\n",
              "      <td>5611</td>\n",
              "      <td>375</td>\n",
              "      <td>NaN</td>\n",
              "      <td>NaN</td>\n",
              "    </tr>\n",
              "    <tr>\n",
              "      <th>1</th>\n",
              "      <td>Kamer</td>\n",
              "      <td>Bennekelstraat</td>\n",
              "      <td>5654</td>\n",
              "      <td>430</td>\n",
              "      <td>NaN</td>\n",
              "      <td>NaN</td>\n",
              "    </tr>\n",
              "    <tr>\n",
              "      <th>2</th>\n",
              "      <td>Kamer</td>\n",
              "      <td>Leenderweg</td>\n",
              "      <td>5615</td>\n",
              "      <td>415</td>\n",
              "      <td>NaN</td>\n",
              "      <td>NaN</td>\n",
              "    </tr>\n",
              "    <tr>\n",
              "      <th>3</th>\n",
              "      <td>Kamer</td>\n",
              "      <td>Bennekelstraat</td>\n",
              "      <td>5654</td>\n",
              "      <td>315</td>\n",
              "      <td>NaN</td>\n",
              "      <td>NaN</td>\n",
              "    </tr>\n",
              "    <tr>\n",
              "      <th>4</th>\n",
              "      <td>Kamer</td>\n",
              "      <td>Willem</td>\n",
              "      <td>5611</td>\n",
              "      <td>320</td>\n",
              "      <td>NaN</td>\n",
              "      <td>NaN</td>\n",
              "    </tr>\n",
              "  </tbody>\n",
              "</table>\n",
              "</div>"
            ],
            "text/plain": [
              "    TYPE     STREET NAME POSTCODE PRICE LIVING_AREA ROOMS\n",
              "0  Kamer   Julianastraat     5611   375         NaN   NaN\n",
              "1  Kamer  Bennekelstraat     5654   430         NaN   NaN\n",
              "2  Kamer      Leenderweg     5615   415         NaN   NaN\n",
              "3  Kamer  Bennekelstraat     5654   315         NaN   NaN\n",
              "4  Kamer          Willem     5611   320         NaN   NaN"
            ]
          },
          "metadata": {
            "tags": []
          },
          "execution_count": 83
        }
      ]
    },
    {
      "cell_type": "code",
      "metadata": {
        "colab": {
          "base_uri": "https://localhost:8080/",
          "height": 202
        },
        "id": "eDLlCPA_L8b4",
        "outputId": "df64ccd1-76d0-4fea-e87f-1418ae1e1219"
      },
      "source": [
        "#Last 5 rows of our dataset\n",
        "df.tail()"
      ],
      "execution_count": 84,
      "outputs": [
        {
          "output_type": "execute_result",
          "data": {
            "text/html": [
              "<div>\n",
              "<style scoped>\n",
              "    .dataframe tbody tr th:only-of-type {\n",
              "        vertical-align: middle;\n",
              "    }\n",
              "\n",
              "    .dataframe tbody tr th {\n",
              "        vertical-align: top;\n",
              "    }\n",
              "\n",
              "    .dataframe thead th {\n",
              "        text-align: right;\n",
              "    }\n",
              "</style>\n",
              "<table border=\"1\" class=\"dataframe\">\n",
              "  <thead>\n",
              "    <tr style=\"text-align: right;\">\n",
              "      <th></th>\n",
              "      <th>TYPE</th>\n",
              "      <th>STREET NAME</th>\n",
              "      <th>POSTCODE</th>\n",
              "      <th>PRICE</th>\n",
              "      <th>LIVING_AREA</th>\n",
              "      <th>ROOMS</th>\n",
              "    </tr>\n",
              "  </thead>\n",
              "  <tbody>\n",
              "    <tr>\n",
              "      <th>91</th>\n",
              "      <td>Apartment</td>\n",
              "      <td>Peperstraat</td>\n",
              "      <td>5612</td>\n",
              "      <td>710</td>\n",
              "      <td>20</td>\n",
              "      <td>1</td>\n",
              "    </tr>\n",
              "    <tr>\n",
              "      <th>92</th>\n",
              "      <td>Apartment</td>\n",
              "      <td>Hermanus</td>\n",
              "      <td>5611</td>\n",
              "      <td>675</td>\n",
              "      <td>20</td>\n",
              "      <td>1</td>\n",
              "    </tr>\n",
              "    <tr>\n",
              "      <th>93</th>\n",
              "      <td>Apartment</td>\n",
              "      <td>Genovevalaan</td>\n",
              "      <td>5625</td>\n",
              "      <td>1050</td>\n",
              "      <td>54</td>\n",
              "      <td>2</td>\n",
              "    </tr>\n",
              "    <tr>\n",
              "      <th>94</th>\n",
              "      <td>Apartment</td>\n",
              "      <td>St</td>\n",
              "      <td>5611</td>\n",
              "      <td>1250</td>\n",
              "      <td>75</td>\n",
              "      <td>3</td>\n",
              "    </tr>\n",
              "    <tr>\n",
              "      <th>95</th>\n",
              "      <td>House</td>\n",
              "      <td>Primulastraat</td>\n",
              "      <td>5644</td>\n",
              "      <td>2250</td>\n",
              "      <td>162</td>\n",
              "      <td>7</td>\n",
              "    </tr>\n",
              "  </tbody>\n",
              "</table>\n",
              "</div>"
            ],
            "text/plain": [
              "         TYPE    STREET NAME POSTCODE PRICE LIVING_AREA ROOMS\n",
              "91  Apartment    Peperstraat     5612   710          20     1\n",
              "92  Apartment       Hermanus     5611   675          20     1\n",
              "93  Apartment   Genovevalaan     5625  1050          54     2\n",
              "94  Apartment             St     5611  1250          75     3\n",
              "95      House  Primulastraat     5644  2250         162     7"
            ]
          },
          "metadata": {
            "tags": []
          },
          "execution_count": 84
        }
      ]
    },
    {
      "cell_type": "code",
      "metadata": {
        "colab": {
          "base_uri": "https://localhost:8080/"
        },
        "id": "ObPApD8SnCI9",
        "outputId": "0324d26d-f3d8-4080-f301-79df95266294"
      },
      "source": [
        "df['TYPE'].value_counts()"
      ],
      "execution_count": 85,
      "outputs": [
        {
          "output_type": "execute_result",
          "data": {
            "text/plain": [
              "Apartment      71\n",
              "Kamer          49\n",
              "Appartement    38\n",
              "Studio         36\n",
              "House          18\n",
              "Room            7\n",
              "Name: TYPE, dtype: int64"
            ]
          },
          "metadata": {
            "tags": []
          },
          "execution_count": 85
        }
      ]
    },
    {
      "cell_type": "code",
      "metadata": {
        "colab": {
          "base_uri": "https://localhost:8080/"
        },
        "id": "kl9c78mpMEAW",
        "outputId": "3c017480-709a-46af-ea36-e59c393c1e59"
      },
      "source": [
        "df.iloc[0]"
      ],
      "execution_count": 86,
      "outputs": [
        {
          "output_type": "execute_result",
          "data": {
            "text/plain": [
              "TYPE                   Kamer\n",
              "STREET NAME    Julianastraat\n",
              "POSTCODE                5611\n",
              "PRICE                    375\n",
              "LIVING_AREA              NaN\n",
              "ROOMS                    NaN\n",
              "Name: 0, dtype: object"
            ]
          },
          "metadata": {
            "tags": []
          },
          "execution_count": 86
        }
      ]
    },
    {
      "cell_type": "code",
      "metadata": {
        "colab": {
          "base_uri": "https://localhost:8080/",
          "height": 907
        },
        "id": "5O0fuQb0rgzQ",
        "outputId": "e1cb9562-ca61-4b6e-ba01-ef7bee86e064"
      },
      "source": [
        "df.groupby('POSTCODE').count()"
      ],
      "execution_count": 87,
      "outputs": [
        {
          "output_type": "execute_result",
          "data": {
            "text/html": [
              "<div>\n",
              "<style scoped>\n",
              "    .dataframe tbody tr th:only-of-type {\n",
              "        vertical-align: middle;\n",
              "    }\n",
              "\n",
              "    .dataframe tbody tr th {\n",
              "        vertical-align: top;\n",
              "    }\n",
              "\n",
              "    .dataframe thead th {\n",
              "        text-align: right;\n",
              "    }\n",
              "</style>\n",
              "<table border=\"1\" class=\"dataframe\">\n",
              "  <thead>\n",
              "    <tr style=\"text-align: right;\">\n",
              "      <th></th>\n",
              "      <th>TYPE</th>\n",
              "      <th>STREET NAME</th>\n",
              "      <th>PRICE</th>\n",
              "      <th>LIVING_AREA</th>\n",
              "      <th>ROOMS</th>\n",
              "    </tr>\n",
              "    <tr>\n",
              "      <th>POSTCODE</th>\n",
              "      <th></th>\n",
              "      <th></th>\n",
              "      <th></th>\n",
              "      <th></th>\n",
              "      <th></th>\n",
              "    </tr>\n",
              "  </thead>\n",
              "  <tbody>\n",
              "    <tr>\n",
              "      <th>5503</th>\n",
              "      <td>1</td>\n",
              "      <td>1</td>\n",
              "      <td>1</td>\n",
              "      <td>0</td>\n",
              "      <td>0</td>\n",
              "    </tr>\n",
              "    <tr>\n",
              "      <th>5611</th>\n",
              "      <td>45</td>\n",
              "      <td>45</td>\n",
              "      <td>45</td>\n",
              "      <td>28</td>\n",
              "      <td>28</td>\n",
              "    </tr>\n",
              "    <tr>\n",
              "      <th>5612</th>\n",
              "      <td>29</td>\n",
              "      <td>29</td>\n",
              "      <td>29</td>\n",
              "      <td>12</td>\n",
              "      <td>12</td>\n",
              "    </tr>\n",
              "    <tr>\n",
              "      <th>5613</th>\n",
              "      <td>9</td>\n",
              "      <td>9</td>\n",
              "      <td>9</td>\n",
              "      <td>4</td>\n",
              "      <td>4</td>\n",
              "    </tr>\n",
              "    <tr>\n",
              "      <th>5614</th>\n",
              "      <td>15</td>\n",
              "      <td>15</td>\n",
              "      <td>15</td>\n",
              "      <td>4</td>\n",
              "      <td>4</td>\n",
              "    </tr>\n",
              "    <tr>\n",
              "      <th>5615</th>\n",
              "      <td>16</td>\n",
              "      <td>16</td>\n",
              "      <td>16</td>\n",
              "      <td>8</td>\n",
              "      <td>8</td>\n",
              "    </tr>\n",
              "    <tr>\n",
              "      <th>5616</th>\n",
              "      <td>8</td>\n",
              "      <td>8</td>\n",
              "      <td>8</td>\n",
              "      <td>5</td>\n",
              "      <td>5</td>\n",
              "    </tr>\n",
              "    <tr>\n",
              "      <th>5617</th>\n",
              "      <td>1</td>\n",
              "      <td>1</td>\n",
              "      <td>1</td>\n",
              "      <td>1</td>\n",
              "      <td>1</td>\n",
              "    </tr>\n",
              "    <tr>\n",
              "      <th>5621</th>\n",
              "      <td>8</td>\n",
              "      <td>8</td>\n",
              "      <td>8</td>\n",
              "      <td>1</td>\n",
              "      <td>1</td>\n",
              "    </tr>\n",
              "    <tr>\n",
              "      <th>5622</th>\n",
              "      <td>8</td>\n",
              "      <td>8</td>\n",
              "      <td>8</td>\n",
              "      <td>3</td>\n",
              "      <td>3</td>\n",
              "    </tr>\n",
              "    <tr>\n",
              "      <th>5623</th>\n",
              "      <td>10</td>\n",
              "      <td>10</td>\n",
              "      <td>10</td>\n",
              "      <td>1</td>\n",
              "      <td>1</td>\n",
              "    </tr>\n",
              "    <tr>\n",
              "      <th>5624</th>\n",
              "      <td>1</td>\n",
              "      <td>1</td>\n",
              "      <td>1</td>\n",
              "      <td>0</td>\n",
              "      <td>0</td>\n",
              "    </tr>\n",
              "    <tr>\n",
              "      <th>5625</th>\n",
              "      <td>5</td>\n",
              "      <td>5</td>\n",
              "      <td>5</td>\n",
              "      <td>4</td>\n",
              "      <td>4</td>\n",
              "    </tr>\n",
              "    <tr>\n",
              "      <th>5627</th>\n",
              "      <td>1</td>\n",
              "      <td>1</td>\n",
              "      <td>1</td>\n",
              "      <td>1</td>\n",
              "      <td>1</td>\n",
              "    </tr>\n",
              "    <tr>\n",
              "      <th>5628</th>\n",
              "      <td>1</td>\n",
              "      <td>1</td>\n",
              "      <td>1</td>\n",
              "      <td>1</td>\n",
              "      <td>1</td>\n",
              "    </tr>\n",
              "    <tr>\n",
              "      <th>5629</th>\n",
              "      <td>1</td>\n",
              "      <td>1</td>\n",
              "      <td>1</td>\n",
              "      <td>1</td>\n",
              "      <td>1</td>\n",
              "    </tr>\n",
              "    <tr>\n",
              "      <th>5631</th>\n",
              "      <td>3</td>\n",
              "      <td>3</td>\n",
              "      <td>3</td>\n",
              "      <td>0</td>\n",
              "      <td>0</td>\n",
              "    </tr>\n",
              "    <tr>\n",
              "      <th>5632</th>\n",
              "      <td>1</td>\n",
              "      <td>1</td>\n",
              "      <td>1</td>\n",
              "      <td>1</td>\n",
              "      <td>1</td>\n",
              "    </tr>\n",
              "    <tr>\n",
              "      <th>5642</th>\n",
              "      <td>6</td>\n",
              "      <td>6</td>\n",
              "      <td>6</td>\n",
              "      <td>1</td>\n",
              "      <td>1</td>\n",
              "    </tr>\n",
              "    <tr>\n",
              "      <th>5643</th>\n",
              "      <td>14</td>\n",
              "      <td>14</td>\n",
              "      <td>14</td>\n",
              "      <td>2</td>\n",
              "      <td>2</td>\n",
              "    </tr>\n",
              "    <tr>\n",
              "      <th>5644</th>\n",
              "      <td>6</td>\n",
              "      <td>6</td>\n",
              "      <td>6</td>\n",
              "      <td>3</td>\n",
              "      <td>3</td>\n",
              "    </tr>\n",
              "    <tr>\n",
              "      <th>5646</th>\n",
              "      <td>2</td>\n",
              "      <td>2</td>\n",
              "      <td>2</td>\n",
              "      <td>2</td>\n",
              "      <td>2</td>\n",
              "    </tr>\n",
              "    <tr>\n",
              "      <th>5651</th>\n",
              "      <td>4</td>\n",
              "      <td>4</td>\n",
              "      <td>4</td>\n",
              "      <td>0</td>\n",
              "      <td>0</td>\n",
              "    </tr>\n",
              "    <tr>\n",
              "      <th>5652</th>\n",
              "      <td>1</td>\n",
              "      <td>1</td>\n",
              "      <td>1</td>\n",
              "      <td>1</td>\n",
              "      <td>1</td>\n",
              "    </tr>\n",
              "    <tr>\n",
              "      <th>5653</th>\n",
              "      <td>6</td>\n",
              "      <td>6</td>\n",
              "      <td>6</td>\n",
              "      <td>1</td>\n",
              "      <td>1</td>\n",
              "    </tr>\n",
              "    <tr>\n",
              "      <th>5654</th>\n",
              "      <td>15</td>\n",
              "      <td>15</td>\n",
              "      <td>15</td>\n",
              "      <td>9</td>\n",
              "      <td>9</td>\n",
              "    </tr>\n",
              "    <tr>\n",
              "      <th>5658</th>\n",
              "      <td>2</td>\n",
              "      <td>2</td>\n",
              "      <td>2</td>\n",
              "      <td>2</td>\n",
              "      <td>2</td>\n",
              "    </tr>\n",
              "  </tbody>\n",
              "</table>\n",
              "</div>"
            ],
            "text/plain": [
              "          TYPE  STREET NAME  PRICE  LIVING_AREA  ROOMS\n",
              "POSTCODE                                              \n",
              "5503         1            1      1            0      0\n",
              "5611        45           45     45           28     28\n",
              "5612        29           29     29           12     12\n",
              "5613         9            9      9            4      4\n",
              "5614        15           15     15            4      4\n",
              "5615        16           16     16            8      8\n",
              "5616         8            8      8            5      5\n",
              "5617         1            1      1            1      1\n",
              "5621         8            8      8            1      1\n",
              "5622         8            8      8            3      3\n",
              "5623        10           10     10            1      1\n",
              "5624         1            1      1            0      0\n",
              "5625         5            5      5            4      4\n",
              "5627         1            1      1            1      1\n",
              "5628         1            1      1            1      1\n",
              "5629         1            1      1            1      1\n",
              "5631         3            3      3            0      0\n",
              "5632         1            1      1            1      1\n",
              "5642         6            6      6            1      1\n",
              "5643        14           14     14            2      2\n",
              "5644         6            6      6            3      3\n",
              "5646         2            2      2            2      2\n",
              "5651         4            4      4            0      0\n",
              "5652         1            1      1            1      1\n",
              "5653         6            6      6            1      1\n",
              "5654        15           15     15            9      9\n",
              "5658         2            2      2            2      2"
            ]
          },
          "metadata": {
            "tags": []
          },
          "execution_count": 87
        }
      ]
    },
    {
      "cell_type": "code",
      "metadata": {
        "id": "rQgPsfySBmH8",
        "colab": {
          "base_uri": "https://localhost:8080/",
          "height": 391
        },
        "outputId": "52951c64-d3a9-4ca1-c7fc-716d0eed9756"
      },
      "source": [
        "df[(df['POSTCODE'] == '5612')]['STREET NAME'].value_counts().plot(kind='barh', figsize=(6, 6))"
      ],
      "execution_count": 88,
      "outputs": [
        {
          "output_type": "execute_result",
          "data": {
            "text/plain": [
              "<matplotlib.axes._subplots.AxesSubplot at 0x7f5bbebc7b90>"
            ]
          },
          "metadata": {
            "tags": []
          },
          "execution_count": 88
        },
        {
          "output_type": "display_data",
          "data": {
            "image/png": "[encoded data removed]",
            "text/plain": [
              "<Figure size 432x432 with 1 Axes>"
            ]
          },
          "metadata": {
            "tags": [],
            "needs_background": "light"
          }
        }
      ]
    },
    {
      "cell_type": "markdown",
      "metadata": {
        "id": "F2NCHpuJwSry"
      },
      "source": [
        "Sorting the data by `Type`."
      ]
    },
    {
      "cell_type": "code",
      "metadata": {
        "colab": {
          "base_uri": "https://localhost:8080/",
          "height": 415
        },
        "id": "yzPvRWQDMGDl",
        "outputId": "2e5d6ced-ed8f-4883-d89b-b88c018b0640"
      },
      "source": [
        "df.sort_values('TYPE', ascending = True)"
      ],
      "execution_count": 89,
      "outputs": [
        {
          "output_type": "execute_result",
          "data": {
            "text/html": [
              "<div>\n",
              "<style scoped>\n",
              "    .dataframe tbody tr th:only-of-type {\n",
              "        vertical-align: middle;\n",
              "    }\n",
              "\n",
              "    .dataframe tbody tr th {\n",
              "        vertical-align: top;\n",
              "    }\n",
              "\n",
              "    .dataframe thead th {\n",
              "        text-align: right;\n",
              "    }\n",
              "</style>\n",
              "<table border=\"1\" class=\"dataframe\">\n",
              "  <thead>\n",
              "    <tr style=\"text-align: right;\">\n",
              "      <th></th>\n",
              "      <th>TYPE</th>\n",
              "      <th>STREET NAME</th>\n",
              "      <th>POSTCODE</th>\n",
              "      <th>PRICE</th>\n",
              "      <th>LIVING_AREA</th>\n",
              "      <th>ROOMS</th>\n",
              "    </tr>\n",
              "  </thead>\n",
              "  <tbody>\n",
              "    <tr>\n",
              "      <th>29</th>\n",
              "      <td>Apartment</td>\n",
              "      <td>Geldropseweg</td>\n",
              "      <td>5611</td>\n",
              "      <td>645</td>\n",
              "      <td>29</td>\n",
              "      <td>1</td>\n",
              "    </tr>\n",
              "    <tr>\n",
              "      <th>30</th>\n",
              "      <td>Apartment</td>\n",
              "      <td>Geldropseweg</td>\n",
              "      <td>5611</td>\n",
              "      <td>695</td>\n",
              "      <td>29</td>\n",
              "      <td>1</td>\n",
              "    </tr>\n",
              "    <tr>\n",
              "      <th>31</th>\n",
              "      <td>Apartment</td>\n",
              "      <td>Jan</td>\n",
              "      <td>5642</td>\n",
              "      <td>435</td>\n",
              "      <td>18</td>\n",
              "      <td>1</td>\n",
              "    </tr>\n",
              "    <tr>\n",
              "      <th>33</th>\n",
              "      <td>Apartment</td>\n",
              "      <td>Heezerweg</td>\n",
              "      <td>5614</td>\n",
              "      <td>1150</td>\n",
              "      <td>83</td>\n",
              "      <td>2</td>\n",
              "    </tr>\n",
              "    <tr>\n",
              "      <th>36</th>\n",
              "      <td>Apartment</td>\n",
              "      <td>Stevinstraat</td>\n",
              "      <td>5621</td>\n",
              "      <td>795</td>\n",
              "      <td>28</td>\n",
              "      <td>1</td>\n",
              "    </tr>\n",
              "    <tr>\n",
              "      <th>...</th>\n",
              "      <td>...</td>\n",
              "      <td>...</td>\n",
              "      <td>...</td>\n",
              "      <td>...</td>\n",
              "      <td>...</td>\n",
              "      <td>...</td>\n",
              "    </tr>\n",
              "    <tr>\n",
              "      <th>64</th>\n",
              "      <td>Studio</td>\n",
              "      <td>Van</td>\n",
              "      <td>5612</td>\n",
              "      <td>614</td>\n",
              "      <td>NaN</td>\n",
              "      <td>NaN</td>\n",
              "    </tr>\n",
              "    <tr>\n",
              "      <th>65</th>\n",
              "      <td>Studio</td>\n",
              "      <td>Van</td>\n",
              "      <td>5612</td>\n",
              "      <td>602</td>\n",
              "      <td>NaN</td>\n",
              "      <td>NaN</td>\n",
              "    </tr>\n",
              "    <tr>\n",
              "      <th>66</th>\n",
              "      <td>Studio</td>\n",
              "      <td>Leenderweg</td>\n",
              "      <td>5643</td>\n",
              "      <td>380</td>\n",
              "      <td>NaN</td>\n",
              "      <td>NaN</td>\n",
              "    </tr>\n",
              "    <tr>\n",
              "      <th>58</th>\n",
              "      <td>Studio</td>\n",
              "      <td>Woenselsestraat</td>\n",
              "      <td>5623</td>\n",
              "      <td>540</td>\n",
              "      <td>NaN</td>\n",
              "      <td>NaN</td>\n",
              "    </tr>\n",
              "    <tr>\n",
              "      <th>84</th>\n",
              "      <td>Studio</td>\n",
              "      <td>Kleine</td>\n",
              "      <td>5611</td>\n",
              "      <td>705</td>\n",
              "      <td>NaN</td>\n",
              "      <td>NaN</td>\n",
              "    </tr>\n",
              "  </tbody>\n",
              "</table>\n",
              "<p>219 rows × 6 columns</p>\n",
              "</div>"
            ],
            "text/plain": [
              "         TYPE      STREET NAME POSTCODE PRICE LIVING_AREA ROOMS\n",
              "29  Apartment     Geldropseweg     5611   645          29     1\n",
              "30  Apartment     Geldropseweg     5611   695          29     1\n",
              "31  Apartment              Jan     5642   435          18     1\n",
              "33  Apartment        Heezerweg     5614  1150          83     2\n",
              "36  Apartment     Stevinstraat     5621   795          28     1\n",
              "..        ...              ...      ...   ...         ...   ...\n",
              "64     Studio              Van     5612   614         NaN   NaN\n",
              "65     Studio              Van     5612   602         NaN   NaN\n",
              "66     Studio       Leenderweg     5643   380         NaN   NaN\n",
              "58     Studio  Woenselsestraat     5623   540         NaN   NaN\n",
              "84     Studio           Kleine     5611   705         NaN   NaN\n",
              "\n",
              "[219 rows x 6 columns]"
            ]
          },
          "metadata": {
            "tags": []
          },
          "execution_count": 89
        }
      ]
    },
    {
      "cell_type": "markdown",
      "metadata": {
        "id": "TylFYaoBKZd9"
      },
      "source": [
        "\n",
        "**Pre Processing**"
      ]
    },
    {
      "cell_type": "markdown",
      "metadata": {
        "id": "W9b06bhjX2KR"
      },
      "source": [
        "Handling Outlier"
      ]
    },
    {
      "cell_type": "markdown",
      "metadata": {
        "id": "ruBmWWJPnWZy"
      },
      "source": [
        "> An **outlier** is a data point in a data set that is distant from all other observations (a data point that lies outside the overall distribution of the dataset.)"
      ]
    },
    {
      "cell_type": "code",
      "metadata": {
        "colab": {
          "base_uri": "https://localhost:8080/",
          "height": 685
        },
        "id": "pEdidHSNMILS",
        "outputId": "2271f4f5-fe49-4f97-d3a2-183a4998a8fb"
      },
      "source": [
        "plt.figure(figsize=(10, 10), dpi=80)\n",
        "plt.scatter(df.LIVING_AREA, df.PRICE, c= 'red')\n",
        "plt.title(\"Outliers\")\n",
        "plt.xlabel(\"LivArea\")\n",
        "plt.ylabel(\"Price\")\n",
        "plt.show()"
      ],
      "execution_count": 90,
      "outputs": [
        {
          "output_type": "display_data",
          "data": {
            "image/png": "[encoded data removed]",
            "text/plain": [
              "<Figure size 800x800 with 1 Axes>"
            ]
          },
          "metadata": {
            "tags": [],
            "needs_background": "light"
          }
        }
      ]
    },
    {
      "cell_type": "code",
      "metadata": {
        "id": "kl2UpYmKiRUH"
      },
      "source": [
        "df['PRICE'] =df['PRICE'].astype(float)\n",
        "df['POSTCODE'] =df['POSTCODE'].astype(int)\n",
        "df['LIVING_AREA'] =df['LIVING_AREA'].astype(float)\n",
        "df['ROOMS'] =df['ROOMS'].astype(float)\n",
        "code_numeric = {'Kamer': 5,'Apartment': 1, 'Appartement': 1, 'Room': 2, 'Studio': 4, 'House': 3}\n",
        "df ['TYPE'] = df['TYPE'].map(code_numeric)\n",
        "df['TYPE'] =df['TYPE'].astype(float)"
      ],
      "execution_count": 91,
      "outputs": []
    },
    {
      "cell_type": "code",
      "metadata": {
        "id": "266MMBaYMtnA"
      },
      "source": [
        "df['PRICE'] =df['PRICE'].astype(float)"
      ],
      "execution_count": 92,
      "outputs": []
    },
    {
      "cell_type": "code",
      "metadata": {
        "colab": {
          "base_uri": "https://localhost:8080/",
          "height": 283
        },
        "id": "SKY9Eb1bMIh5",
        "outputId": "4056bfa7-7309-4bba-82f9-0094d327d9ec"
      },
      "source": [
        "df.boxplot(column=['PRICE'])\n",
        "plt.show"
      ],
      "execution_count": 93,
      "outputs": [
        {
          "output_type": "execute_result",
          "data": {
            "text/plain": [
              "<function matplotlib.pyplot.show>"
            ]
          },
          "metadata": {
            "tags": []
          },
          "execution_count": 93
        },
        {
          "output_type": "display_data",
          "data": {
            "image/png": "[encoded data removed]",
            "text/plain": [
              "<Figure size 432x288 with 1 Axes>"
            ]
          },
          "metadata": {
            "tags": [],
            "needs_background": "light"
          }
        }
      ]
    },
    {
      "cell_type": "code",
      "metadata": {
        "colab": {
          "base_uri": "https://localhost:8080/"
        },
        "id": "sF92e-eF-Sj1",
        "outputId": "ad63ae9e-6ebe-49c6-e5fb-376f342a920d"
      },
      "source": [
        "#Check the mean values\n",
        "df['LIVING_AREA'].mean()"
      ],
      "execution_count": 94,
      "outputs": [
        {
          "output_type": "execute_result",
          "data": {
            "text/plain": [
              "69.82291666666667"
            ]
          },
          "metadata": {
            "tags": []
          },
          "execution_count": 94
        }
      ]
    },
    {
      "cell_type": "code",
      "metadata": {
        "colab": {
          "base_uri": "https://localhost:8080/"
        },
        "id": "8WqMHNZu_EeY",
        "outputId": "be07fcf9-9d46-4af0-e003-a9509b28f308"
      },
      "source": [
        "#Check the median \n",
        "df['LIVING_AREA'].median()"
      ],
      "execution_count": 95,
      "outputs": [
        {
          "output_type": "execute_result",
          "data": {
            "text/plain": [
              "65.0"
            ]
          },
          "metadata": {
            "tags": []
          },
          "execution_count": 95
        }
      ]
    },
    {
      "cell_type": "code",
      "metadata": {
        "colab": {
          "base_uri": "https://localhost:8080/"
        },
        "id": "oLXKcRapPTOx",
        "outputId": "e03babd5-a5a2-45c0-c1a2-70fa1ca92fde"
      },
      "source": [
        "Q1 = df.quantile(0.25)\n",
        "Q3 = df.quantile(0.75)\n",
        "IQR = Q3 - Q1\n",
        "print(IQR)"
      ],
      "execution_count": 96,
      "outputs": [
        {
          "output_type": "stream",
          "text": [
            "TYPE             3.00\n",
            "POSTCODE        30.00\n",
            "PRICE          672.50\n",
            "LIVING_AREA     54.75\n",
            "ROOMS            1.00\n",
            "dtype: float64\n"
          ],
          "name": "stdout"
        }
      ]
    },
    {
      "cell_type": "code",
      "metadata": {
        "colab": {
          "base_uri": "https://localhost:8080/"
        },
        "id": "oysTdTZQS_Wt",
        "outputId": "41915a8a-4b15-495b-f47c-fa474b1eb319"
      },
      "source": [
        "print(df['PRICE'].skew())\n",
        "df['PRICE'].describe()"
      ],
      "execution_count": 97,
      "outputs": [
        {
          "output_type": "stream",
          "text": [
            "2.402139256066373\n"
          ],
          "name": "stdout"
        },
        {
          "output_type": "execute_result",
          "data": {
            "text/plain": [
              "count     219.000000\n",
              "mean      869.360731\n",
              "std       489.826886\n",
              "min       255.000000\n",
              "25%       477.500000\n",
              "50%       795.000000\n",
              "75%      1150.000000\n",
              "max      4500.000000\n",
              "Name: PRICE, dtype: float64"
            ]
          },
          "metadata": {
            "tags": []
          },
          "execution_count": 97
        }
      ]
    },
    {
      "cell_type": "code",
      "metadata": {
        "colab": {
          "base_uri": "https://localhost:8080/"
        },
        "id": "mqwJIp-yTN1b",
        "outputId": "9c643790-d134-4ebb-c457-b731ad502b07"
      },
      "source": [
        "print(df['PRICE'].quantile(0.10))\n",
        "print(df['PRICE'].quantile(0.90))"
      ],
      "execution_count": 98,
      "outputs": [
        {
          "output_type": "stream",
          "text": [
            "399.0\n",
            "1357.4000000000003\n"
          ],
          "name": "stdout"
        }
      ]
    },
    {
      "cell_type": "code",
      "metadata": {
        "colab": {
          "base_uri": "https://localhost:8080/",
          "height": 319
        },
        "id": "O31ghKvCLx6V",
        "outputId": "bf59a515-f3a4-49b7-8ca2-9a883df0539d"
      },
      "source": [
        "df['ROOMS'].value_counts().plot(kind='bar')\n",
        "plt.title('Number of Rooms')\n",
        "plt.xlabel('Rooms')\n",
        "plt.ylabel('Count')\n",
        "sns.despine"
      ],
      "execution_count": 99,
      "outputs": [
        {
          "output_type": "execute_result",
          "data": {
            "text/plain": [
              "<function seaborn.utils.despine>"
            ]
          },
          "metadata": {
            "tags": []
          },
          "execution_count": 99
        },
        {
          "output_type": "display_data",
          "data": {
            "image/png": "[encoded data removed]",
            "text/plain": [
              "<Figure size 432x288 with 1 Axes>"
            ]
          },
          "metadata": {
            "tags": [],
            "needs_background": "light"
          }
        }
      ]
    },
    {
      "cell_type": "code",
      "metadata": {
        "colab": {
          "base_uri": "https://localhost:8080/"
        },
        "id": "0JmcXYFdnxIU",
        "outputId": "a31cff0a-e74c-4eba-fd66-231105a1c0b6"
      },
      "source": [
        "print(df['PRICE'])"
      ],
      "execution_count": 100,
      "outputs": [
        {
          "output_type": "stream",
          "text": [
            "0      375.0\n",
            "1      430.0\n",
            "2      415.0\n",
            "3      315.0\n",
            "4      320.0\n",
            "       ...  \n",
            "91     710.0\n",
            "92     675.0\n",
            "93    1050.0\n",
            "94    1250.0\n",
            "95    2250.0\n",
            "Name: PRICE, Length: 219, dtype: float64\n"
          ],
          "name": "stdout"
        }
      ]
    },
    {
      "cell_type": "markdown",
      "metadata": {
        "id": "XWkMkGwc4zuy"
      },
      "source": [
        "We will analyze the features in their descending of correlation with sales price"
      ]
    },
    {
      "cell_type": "markdown",
      "metadata": {
        "id": "XlRYhjkWh-B_"
      },
      "source": [
        "Examining the data distributions of the features. We will start with the target variable, `PRICE`, to make sure it's normally distributed.\n",
        "\n",
        "This is important because most machine learning algorithms make the assumption that the data is normally distributed. When data fits a normal distribution, statements about the price using analytical techniques will be made."
      ]
    },
    {
      "cell_type": "code",
      "metadata": {
        "colab": {
          "base_uri": "https://localhost:8080/",
          "height": 351
        },
        "id": "e3SqZjWQh2dQ",
        "outputId": "cf871ff1-ab62-4397-f2f5-19c3f2fa482a"
      },
      "source": [
        "sns.distplot(df['PRICE'])"
      ],
      "execution_count": 101,
      "outputs": [
        {
          "output_type": "stream",
          "text": [
            "/usr/local/lib/python3.7/dist-packages/seaborn/distributions.py:2557: FutureWarning: `distplot` is a deprecated function and will be removed in a future version. Please adapt your code to use either `displot` (a figure-level function with similar flexibility) or `histplot` (an axes-level function for histograms).\n",
            "  warnings.warn(msg, FutureWarning)\n"
          ],
          "name": "stderr"
        },
        {
          "output_type": "execute_result",
          "data": {
            "text/plain": [
              "<matplotlib.axes._subplots.AxesSubplot at 0x7f5bcf797310>"
            ]
          },
          "metadata": {
            "tags": []
          },
          "execution_count": 101
        },
        {
          "output_type": "display_data",
          "data": {
            "image/png": "[encoded data removed]",
            "text/plain": [
              "<Figure size 432x288 with 1 Axes>"
            ]
          },
          "metadata": {
            "tags": [],
            "needs_background": "light"
          }
        }
      ]
    },
    {
      "cell_type": "code",
      "metadata": {
        "colab": {
          "base_uri": "https://localhost:8080/",
          "height": 351
        },
        "id": "RNndqSjs1Apz",
        "outputId": "372ab218-760f-420b-aa49-159561006310"
      },
      "source": [
        "# Transform the target variable \n",
        "sns.distplot(np.log(df.PRICE))"
      ],
      "execution_count": 102,
      "outputs": [
        {
          "output_type": "stream",
          "text": [
            "/usr/local/lib/python3.7/dist-packages/seaborn/distributions.py:2557: FutureWarning: `distplot` is a deprecated function and will be removed in a future version. Please adapt your code to use either `displot` (a figure-level function with similar flexibility) or `histplot` (an axes-level function for histograms).\n",
            "  warnings.warn(msg, FutureWarning)\n"
          ],
          "name": "stderr"
        },
        {
          "output_type": "execute_result",
          "data": {
            "text/plain": [
              "<matplotlib.axes._subplots.AxesSubplot at 0x7f5bceb77150>"
            ]
          },
          "metadata": {
            "tags": []
          },
          "execution_count": 102
        },
        {
          "output_type": "display_data",
          "data": {
            "image/png": "[encoded data removed]",
            "text/plain": [
              "<Figure size 432x288 with 1 Axes>"
            ]
          },
          "metadata": {
            "tags": [],
            "needs_background": "light"
          }
        }
      ]
    },
    {
      "cell_type": "markdown",
      "metadata": {
        "id": "Bs9jk5blro0b"
      },
      "source": [
        "\n",
        "\n",
        "> We can see that the `PRICE` distribution is not skewed after the transformation, but normally distributed.\n",
        ">The transformed data will be used in in the dataframe and remove the skewed distribution:\n",
        "\n",
        "\n",
        "> **Normally distributed** means that the data is symmetric about the mean, showing that data near the mean are more frequent in occurrence than data far from the mean. \n",
        "\n",
        "\n",
        "\n",
        "\n",
        "\n"
      ]
    },
    {
      "cell_type": "code",
      "metadata": {
        "id": "g-tGotpI1e4J"
      },
      "source": [
        "df['LogOfPrice'] = np.log(df.PRICE)\n",
        "df.drop([\"PRICE\"], axis=1, inplace=True)"
      ],
      "execution_count": 103,
      "outputs": []
    },
    {
      "cell_type": "markdown",
      "metadata": {
        "id": "aAOh773bWUjN"
      },
      "source": [
        "Reviewing the skewness of each feature"
      ]
    },
    {
      "cell_type": "code",
      "metadata": {
        "colab": {
          "base_uri": "https://localhost:8080/"
        },
        "id": "S_G_peJwsnp2",
        "outputId": "bfed1856-6e88-4624-b6cd-c328319a48c7"
      },
      "source": [
        "df.skew().sort_values(ascending=False)"
      ],
      "execution_count": 104,
      "outputs": [
        {
          "output_type": "execute_result",
          "data": {
            "text/plain": [
              "ROOMS          1.015947\n",
              "LIVING_AREA    0.334395\n",
              "TYPE           0.332601\n",
              "LogOfPrice     0.085555\n",
              "POSTCODE      -0.781026\n",
              "dtype: float64"
            ]
          },
          "metadata": {
            "tags": []
          },
          "execution_count": 104
        }
      ]
    },
    {
      "cell_type": "markdown",
      "metadata": {
        "id": "CIuIwhNFs5jN"
      },
      "source": [
        "\n",
        "\n",
        ">Values closer to zero are less skewed. The results show some features having a positive (right-tailed) or negative (left-tailed) skew.\n",
        "\n",
        "\n",
        "\n"
      ]
    },
    {
      "cell_type": "markdown",
      "metadata": {
        "id": "YOlcOfAOri61"
      },
      "source": [
        "Factor plot is informative when we have multiple groups to compare. "
      ]
    },
    {
      "cell_type": "code",
      "metadata": {
        "colab": {
          "base_uri": "https://localhost:8080/",
          "height": 816
        },
        "id": "oWUAyLrNMptb",
        "outputId": "f686a7d5-65e9-425e-a30d-f4f6ba616770"
      },
      "source": [
        "sns.factorplot('ROOMS', 'LogOfPrice', data=df,kind='bar',size=3,aspect=3)\n",
        "fig, (axis1) = plt.subplots(1,1,figsize=(10,3))\n",
        "sns.countplot('ROOMS', data=df)\n",
        "df['LogOfPrice'].value_counts()"
      ],
      "execution_count": 105,
      "outputs": [
        {
          "output_type": "stream",
          "text": [
            "/usr/local/lib/python3.7/dist-packages/seaborn/categorical.py:3714: UserWarning: The `factorplot` function has been renamed to `catplot`. The original name will be removed in a future release. Please update your code. Note that the default `kind` in `factorplot` (`'point'`) has changed `'strip'` in `catplot`.\n",
            "  warnings.warn(msg)\n",
            "/usr/local/lib/python3.7/dist-packages/seaborn/categorical.py:3720: UserWarning: The `size` parameter has been renamed to `height`; please update your code.\n",
            "  warnings.warn(msg, UserWarning)\n",
            "/usr/local/lib/python3.7/dist-packages/seaborn/_decorators.py:43: FutureWarning: Pass the following variables as keyword args: x, y. From version 0.12, the only valid positional argument will be `data`, and passing other arguments without an explicit keyword will result in an error or misinterpretation.\n",
            "  FutureWarning\n",
            "/usr/local/lib/python3.7/dist-packages/seaborn/_decorators.py:43: FutureWarning: Pass the following variable as a keyword arg: x. From version 0.12, the only valid positional argument will be `data`, and passing other arguments without an explicit keyword will result in an error or misinterpretation.\n",
            "  FutureWarning\n"
          ],
          "name": "stderr"
        },
        {
          "output_type": "execute_result",
          "data": {
            "text/plain": [
              "6.028279    15\n",
              "7.047517    10\n",
              "6.109248     5\n",
              "7.090077     5\n",
              "7.207860     4\n",
              "            ..\n",
              "7.153052     1\n",
              "5.899897     1\n",
              "5.872118     1\n",
              "7.803843     1\n",
              "7.210080     1\n",
              "Name: LogOfPrice, Length: 122, dtype: int64"
            ]
          },
          "metadata": {
            "tags": []
          },
          "execution_count": 105
        },
        {
          "output_type": "display_data",
          "data": {
            "image/png": "[encoded data removed]",
            "text/plain": [
              "<Figure size 648x216 with 1 Axes>"
            ]
          },
          "metadata": {
            "tags": [],
            "needs_background": "light"
          }
        },
        {
          "output_type": "display_data",
          "data": {
            "image/png": "[encoded data removed]",
            "text/plain": [
              "<Figure size 720x216 with 1 Axes>"
            ]
          },
          "metadata": {
            "tags": [],
            "needs_background": "light"
          }
        }
      ]
    },
    {
      "cell_type": "markdown",
      "metadata": {
        "id": "IKAlICJWNbPS"
      },
      "source": [
        "> Real estate with 5 rooms has the  highest `Price` while the sales of others with rooms of 2 is the most sold ones."
      ]
    },
    {
      "cell_type": "code",
      "metadata": {
        "colab": {
          "base_uri": "https://localhost:8080/",
          "height": 356
        },
        "id": "4eL664DrWAXl",
        "outputId": "d1707a81-693e-4dd2-df41-ba6ea64f050d"
      },
      "source": [
        "#g = sns.factorplot(x='POSTCODE', y='Skewed_SP', col='PRICE', data=df, kind='bar', col_wrap=4, aspect=0.8)\n",
        "sns.factorplot('POSTCODE', 'LogOfPrice', data=df,kind='bar',size=3,aspect=6)\n"
      ],
      "execution_count": 106,
      "outputs": [
        {
          "output_type": "stream",
          "text": [
            "/usr/local/lib/python3.7/dist-packages/seaborn/categorical.py:3714: UserWarning: The `factorplot` function has been renamed to `catplot`. The original name will be removed in a future release. Please update your code. Note that the default `kind` in `factorplot` (`'point'`) has changed `'strip'` in `catplot`.\n",
            "  warnings.warn(msg)\n",
            "/usr/local/lib/python3.7/dist-packages/seaborn/categorical.py:3720: UserWarning: The `size` parameter has been renamed to `height`; please update your code.\n",
            "  warnings.warn(msg, UserWarning)\n",
            "/usr/local/lib/python3.7/dist-packages/seaborn/_decorators.py:43: FutureWarning: Pass the following variables as keyword args: x, y. From version 0.12, the only valid positional argument will be `data`, and passing other arguments without an explicit keyword will result in an error or misinterpretation.\n",
            "  FutureWarning\n"
          ],
          "name": "stderr"
        },
        {
          "output_type": "execute_result",
          "data": {
            "text/plain": [
              "<seaborn.axisgrid.FacetGrid at 0x7f5bceb89d50>"
            ]
          },
          "metadata": {
            "tags": []
          },
          "execution_count": 106
        },
        {
          "output_type": "display_data",
          "data": {
            "image/png": "[encoded data removed]",
            "text/plain": [
              "<Figure size 1296x216 with 1 Axes>"
            ]
          },
          "metadata": {
            "tags": [],
            "needs_background": "light"
          }
        }
      ]
    },
    {
      "cell_type": "markdown",
      "metadata": {
        "id": "rtE9XtMmWrCv"
      },
      "source": [
        ">The diagram represents the `price` of a rpoperty, depending on its `postcode`.\n",
        "\n",
        "\n"
      ]
    },
    {
      "cell_type": "markdown",
      "metadata": {
        "id": "-7tpfJKimwvE"
      },
      "source": [
        "# **Preparing the data for training the models**"
      ]
    },
    {
      "cell_type": "markdown",
      "metadata": {
        "id": "s1FUjO4ZkItw"
      },
      "source": [
        "**Train-Test Split dataset**"
      ]
    },
    {
      "cell_type": "markdown",
      "metadata": {
        "id": "8zNQdmR0ZSTu"
      },
      "source": [
        "\n",
        "> Necessary imports"
      ]
    },
    {
      "cell_type": "code",
      "metadata": {
        "id": "7RZVRoIVRN3X"
      },
      "source": [
        "from sklearn.linear_model import LinearRegression, Ridge, Lasso\n",
        "from sklearn.ensemble import RandomForestRegressor\n",
        "from sklearn.model_selection import cross_val_score, train_test_split, GridSearchCV"
      ],
      "execution_count": 107,
      "outputs": []
    },
    {
      "cell_type": "code",
      "metadata": {
        "id": "4e0FWioVEbXm",
        "colab": {
          "base_uri": "https://localhost:8080/"
        },
        "outputId": "4afd52a4-8f2b-4054-cba4-2a446b385910"
      },
      "source": [
        "df.info()"
      ],
      "execution_count": 108,
      "outputs": [
        {
          "output_type": "stream",
          "text": [
            "<class 'pandas.core.frame.DataFrame'>\n",
            "Int64Index: 219 entries, 0 to 95\n",
            "Data columns (total 6 columns):\n",
            " #   Column       Non-Null Count  Dtype  \n",
            "---  ------       --------------  -----  \n",
            " 0   TYPE         219 non-null    float64\n",
            " 1   STREET NAME  219 non-null    object \n",
            " 2   POSTCODE     219 non-null    int64  \n",
            " 3   LIVING_AREA  96 non-null     float64\n",
            " 4   ROOMS        96 non-null     float64\n",
            " 5   LogOfPrice   219 non-null    float64\n",
            "dtypes: float64(4), int64(1), object(1)\n",
            "memory usage: 17.0+ KB\n"
          ],
          "name": "stdout"
        }
      ]
    },
    {
      "cell_type": "code",
      "metadata": {
        "colab": {
          "base_uri": "https://localhost:8080/"
        },
        "id": "MCMmlmE7faHR",
        "outputId": "295b6cdd-0e26-4072-ebe5-4edc46b4d07a"
      },
      "source": [
        "df.isnull().sum()"
      ],
      "execution_count": 109,
      "outputs": [
        {
          "output_type": "execute_result",
          "data": {
            "text/plain": [
              "TYPE             0\n",
              "STREET NAME      0\n",
              "POSTCODE         0\n",
              "LIVING_AREA    123\n",
              "ROOMS          123\n",
              "LogOfPrice       0\n",
              "dtype: int64"
            ]
          },
          "metadata": {
            "tags": []
          },
          "execution_count": 109
        }
      ]
    },
    {
      "cell_type": "markdown",
      "metadata": {
        "id": "yYBACfDRZYmF"
      },
      "source": [
        "Analyzing the numeric features.\n"
      ]
    },
    {
      "cell_type": "code",
      "metadata": {
        "id": "D_qARrG8LbRN"
      },
      "source": [
        "numeric_features = df.select_dtypes(include=[np.number])"
      ],
      "execution_count": 110,
      "outputs": []
    },
    {
      "cell_type": "code",
      "metadata": {
        "colab": {
          "base_uri": "https://localhost:8080/"
        },
        "id": "q7BzHq6aLsb5",
        "outputId": "3f5c4f1f-db82-4f1c-92a8-35c2d2e7fc55"
      },
      "source": [
        "numeric_features.columns"
      ],
      "execution_count": 111,
      "outputs": [
        {
          "output_type": "execute_result",
          "data": {
            "text/plain": [
              "Index(['TYPE', 'POSTCODE', 'LIVING_AREA', 'ROOMS', 'LogOfPrice'], dtype='object')"
            ]
          },
          "metadata": {
            "tags": []
          },
          "execution_count": 111
        }
      ]
    },
    {
      "cell_type": "markdown",
      "metadata": {
        "id": "ygCUWFJ1nPhT"
      },
      "source": [
        "Filling up the null values in order to train the model. "
      ]
    },
    {
      "cell_type": "code",
      "metadata": {
        "colab": {
          "base_uri": "https://localhost:8080/",
          "height": 415
        },
        "id": "wqQTGppbnuT3",
        "outputId": "53c4deeb-6700-43be-e497-651d72abb64b"
      },
      "source": [
        "df.fillna(0)"
      ],
      "execution_count": 112,
      "outputs": [
        {
          "output_type": "execute_result",
          "data": {
            "text/html": [
              "<div>\n",
              "<style scoped>\n",
              "    .dataframe tbody tr th:only-of-type {\n",
              "        vertical-align: middle;\n",
              "    }\n",
              "\n",
              "    .dataframe tbody tr th {\n",
              "        vertical-align: top;\n",
              "    }\n",
              "\n",
              "    .dataframe thead th {\n",
              "        text-align: right;\n",
              "    }\n",
              "</style>\n",
              "<table border=\"1\" class=\"dataframe\">\n",
              "  <thead>\n",
              "    <tr style=\"text-align: right;\">\n",
              "      <th></th>\n",
              "      <th>TYPE</th>\n",
              "      <th>STREET NAME</th>\n",
              "      <th>POSTCODE</th>\n",
              "      <th>LIVING_AREA</th>\n",
              "      <th>ROOMS</th>\n",
              "      <th>LogOfPrice</th>\n",
              "    </tr>\n",
              "  </thead>\n",
              "  <tbody>\n",
              "    <tr>\n",
              "      <th>0</th>\n",
              "      <td>5.0</td>\n",
              "      <td>Julianastraat</td>\n",
              "      <td>5611</td>\n",
              "      <td>0.0</td>\n",
              "      <td>0.0</td>\n",
              "      <td>5.926926</td>\n",
              "    </tr>\n",
              "    <tr>\n",
              "      <th>1</th>\n",
              "      <td>5.0</td>\n",
              "      <td>Bennekelstraat</td>\n",
              "      <td>5654</td>\n",
              "      <td>0.0</td>\n",
              "      <td>0.0</td>\n",
              "      <td>6.063785</td>\n",
              "    </tr>\n",
              "    <tr>\n",
              "      <th>2</th>\n",
              "      <td>5.0</td>\n",
              "      <td>Leenderweg</td>\n",
              "      <td>5615</td>\n",
              "      <td>0.0</td>\n",
              "      <td>0.0</td>\n",
              "      <td>6.028279</td>\n",
              "    </tr>\n",
              "    <tr>\n",
              "      <th>3</th>\n",
              "      <td>5.0</td>\n",
              "      <td>Bennekelstraat</td>\n",
              "      <td>5654</td>\n",
              "      <td>0.0</td>\n",
              "      <td>0.0</td>\n",
              "      <td>5.752573</td>\n",
              "    </tr>\n",
              "    <tr>\n",
              "      <th>4</th>\n",
              "      <td>5.0</td>\n",
              "      <td>Willem</td>\n",
              "      <td>5611</td>\n",
              "      <td>0.0</td>\n",
              "      <td>0.0</td>\n",
              "      <td>5.768321</td>\n",
              "    </tr>\n",
              "    <tr>\n",
              "      <th>...</th>\n",
              "      <td>...</td>\n",
              "      <td>...</td>\n",
              "      <td>...</td>\n",
              "      <td>...</td>\n",
              "      <td>...</td>\n",
              "      <td>...</td>\n",
              "    </tr>\n",
              "    <tr>\n",
              "      <th>91</th>\n",
              "      <td>1.0</td>\n",
              "      <td>Peperstraat</td>\n",
              "      <td>5612</td>\n",
              "      <td>20.0</td>\n",
              "      <td>1.0</td>\n",
              "      <td>6.565265</td>\n",
              "    </tr>\n",
              "    <tr>\n",
              "      <th>92</th>\n",
              "      <td>1.0</td>\n",
              "      <td>Hermanus</td>\n",
              "      <td>5611</td>\n",
              "      <td>20.0</td>\n",
              "      <td>1.0</td>\n",
              "      <td>6.514713</td>\n",
              "    </tr>\n",
              "    <tr>\n",
              "      <th>93</th>\n",
              "      <td>1.0</td>\n",
              "      <td>Genovevalaan</td>\n",
              "      <td>5625</td>\n",
              "      <td>54.0</td>\n",
              "      <td>2.0</td>\n",
              "      <td>6.956545</td>\n",
              "    </tr>\n",
              "    <tr>\n",
              "      <th>94</th>\n",
              "      <td>1.0</td>\n",
              "      <td>St</td>\n",
              "      <td>5611</td>\n",
              "      <td>75.0</td>\n",
              "      <td>3.0</td>\n",
              "      <td>7.130899</td>\n",
              "    </tr>\n",
              "    <tr>\n",
              "      <th>95</th>\n",
              "      <td>3.0</td>\n",
              "      <td>Primulastraat</td>\n",
              "      <td>5644</td>\n",
              "      <td>162.0</td>\n",
              "      <td>7.0</td>\n",
              "      <td>7.718685</td>\n",
              "    </tr>\n",
              "  </tbody>\n",
              "</table>\n",
              "<p>219 rows × 6 columns</p>\n",
              "</div>"
            ],
            "text/plain": [
              "    TYPE     STREET NAME  POSTCODE  LIVING_AREA  ROOMS  LogOfPrice\n",
              "0    5.0   Julianastraat      5611          0.0    0.0    5.926926\n",
              "1    5.0  Bennekelstraat      5654          0.0    0.0    6.063785\n",
              "2    5.0      Leenderweg      5615          0.0    0.0    6.028279\n",
              "3    5.0  Bennekelstraat      5654          0.0    0.0    5.752573\n",
              "4    5.0          Willem      5611          0.0    0.0    5.768321\n",
              "..   ...             ...       ...          ...    ...         ...\n",
              "91   1.0     Peperstraat      5612         20.0    1.0    6.565265\n",
              "92   1.0        Hermanus      5611         20.0    1.0    6.514713\n",
              "93   1.0    Genovevalaan      5625         54.0    2.0    6.956545\n",
              "94   1.0              St      5611         75.0    3.0    7.130899\n",
              "95   3.0   Primulastraat      5644        162.0    7.0    7.718685\n",
              "\n",
              "[219 rows x 6 columns]"
            ]
          },
          "metadata": {
            "tags": []
          },
          "execution_count": 112
        }
      ]
    },
    {
      "cell_type": "code",
      "metadata": {
        "id": "FHzoYRhBdQBR"
      },
      "source": [
        "df.dropna(inplace=True)"
      ],
      "execution_count": 113,
      "outputs": []
    },
    {
      "cell_type": "code",
      "metadata": {
        "id": "KD5AQnzKGCD9"
      },
      "source": [
        "# set the target and predictors\n",
        "y = df.LogOfPrice  # target\n",
        "\n",
        "# use only those input features with numeric data type \n",
        "df_temp = df.select_dtypes(include=[\"int64\",\"float64\"]) \n",
        "\n",
        "X = df_temp.drop([\"LogOfPrice\"],axis=1)  # predictors"
      ],
      "execution_count": 114,
      "outputs": []
    },
    {
      "cell_type": "markdown",
      "metadata": {
        "id": "5sp5bjPf2FzE"
      },
      "source": [
        "To split the dataset, I will use random sampling with 80/20 train-test split; that is, 80% of the dataset will be used for training and set aside 20% for testing:"
      ]
    },
    {
      "cell_type": "code",
      "metadata": {
        "id": "ffGAD0o5UjBY"
      },
      "source": [
        "# split the dataset into train and test sets\n",
        "X_train, X_test, y_train, y_test = train_test_split(X, y, test_size=0.20, random_state=0)"
      ],
      "execution_count": 115,
      "outputs": []
    },
    {
      "cell_type": "code",
      "metadata": {
        "colab": {
          "base_uri": "https://localhost:8080/",
          "height": 415
        },
        "id": "IQ3eskORoJbq",
        "outputId": "e6c8e49d-6500-47b7-e25a-f1ed11c67dc3"
      },
      "source": [
        "df.isnull()"
      ],
      "execution_count": 116,
      "outputs": [
        {
          "output_type": "execute_result",
          "data": {
            "text/html": [
              "<div>\n",
              "<style scoped>\n",
              "    .dataframe tbody tr th:only-of-type {\n",
              "        vertical-align: middle;\n",
              "    }\n",
              "\n",
              "    .dataframe tbody tr th {\n",
              "        vertical-align: top;\n",
              "    }\n",
              "\n",
              "    .dataframe thead th {\n",
              "        text-align: right;\n",
              "    }\n",
              "</style>\n",
              "<table border=\"1\" class=\"dataframe\">\n",
              "  <thead>\n",
              "    <tr style=\"text-align: right;\">\n",
              "      <th></th>\n",
              "      <th>TYPE</th>\n",
              "      <th>STREET NAME</th>\n",
              "      <th>POSTCODE</th>\n",
              "      <th>LIVING_AREA</th>\n",
              "      <th>ROOMS</th>\n",
              "      <th>LogOfPrice</th>\n",
              "    </tr>\n",
              "  </thead>\n",
              "  <tbody>\n",
              "    <tr>\n",
              "      <th>0</th>\n",
              "      <td>False</td>\n",
              "      <td>False</td>\n",
              "      <td>False</td>\n",
              "      <td>False</td>\n",
              "      <td>False</td>\n",
              "      <td>False</td>\n",
              "    </tr>\n",
              "    <tr>\n",
              "      <th>1</th>\n",
              "      <td>False</td>\n",
              "      <td>False</td>\n",
              "      <td>False</td>\n",
              "      <td>False</td>\n",
              "      <td>False</td>\n",
              "      <td>False</td>\n",
              "    </tr>\n",
              "    <tr>\n",
              "      <th>2</th>\n",
              "      <td>False</td>\n",
              "      <td>False</td>\n",
              "      <td>False</td>\n",
              "      <td>False</td>\n",
              "      <td>False</td>\n",
              "      <td>False</td>\n",
              "    </tr>\n",
              "    <tr>\n",
              "      <th>3</th>\n",
              "      <td>False</td>\n",
              "      <td>False</td>\n",
              "      <td>False</td>\n",
              "      <td>False</td>\n",
              "      <td>False</td>\n",
              "      <td>False</td>\n",
              "    </tr>\n",
              "    <tr>\n",
              "      <th>4</th>\n",
              "      <td>False</td>\n",
              "      <td>False</td>\n",
              "      <td>False</td>\n",
              "      <td>False</td>\n",
              "      <td>False</td>\n",
              "      <td>False</td>\n",
              "    </tr>\n",
              "    <tr>\n",
              "      <th>...</th>\n",
              "      <td>...</td>\n",
              "      <td>...</td>\n",
              "      <td>...</td>\n",
              "      <td>...</td>\n",
              "      <td>...</td>\n",
              "      <td>...</td>\n",
              "    </tr>\n",
              "    <tr>\n",
              "      <th>91</th>\n",
              "      <td>False</td>\n",
              "      <td>False</td>\n",
              "      <td>False</td>\n",
              "      <td>False</td>\n",
              "      <td>False</td>\n",
              "      <td>False</td>\n",
              "    </tr>\n",
              "    <tr>\n",
              "      <th>92</th>\n",
              "      <td>False</td>\n",
              "      <td>False</td>\n",
              "      <td>False</td>\n",
              "      <td>False</td>\n",
              "      <td>False</td>\n",
              "      <td>False</td>\n",
              "    </tr>\n",
              "    <tr>\n",
              "      <th>93</th>\n",
              "      <td>False</td>\n",
              "      <td>False</td>\n",
              "      <td>False</td>\n",
              "      <td>False</td>\n",
              "      <td>False</td>\n",
              "      <td>False</td>\n",
              "    </tr>\n",
              "    <tr>\n",
              "      <th>94</th>\n",
              "      <td>False</td>\n",
              "      <td>False</td>\n",
              "      <td>False</td>\n",
              "      <td>False</td>\n",
              "      <td>False</td>\n",
              "      <td>False</td>\n",
              "    </tr>\n",
              "    <tr>\n",
              "      <th>95</th>\n",
              "      <td>False</td>\n",
              "      <td>False</td>\n",
              "      <td>False</td>\n",
              "      <td>False</td>\n",
              "      <td>False</td>\n",
              "      <td>False</td>\n",
              "    </tr>\n",
              "  </tbody>\n",
              "</table>\n",
              "<p>96 rows × 6 columns</p>\n",
              "</div>"
            ],
            "text/plain": [
              "     TYPE  STREET NAME  POSTCODE  LIVING_AREA  ROOMS  LogOfPrice\n",
              "0   False        False     False        False  False       False\n",
              "1   False        False     False        False  False       False\n",
              "2   False        False     False        False  False       False\n",
              "3   False        False     False        False  False       False\n",
              "4   False        False     False        False  False       False\n",
              "..    ...          ...       ...          ...    ...         ...\n",
              "91  False        False     False        False  False       False\n",
              "92  False        False     False        False  False       False\n",
              "93  False        False     False        False  False       False\n",
              "94  False        False     False        False  False       False\n",
              "95  False        False     False        False  False       False\n",
              "\n",
              "[96 rows x 6 columns]"
            ]
          },
          "metadata": {
            "tags": []
          },
          "execution_count": 116
        }
      ]
    },
    {
      "cell_type": "markdown",
      "metadata": {
        "id": "uPXab6G0Ztsf"
      },
      "source": [
        "# **Modelling**\n"
      ]
    },
    {
      "cell_type": "markdown",
      "metadata": {
        "id": "KKDu370c2kNn"
      },
      "source": [
        "Two models will be built and evaluated by their performances with R-squared metric. Additionally, insights on the features that are strong predictors of house prices, will be analised ."
      ]
    },
    {
      "cell_type": "markdown",
      "metadata": {
        "id": "X3DdJs9VWsCd"
      },
      "source": [
        "**Linear Regression**\n",
        "\n"
      ]
    },
    {
      "cell_type": "markdown",
      "metadata": {
        "id": "MdiDDV0djljs"
      },
      "source": [
        "To fit a linear regression model, the features which have a high correlation with the target variable PRICE are selected. By looking at the correlation matrix, it is noticable that the rooms and the living area have a strong correlation with the price ('Log of price')."
      ]
    },
    {
      "cell_type": "code",
      "metadata": {
        "colab": {
          "base_uri": "https://localhost:8080/",
          "height": 383
        },
        "id": "9uLGBPHNjpyJ",
        "outputId": "04337367-fbde-4efa-e486-adf20d461a89"
      },
      "source": [
        "correlation_matrix = df.corr().round(2)\n",
        "# annot = True to print the values inside the square\n",
        "sns.heatmap(data=correlation_matrix, annot=True)"
      ],
      "execution_count": 184,
      "outputs": [
        {
          "output_type": "execute_result",
          "data": {
            "text/plain": [
              "<matplotlib.axes._subplots.AxesSubplot at 0x7f5bceb42cd0>"
            ]
          },
          "metadata": {
            "tags": []
          },
          "execution_count": 184
        },
        {
          "output_type": "display_data",
          "data": {
            "image/png": "[encoded data removed]",
            "text/plain": [
              "<Figure size 432x288 with 2 Axes>"
            ]
          },
          "metadata": {
            "tags": []
          }
        }
      ]
    },
    {
      "cell_type": "code",
      "metadata": {
        "id": "qNVqrNFLZreA",
        "colab": {
          "base_uri": "https://localhost:8080/"
        },
        "outputId": "0eb3d892-3524-44bf-a2b3-def765f27d6d"
      },
      "source": [
        "lr = LinearRegression()\n",
        "# fit optimal linear regression line on training data\n",
        "lr.fit((X_train),y_train)"
      ],
      "execution_count": 185,
      "outputs": [
        {
          "output_type": "execute_result",
          "data": {
            "text/plain": [
              "LinearRegression(copy_X=True, fit_intercept=True, n_jobs=None, normalize=False)"
            ]
          },
          "metadata": {
            "tags": []
          },
          "execution_count": 185
        }
      ]
    },
    {
      "cell_type": "markdown",
      "metadata": {
        "id": "DWsLu75bBWGB"
      },
      "source": [
        "Root Mean Square Error (RMSE) is the standard deviation of the residuals (prediction errors). Residuals are a measure of how far from the regression line data points are; RMSE is a measure of how spread out these residuals are. In other words, it tells you how concentrated the data is around the line of best fit."
      ]
    },
    {
      "cell_type": "code",
      "metadata": {
        "colab": {
          "base_uri": "https://localhost:8080/"
        },
        "id": "gAEpeormknIF",
        "outputId": "df07d717-93e7-4c65-b3c2-082597c08fff"
      },
      "source": [
        "# model evaluation for training set\n",
        "y_train_predict = lr.predict(X_train)\n",
        "rmse = (np.sqrt(mean_squared_error(y_train, y_train_predict)))\n",
        "\n",
        "print(\"The model performance for training set:\")\n",
        "print('RMSE is {}'.format(rmse))"
      ],
      "execution_count": 199,
      "outputs": [
        {
          "output_type": "stream",
          "text": [
            "The model performance for training set:\n",
            "RMSE is 0.20287534346276573\n"
          ],
          "name": "stdout"
        }
      ]
    },
    {
      "cell_type": "code",
      "metadata": {
        "colab": {
          "base_uri": "https://localhost:8080/"
        },
        "id": "XLqttZw_luZx",
        "outputId": "1ace1b35-eb2b-4d56-e13f-4330cb91181c"
      },
      "source": [
        "# model evaluation for testing set\n",
        "y_test_predict = lr.predict(X_test)\n",
        "rmse = (np.sqrt(mean_squared_error(y_test, y_test_predict)))\n",
        "print(\"The model performance for testing set:\")\n",
        "print('RMSE is {}'.format(rmse))"
      ],
      "execution_count": 200,
      "outputs": [
        {
          "output_type": "stream",
          "text": [
            "The model performance for testing set:\n",
            "RMSE is 0.16870032503507307\n"
          ],
          "name": "stdout"
        }
      ]
    },
    {
      "cell_type": "code",
      "metadata": {
        "id": "0oHMLsR4gBDW"
      },
      "source": [
        "#predict y_values using X_test set\n",
        "yr_hat = lr.predict(X_test)"
      ],
      "execution_count": 202,
      "outputs": []
    },
    {
      "cell_type": "code",
      "metadata": {
        "colab": {
          "base_uri": "https://localhost:8080/"
        },
        "id": "6IpIkJUqSYHY",
        "outputId": "5a57f24d-8eae-43a6-ff1d-3b317e14e6b7"
      },
      "source": [
        "lr_score =lr.score((X_test),y_test)\n",
        "print(\"Accuracy: \", lr_score)"
      ],
      "execution_count": 203,
      "outputs": [
        {
          "output_type": "stream",
          "text": [
            "Accuracy:  0.8266862395629924\n"
          ],
          "name": "stdout"
        }
      ]
    },
    {
      "cell_type": "code",
      "metadata": {
        "colab": {
          "base_uri": "https://localhost:8080/",
          "height": 282
        },
        "id": "S_GbXF-8m-DT",
        "outputId": "dd4d910b-6a41-4b9d-980c-cc2a37a01b99"
      },
      "source": [
        "# plotting the y_test vs y_pred\n",
        "# ideally should have been a straight line\n",
        "plt.scatter(y_test, y_test_predict)\n",
        "plt.show()"
      ],
      "execution_count": 205,
      "outputs": [
        {
          "output_type": "display_data",
          "data": {
            "image/png": "[encoded data removed]",
            "text/plain": [
              "<Figure size 432x288 with 1 Axes>"
            ]
          },
          "metadata": {
            "tags": []
          }
        }
      ]
    },
    {
      "cell_type": "code",
      "metadata": {
        "colab": {
          "base_uri": "https://localhost:8080/",
          "height": 325
        },
        "id": "bY-a72zk6kcH",
        "outputId": "6ef1c104-31d5-4265-98b2-46983c2f9883"
      },
      "source": [
        "actual_values = y_test\n",
        "plt.scatter(yr_hat, actual_values, alpha=.75,\n",
        "            color='b') #alpha helps to show overlapping data\n",
        "plt.xlabel('Predicted Price')\n",
        "plt.ylabel('Actual Price')\n",
        "plt.title('Linear Regression Model')\n",
        "plt.show()\n",
        "#pltrandom_state=None.show()"
      ],
      "execution_count": 164,
      "outputs": [
        {
          "output_type": "display_data",
          "data": {
            "image/png": "[encoded data removed]",
            "text/plain": [
              "<Figure size 432x288 with 1 Axes>"
            ]
          },
          "metadata": {
            "tags": []
          }
        }
      ]
    },
    {
      "cell_type": "code",
      "metadata": {
        "colab": {
          "base_uri": "https://localhost:8080/",
          "height": 282
        },
        "id": "nTXsquuMcLdA",
        "outputId": "1468bf20-cc13-46cf-f301-0566f88d5075"
      },
      "source": [
        "from scipy import stats\n",
        "\n",
        "#Execute a method that returns the important key values of Linear Regression\n",
        "slope, intercept, r, p, std_err = stats.linregress(yr_hat, y_test)\n",
        "#Create a function that uses the slope and intercept values to return a new value. This new value represents where on the y-axis the corresponding x value will be placed\n",
        "def myfunc(x):\n",
        "  return slope * x + intercept\n",
        "\n",
        "mymodel = list(map(myfunc, yr_hat))\n",
        "#Draw the scatter plot\n",
        "plt.scatter(yr_hat, y_test)\n",
        "#Draw the line of linear regression\n",
        "plt.plot(yr_hat, mymodel)\n",
        "plt.show()"
      ],
      "execution_count": 163,
      "outputs": [
        {
          "output_type": "display_data",
          "data": {
            "image/png": "[encoded data removed]",
            "text/plain": [
              "<Figure size 432x288 with 1 Axes>"
            ]
          },
          "metadata": {
            "tags": []
          }
        }
      ]
    },
    {
      "cell_type": "markdown",
      "metadata": {
        "id": "nXDu7nFOgY_f"
      },
      "source": [
        "Using cross-validation to see whether the model is over-fitting the data."
      ]
    },
    {
      "cell_type": "code",
      "metadata": {
        "colab": {
          "base_uri": "https://localhost:8080/"
        },
        "id": "_GNILJ-3dcMf",
        "outputId": "e0fbf316-176e-4ba8-d6f3-3fb3046e0590"
      },
      "source": [
        "# cross validation to find 'validate' score across multiple samples, automatically does Kfold stratifying\n",
        "lr_cv = cross_val_score(lr, X, y, cv = 5, scoring= 'r2')\n",
        "print(\"Cross-validation results: \", lr_cv)\n",
        "print(\"R2: \", lr_cv.mean())"
      ],
      "execution_count": 167,
      "outputs": [
        {
          "output_type": "stream",
          "text": [
            "Cross-validation results:  [ 0.83877029  0.74146093  0.87064014 -0.24180301  0.80738371]\n",
            "R2:  0.6032904102490614\n"
          ],
          "name": "stdout"
        }
      ]
    },
    {
      "cell_type": "markdown",
      "metadata": {
        "id": "0h2Ku4Pz3JyP"
      },
      "source": [
        ">It doesn't appear that for this train-test dataset the model is  over-fitting the data (the cross-validation performance is very close in value). "
      ]
    },
    {
      "cell_type": "markdown",
      "metadata": {
        "id": "rrBSbuy2W2qN"
      },
      "source": [
        "**Random Forest**"
      ]
    },
    {
      "cell_type": "markdown",
      "metadata": {
        "id": "AXrke4TiEByv"
      },
      "source": [
        "The library sklearn.ensemble is used to solve regression problems via Random forest. The most important parameter is the n_estimators parameter. This parameter defines the number of trees in the random forest."
      ]
    },
    {
      "cell_type": "code",
      "metadata": {
        "id": "tNOXuakWCdsM"
      },
      "source": [
        "# Feature Scaling\n",
        "from sklearn.preprocessing import StandardScaler\n",
        "\n",
        "sc = StandardScaler()\n",
        "X_train = sc.fit_transform(X_train)\n",
        "X_test = sc.transform(X_test)"
      ],
      "execution_count": 158,
      "outputs": []
    },
    {
      "cell_type": "code",
      "metadata": {
        "id": "JQOrAqI8CHEY"
      },
      "source": [
        "regressor = RandomForestRegressor(n_estimators=20, random_state=0)\n",
        "regressor.fit(X_train, y_train)\n",
        "y_pred = regressor.predict(X_test)"
      ],
      "execution_count": 159,
      "outputs": []
    },
    {
      "cell_type": "markdown",
      "metadata": {
        "id": "kOz7BY5VC00P"
      },
      "source": [
        "Evaluating the Algorithm:\n",
        "The last and final step of solving a machine learning problem is to evaluate the performance of the algorithm. For regression problems the metrics used to evaluate an algorithm are mean absolute error, mean squared error, and root mean squared error."
      ]
    },
    {
      "cell_type": "code",
      "metadata": {
        "colab": {
          "base_uri": "https://localhost:8080/"
        },
        "id": "ffrZnle1CS3s",
        "outputId": "90588007-883e-462d-cf3b-06c0bd168a65"
      },
      "source": [
        "from sklearn import metrics\n",
        "\n",
        "print('Mean Absolute Error:', metrics.mean_absolute_error(y_test, y_pred))\n",
        "print('Mean Squared Error:', metrics.mean_squared_error(y_test, y_pred))\n",
        "print('Root Mean Squared Error:', np.sqrt(metrics.mean_squared_error(y_test, y_pred)))"
      ],
      "execution_count": 153,
      "outputs": [
        {
          "output_type": "stream",
          "text": [
            "Mean Absolute Error: 0.12371824248046574\n",
            "Mean Squared Error: 0.029054637154100033\n",
            "Root Mean Squared Error: 0.17045420837896622\n"
          ],
          "name": "stdout"
        }
      ]
    },
    {
      "cell_type": "markdown",
      "metadata": {
        "id": "LTjAI163YYUW"
      },
      "source": [
        "Training the model"
      ]
    },
    {
      "cell_type": "code",
      "metadata": {
        "colab": {
          "base_uri": "https://localhost:8080/"
        },
        "id": "aoc4Z8W1TEvr",
        "outputId": "48e13175-49b6-441e-f76c-dcc5713158dd"
      },
      "source": [
        "# Import the model we are using\n",
        "from sklearn.ensemble import RandomForestRegressor\n",
        "# Instantiate model with 1000 decision trees\n",
        "rf = RandomForestRegressor(n_estimators = 1000, random_state = 42)\n",
        "# Train the model on training data\n",
        "rf.fit(X_train, y_train)"
      ],
      "execution_count": 154,
      "outputs": [
        {
          "output_type": "execute_result",
          "data": {
            "text/plain": [
              "RandomForestRegressor(bootstrap=True, ccp_alpha=0.0, criterion='mse',\n",
              "                      max_depth=None, max_features='auto', max_leaf_nodes=None,\n",
              "                      max_samples=None, min_impurity_decrease=0.0,\n",
              "                      min_impurity_split=None, min_samples_leaf=1,\n",
              "                      min_samples_split=2, min_weight_fraction_leaf=0.0,\n",
              "                      n_estimators=1000, n_jobs=None, oob_score=False,\n",
              "                      random_state=42, verbose=0, warm_start=False)"
            ]
          },
          "metadata": {
            "tags": []
          },
          "execution_count": 154
        }
      ]
    },
    {
      "cell_type": "markdown",
      "metadata": {
        "id": "KZ41_qodXdXf"
      },
      "source": [
        "Making predictions on the test set:\n",
        "\n",
        "When performing regression, the absolute error should be used.It needs to be checked how far away the average prediction is from the actual value so the absolute value has to be calculated."
      ]
    },
    {
      "cell_type": "code",
      "metadata": {
        "colab": {
          "base_uri": "https://localhost:8080/"
        },
        "id": "BnBVJCqATu2H",
        "outputId": "438b7d3d-f49c-436e-d52f-921ed35c7ef3"
      },
      "source": [
        "# Use the forest's predict method on the test data\n",
        "predictions = rf.predict(X_test)\n",
        "# Calculate the absolute errors\n",
        "errors = abs(predictions - y_test)\n",
        "# Print out the mean absolute error (mae)\n",
        "print('Mean Absolute Error:', round(np.mean(errors), 2), 'degrees.')"
      ],
      "execution_count": 155,
      "outputs": [
        {
          "output_type": "stream",
          "text": [
            "Mean Absolute Error: 0.12 degrees.\n"
          ],
          "name": "stdout"
        }
      ]
    },
    {
      "cell_type": "markdown",
      "metadata": {
        "id": "oUP118DHYLU1"
      },
      "source": [
        "\n",
        "\n",
        "> There is a 0.12 improvement.\n",
        "\n"
      ]
    },
    {
      "cell_type": "markdown",
      "metadata": {
        "id": "mS6CBlvuW_VM"
      },
      "source": [
        "Determine performance metrics:\n",
        "\n",
        "To put the predictions in perspective, accuracy can be calculated by using the mean average percentage error subtracted from 100 %."
      ]
    },
    {
      "cell_type": "code",
      "metadata": {
        "colab": {
          "base_uri": "https://localhost:8080/"
        },
        "id": "-rUYrjTVUHud",
        "outputId": "4bd095da-9210-4e1c-dee8-89e925bdc0c1"
      },
      "source": [
        "# Calculate mean absolute percentage error (MAPE)\n",
        "mape = 100 * (errors /y_test)\n",
        "# Calculate and display accuracy\n",
        "accuracy = 100 - np.mean(mape)\n",
        "print('Accuracy:', round(accuracy, 2), '%.')"
      ],
      "execution_count": 156,
      "outputs": [
        {
          "output_type": "stream",
          "text": [
            "Accuracy: 98.32 %.\n"
          ],
          "name": "stdout"
        }
      ]
    },
    {
      "cell_type": "markdown",
      "metadata": {
        "id": "1EUPbN3zXNrs"
      },
      "source": [
        "> The model has learned how to predict the price with 98% accuracy."
      ]
    },
    {
      "cell_type": "code",
      "metadata": {
        "colab": {
          "base_uri": "https://localhost:8080/"
        },
        "id": "7NMnNbxFObcD",
        "outputId": "26525a63-38c0-4db5-8f41-cf21d94c3fdb"
      },
      "source": [
        "rfr = RandomForestRegressor()\n",
        "rfr.fit(X_train, y_train) # gets the parameters for the rfr model\n",
        "rfr_cv = cross_val_score(rfr,X, y, cv = 5, scoring = 'r2')\n",
        "print(\"R2: \", rfr_cv.mean())"
      ],
      "execution_count": 160,
      "outputs": [
        {
          "output_type": "stream",
          "text": [
            "R2:  0.7341382477629055\n"
          ],
          "name": "stdout"
        }
      ]
    },
    {
      "cell_type": "markdown",
      "metadata": {
        "id": "TKIQi_1N3jbi"
      },
      "source": [
        "The performance of Random forest is slightly better than the Linear regression. The model parameters can be optimised for better performance using gridsearch."
      ]
    },
    {
      "cell_type": "code",
      "metadata": {
        "colab": {
          "base_uri": "https://localhost:8080/"
        },
        "id": "_3DgOLObeVZl",
        "outputId": "7a128524-4021-4a56-a2f5-4559ac40bf02"
      },
      "source": [
        "#Random forest determined feature importances\n",
        "rfr.feature_importances_"
      ],
      "execution_count": 161,
      "outputs": [
        {
          "output_type": "execute_result",
          "data": {
            "text/plain": [
              "array([0.02024793, 0.04472535, 0.89850892, 0.0365178 ])"
            ]
          },
          "metadata": {
            "tags": []
          },
          "execution_count": 161
        }
      ]
    },
    {
      "cell_type": "markdown",
      "metadata": {
        "id": "82XzXGjuec_-"
      },
      "source": [
        "# **Plotting the Feature Importance**"
      ]
    },
    {
      "cell_type": "markdown",
      "metadata": {
        "id": "F-R6esbY3616"
      },
      "source": [
        "Finding the features that are the most promissing predictors:"
      ]
    },
    {
      "cell_type": "code",
      "metadata": {
        "colab": {
          "base_uri": "https://localhost:8080/"
        },
        "id": "W9_WRuhqeiSO",
        "outputId": "d1302e8b-f1df-409e-9def-65e9a8873548"
      },
      "source": [
        "importance = rfr.feature_importances_\n",
        "\n",
        "# map feature importance values to the features\n",
        "feature_importances = zip(importance, X.columns)\n",
        "\n",
        "#list(feature_importances)\n",
        "sorted_feature_importances = sorted(feature_importances, reverse = True)\n",
        "\n",
        "#print(sorted_feature_importances)\n",
        "top_15_predictors = sorted_feature_importances[0:15]\n",
        "values = [value for value, predictors in top_15_predictors]\n",
        "predictors = [predictors for value, predictors in top_15_predictors]\n",
        "print(predictors)"
      ],
      "execution_count": 125,
      "outputs": [
        {
          "output_type": "stream",
          "text": [
            "['LIVING_AREA', 'POSTCODE', 'TYPE', 'ROOMS']\n"
          ],
          "name": "stdout"
        }
      ]
    },
    {
      "cell_type": "markdown",
      "metadata": {
        "id": "-NpL2BNZewF4"
      },
      "source": [
        "**Plotting the feauture importance of the Random forest.**"
      ]
    },
    {
      "cell_type": "markdown",
      "metadata": {
        "id": "J3t_rUzTVhBm"
      },
      "source": [
        "Plotting the feature importances to illustrate the disparities in the relative significance of the variables. "
      ]
    },
    {
      "cell_type": "code",
      "metadata": {
        "colab": {
          "base_uri": "https://localhost:8080/",
          "height": 380
        },
        "id": "onnmDIFae4HZ",
        "outputId": "d66289bd-624e-40c5-c37d-c89d0c1fb629"
      },
      "source": [
        "plt.figure()\n",
        "plt.title( \"Feature importances\")\n",
        "plt.bar(range(len(predictors)), values,color=\"r\", align=\"center\");\n",
        "plt.xticks(range(len(predictors)), predictors, rotation=90);"
      ],
      "execution_count": 147,
      "outputs": [
        {
          "output_type": "display_data",
          "data": {
            "image/png": "[encoded data removed]",
            "text/plain": [
              "<Figure size 432x288 with 1 Axes>"
            ]
          },
          "metadata": {
            "tags": []
          }
        }
      ]
    },
    {
      "cell_type": "markdown",
      "metadata": {
        "id": "PV8pIhISjckq"
      },
      "source": [
        "The idea behind the plotting of feauture importance is that after evaluating the performance of the model, the values of a feature of interest must be permuted and reevaluate model performance.\n",
        "The feature importance (variable importance) describes which features are relevant. "
      ]
    },
    {
      "cell_type": "markdown",
      "metadata": {
        "id": "-3C5kOYYOX36"
      },
      "source": [
        "# **Conclusion**\n",
        "**Data collection:**\n",
        "\n",
        "For the data collection part, I decided to use `web scraping` as e technique because it gives the opportunity to work with a data set that is up to date and therefore, makes more accurate summaries.\n",
        "\n",
        "**Data preprocessing:**\n",
        "\n",
        "I tried different types of data transforms to expose the data structure better, so we may be able to improve model accuracy later.\n",
        "\n",
        "*   `Standardizing` was made to the data set so as to reduce the effects of differing distributions.\n",
        "*   `The skewness` of the features was checked in order to see how distorted a data sample is from the normal distribution.\n",
        "* `Rescaling (normalizing)` the dataset was also included to reduce the effects of differing scales\n",
        "\n",
        "**Modelling:**\n",
        "\n",
        "I used two models to determine the accuracy - Linear Regression and Random Forest.\n",
        "\n",
        "Linear Regression turns out to be the more accurate model for predicting the house price. It scored an estimated accuracy of 68%, out performing the Random Forest - 66%. Random Forest determined that overall the living area of a home is by far the most important predictor. Following are the sizes of above rooms and postcode.\n",
        "\n",
        "\n"
      ]
    }
  ]
}